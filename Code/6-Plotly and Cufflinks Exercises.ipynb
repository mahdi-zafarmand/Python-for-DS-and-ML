{
 "cells": [
  {
   "cell_type": "markdown",
   "metadata": {},
   "source": [
    "# Plotly and Cufflinks Exercises\n",
    "\n",
    "Plotly is a library that allows you to create interactive plots that you can use in dashboards or websites (you can save them as html files or static images).\n",
    "\n",
    "\n",
    "## Imports and Set-up"
   ]
  },
  {
   "cell_type": "code",
   "execution_count": 1,
   "metadata": {},
   "outputs": [],
   "source": [
    "import pandas as pd\n",
    "import numpy as np\n",
    "%matplotlib inline"
   ]
  },
  {
   "cell_type": "code",
   "execution_count": 2,
   "metadata": {},
   "outputs": [
    {
     "name": "stdout",
     "output_type": "stream",
     "text": [
      "4.14.3\n"
     ]
    }
   ],
   "source": [
    "from plotly import __version__\n",
    "from plotly.offline import download_plotlyjs, init_notebook_mode, plot, iplot\n",
    "\n",
    "print(__version__) # requires version >= 1.9.0"
   ]
  },
  {
   "cell_type": "code",
   "execution_count": 3,
   "metadata": {},
   "outputs": [],
   "source": [
    "import cufflinks as cf"
   ]
  },
  {
   "cell_type": "code",
   "execution_count": 4,
   "metadata": {},
   "outputs": [
    {
     "data": {
      "text/html": [
       "        <script type=\"text/javascript\">\n",
       "        window.PlotlyConfig = {MathJaxConfig: 'local'};\n",
       "        if (window.MathJax) {MathJax.Hub.Config({SVG: {font: \"STIX-Web\"}});}\n",
       "        if (typeof require !== 'undefined') {\n",
       "        require.undef(\"plotly\");\n",
       "        requirejs.config({\n",
       "            paths: {\n",
       "                'plotly': ['https://cdn.plot.ly/plotly-latest.min']\n",
       "            }\n",
       "        });\n",
       "        require(['plotly'], function(Plotly) {\n",
       "            window._Plotly = Plotly;\n",
       "        });\n",
       "        }\n",
       "        </script>\n",
       "        "
      ]
     },
     "metadata": {},
     "output_type": "display_data"
    }
   ],
   "source": [
    "# For Notebooks\n",
    "init_notebook_mode(connected=True)"
   ]
  },
  {
   "cell_type": "code",
   "execution_count": 5,
   "metadata": {},
   "outputs": [
    {
     "data": {
      "text/html": [
       "        <script type=\"text/javascript\">\n",
       "        window.PlotlyConfig = {MathJaxConfig: 'local'};\n",
       "        if (window.MathJax) {MathJax.Hub.Config({SVG: {font: \"STIX-Web\"}});}\n",
       "        if (typeof require !== 'undefined') {\n",
       "        require.undef(\"plotly\");\n",
       "        requirejs.config({\n",
       "            paths: {\n",
       "                'plotly': ['https://cdn.plot.ly/plotly-latest.min']\n",
       "            }\n",
       "        });\n",
       "        require(['plotly'], function(Plotly) {\n",
       "            window._Plotly = Plotly;\n",
       "        });\n",
       "        }\n",
       "        </script>\n",
       "        "
      ]
     },
     "metadata": {},
     "output_type": "display_data"
    }
   ],
   "source": [
    "# For offline use\n",
    "cf.go_offline()"
   ]
  },
  {
   "cell_type": "markdown",
   "metadata": {},
   "source": [
    "### Fake Data"
   ]
  },
  {
   "cell_type": "code",
   "execution_count": 6,
   "metadata": {},
   "outputs": [],
   "source": [
    "df = pd.DataFrame(np.random.randn(100,4),columns='A B C D'.split())"
   ]
  },
  {
   "cell_type": "code",
   "execution_count": 7,
   "metadata": {},
   "outputs": [
    {
     "data": {
      "text/html": [
       "<div>\n",
       "<style scoped>\n",
       "    .dataframe tbody tr th:only-of-type {\n",
       "        vertical-align: middle;\n",
       "    }\n",
       "\n",
       "    .dataframe tbody tr th {\n",
       "        vertical-align: top;\n",
       "    }\n",
       "\n",
       "    .dataframe thead th {\n",
       "        text-align: right;\n",
       "    }\n",
       "</style>\n",
       "<table border=\"1\" class=\"dataframe\">\n",
       "  <thead>\n",
       "    <tr style=\"text-align: right;\">\n",
       "      <th></th>\n",
       "      <th>A</th>\n",
       "      <th>B</th>\n",
       "      <th>C</th>\n",
       "      <th>D</th>\n",
       "    </tr>\n",
       "  </thead>\n",
       "  <tbody>\n",
       "    <tr>\n",
       "      <th>0</th>\n",
       "      <td>0.417602</td>\n",
       "      <td>0.455312</td>\n",
       "      <td>0.356741</td>\n",
       "      <td>-1.342022</td>\n",
       "    </tr>\n",
       "    <tr>\n",
       "      <th>1</th>\n",
       "      <td>0.526140</td>\n",
       "      <td>0.598071</td>\n",
       "      <td>-0.277622</td>\n",
       "      <td>0.240412</td>\n",
       "    </tr>\n",
       "    <tr>\n",
       "      <th>2</th>\n",
       "      <td>0.568342</td>\n",
       "      <td>-0.349943</td>\n",
       "      <td>-1.003956</td>\n",
       "      <td>-1.089599</td>\n",
       "    </tr>\n",
       "    <tr>\n",
       "      <th>3</th>\n",
       "      <td>-0.822246</td>\n",
       "      <td>0.682611</td>\n",
       "      <td>0.425788</td>\n",
       "      <td>-1.447773</td>\n",
       "    </tr>\n",
       "    <tr>\n",
       "      <th>4</th>\n",
       "      <td>0.544501</td>\n",
       "      <td>-1.454234</td>\n",
       "      <td>0.848526</td>\n",
       "      <td>0.326556</td>\n",
       "    </tr>\n",
       "  </tbody>\n",
       "</table>\n",
       "</div>"
      ],
      "text/plain": [
       "          A         B         C         D\n",
       "0  0.417602  0.455312  0.356741 -1.342022\n",
       "1  0.526140  0.598071 -0.277622  0.240412\n",
       "2  0.568342 -0.349943 -1.003956 -1.089599\n",
       "3 -0.822246  0.682611  0.425788 -1.447773\n",
       "4  0.544501 -1.454234  0.848526  0.326556"
      ]
     },
     "execution_count": 7,
     "metadata": {},
     "output_type": "execute_result"
    }
   ],
   "source": [
    "df.head()"
   ]
  },
  {
   "cell_type": "code",
   "execution_count": 8,
   "metadata": {},
   "outputs": [],
   "source": [
    "df2 = pd.DataFrame({'Category':['A','B','C'],'Values':[32,43,50]})"
   ]
  },
  {
   "cell_type": "code",
   "execution_count": 9,
   "metadata": {},
   "outputs": [
    {
     "data": {
      "text/html": [
       "<div>\n",
       "<style scoped>\n",
       "    .dataframe tbody tr th:only-of-type {\n",
       "        vertical-align: middle;\n",
       "    }\n",
       "\n",
       "    .dataframe tbody tr th {\n",
       "        vertical-align: top;\n",
       "    }\n",
       "\n",
       "    .dataframe thead th {\n",
       "        text-align: right;\n",
       "    }\n",
       "</style>\n",
       "<table border=\"1\" class=\"dataframe\">\n",
       "  <thead>\n",
       "    <tr style=\"text-align: right;\">\n",
       "      <th></th>\n",
       "      <th>Category</th>\n",
       "      <th>Values</th>\n",
       "    </tr>\n",
       "  </thead>\n",
       "  <tbody>\n",
       "    <tr>\n",
       "      <th>0</th>\n",
       "      <td>A</td>\n",
       "      <td>32</td>\n",
       "    </tr>\n",
       "    <tr>\n",
       "      <th>1</th>\n",
       "      <td>B</td>\n",
       "      <td>43</td>\n",
       "    </tr>\n",
       "    <tr>\n",
       "      <th>2</th>\n",
       "      <td>C</td>\n",
       "      <td>50</td>\n",
       "    </tr>\n",
       "  </tbody>\n",
       "</table>\n",
       "</div>"
      ],
      "text/plain": [
       "  Category  Values\n",
       "0        A      32\n",
       "1        B      43\n",
       "2        C      50"
      ]
     },
     "execution_count": 9,
     "metadata": {},
     "output_type": "execute_result"
    }
   ],
   "source": [
    "df2.head()"
   ]
  },
  {
   "cell_type": "markdown",
   "metadata": {},
   "source": [
    "## Using Cufflinks and iplot()\n",
    "\n",
    "* scatter\n",
    "* bar\n",
    "* box\n",
    "* spread\n",
    "* ratio\n",
    "* heatmap\n",
    "* surface\n",
    "* histogram\n",
    "* bubble"
   ]
  },
  {
   "cell_type": "markdown",
   "metadata": {},
   "source": [
    "## Scatter"
   ]
  },
  {
   "cell_type": "code",
   "execution_count": 10,
   "metadata": {},
   "outputs": [
    {
     "data": {
      "application/vnd.plotly.v1+json": {
       "config": {
        "linkText": "Export to plot.ly",
        "plotlyServerURL": "https://plot.ly",
        "showLink": true
       },
       "data": [
        {
         "line": {
          "color": "rgba(255, 153, 51, 1.0)",
          "dash": "solid",
          "shape": "linear",
          "width": 1.3
         },
         "marker": {
          "size": 10,
          "symbol": "circle"
         },
         "mode": "markers",
         "name": "B",
         "text": "",
         "type": "scatter",
         "x": [
          0.41760155225455636,
          0.5261400468723789,
          0.5683423096739474,
          -0.8222461098210078,
          0.5445007517236217,
          0.5909299879074099,
          2.039579362940726,
          0.6262088723800441,
          0.19694594037636828,
          -3.0228983065582167,
          0.20013434662272542,
          0.7897393701529026,
          -1.2860106647372174,
          -1.209894031210368,
          1.4991812102081934,
          0.35295100673971,
          1.6068652128980419,
          0.44659510774809213,
          -0.6767341021203152,
          0.867598499054683,
          1.449819695873904,
          1.3191900045864868,
          -0.024513457915711818,
          0.18460391533600704,
          -0.23177229636727062,
          1.1887447336595125,
          -1.5984486384334315,
          -0.4791939980881674,
          0.45443684003122853,
          1.1858647312666772,
          0.6300812899870222,
          -0.9076010322718687,
          -1.0366066556848483,
          -0.6364365731046352,
          0.797019857738389,
          0.5601019577303988,
          -1.4652829651387353,
          1.3517284564656338,
          0.19750781481677754,
          -1.128982113739443,
          -0.01754605735598141,
          -0.044891495186233005,
          -0.8010310910031381,
          -0.30335402548602247,
          -0.3418257891963359,
          -1.1904895976608356,
          0.4408253515736436,
          1.6929673822638678,
          -0.3508487647510596,
          0.6929015015943848,
          0.6704346008145055,
          0.5019071084632046,
          -1.9676005808992338,
          0.2523635759175683,
          -0.13769847181233172,
          -0.5937099301262257,
          -0.4946241603235603,
          1.438623954125982,
          -0.3908975591294168,
          1.5713106951819324,
          0.8552659204102937,
          0.24516086205370485,
          0.2888971604931386,
          -0.14709909178975228,
          -0.57481584660485,
          0.6549006606048943,
          0.17296055568917387,
          -1.1992032201677807,
          -0.7056304144096323,
          -2.2219667883329373,
          -0.24281236415007146,
          -1.530315772894537,
          0.1423184582985676,
          -0.24145116574300846,
          -0.30577559894924256,
          -1.9700879316648785,
          1.552930248971835,
          -0.6550718586352199,
          1.62122878034275,
          1.167262884154505,
          -0.04828735125770609,
          1.446278149666796,
          -0.4026852504538263,
          2.2068846765818995,
          1.2032324446589693,
          1.2451406579941515,
          0.5746429329620883,
          0.025993186182502948,
          1.646829572457141,
          -1.2970898328462357,
          0.8804446701276977,
          -0.6672298832100317,
          -0.2551538650516365,
          -0.20516968130389845,
          -0.1893699347371977,
          1.2822922950580091,
          -0.259250383046811,
          1.0005601672190672,
          -1.1550813022509543,
          -1.5016589825132562
         ],
         "y": [
          0.45531183603699393,
          0.5980709095986467,
          -0.34994300438479303,
          0.682610763724963,
          -1.4542337018715585,
          -0.3769121673601374,
          -0.6387922806675909,
          -0.7260129686538656,
          1.5278964844049967,
          -0.48756957792086913,
          0.05434385648508415,
          0.7506522319974177,
          -1.9413341849808416,
          -0.5730009940047913,
          -1.1003505963827607,
          1.0684780089870864,
          -0.8653245918742982,
          -1.1659141525288483,
          1.4748659606190033,
          1.1821959921800371,
          -0.7461798246499382,
          0.48999175008102147,
          -0.673992626184721,
          0.24893133866831796,
          0.6464588824587291,
          -0.1461097428226522,
          1.4026878825912379,
          -0.4985833083140884,
          -0.14469994922942367,
          -2.089059080119697,
          0.2579102415048242,
          0.1233431191998344,
          -0.5126377378670051,
          0.1845391531012246,
          0.26227917881843976,
          -2.517400123945921,
          -0.7664875910204841,
          1.2515981143552763,
          0.77024253182108,
          0.2663650999864578,
          -0.31410429215510044,
          -0.7595707679642624,
          -0.30063668798857396,
          -1.3659417049110871,
          -0.7385023938161782,
          -0.8783868473978256,
          -1.386658644809201,
          -0.425338368256794,
          -0.6707201032633747,
          0.3639683078524173,
          -0.6252515176436683,
          -0.7479873442020913,
          0.23379014573745413,
          0.19676520830860575,
          0.78420191379329,
          0.4667723126550738,
          -0.31299224975101747,
          1.4071812363229708,
          -0.9882035714894439,
          1.059675760547426,
          -0.661011691916808,
          0.5648241544355863,
          0.15498534009217793,
          -0.2969239333093207,
          -0.8579346573227228,
          -0.2983936903030944,
          -0.8188836855107948,
          -0.05905956696405363,
          1.2634824753451157,
          -0.24211420077731516,
          -0.4543600665000616,
          0.00020674132613351752,
          -0.983661158660926,
          -0.7938089830406612,
          0.9133767862108992,
          -0.40882011720110095,
          0.6296552104036756,
          0.067578322434332,
          0.49205614258355074,
          -0.6708775195031813,
          -2.3472801537369756,
          0.3347200513927004,
          0.27897836749072086,
          0.7426050366716708,
          1.0964144703582637,
          0.6100031054218946,
          -0.8642234541537205,
          0.6701889377888379,
          -0.8522639978236726,
          1.2811708836726825,
          -0.709792986765138,
          -0.9479604590556494,
          1.450475432415021,
          -0.6263162004965983,
          -0.25591862078357036,
          0.1794046087657056,
          -0.08294676921470963,
          -0.19139893329730934,
          0.589992480029799,
          -0.5097005552190711
         ]
        }
       ],
       "layout": {
        "legend": {
         "bgcolor": "#F5F6F9",
         "font": {
          "color": "#4D5663"
         }
        },
        "paper_bgcolor": "#F5F6F9",
        "plot_bgcolor": "#F5F6F9",
        "template": {
         "data": {
          "bar": [
           {
            "error_x": {
             "color": "#2a3f5f"
            },
            "error_y": {
             "color": "#2a3f5f"
            },
            "marker": {
             "line": {
              "color": "#E5ECF6",
              "width": 0.5
             }
            },
            "type": "bar"
           }
          ],
          "barpolar": [
           {
            "marker": {
             "line": {
              "color": "#E5ECF6",
              "width": 0.5
             }
            },
            "type": "barpolar"
           }
          ],
          "carpet": [
           {
            "aaxis": {
             "endlinecolor": "#2a3f5f",
             "gridcolor": "white",
             "linecolor": "white",
             "minorgridcolor": "white",
             "startlinecolor": "#2a3f5f"
            },
            "baxis": {
             "endlinecolor": "#2a3f5f",
             "gridcolor": "white",
             "linecolor": "white",
             "minorgridcolor": "white",
             "startlinecolor": "#2a3f5f"
            },
            "type": "carpet"
           }
          ],
          "choropleth": [
           {
            "colorbar": {
             "outlinewidth": 0,
             "ticks": ""
            },
            "type": "choropleth"
           }
          ],
          "contour": [
           {
            "colorbar": {
             "outlinewidth": 0,
             "ticks": ""
            },
            "colorscale": [
             [
              0,
              "#0d0887"
             ],
             [
              0.1111111111111111,
              "#46039f"
             ],
             [
              0.2222222222222222,
              "#7201a8"
             ],
             [
              0.3333333333333333,
              "#9c179e"
             ],
             [
              0.4444444444444444,
              "#bd3786"
             ],
             [
              0.5555555555555556,
              "#d8576b"
             ],
             [
              0.6666666666666666,
              "#ed7953"
             ],
             [
              0.7777777777777778,
              "#fb9f3a"
             ],
             [
              0.8888888888888888,
              "#fdca26"
             ],
             [
              1,
              "#f0f921"
             ]
            ],
            "type": "contour"
           }
          ],
          "contourcarpet": [
           {
            "colorbar": {
             "outlinewidth": 0,
             "ticks": ""
            },
            "type": "contourcarpet"
           }
          ],
          "heatmap": [
           {
            "colorbar": {
             "outlinewidth": 0,
             "ticks": ""
            },
            "colorscale": [
             [
              0,
              "#0d0887"
             ],
             [
              0.1111111111111111,
              "#46039f"
             ],
             [
              0.2222222222222222,
              "#7201a8"
             ],
             [
              0.3333333333333333,
              "#9c179e"
             ],
             [
              0.4444444444444444,
              "#bd3786"
             ],
             [
              0.5555555555555556,
              "#d8576b"
             ],
             [
              0.6666666666666666,
              "#ed7953"
             ],
             [
              0.7777777777777778,
              "#fb9f3a"
             ],
             [
              0.8888888888888888,
              "#fdca26"
             ],
             [
              1,
              "#f0f921"
             ]
            ],
            "type": "heatmap"
           }
          ],
          "heatmapgl": [
           {
            "colorbar": {
             "outlinewidth": 0,
             "ticks": ""
            },
            "colorscale": [
             [
              0,
              "#0d0887"
             ],
             [
              0.1111111111111111,
              "#46039f"
             ],
             [
              0.2222222222222222,
              "#7201a8"
             ],
             [
              0.3333333333333333,
              "#9c179e"
             ],
             [
              0.4444444444444444,
              "#bd3786"
             ],
             [
              0.5555555555555556,
              "#d8576b"
             ],
             [
              0.6666666666666666,
              "#ed7953"
             ],
             [
              0.7777777777777778,
              "#fb9f3a"
             ],
             [
              0.8888888888888888,
              "#fdca26"
             ],
             [
              1,
              "#f0f921"
             ]
            ],
            "type": "heatmapgl"
           }
          ],
          "histogram": [
           {
            "marker": {
             "colorbar": {
              "outlinewidth": 0,
              "ticks": ""
             }
            },
            "type": "histogram"
           }
          ],
          "histogram2d": [
           {
            "colorbar": {
             "outlinewidth": 0,
             "ticks": ""
            },
            "colorscale": [
             [
              0,
              "#0d0887"
             ],
             [
              0.1111111111111111,
              "#46039f"
             ],
             [
              0.2222222222222222,
              "#7201a8"
             ],
             [
              0.3333333333333333,
              "#9c179e"
             ],
             [
              0.4444444444444444,
              "#bd3786"
             ],
             [
              0.5555555555555556,
              "#d8576b"
             ],
             [
              0.6666666666666666,
              "#ed7953"
             ],
             [
              0.7777777777777778,
              "#fb9f3a"
             ],
             [
              0.8888888888888888,
              "#fdca26"
             ],
             [
              1,
              "#f0f921"
             ]
            ],
            "type": "histogram2d"
           }
          ],
          "histogram2dcontour": [
           {
            "colorbar": {
             "outlinewidth": 0,
             "ticks": ""
            },
            "colorscale": [
             [
              0,
              "#0d0887"
             ],
             [
              0.1111111111111111,
              "#46039f"
             ],
             [
              0.2222222222222222,
              "#7201a8"
             ],
             [
              0.3333333333333333,
              "#9c179e"
             ],
             [
              0.4444444444444444,
              "#bd3786"
             ],
             [
              0.5555555555555556,
              "#d8576b"
             ],
             [
              0.6666666666666666,
              "#ed7953"
             ],
             [
              0.7777777777777778,
              "#fb9f3a"
             ],
             [
              0.8888888888888888,
              "#fdca26"
             ],
             [
              1,
              "#f0f921"
             ]
            ],
            "type": "histogram2dcontour"
           }
          ],
          "mesh3d": [
           {
            "colorbar": {
             "outlinewidth": 0,
             "ticks": ""
            },
            "type": "mesh3d"
           }
          ],
          "parcoords": [
           {
            "line": {
             "colorbar": {
              "outlinewidth": 0,
              "ticks": ""
             }
            },
            "type": "parcoords"
           }
          ],
          "pie": [
           {
            "automargin": true,
            "type": "pie"
           }
          ],
          "scatter": [
           {
            "marker": {
             "colorbar": {
              "outlinewidth": 0,
              "ticks": ""
             }
            },
            "type": "scatter"
           }
          ],
          "scatter3d": [
           {
            "line": {
             "colorbar": {
              "outlinewidth": 0,
              "ticks": ""
             }
            },
            "marker": {
             "colorbar": {
              "outlinewidth": 0,
              "ticks": ""
             }
            },
            "type": "scatter3d"
           }
          ],
          "scattercarpet": [
           {
            "marker": {
             "colorbar": {
              "outlinewidth": 0,
              "ticks": ""
             }
            },
            "type": "scattercarpet"
           }
          ],
          "scattergeo": [
           {
            "marker": {
             "colorbar": {
              "outlinewidth": 0,
              "ticks": ""
             }
            },
            "type": "scattergeo"
           }
          ],
          "scattergl": [
           {
            "marker": {
             "colorbar": {
              "outlinewidth": 0,
              "ticks": ""
             }
            },
            "type": "scattergl"
           }
          ],
          "scattermapbox": [
           {
            "marker": {
             "colorbar": {
              "outlinewidth": 0,
              "ticks": ""
             }
            },
            "type": "scattermapbox"
           }
          ],
          "scatterpolar": [
           {
            "marker": {
             "colorbar": {
              "outlinewidth": 0,
              "ticks": ""
             }
            },
            "type": "scatterpolar"
           }
          ],
          "scatterpolargl": [
           {
            "marker": {
             "colorbar": {
              "outlinewidth": 0,
              "ticks": ""
             }
            },
            "type": "scatterpolargl"
           }
          ],
          "scatterternary": [
           {
            "marker": {
             "colorbar": {
              "outlinewidth": 0,
              "ticks": ""
             }
            },
            "type": "scatterternary"
           }
          ],
          "surface": [
           {
            "colorbar": {
             "outlinewidth": 0,
             "ticks": ""
            },
            "colorscale": [
             [
              0,
              "#0d0887"
             ],
             [
              0.1111111111111111,
              "#46039f"
             ],
             [
              0.2222222222222222,
              "#7201a8"
             ],
             [
              0.3333333333333333,
              "#9c179e"
             ],
             [
              0.4444444444444444,
              "#bd3786"
             ],
             [
              0.5555555555555556,
              "#d8576b"
             ],
             [
              0.6666666666666666,
              "#ed7953"
             ],
             [
              0.7777777777777778,
              "#fb9f3a"
             ],
             [
              0.8888888888888888,
              "#fdca26"
             ],
             [
              1,
              "#f0f921"
             ]
            ],
            "type": "surface"
           }
          ],
          "table": [
           {
            "cells": {
             "fill": {
              "color": "#EBF0F8"
             },
             "line": {
              "color": "white"
             }
            },
            "header": {
             "fill": {
              "color": "#C8D4E3"
             },
             "line": {
              "color": "white"
             }
            },
            "type": "table"
           }
          ]
         },
         "layout": {
          "annotationdefaults": {
           "arrowcolor": "#2a3f5f",
           "arrowhead": 0,
           "arrowwidth": 1
          },
          "autotypenumbers": "strict",
          "coloraxis": {
           "colorbar": {
            "outlinewidth": 0,
            "ticks": ""
           }
          },
          "colorscale": {
           "diverging": [
            [
             0,
             "#8e0152"
            ],
            [
             0.1,
             "#c51b7d"
            ],
            [
             0.2,
             "#de77ae"
            ],
            [
             0.3,
             "#f1b6da"
            ],
            [
             0.4,
             "#fde0ef"
            ],
            [
             0.5,
             "#f7f7f7"
            ],
            [
             0.6,
             "#e6f5d0"
            ],
            [
             0.7,
             "#b8e186"
            ],
            [
             0.8,
             "#7fbc41"
            ],
            [
             0.9,
             "#4d9221"
            ],
            [
             1,
             "#276419"
            ]
           ],
           "sequential": [
            [
             0,
             "#0d0887"
            ],
            [
             0.1111111111111111,
             "#46039f"
            ],
            [
             0.2222222222222222,
             "#7201a8"
            ],
            [
             0.3333333333333333,
             "#9c179e"
            ],
            [
             0.4444444444444444,
             "#bd3786"
            ],
            [
             0.5555555555555556,
             "#d8576b"
            ],
            [
             0.6666666666666666,
             "#ed7953"
            ],
            [
             0.7777777777777778,
             "#fb9f3a"
            ],
            [
             0.8888888888888888,
             "#fdca26"
            ],
            [
             1,
             "#f0f921"
            ]
           ],
           "sequentialminus": [
            [
             0,
             "#0d0887"
            ],
            [
             0.1111111111111111,
             "#46039f"
            ],
            [
             0.2222222222222222,
             "#7201a8"
            ],
            [
             0.3333333333333333,
             "#9c179e"
            ],
            [
             0.4444444444444444,
             "#bd3786"
            ],
            [
             0.5555555555555556,
             "#d8576b"
            ],
            [
             0.6666666666666666,
             "#ed7953"
            ],
            [
             0.7777777777777778,
             "#fb9f3a"
            ],
            [
             0.8888888888888888,
             "#fdca26"
            ],
            [
             1,
             "#f0f921"
            ]
           ]
          },
          "colorway": [
           "#636efa",
           "#EF553B",
           "#00cc96",
           "#ab63fa",
           "#FFA15A",
           "#19d3f3",
           "#FF6692",
           "#B6E880",
           "#FF97FF",
           "#FECB52"
          ],
          "font": {
           "color": "#2a3f5f"
          },
          "geo": {
           "bgcolor": "white",
           "lakecolor": "white",
           "landcolor": "#E5ECF6",
           "showlakes": true,
           "showland": true,
           "subunitcolor": "white"
          },
          "hoverlabel": {
           "align": "left"
          },
          "hovermode": "closest",
          "mapbox": {
           "style": "light"
          },
          "paper_bgcolor": "white",
          "plot_bgcolor": "#E5ECF6",
          "polar": {
           "angularaxis": {
            "gridcolor": "white",
            "linecolor": "white",
            "ticks": ""
           },
           "bgcolor": "#E5ECF6",
           "radialaxis": {
            "gridcolor": "white",
            "linecolor": "white",
            "ticks": ""
           }
          },
          "scene": {
           "xaxis": {
            "backgroundcolor": "#E5ECF6",
            "gridcolor": "white",
            "gridwidth": 2,
            "linecolor": "white",
            "showbackground": true,
            "ticks": "",
            "zerolinecolor": "white"
           },
           "yaxis": {
            "backgroundcolor": "#E5ECF6",
            "gridcolor": "white",
            "gridwidth": 2,
            "linecolor": "white",
            "showbackground": true,
            "ticks": "",
            "zerolinecolor": "white"
           },
           "zaxis": {
            "backgroundcolor": "#E5ECF6",
            "gridcolor": "white",
            "gridwidth": 2,
            "linecolor": "white",
            "showbackground": true,
            "ticks": "",
            "zerolinecolor": "white"
           }
          },
          "shapedefaults": {
           "line": {
            "color": "#2a3f5f"
           }
          },
          "ternary": {
           "aaxis": {
            "gridcolor": "white",
            "linecolor": "white",
            "ticks": ""
           },
           "baxis": {
            "gridcolor": "white",
            "linecolor": "white",
            "ticks": ""
           },
           "bgcolor": "#E5ECF6",
           "caxis": {
            "gridcolor": "white",
            "linecolor": "white",
            "ticks": ""
           }
          },
          "title": {
           "x": 0.05
          },
          "xaxis": {
           "automargin": true,
           "gridcolor": "white",
           "linecolor": "white",
           "ticks": "",
           "title": {
            "standoff": 15
           },
           "zerolinecolor": "white",
           "zerolinewidth": 2
          },
          "yaxis": {
           "automargin": true,
           "gridcolor": "white",
           "linecolor": "white",
           "ticks": "",
           "title": {
            "standoff": 15
           },
           "zerolinecolor": "white",
           "zerolinewidth": 2
          }
         }
        },
        "title": {
         "font": {
          "color": "#4D5663"
         }
        },
        "xaxis": {
         "gridcolor": "#E1E5ED",
         "showgrid": true,
         "tickfont": {
          "color": "#4D5663"
         },
         "title": {
          "font": {
           "color": "#4D5663"
          },
          "text": ""
         },
         "zerolinecolor": "#E1E5ED"
        },
        "yaxis": {
         "gridcolor": "#E1E5ED",
         "showgrid": true,
         "tickfont": {
          "color": "#4D5663"
         },
         "title": {
          "font": {
           "color": "#4D5663"
          },
          "text": ""
         },
         "zerolinecolor": "#E1E5ED"
        }
       }
      },
      "text/html": [
       "<div>                            <div id=\"e57d3d25-46f1-43dd-b3da-0937c1385d5b\" class=\"plotly-graph-div\" style=\"height:525px; width:100%;\"></div>            <script type=\"text/javascript\">                require([\"plotly\"], function(Plotly) {                    window.PLOTLYENV=window.PLOTLYENV || {};\n",
       "                    window.PLOTLYENV.BASE_URL='https://plot.ly';                                    if (document.getElementById(\"e57d3d25-46f1-43dd-b3da-0937c1385d5b\")) {                    Plotly.newPlot(                        \"e57d3d25-46f1-43dd-b3da-0937c1385d5b\",                        [{\"line\": {\"color\": \"rgba(255, 153, 51, 1.0)\", \"dash\": \"solid\", \"shape\": \"linear\", \"width\": 1.3}, \"marker\": {\"size\": 10, \"symbol\": \"circle\"}, \"mode\": \"markers\", \"name\": \"B\", \"text\": \"\", \"type\": \"scatter\", \"x\": [0.41760155225455636, 0.5261400468723789, 0.5683423096739474, -0.8222461098210078, 0.5445007517236217, 0.5909299879074099, 2.039579362940726, 0.6262088723800441, 0.19694594037636828, -3.0228983065582167, 0.20013434662272542, 0.7897393701529026, -1.2860106647372174, -1.209894031210368, 1.4991812102081934, 0.35295100673971, 1.6068652128980419, 0.44659510774809213, -0.6767341021203152, 0.867598499054683, 1.449819695873904, 1.3191900045864868, -0.024513457915711818, 0.18460391533600704, -0.23177229636727062, 1.1887447336595125, -1.5984486384334315, -0.4791939980881674, 0.45443684003122853, 1.1858647312666772, 0.6300812899870222, -0.9076010322718687, -1.0366066556848483, -0.6364365731046352, 0.797019857738389, 0.5601019577303988, -1.4652829651387353, 1.3517284564656338, 0.19750781481677754, -1.128982113739443, -0.01754605735598141, -0.044891495186233005, -0.8010310910031381, -0.30335402548602247, -0.3418257891963359, -1.1904895976608356, 0.4408253515736436, 1.6929673822638678, -0.3508487647510596, 0.6929015015943848, 0.6704346008145055, 0.5019071084632046, -1.9676005808992338, 0.2523635759175683, -0.13769847181233172, -0.5937099301262257, -0.4946241603235603, 1.438623954125982, -0.3908975591294168, 1.5713106951819324, 0.8552659204102937, 0.24516086205370485, 0.2888971604931386, -0.14709909178975228, -0.57481584660485, 0.6549006606048943, 0.17296055568917387, -1.1992032201677807, -0.7056304144096323, -2.2219667883329373, -0.24281236415007146, -1.530315772894537, 0.1423184582985676, -0.24145116574300846, -0.30577559894924256, -1.9700879316648785, 1.552930248971835, -0.6550718586352199, 1.62122878034275, 1.167262884154505, -0.04828735125770609, 1.446278149666796, -0.4026852504538263, 2.2068846765818995, 1.2032324446589693, 1.2451406579941515, 0.5746429329620883, 0.025993186182502948, 1.646829572457141, -1.2970898328462357, 0.8804446701276977, -0.6672298832100317, -0.2551538650516365, -0.20516968130389845, -0.1893699347371977, 1.2822922950580091, -0.259250383046811, 1.0005601672190672, -1.1550813022509543, -1.5016589825132562], \"y\": [0.45531183603699393, 0.5980709095986467, -0.34994300438479303, 0.682610763724963, -1.4542337018715585, -0.3769121673601374, -0.6387922806675909, -0.7260129686538656, 1.5278964844049967, -0.48756957792086913, 0.05434385648508415, 0.7506522319974177, -1.9413341849808416, -0.5730009940047913, -1.1003505963827607, 1.0684780089870864, -0.8653245918742982, -1.1659141525288483, 1.4748659606190033, 1.1821959921800371, -0.7461798246499382, 0.48999175008102147, -0.673992626184721, 0.24893133866831796, 0.6464588824587291, -0.1461097428226522, 1.4026878825912379, -0.4985833083140884, -0.14469994922942367, -2.089059080119697, 0.2579102415048242, 0.1233431191998344, -0.5126377378670051, 0.1845391531012246, 0.26227917881843976, -2.517400123945921, -0.7664875910204841, 1.2515981143552763, 0.77024253182108, 0.2663650999864578, -0.31410429215510044, -0.7595707679642624, -0.30063668798857396, -1.3659417049110871, -0.7385023938161782, -0.8783868473978256, -1.386658644809201, -0.425338368256794, -0.6707201032633747, 0.3639683078524173, -0.6252515176436683, -0.7479873442020913, 0.23379014573745413, 0.19676520830860575, 0.78420191379329, 0.4667723126550738, -0.31299224975101747, 1.4071812363229708, -0.9882035714894439, 1.059675760547426, -0.661011691916808, 0.5648241544355863, 0.15498534009217793, -0.2969239333093207, -0.8579346573227228, -0.2983936903030944, -0.8188836855107948, -0.05905956696405363, 1.2634824753451157, -0.24211420077731516, -0.4543600665000616, 0.00020674132613351752, -0.983661158660926, -0.7938089830406612, 0.9133767862108992, -0.40882011720110095, 0.6296552104036756, 0.067578322434332, 0.49205614258355074, -0.6708775195031813, -2.3472801537369756, 0.3347200513927004, 0.27897836749072086, 0.7426050366716708, 1.0964144703582637, 0.6100031054218946, -0.8642234541537205, 0.6701889377888379, -0.8522639978236726, 1.2811708836726825, -0.709792986765138, -0.9479604590556494, 1.450475432415021, -0.6263162004965983, -0.25591862078357036, 0.1794046087657056, -0.08294676921470963, -0.19139893329730934, 0.589992480029799, -0.5097005552190711]}],                        {\"legend\": {\"bgcolor\": \"#F5F6F9\", \"font\": {\"color\": \"#4D5663\"}}, \"paper_bgcolor\": \"#F5F6F9\", \"plot_bgcolor\": \"#F5F6F9\", \"template\": {\"data\": {\"bar\": [{\"error_x\": {\"color\": \"#2a3f5f\"}, \"error_y\": {\"color\": \"#2a3f5f\"}, \"marker\": {\"line\": {\"color\": \"#E5ECF6\", \"width\": 0.5}}, \"type\": \"bar\"}], \"barpolar\": [{\"marker\": {\"line\": {\"color\": \"#E5ECF6\", \"width\": 0.5}}, \"type\": \"barpolar\"}], \"carpet\": [{\"aaxis\": {\"endlinecolor\": \"#2a3f5f\", \"gridcolor\": \"white\", \"linecolor\": \"white\", \"minorgridcolor\": \"white\", \"startlinecolor\": \"#2a3f5f\"}, \"baxis\": {\"endlinecolor\": \"#2a3f5f\", \"gridcolor\": \"white\", \"linecolor\": \"white\", \"minorgridcolor\": \"white\", \"startlinecolor\": \"#2a3f5f\"}, \"type\": \"carpet\"}], \"choropleth\": [{\"colorbar\": {\"outlinewidth\": 0, \"ticks\": \"\"}, \"type\": \"choropleth\"}], \"contour\": [{\"colorbar\": {\"outlinewidth\": 0, \"ticks\": \"\"}, \"colorscale\": [[0.0, \"#0d0887\"], [0.1111111111111111, \"#46039f\"], [0.2222222222222222, \"#7201a8\"], [0.3333333333333333, \"#9c179e\"], [0.4444444444444444, \"#bd3786\"], [0.5555555555555556, \"#d8576b\"], [0.6666666666666666, \"#ed7953\"], [0.7777777777777778, \"#fb9f3a\"], [0.8888888888888888, \"#fdca26\"], [1.0, \"#f0f921\"]], \"type\": \"contour\"}], \"contourcarpet\": [{\"colorbar\": {\"outlinewidth\": 0, \"ticks\": \"\"}, \"type\": \"contourcarpet\"}], \"heatmap\": [{\"colorbar\": {\"outlinewidth\": 0, \"ticks\": \"\"}, \"colorscale\": [[0.0, \"#0d0887\"], [0.1111111111111111, \"#46039f\"], [0.2222222222222222, \"#7201a8\"], [0.3333333333333333, \"#9c179e\"], [0.4444444444444444, \"#bd3786\"], [0.5555555555555556, \"#d8576b\"], [0.6666666666666666, \"#ed7953\"], [0.7777777777777778, \"#fb9f3a\"], [0.8888888888888888, \"#fdca26\"], [1.0, \"#f0f921\"]], \"type\": \"heatmap\"}], \"heatmapgl\": [{\"colorbar\": {\"outlinewidth\": 0, \"ticks\": \"\"}, \"colorscale\": [[0.0, \"#0d0887\"], [0.1111111111111111, \"#46039f\"], [0.2222222222222222, \"#7201a8\"], [0.3333333333333333, \"#9c179e\"], [0.4444444444444444, \"#bd3786\"], [0.5555555555555556, \"#d8576b\"], [0.6666666666666666, \"#ed7953\"], [0.7777777777777778, \"#fb9f3a\"], [0.8888888888888888, \"#fdca26\"], [1.0, \"#f0f921\"]], \"type\": \"heatmapgl\"}], \"histogram\": [{\"marker\": {\"colorbar\": {\"outlinewidth\": 0, \"ticks\": \"\"}}, \"type\": \"histogram\"}], \"histogram2d\": [{\"colorbar\": {\"outlinewidth\": 0, \"ticks\": \"\"}, \"colorscale\": [[0.0, \"#0d0887\"], [0.1111111111111111, \"#46039f\"], [0.2222222222222222, \"#7201a8\"], [0.3333333333333333, \"#9c179e\"], [0.4444444444444444, \"#bd3786\"], [0.5555555555555556, \"#d8576b\"], [0.6666666666666666, \"#ed7953\"], [0.7777777777777778, \"#fb9f3a\"], [0.8888888888888888, \"#fdca26\"], [1.0, \"#f0f921\"]], \"type\": \"histogram2d\"}], \"histogram2dcontour\": [{\"colorbar\": {\"outlinewidth\": 0, \"ticks\": \"\"}, \"colorscale\": [[0.0, \"#0d0887\"], [0.1111111111111111, \"#46039f\"], [0.2222222222222222, \"#7201a8\"], [0.3333333333333333, \"#9c179e\"], [0.4444444444444444, \"#bd3786\"], [0.5555555555555556, \"#d8576b\"], [0.6666666666666666, \"#ed7953\"], [0.7777777777777778, \"#fb9f3a\"], [0.8888888888888888, \"#fdca26\"], [1.0, \"#f0f921\"]], \"type\": \"histogram2dcontour\"}], \"mesh3d\": [{\"colorbar\": {\"outlinewidth\": 0, \"ticks\": \"\"}, \"type\": \"mesh3d\"}], \"parcoords\": [{\"line\": {\"colorbar\": {\"outlinewidth\": 0, \"ticks\": \"\"}}, \"type\": \"parcoords\"}], \"pie\": [{\"automargin\": true, \"type\": \"pie\"}], \"scatter\": [{\"marker\": {\"colorbar\": {\"outlinewidth\": 0, \"ticks\": \"\"}}, \"type\": \"scatter\"}], \"scatter3d\": [{\"line\": {\"colorbar\": {\"outlinewidth\": 0, \"ticks\": \"\"}}, \"marker\": {\"colorbar\": {\"outlinewidth\": 0, \"ticks\": \"\"}}, \"type\": \"scatter3d\"}], \"scattercarpet\": [{\"marker\": {\"colorbar\": {\"outlinewidth\": 0, \"ticks\": \"\"}}, \"type\": \"scattercarpet\"}], \"scattergeo\": [{\"marker\": {\"colorbar\": {\"outlinewidth\": 0, \"ticks\": \"\"}}, \"type\": \"scattergeo\"}], \"scattergl\": [{\"marker\": {\"colorbar\": {\"outlinewidth\": 0, \"ticks\": \"\"}}, \"type\": \"scattergl\"}], \"scattermapbox\": [{\"marker\": {\"colorbar\": {\"outlinewidth\": 0, \"ticks\": \"\"}}, \"type\": \"scattermapbox\"}], \"scatterpolar\": [{\"marker\": {\"colorbar\": {\"outlinewidth\": 0, \"ticks\": \"\"}}, \"type\": \"scatterpolar\"}], \"scatterpolargl\": [{\"marker\": {\"colorbar\": {\"outlinewidth\": 0, \"ticks\": \"\"}}, \"type\": \"scatterpolargl\"}], \"scatterternary\": [{\"marker\": {\"colorbar\": {\"outlinewidth\": 0, \"ticks\": \"\"}}, \"type\": \"scatterternary\"}], \"surface\": [{\"colorbar\": {\"outlinewidth\": 0, \"ticks\": \"\"}, \"colorscale\": [[0.0, \"#0d0887\"], [0.1111111111111111, \"#46039f\"], [0.2222222222222222, \"#7201a8\"], [0.3333333333333333, \"#9c179e\"], [0.4444444444444444, \"#bd3786\"], [0.5555555555555556, \"#d8576b\"], [0.6666666666666666, \"#ed7953\"], [0.7777777777777778, \"#fb9f3a\"], [0.8888888888888888, \"#fdca26\"], [1.0, \"#f0f921\"]], \"type\": \"surface\"}], \"table\": [{\"cells\": {\"fill\": {\"color\": \"#EBF0F8\"}, \"line\": {\"color\": \"white\"}}, \"header\": {\"fill\": {\"color\": \"#C8D4E3\"}, \"line\": {\"color\": \"white\"}}, \"type\": \"table\"}]}, \"layout\": {\"annotationdefaults\": {\"arrowcolor\": \"#2a3f5f\", \"arrowhead\": 0, \"arrowwidth\": 1}, \"autotypenumbers\": \"strict\", \"coloraxis\": {\"colorbar\": {\"outlinewidth\": 0, \"ticks\": \"\"}}, \"colorscale\": {\"diverging\": [[0, \"#8e0152\"], [0.1, \"#c51b7d\"], [0.2, \"#de77ae\"], [0.3, \"#f1b6da\"], [0.4, \"#fde0ef\"], [0.5, \"#f7f7f7\"], [0.6, \"#e6f5d0\"], [0.7, \"#b8e186\"], [0.8, \"#7fbc41\"], [0.9, \"#4d9221\"], [1, \"#276419\"]], \"sequential\": [[0.0, \"#0d0887\"], [0.1111111111111111, \"#46039f\"], [0.2222222222222222, \"#7201a8\"], [0.3333333333333333, \"#9c179e\"], [0.4444444444444444, \"#bd3786\"], [0.5555555555555556, \"#d8576b\"], [0.6666666666666666, \"#ed7953\"], [0.7777777777777778, \"#fb9f3a\"], [0.8888888888888888, \"#fdca26\"], [1.0, \"#f0f921\"]], \"sequentialminus\": [[0.0, \"#0d0887\"], [0.1111111111111111, \"#46039f\"], [0.2222222222222222, \"#7201a8\"], [0.3333333333333333, \"#9c179e\"], [0.4444444444444444, \"#bd3786\"], [0.5555555555555556, \"#d8576b\"], [0.6666666666666666, \"#ed7953\"], [0.7777777777777778, \"#fb9f3a\"], [0.8888888888888888, \"#fdca26\"], [1.0, \"#f0f921\"]]}, \"colorway\": [\"#636efa\", \"#EF553B\", \"#00cc96\", \"#ab63fa\", \"#FFA15A\", \"#19d3f3\", \"#FF6692\", \"#B6E880\", \"#FF97FF\", \"#FECB52\"], \"font\": {\"color\": \"#2a3f5f\"}, \"geo\": {\"bgcolor\": \"white\", \"lakecolor\": \"white\", \"landcolor\": \"#E5ECF6\", \"showlakes\": true, \"showland\": true, \"subunitcolor\": \"white\"}, \"hoverlabel\": {\"align\": \"left\"}, \"hovermode\": \"closest\", \"mapbox\": {\"style\": \"light\"}, \"paper_bgcolor\": \"white\", \"plot_bgcolor\": \"#E5ECF6\", \"polar\": {\"angularaxis\": {\"gridcolor\": \"white\", \"linecolor\": \"white\", \"ticks\": \"\"}, \"bgcolor\": \"#E5ECF6\", \"radialaxis\": {\"gridcolor\": \"white\", \"linecolor\": \"white\", \"ticks\": \"\"}}, \"scene\": {\"xaxis\": {\"backgroundcolor\": \"#E5ECF6\", \"gridcolor\": \"white\", \"gridwidth\": 2, \"linecolor\": \"white\", \"showbackground\": true, \"ticks\": \"\", \"zerolinecolor\": \"white\"}, \"yaxis\": {\"backgroundcolor\": \"#E5ECF6\", \"gridcolor\": \"white\", \"gridwidth\": 2, \"linecolor\": \"white\", \"showbackground\": true, \"ticks\": \"\", \"zerolinecolor\": \"white\"}, \"zaxis\": {\"backgroundcolor\": \"#E5ECF6\", \"gridcolor\": \"white\", \"gridwidth\": 2, \"linecolor\": \"white\", \"showbackground\": true, \"ticks\": \"\", \"zerolinecolor\": \"white\"}}, \"shapedefaults\": {\"line\": {\"color\": \"#2a3f5f\"}}, \"ternary\": {\"aaxis\": {\"gridcolor\": \"white\", \"linecolor\": \"white\", \"ticks\": \"\"}, \"baxis\": {\"gridcolor\": \"white\", \"linecolor\": \"white\", \"ticks\": \"\"}, \"bgcolor\": \"#E5ECF6\", \"caxis\": {\"gridcolor\": \"white\", \"linecolor\": \"white\", \"ticks\": \"\"}}, \"title\": {\"x\": 0.05}, \"xaxis\": {\"automargin\": true, \"gridcolor\": \"white\", \"linecolor\": \"white\", \"ticks\": \"\", \"title\": {\"standoff\": 15}, \"zerolinecolor\": \"white\", \"zerolinewidth\": 2}, \"yaxis\": {\"automargin\": true, \"gridcolor\": \"white\", \"linecolor\": \"white\", \"ticks\": \"\", \"title\": {\"standoff\": 15}, \"zerolinecolor\": \"white\", \"zerolinewidth\": 2}}}, \"title\": {\"font\": {\"color\": \"#4D5663\"}}, \"xaxis\": {\"gridcolor\": \"#E1E5ED\", \"showgrid\": true, \"tickfont\": {\"color\": \"#4D5663\"}, \"title\": {\"font\": {\"color\": \"#4D5663\"}, \"text\": \"\"}, \"zerolinecolor\": \"#E1E5ED\"}, \"yaxis\": {\"gridcolor\": \"#E1E5ED\", \"showgrid\": true, \"tickfont\": {\"color\": \"#4D5663\"}, \"title\": {\"font\": {\"color\": \"#4D5663\"}, \"text\": \"\"}, \"zerolinecolor\": \"#E1E5ED\"}},                        {\"showLink\": true, \"linkText\": \"Export to plot.ly\", \"plotlyServerURL\": \"https://plot.ly\", \"responsive\": true}                    ).then(function(){\n",
       "                            \n",
       "var gd = document.getElementById('e57d3d25-46f1-43dd-b3da-0937c1385d5b');\n",
       "var x = new MutationObserver(function (mutations, observer) {{\n",
       "        var display = window.getComputedStyle(gd).display;\n",
       "        if (!display || display === 'none') {{\n",
       "            console.log([gd, 'removed!']);\n",
       "            Plotly.purge(gd);\n",
       "            observer.disconnect();\n",
       "        }}\n",
       "}});\n",
       "\n",
       "// Listen for the removal of the full notebook cells\n",
       "var notebookContainer = gd.closest('#notebook-container');\n",
       "if (notebookContainer) {{\n",
       "    x.observe(notebookContainer, {childList: true});\n",
       "}}\n",
       "\n",
       "// Listen for the clearing of the current output cell\n",
       "var outputEl = gd.closest('.output');\n",
       "if (outputEl) {{\n",
       "    x.observe(outputEl, {childList: true});\n",
       "}}\n",
       "\n",
       "                        })                };                });            </script>        </div>"
      ]
     },
     "metadata": {},
     "output_type": "display_data"
    }
   ],
   "source": [
    "df.iplot(kind='scatter',x='A',y='B',mode='markers',size=10)"
   ]
  },
  {
   "cell_type": "markdown",
   "metadata": {},
   "source": [
    "## Bar Plots"
   ]
  },
  {
   "cell_type": "code",
   "execution_count": 11,
   "metadata": {},
   "outputs": [
    {
     "data": {
      "application/vnd.plotly.v1+json": {
       "config": {
        "linkText": "Export to plot.ly",
        "plotlyServerURL": "https://plot.ly",
        "showLink": true
       },
       "data": [
        {
         "marker": {
          "color": "rgba(255, 153, 51, 0.6)",
          "line": {
           "color": "rgba(255, 153, 51, 1.0)",
           "width": 1
          }
         },
         "name": "Values",
         "orientation": "v",
         "text": "",
         "type": "bar",
         "x": [
          "A",
          "B",
          "C"
         ],
         "y": [
          32,
          43,
          50
         ]
        }
       ],
       "layout": {
        "legend": {
         "bgcolor": "#F5F6F9",
         "font": {
          "color": "#4D5663"
         }
        },
        "paper_bgcolor": "#F5F6F9",
        "plot_bgcolor": "#F5F6F9",
        "template": {
         "data": {
          "bar": [
           {
            "error_x": {
             "color": "#2a3f5f"
            },
            "error_y": {
             "color": "#2a3f5f"
            },
            "marker": {
             "line": {
              "color": "#E5ECF6",
              "width": 0.5
             }
            },
            "type": "bar"
           }
          ],
          "barpolar": [
           {
            "marker": {
             "line": {
              "color": "#E5ECF6",
              "width": 0.5
             }
            },
            "type": "barpolar"
           }
          ],
          "carpet": [
           {
            "aaxis": {
             "endlinecolor": "#2a3f5f",
             "gridcolor": "white",
             "linecolor": "white",
             "minorgridcolor": "white",
             "startlinecolor": "#2a3f5f"
            },
            "baxis": {
             "endlinecolor": "#2a3f5f",
             "gridcolor": "white",
             "linecolor": "white",
             "minorgridcolor": "white",
             "startlinecolor": "#2a3f5f"
            },
            "type": "carpet"
           }
          ],
          "choropleth": [
           {
            "colorbar": {
             "outlinewidth": 0,
             "ticks": ""
            },
            "type": "choropleth"
           }
          ],
          "contour": [
           {
            "colorbar": {
             "outlinewidth": 0,
             "ticks": ""
            },
            "colorscale": [
             [
              0,
              "#0d0887"
             ],
             [
              0.1111111111111111,
              "#46039f"
             ],
             [
              0.2222222222222222,
              "#7201a8"
             ],
             [
              0.3333333333333333,
              "#9c179e"
             ],
             [
              0.4444444444444444,
              "#bd3786"
             ],
             [
              0.5555555555555556,
              "#d8576b"
             ],
             [
              0.6666666666666666,
              "#ed7953"
             ],
             [
              0.7777777777777778,
              "#fb9f3a"
             ],
             [
              0.8888888888888888,
              "#fdca26"
             ],
             [
              1,
              "#f0f921"
             ]
            ],
            "type": "contour"
           }
          ],
          "contourcarpet": [
           {
            "colorbar": {
             "outlinewidth": 0,
             "ticks": ""
            },
            "type": "contourcarpet"
           }
          ],
          "heatmap": [
           {
            "colorbar": {
             "outlinewidth": 0,
             "ticks": ""
            },
            "colorscale": [
             [
              0,
              "#0d0887"
             ],
             [
              0.1111111111111111,
              "#46039f"
             ],
             [
              0.2222222222222222,
              "#7201a8"
             ],
             [
              0.3333333333333333,
              "#9c179e"
             ],
             [
              0.4444444444444444,
              "#bd3786"
             ],
             [
              0.5555555555555556,
              "#d8576b"
             ],
             [
              0.6666666666666666,
              "#ed7953"
             ],
             [
              0.7777777777777778,
              "#fb9f3a"
             ],
             [
              0.8888888888888888,
              "#fdca26"
             ],
             [
              1,
              "#f0f921"
             ]
            ],
            "type": "heatmap"
           }
          ],
          "heatmapgl": [
           {
            "colorbar": {
             "outlinewidth": 0,
             "ticks": ""
            },
            "colorscale": [
             [
              0,
              "#0d0887"
             ],
             [
              0.1111111111111111,
              "#46039f"
             ],
             [
              0.2222222222222222,
              "#7201a8"
             ],
             [
              0.3333333333333333,
              "#9c179e"
             ],
             [
              0.4444444444444444,
              "#bd3786"
             ],
             [
              0.5555555555555556,
              "#d8576b"
             ],
             [
              0.6666666666666666,
              "#ed7953"
             ],
             [
              0.7777777777777778,
              "#fb9f3a"
             ],
             [
              0.8888888888888888,
              "#fdca26"
             ],
             [
              1,
              "#f0f921"
             ]
            ],
            "type": "heatmapgl"
           }
          ],
          "histogram": [
           {
            "marker": {
             "colorbar": {
              "outlinewidth": 0,
              "ticks": ""
             }
            },
            "type": "histogram"
           }
          ],
          "histogram2d": [
           {
            "colorbar": {
             "outlinewidth": 0,
             "ticks": ""
            },
            "colorscale": [
             [
              0,
              "#0d0887"
             ],
             [
              0.1111111111111111,
              "#46039f"
             ],
             [
              0.2222222222222222,
              "#7201a8"
             ],
             [
              0.3333333333333333,
              "#9c179e"
             ],
             [
              0.4444444444444444,
              "#bd3786"
             ],
             [
              0.5555555555555556,
              "#d8576b"
             ],
             [
              0.6666666666666666,
              "#ed7953"
             ],
             [
              0.7777777777777778,
              "#fb9f3a"
             ],
             [
              0.8888888888888888,
              "#fdca26"
             ],
             [
              1,
              "#f0f921"
             ]
            ],
            "type": "histogram2d"
           }
          ],
          "histogram2dcontour": [
           {
            "colorbar": {
             "outlinewidth": 0,
             "ticks": ""
            },
            "colorscale": [
             [
              0,
              "#0d0887"
             ],
             [
              0.1111111111111111,
              "#46039f"
             ],
             [
              0.2222222222222222,
              "#7201a8"
             ],
             [
              0.3333333333333333,
              "#9c179e"
             ],
             [
              0.4444444444444444,
              "#bd3786"
             ],
             [
              0.5555555555555556,
              "#d8576b"
             ],
             [
              0.6666666666666666,
              "#ed7953"
             ],
             [
              0.7777777777777778,
              "#fb9f3a"
             ],
             [
              0.8888888888888888,
              "#fdca26"
             ],
             [
              1,
              "#f0f921"
             ]
            ],
            "type": "histogram2dcontour"
           }
          ],
          "mesh3d": [
           {
            "colorbar": {
             "outlinewidth": 0,
             "ticks": ""
            },
            "type": "mesh3d"
           }
          ],
          "parcoords": [
           {
            "line": {
             "colorbar": {
              "outlinewidth": 0,
              "ticks": ""
             }
            },
            "type": "parcoords"
           }
          ],
          "pie": [
           {
            "automargin": true,
            "type": "pie"
           }
          ],
          "scatter": [
           {
            "marker": {
             "colorbar": {
              "outlinewidth": 0,
              "ticks": ""
             }
            },
            "type": "scatter"
           }
          ],
          "scatter3d": [
           {
            "line": {
             "colorbar": {
              "outlinewidth": 0,
              "ticks": ""
             }
            },
            "marker": {
             "colorbar": {
              "outlinewidth": 0,
              "ticks": ""
             }
            },
            "type": "scatter3d"
           }
          ],
          "scattercarpet": [
           {
            "marker": {
             "colorbar": {
              "outlinewidth": 0,
              "ticks": ""
             }
            },
            "type": "scattercarpet"
           }
          ],
          "scattergeo": [
           {
            "marker": {
             "colorbar": {
              "outlinewidth": 0,
              "ticks": ""
             }
            },
            "type": "scattergeo"
           }
          ],
          "scattergl": [
           {
            "marker": {
             "colorbar": {
              "outlinewidth": 0,
              "ticks": ""
             }
            },
            "type": "scattergl"
           }
          ],
          "scattermapbox": [
           {
            "marker": {
             "colorbar": {
              "outlinewidth": 0,
              "ticks": ""
             }
            },
            "type": "scattermapbox"
           }
          ],
          "scatterpolar": [
           {
            "marker": {
             "colorbar": {
              "outlinewidth": 0,
              "ticks": ""
             }
            },
            "type": "scatterpolar"
           }
          ],
          "scatterpolargl": [
           {
            "marker": {
             "colorbar": {
              "outlinewidth": 0,
              "ticks": ""
             }
            },
            "type": "scatterpolargl"
           }
          ],
          "scatterternary": [
           {
            "marker": {
             "colorbar": {
              "outlinewidth": 0,
              "ticks": ""
             }
            },
            "type": "scatterternary"
           }
          ],
          "surface": [
           {
            "colorbar": {
             "outlinewidth": 0,
             "ticks": ""
            },
            "colorscale": [
             [
              0,
              "#0d0887"
             ],
             [
              0.1111111111111111,
              "#46039f"
             ],
             [
              0.2222222222222222,
              "#7201a8"
             ],
             [
              0.3333333333333333,
              "#9c179e"
             ],
             [
              0.4444444444444444,
              "#bd3786"
             ],
             [
              0.5555555555555556,
              "#d8576b"
             ],
             [
              0.6666666666666666,
              "#ed7953"
             ],
             [
              0.7777777777777778,
              "#fb9f3a"
             ],
             [
              0.8888888888888888,
              "#fdca26"
             ],
             [
              1,
              "#f0f921"
             ]
            ],
            "type": "surface"
           }
          ],
          "table": [
           {
            "cells": {
             "fill": {
              "color": "#EBF0F8"
             },
             "line": {
              "color": "white"
             }
            },
            "header": {
             "fill": {
              "color": "#C8D4E3"
             },
             "line": {
              "color": "white"
             }
            },
            "type": "table"
           }
          ]
         },
         "layout": {
          "annotationdefaults": {
           "arrowcolor": "#2a3f5f",
           "arrowhead": 0,
           "arrowwidth": 1
          },
          "autotypenumbers": "strict",
          "coloraxis": {
           "colorbar": {
            "outlinewidth": 0,
            "ticks": ""
           }
          },
          "colorscale": {
           "diverging": [
            [
             0,
             "#8e0152"
            ],
            [
             0.1,
             "#c51b7d"
            ],
            [
             0.2,
             "#de77ae"
            ],
            [
             0.3,
             "#f1b6da"
            ],
            [
             0.4,
             "#fde0ef"
            ],
            [
             0.5,
             "#f7f7f7"
            ],
            [
             0.6,
             "#e6f5d0"
            ],
            [
             0.7,
             "#b8e186"
            ],
            [
             0.8,
             "#7fbc41"
            ],
            [
             0.9,
             "#4d9221"
            ],
            [
             1,
             "#276419"
            ]
           ],
           "sequential": [
            [
             0,
             "#0d0887"
            ],
            [
             0.1111111111111111,
             "#46039f"
            ],
            [
             0.2222222222222222,
             "#7201a8"
            ],
            [
             0.3333333333333333,
             "#9c179e"
            ],
            [
             0.4444444444444444,
             "#bd3786"
            ],
            [
             0.5555555555555556,
             "#d8576b"
            ],
            [
             0.6666666666666666,
             "#ed7953"
            ],
            [
             0.7777777777777778,
             "#fb9f3a"
            ],
            [
             0.8888888888888888,
             "#fdca26"
            ],
            [
             1,
             "#f0f921"
            ]
           ],
           "sequentialminus": [
            [
             0,
             "#0d0887"
            ],
            [
             0.1111111111111111,
             "#46039f"
            ],
            [
             0.2222222222222222,
             "#7201a8"
            ],
            [
             0.3333333333333333,
             "#9c179e"
            ],
            [
             0.4444444444444444,
             "#bd3786"
            ],
            [
             0.5555555555555556,
             "#d8576b"
            ],
            [
             0.6666666666666666,
             "#ed7953"
            ],
            [
             0.7777777777777778,
             "#fb9f3a"
            ],
            [
             0.8888888888888888,
             "#fdca26"
            ],
            [
             1,
             "#f0f921"
            ]
           ]
          },
          "colorway": [
           "#636efa",
           "#EF553B",
           "#00cc96",
           "#ab63fa",
           "#FFA15A",
           "#19d3f3",
           "#FF6692",
           "#B6E880",
           "#FF97FF",
           "#FECB52"
          ],
          "font": {
           "color": "#2a3f5f"
          },
          "geo": {
           "bgcolor": "white",
           "lakecolor": "white",
           "landcolor": "#E5ECF6",
           "showlakes": true,
           "showland": true,
           "subunitcolor": "white"
          },
          "hoverlabel": {
           "align": "left"
          },
          "hovermode": "closest",
          "mapbox": {
           "style": "light"
          },
          "paper_bgcolor": "white",
          "plot_bgcolor": "#E5ECF6",
          "polar": {
           "angularaxis": {
            "gridcolor": "white",
            "linecolor": "white",
            "ticks": ""
           },
           "bgcolor": "#E5ECF6",
           "radialaxis": {
            "gridcolor": "white",
            "linecolor": "white",
            "ticks": ""
           }
          },
          "scene": {
           "xaxis": {
            "backgroundcolor": "#E5ECF6",
            "gridcolor": "white",
            "gridwidth": 2,
            "linecolor": "white",
            "showbackground": true,
            "ticks": "",
            "zerolinecolor": "white"
           },
           "yaxis": {
            "backgroundcolor": "#E5ECF6",
            "gridcolor": "white",
            "gridwidth": 2,
            "linecolor": "white",
            "showbackground": true,
            "ticks": "",
            "zerolinecolor": "white"
           },
           "zaxis": {
            "backgroundcolor": "#E5ECF6",
            "gridcolor": "white",
            "gridwidth": 2,
            "linecolor": "white",
            "showbackground": true,
            "ticks": "",
            "zerolinecolor": "white"
           }
          },
          "shapedefaults": {
           "line": {
            "color": "#2a3f5f"
           }
          },
          "ternary": {
           "aaxis": {
            "gridcolor": "white",
            "linecolor": "white",
            "ticks": ""
           },
           "baxis": {
            "gridcolor": "white",
            "linecolor": "white",
            "ticks": ""
           },
           "bgcolor": "#E5ECF6",
           "caxis": {
            "gridcolor": "white",
            "linecolor": "white",
            "ticks": ""
           }
          },
          "title": {
           "x": 0.05
          },
          "xaxis": {
           "automargin": true,
           "gridcolor": "white",
           "linecolor": "white",
           "ticks": "",
           "title": {
            "standoff": 15
           },
           "zerolinecolor": "white",
           "zerolinewidth": 2
          },
          "yaxis": {
           "automargin": true,
           "gridcolor": "white",
           "linecolor": "white",
           "ticks": "",
           "title": {
            "standoff": 15
           },
           "zerolinecolor": "white",
           "zerolinewidth": 2
          }
         }
        },
        "title": {
         "font": {
          "color": "#4D5663"
         }
        },
        "xaxis": {
         "gridcolor": "#E1E5ED",
         "showgrid": true,
         "tickfont": {
          "color": "#4D5663"
         },
         "title": {
          "font": {
           "color": "#4D5663"
          },
          "text": ""
         },
         "zerolinecolor": "#E1E5ED"
        },
        "yaxis": {
         "gridcolor": "#E1E5ED",
         "showgrid": true,
         "tickfont": {
          "color": "#4D5663"
         },
         "title": {
          "font": {
           "color": "#4D5663"
          },
          "text": ""
         },
         "zerolinecolor": "#E1E5ED"
        }
       }
      },
      "text/html": [
       "<div>                            <div id=\"692a213b-c48c-4ace-8ecc-f6cd3d9259c4\" class=\"plotly-graph-div\" style=\"height:525px; width:100%;\"></div>            <script type=\"text/javascript\">                require([\"plotly\"], function(Plotly) {                    window.PLOTLYENV=window.PLOTLYENV || {};\n",
       "                    window.PLOTLYENV.BASE_URL='https://plot.ly';                                    if (document.getElementById(\"692a213b-c48c-4ace-8ecc-f6cd3d9259c4\")) {                    Plotly.newPlot(                        \"692a213b-c48c-4ace-8ecc-f6cd3d9259c4\",                        [{\"marker\": {\"color\": \"rgba(255, 153, 51, 0.6)\", \"line\": {\"color\": \"rgba(255, 153, 51, 1.0)\", \"width\": 1}}, \"name\": \"Values\", \"orientation\": \"v\", \"text\": \"\", \"type\": \"bar\", \"x\": [\"A\", \"B\", \"C\"], \"y\": [32, 43, 50]}],                        {\"legend\": {\"bgcolor\": \"#F5F6F9\", \"font\": {\"color\": \"#4D5663\"}}, \"paper_bgcolor\": \"#F5F6F9\", \"plot_bgcolor\": \"#F5F6F9\", \"template\": {\"data\": {\"bar\": [{\"error_x\": {\"color\": \"#2a3f5f\"}, \"error_y\": {\"color\": \"#2a3f5f\"}, \"marker\": {\"line\": {\"color\": \"#E5ECF6\", \"width\": 0.5}}, \"type\": \"bar\"}], \"barpolar\": [{\"marker\": {\"line\": {\"color\": \"#E5ECF6\", \"width\": 0.5}}, \"type\": \"barpolar\"}], \"carpet\": [{\"aaxis\": {\"endlinecolor\": \"#2a3f5f\", \"gridcolor\": \"white\", \"linecolor\": \"white\", \"minorgridcolor\": \"white\", \"startlinecolor\": \"#2a3f5f\"}, \"baxis\": {\"endlinecolor\": \"#2a3f5f\", \"gridcolor\": \"white\", \"linecolor\": \"white\", \"minorgridcolor\": \"white\", \"startlinecolor\": \"#2a3f5f\"}, \"type\": \"carpet\"}], \"choropleth\": [{\"colorbar\": {\"outlinewidth\": 0, \"ticks\": \"\"}, \"type\": \"choropleth\"}], \"contour\": [{\"colorbar\": {\"outlinewidth\": 0, \"ticks\": \"\"}, \"colorscale\": [[0.0, \"#0d0887\"], [0.1111111111111111, \"#46039f\"], [0.2222222222222222, \"#7201a8\"], [0.3333333333333333, \"#9c179e\"], [0.4444444444444444, \"#bd3786\"], [0.5555555555555556, \"#d8576b\"], [0.6666666666666666, \"#ed7953\"], [0.7777777777777778, \"#fb9f3a\"], [0.8888888888888888, \"#fdca26\"], [1.0, \"#f0f921\"]], \"type\": \"contour\"}], \"contourcarpet\": [{\"colorbar\": {\"outlinewidth\": 0, \"ticks\": \"\"}, \"type\": \"contourcarpet\"}], \"heatmap\": [{\"colorbar\": {\"outlinewidth\": 0, \"ticks\": \"\"}, \"colorscale\": [[0.0, \"#0d0887\"], [0.1111111111111111, \"#46039f\"], [0.2222222222222222, \"#7201a8\"], [0.3333333333333333, \"#9c179e\"], [0.4444444444444444, \"#bd3786\"], [0.5555555555555556, \"#d8576b\"], [0.6666666666666666, \"#ed7953\"], [0.7777777777777778, \"#fb9f3a\"], [0.8888888888888888, \"#fdca26\"], [1.0, \"#f0f921\"]], \"type\": \"heatmap\"}], \"heatmapgl\": [{\"colorbar\": {\"outlinewidth\": 0, \"ticks\": \"\"}, \"colorscale\": [[0.0, \"#0d0887\"], [0.1111111111111111, \"#46039f\"], [0.2222222222222222, \"#7201a8\"], [0.3333333333333333, \"#9c179e\"], [0.4444444444444444, \"#bd3786\"], [0.5555555555555556, \"#d8576b\"], [0.6666666666666666, \"#ed7953\"], [0.7777777777777778, \"#fb9f3a\"], [0.8888888888888888, \"#fdca26\"], [1.0, \"#f0f921\"]], \"type\": \"heatmapgl\"}], \"histogram\": [{\"marker\": {\"colorbar\": {\"outlinewidth\": 0, \"ticks\": \"\"}}, \"type\": \"histogram\"}], \"histogram2d\": [{\"colorbar\": {\"outlinewidth\": 0, \"ticks\": \"\"}, \"colorscale\": [[0.0, \"#0d0887\"], [0.1111111111111111, \"#46039f\"], [0.2222222222222222, \"#7201a8\"], [0.3333333333333333, \"#9c179e\"], [0.4444444444444444, \"#bd3786\"], [0.5555555555555556, \"#d8576b\"], [0.6666666666666666, \"#ed7953\"], [0.7777777777777778, \"#fb9f3a\"], [0.8888888888888888, \"#fdca26\"], [1.0, \"#f0f921\"]], \"type\": \"histogram2d\"}], \"histogram2dcontour\": [{\"colorbar\": {\"outlinewidth\": 0, \"ticks\": \"\"}, \"colorscale\": [[0.0, \"#0d0887\"], [0.1111111111111111, \"#46039f\"], [0.2222222222222222, \"#7201a8\"], [0.3333333333333333, \"#9c179e\"], [0.4444444444444444, \"#bd3786\"], [0.5555555555555556, \"#d8576b\"], [0.6666666666666666, \"#ed7953\"], [0.7777777777777778, \"#fb9f3a\"], [0.8888888888888888, \"#fdca26\"], [1.0, \"#f0f921\"]], \"type\": \"histogram2dcontour\"}], \"mesh3d\": [{\"colorbar\": {\"outlinewidth\": 0, \"ticks\": \"\"}, \"type\": \"mesh3d\"}], \"parcoords\": [{\"line\": {\"colorbar\": {\"outlinewidth\": 0, \"ticks\": \"\"}}, \"type\": \"parcoords\"}], \"pie\": [{\"automargin\": true, \"type\": \"pie\"}], \"scatter\": [{\"marker\": {\"colorbar\": {\"outlinewidth\": 0, \"ticks\": \"\"}}, \"type\": \"scatter\"}], \"scatter3d\": [{\"line\": {\"colorbar\": {\"outlinewidth\": 0, \"ticks\": \"\"}}, \"marker\": {\"colorbar\": {\"outlinewidth\": 0, \"ticks\": \"\"}}, \"type\": \"scatter3d\"}], \"scattercarpet\": [{\"marker\": {\"colorbar\": {\"outlinewidth\": 0, \"ticks\": \"\"}}, \"type\": \"scattercarpet\"}], \"scattergeo\": [{\"marker\": {\"colorbar\": {\"outlinewidth\": 0, \"ticks\": \"\"}}, \"type\": \"scattergeo\"}], \"scattergl\": [{\"marker\": {\"colorbar\": {\"outlinewidth\": 0, \"ticks\": \"\"}}, \"type\": \"scattergl\"}], \"scattermapbox\": [{\"marker\": {\"colorbar\": {\"outlinewidth\": 0, \"ticks\": \"\"}}, \"type\": \"scattermapbox\"}], \"scatterpolar\": [{\"marker\": {\"colorbar\": {\"outlinewidth\": 0, \"ticks\": \"\"}}, \"type\": \"scatterpolar\"}], \"scatterpolargl\": [{\"marker\": {\"colorbar\": {\"outlinewidth\": 0, \"ticks\": \"\"}}, \"type\": \"scatterpolargl\"}], \"scatterternary\": [{\"marker\": {\"colorbar\": {\"outlinewidth\": 0, \"ticks\": \"\"}}, \"type\": \"scatterternary\"}], \"surface\": [{\"colorbar\": {\"outlinewidth\": 0, \"ticks\": \"\"}, \"colorscale\": [[0.0, \"#0d0887\"], [0.1111111111111111, \"#46039f\"], [0.2222222222222222, \"#7201a8\"], [0.3333333333333333, \"#9c179e\"], [0.4444444444444444, \"#bd3786\"], [0.5555555555555556, \"#d8576b\"], [0.6666666666666666, \"#ed7953\"], [0.7777777777777778, \"#fb9f3a\"], [0.8888888888888888, \"#fdca26\"], [1.0, \"#f0f921\"]], \"type\": \"surface\"}], \"table\": [{\"cells\": {\"fill\": {\"color\": \"#EBF0F8\"}, \"line\": {\"color\": \"white\"}}, \"header\": {\"fill\": {\"color\": \"#C8D4E3\"}, \"line\": {\"color\": \"white\"}}, \"type\": \"table\"}]}, \"layout\": {\"annotationdefaults\": {\"arrowcolor\": \"#2a3f5f\", \"arrowhead\": 0, \"arrowwidth\": 1}, \"autotypenumbers\": \"strict\", \"coloraxis\": {\"colorbar\": {\"outlinewidth\": 0, \"ticks\": \"\"}}, \"colorscale\": {\"diverging\": [[0, \"#8e0152\"], [0.1, \"#c51b7d\"], [0.2, \"#de77ae\"], [0.3, \"#f1b6da\"], [0.4, \"#fde0ef\"], [0.5, \"#f7f7f7\"], [0.6, \"#e6f5d0\"], [0.7, \"#b8e186\"], [0.8, \"#7fbc41\"], [0.9, \"#4d9221\"], [1, \"#276419\"]], \"sequential\": [[0.0, \"#0d0887\"], [0.1111111111111111, \"#46039f\"], [0.2222222222222222, \"#7201a8\"], [0.3333333333333333, \"#9c179e\"], [0.4444444444444444, \"#bd3786\"], [0.5555555555555556, \"#d8576b\"], [0.6666666666666666, \"#ed7953\"], [0.7777777777777778, \"#fb9f3a\"], [0.8888888888888888, \"#fdca26\"], [1.0, \"#f0f921\"]], \"sequentialminus\": [[0.0, \"#0d0887\"], [0.1111111111111111, \"#46039f\"], [0.2222222222222222, \"#7201a8\"], [0.3333333333333333, \"#9c179e\"], [0.4444444444444444, \"#bd3786\"], [0.5555555555555556, \"#d8576b\"], [0.6666666666666666, \"#ed7953\"], [0.7777777777777778, \"#fb9f3a\"], [0.8888888888888888, \"#fdca26\"], [1.0, \"#f0f921\"]]}, \"colorway\": [\"#636efa\", \"#EF553B\", \"#00cc96\", \"#ab63fa\", \"#FFA15A\", \"#19d3f3\", \"#FF6692\", \"#B6E880\", \"#FF97FF\", \"#FECB52\"], \"font\": {\"color\": \"#2a3f5f\"}, \"geo\": {\"bgcolor\": \"white\", \"lakecolor\": \"white\", \"landcolor\": \"#E5ECF6\", \"showlakes\": true, \"showland\": true, \"subunitcolor\": \"white\"}, \"hoverlabel\": {\"align\": \"left\"}, \"hovermode\": \"closest\", \"mapbox\": {\"style\": \"light\"}, \"paper_bgcolor\": \"white\", \"plot_bgcolor\": \"#E5ECF6\", \"polar\": {\"angularaxis\": {\"gridcolor\": \"white\", \"linecolor\": \"white\", \"ticks\": \"\"}, \"bgcolor\": \"#E5ECF6\", \"radialaxis\": {\"gridcolor\": \"white\", \"linecolor\": \"white\", \"ticks\": \"\"}}, \"scene\": {\"xaxis\": {\"backgroundcolor\": \"#E5ECF6\", \"gridcolor\": \"white\", \"gridwidth\": 2, \"linecolor\": \"white\", \"showbackground\": true, \"ticks\": \"\", \"zerolinecolor\": \"white\"}, \"yaxis\": {\"backgroundcolor\": \"#E5ECF6\", \"gridcolor\": \"white\", \"gridwidth\": 2, \"linecolor\": \"white\", \"showbackground\": true, \"ticks\": \"\", \"zerolinecolor\": \"white\"}, \"zaxis\": {\"backgroundcolor\": \"#E5ECF6\", \"gridcolor\": \"white\", \"gridwidth\": 2, \"linecolor\": \"white\", \"showbackground\": true, \"ticks\": \"\", \"zerolinecolor\": \"white\"}}, \"shapedefaults\": {\"line\": {\"color\": \"#2a3f5f\"}}, \"ternary\": {\"aaxis\": {\"gridcolor\": \"white\", \"linecolor\": \"white\", \"ticks\": \"\"}, \"baxis\": {\"gridcolor\": \"white\", \"linecolor\": \"white\", \"ticks\": \"\"}, \"bgcolor\": \"#E5ECF6\", \"caxis\": {\"gridcolor\": \"white\", \"linecolor\": \"white\", \"ticks\": \"\"}}, \"title\": {\"x\": 0.05}, \"xaxis\": {\"automargin\": true, \"gridcolor\": \"white\", \"linecolor\": \"white\", \"ticks\": \"\", \"title\": {\"standoff\": 15}, \"zerolinecolor\": \"white\", \"zerolinewidth\": 2}, \"yaxis\": {\"automargin\": true, \"gridcolor\": \"white\", \"linecolor\": \"white\", \"ticks\": \"\", \"title\": {\"standoff\": 15}, \"zerolinecolor\": \"white\", \"zerolinewidth\": 2}}}, \"title\": {\"font\": {\"color\": \"#4D5663\"}}, \"xaxis\": {\"gridcolor\": \"#E1E5ED\", \"showgrid\": true, \"tickfont\": {\"color\": \"#4D5663\"}, \"title\": {\"font\": {\"color\": \"#4D5663\"}, \"text\": \"\"}, \"zerolinecolor\": \"#E1E5ED\"}, \"yaxis\": {\"gridcolor\": \"#E1E5ED\", \"showgrid\": true, \"tickfont\": {\"color\": \"#4D5663\"}, \"title\": {\"font\": {\"color\": \"#4D5663\"}, \"text\": \"\"}, \"zerolinecolor\": \"#E1E5ED\"}},                        {\"showLink\": true, \"linkText\": \"Export to plot.ly\", \"plotlyServerURL\": \"https://plot.ly\", \"responsive\": true}                    ).then(function(){\n",
       "                            \n",
       "var gd = document.getElementById('692a213b-c48c-4ace-8ecc-f6cd3d9259c4');\n",
       "var x = new MutationObserver(function (mutations, observer) {{\n",
       "        var display = window.getComputedStyle(gd).display;\n",
       "        if (!display || display === 'none') {{\n",
       "            console.log([gd, 'removed!']);\n",
       "            Plotly.purge(gd);\n",
       "            observer.disconnect();\n",
       "        }}\n",
       "}});\n",
       "\n",
       "// Listen for the removal of the full notebook cells\n",
       "var notebookContainer = gd.closest('#notebook-container');\n",
       "if (notebookContainer) {{\n",
       "    x.observe(notebookContainer, {childList: true});\n",
       "}}\n",
       "\n",
       "// Listen for the clearing of the current output cell\n",
       "var outputEl = gd.closest('.output');\n",
       "if (outputEl) {{\n",
       "    x.observe(outputEl, {childList: true});\n",
       "}}\n",
       "\n",
       "                        })                };                });            </script>        </div>"
      ]
     },
     "metadata": {},
     "output_type": "display_data"
    }
   ],
   "source": [
    "df2.iplot(kind='bar',x='Category',y='Values')"
   ]
  },
  {
   "cell_type": "code",
   "execution_count": 12,
   "metadata": {},
   "outputs": [
    {
     "data": {
      "application/vnd.plotly.v1+json": {
       "config": {
        "linkText": "Export to plot.ly",
        "plotlyServerURL": "https://plot.ly",
        "showLink": true
       },
       "data": [
        {
         "marker": {
          "color": "rgba(255, 153, 51, 0.6)",
          "line": {
           "color": "rgba(255, 153, 51, 1.0)",
           "width": 1
          }
         },
         "name": "None",
         "orientation": "v",
         "text": "",
         "type": "bar",
         "x": [
          "A",
          "B",
          "C",
          "D"
         ],
         "y": [
          100,
          100,
          100,
          100
         ]
        }
       ],
       "layout": {
        "legend": {
         "bgcolor": "#F5F6F9",
         "font": {
          "color": "#4D5663"
         }
        },
        "paper_bgcolor": "#F5F6F9",
        "plot_bgcolor": "#F5F6F9",
        "template": {
         "data": {
          "bar": [
           {
            "error_x": {
             "color": "#2a3f5f"
            },
            "error_y": {
             "color": "#2a3f5f"
            },
            "marker": {
             "line": {
              "color": "#E5ECF6",
              "width": 0.5
             }
            },
            "type": "bar"
           }
          ],
          "barpolar": [
           {
            "marker": {
             "line": {
              "color": "#E5ECF6",
              "width": 0.5
             }
            },
            "type": "barpolar"
           }
          ],
          "carpet": [
           {
            "aaxis": {
             "endlinecolor": "#2a3f5f",
             "gridcolor": "white",
             "linecolor": "white",
             "minorgridcolor": "white",
             "startlinecolor": "#2a3f5f"
            },
            "baxis": {
             "endlinecolor": "#2a3f5f",
             "gridcolor": "white",
             "linecolor": "white",
             "minorgridcolor": "white",
             "startlinecolor": "#2a3f5f"
            },
            "type": "carpet"
           }
          ],
          "choropleth": [
           {
            "colorbar": {
             "outlinewidth": 0,
             "ticks": ""
            },
            "type": "choropleth"
           }
          ],
          "contour": [
           {
            "colorbar": {
             "outlinewidth": 0,
             "ticks": ""
            },
            "colorscale": [
             [
              0,
              "#0d0887"
             ],
             [
              0.1111111111111111,
              "#46039f"
             ],
             [
              0.2222222222222222,
              "#7201a8"
             ],
             [
              0.3333333333333333,
              "#9c179e"
             ],
             [
              0.4444444444444444,
              "#bd3786"
             ],
             [
              0.5555555555555556,
              "#d8576b"
             ],
             [
              0.6666666666666666,
              "#ed7953"
             ],
             [
              0.7777777777777778,
              "#fb9f3a"
             ],
             [
              0.8888888888888888,
              "#fdca26"
             ],
             [
              1,
              "#f0f921"
             ]
            ],
            "type": "contour"
           }
          ],
          "contourcarpet": [
           {
            "colorbar": {
             "outlinewidth": 0,
             "ticks": ""
            },
            "type": "contourcarpet"
           }
          ],
          "heatmap": [
           {
            "colorbar": {
             "outlinewidth": 0,
             "ticks": ""
            },
            "colorscale": [
             [
              0,
              "#0d0887"
             ],
             [
              0.1111111111111111,
              "#46039f"
             ],
             [
              0.2222222222222222,
              "#7201a8"
             ],
             [
              0.3333333333333333,
              "#9c179e"
             ],
             [
              0.4444444444444444,
              "#bd3786"
             ],
             [
              0.5555555555555556,
              "#d8576b"
             ],
             [
              0.6666666666666666,
              "#ed7953"
             ],
             [
              0.7777777777777778,
              "#fb9f3a"
             ],
             [
              0.8888888888888888,
              "#fdca26"
             ],
             [
              1,
              "#f0f921"
             ]
            ],
            "type": "heatmap"
           }
          ],
          "heatmapgl": [
           {
            "colorbar": {
             "outlinewidth": 0,
             "ticks": ""
            },
            "colorscale": [
             [
              0,
              "#0d0887"
             ],
             [
              0.1111111111111111,
              "#46039f"
             ],
             [
              0.2222222222222222,
              "#7201a8"
             ],
             [
              0.3333333333333333,
              "#9c179e"
             ],
             [
              0.4444444444444444,
              "#bd3786"
             ],
             [
              0.5555555555555556,
              "#d8576b"
             ],
             [
              0.6666666666666666,
              "#ed7953"
             ],
             [
              0.7777777777777778,
              "#fb9f3a"
             ],
             [
              0.8888888888888888,
              "#fdca26"
             ],
             [
              1,
              "#f0f921"
             ]
            ],
            "type": "heatmapgl"
           }
          ],
          "histogram": [
           {
            "marker": {
             "colorbar": {
              "outlinewidth": 0,
              "ticks": ""
             }
            },
            "type": "histogram"
           }
          ],
          "histogram2d": [
           {
            "colorbar": {
             "outlinewidth": 0,
             "ticks": ""
            },
            "colorscale": [
             [
              0,
              "#0d0887"
             ],
             [
              0.1111111111111111,
              "#46039f"
             ],
             [
              0.2222222222222222,
              "#7201a8"
             ],
             [
              0.3333333333333333,
              "#9c179e"
             ],
             [
              0.4444444444444444,
              "#bd3786"
             ],
             [
              0.5555555555555556,
              "#d8576b"
             ],
             [
              0.6666666666666666,
              "#ed7953"
             ],
             [
              0.7777777777777778,
              "#fb9f3a"
             ],
             [
              0.8888888888888888,
              "#fdca26"
             ],
             [
              1,
              "#f0f921"
             ]
            ],
            "type": "histogram2d"
           }
          ],
          "histogram2dcontour": [
           {
            "colorbar": {
             "outlinewidth": 0,
             "ticks": ""
            },
            "colorscale": [
             [
              0,
              "#0d0887"
             ],
             [
              0.1111111111111111,
              "#46039f"
             ],
             [
              0.2222222222222222,
              "#7201a8"
             ],
             [
              0.3333333333333333,
              "#9c179e"
             ],
             [
              0.4444444444444444,
              "#bd3786"
             ],
             [
              0.5555555555555556,
              "#d8576b"
             ],
             [
              0.6666666666666666,
              "#ed7953"
             ],
             [
              0.7777777777777778,
              "#fb9f3a"
             ],
             [
              0.8888888888888888,
              "#fdca26"
             ],
             [
              1,
              "#f0f921"
             ]
            ],
            "type": "histogram2dcontour"
           }
          ],
          "mesh3d": [
           {
            "colorbar": {
             "outlinewidth": 0,
             "ticks": ""
            },
            "type": "mesh3d"
           }
          ],
          "parcoords": [
           {
            "line": {
             "colorbar": {
              "outlinewidth": 0,
              "ticks": ""
             }
            },
            "type": "parcoords"
           }
          ],
          "pie": [
           {
            "automargin": true,
            "type": "pie"
           }
          ],
          "scatter": [
           {
            "marker": {
             "colorbar": {
              "outlinewidth": 0,
              "ticks": ""
             }
            },
            "type": "scatter"
           }
          ],
          "scatter3d": [
           {
            "line": {
             "colorbar": {
              "outlinewidth": 0,
              "ticks": ""
             }
            },
            "marker": {
             "colorbar": {
              "outlinewidth": 0,
              "ticks": ""
             }
            },
            "type": "scatter3d"
           }
          ],
          "scattercarpet": [
           {
            "marker": {
             "colorbar": {
              "outlinewidth": 0,
              "ticks": ""
             }
            },
            "type": "scattercarpet"
           }
          ],
          "scattergeo": [
           {
            "marker": {
             "colorbar": {
              "outlinewidth": 0,
              "ticks": ""
             }
            },
            "type": "scattergeo"
           }
          ],
          "scattergl": [
           {
            "marker": {
             "colorbar": {
              "outlinewidth": 0,
              "ticks": ""
             }
            },
            "type": "scattergl"
           }
          ],
          "scattermapbox": [
           {
            "marker": {
             "colorbar": {
              "outlinewidth": 0,
              "ticks": ""
             }
            },
            "type": "scattermapbox"
           }
          ],
          "scatterpolar": [
           {
            "marker": {
             "colorbar": {
              "outlinewidth": 0,
              "ticks": ""
             }
            },
            "type": "scatterpolar"
           }
          ],
          "scatterpolargl": [
           {
            "marker": {
             "colorbar": {
              "outlinewidth": 0,
              "ticks": ""
             }
            },
            "type": "scatterpolargl"
           }
          ],
          "scatterternary": [
           {
            "marker": {
             "colorbar": {
              "outlinewidth": 0,
              "ticks": ""
             }
            },
            "type": "scatterternary"
           }
          ],
          "surface": [
           {
            "colorbar": {
             "outlinewidth": 0,
             "ticks": ""
            },
            "colorscale": [
             [
              0,
              "#0d0887"
             ],
             [
              0.1111111111111111,
              "#46039f"
             ],
             [
              0.2222222222222222,
              "#7201a8"
             ],
             [
              0.3333333333333333,
              "#9c179e"
             ],
             [
              0.4444444444444444,
              "#bd3786"
             ],
             [
              0.5555555555555556,
              "#d8576b"
             ],
             [
              0.6666666666666666,
              "#ed7953"
             ],
             [
              0.7777777777777778,
              "#fb9f3a"
             ],
             [
              0.8888888888888888,
              "#fdca26"
             ],
             [
              1,
              "#f0f921"
             ]
            ],
            "type": "surface"
           }
          ],
          "table": [
           {
            "cells": {
             "fill": {
              "color": "#EBF0F8"
             },
             "line": {
              "color": "white"
             }
            },
            "header": {
             "fill": {
              "color": "#C8D4E3"
             },
             "line": {
              "color": "white"
             }
            },
            "type": "table"
           }
          ]
         },
         "layout": {
          "annotationdefaults": {
           "arrowcolor": "#2a3f5f",
           "arrowhead": 0,
           "arrowwidth": 1
          },
          "autotypenumbers": "strict",
          "coloraxis": {
           "colorbar": {
            "outlinewidth": 0,
            "ticks": ""
           }
          },
          "colorscale": {
           "diverging": [
            [
             0,
             "#8e0152"
            ],
            [
             0.1,
             "#c51b7d"
            ],
            [
             0.2,
             "#de77ae"
            ],
            [
             0.3,
             "#f1b6da"
            ],
            [
             0.4,
             "#fde0ef"
            ],
            [
             0.5,
             "#f7f7f7"
            ],
            [
             0.6,
             "#e6f5d0"
            ],
            [
             0.7,
             "#b8e186"
            ],
            [
             0.8,
             "#7fbc41"
            ],
            [
             0.9,
             "#4d9221"
            ],
            [
             1,
             "#276419"
            ]
           ],
           "sequential": [
            [
             0,
             "#0d0887"
            ],
            [
             0.1111111111111111,
             "#46039f"
            ],
            [
             0.2222222222222222,
             "#7201a8"
            ],
            [
             0.3333333333333333,
             "#9c179e"
            ],
            [
             0.4444444444444444,
             "#bd3786"
            ],
            [
             0.5555555555555556,
             "#d8576b"
            ],
            [
             0.6666666666666666,
             "#ed7953"
            ],
            [
             0.7777777777777778,
             "#fb9f3a"
            ],
            [
             0.8888888888888888,
             "#fdca26"
            ],
            [
             1,
             "#f0f921"
            ]
           ],
           "sequentialminus": [
            [
             0,
             "#0d0887"
            ],
            [
             0.1111111111111111,
             "#46039f"
            ],
            [
             0.2222222222222222,
             "#7201a8"
            ],
            [
             0.3333333333333333,
             "#9c179e"
            ],
            [
             0.4444444444444444,
             "#bd3786"
            ],
            [
             0.5555555555555556,
             "#d8576b"
            ],
            [
             0.6666666666666666,
             "#ed7953"
            ],
            [
             0.7777777777777778,
             "#fb9f3a"
            ],
            [
             0.8888888888888888,
             "#fdca26"
            ],
            [
             1,
             "#f0f921"
            ]
           ]
          },
          "colorway": [
           "#636efa",
           "#EF553B",
           "#00cc96",
           "#ab63fa",
           "#FFA15A",
           "#19d3f3",
           "#FF6692",
           "#B6E880",
           "#FF97FF",
           "#FECB52"
          ],
          "font": {
           "color": "#2a3f5f"
          },
          "geo": {
           "bgcolor": "white",
           "lakecolor": "white",
           "landcolor": "#E5ECF6",
           "showlakes": true,
           "showland": true,
           "subunitcolor": "white"
          },
          "hoverlabel": {
           "align": "left"
          },
          "hovermode": "closest",
          "mapbox": {
           "style": "light"
          },
          "paper_bgcolor": "white",
          "plot_bgcolor": "#E5ECF6",
          "polar": {
           "angularaxis": {
            "gridcolor": "white",
            "linecolor": "white",
            "ticks": ""
           },
           "bgcolor": "#E5ECF6",
           "radialaxis": {
            "gridcolor": "white",
            "linecolor": "white",
            "ticks": ""
           }
          },
          "scene": {
           "xaxis": {
            "backgroundcolor": "#E5ECF6",
            "gridcolor": "white",
            "gridwidth": 2,
            "linecolor": "white",
            "showbackground": true,
            "ticks": "",
            "zerolinecolor": "white"
           },
           "yaxis": {
            "backgroundcolor": "#E5ECF6",
            "gridcolor": "white",
            "gridwidth": 2,
            "linecolor": "white",
            "showbackground": true,
            "ticks": "",
            "zerolinecolor": "white"
           },
           "zaxis": {
            "backgroundcolor": "#E5ECF6",
            "gridcolor": "white",
            "gridwidth": 2,
            "linecolor": "white",
            "showbackground": true,
            "ticks": "",
            "zerolinecolor": "white"
           }
          },
          "shapedefaults": {
           "line": {
            "color": "#2a3f5f"
           }
          },
          "ternary": {
           "aaxis": {
            "gridcolor": "white",
            "linecolor": "white",
            "ticks": ""
           },
           "baxis": {
            "gridcolor": "white",
            "linecolor": "white",
            "ticks": ""
           },
           "bgcolor": "#E5ECF6",
           "caxis": {
            "gridcolor": "white",
            "linecolor": "white",
            "ticks": ""
           }
          },
          "title": {
           "x": 0.05
          },
          "xaxis": {
           "automargin": true,
           "gridcolor": "white",
           "linecolor": "white",
           "ticks": "",
           "title": {
            "standoff": 15
           },
           "zerolinecolor": "white",
           "zerolinewidth": 2
          },
          "yaxis": {
           "automargin": true,
           "gridcolor": "white",
           "linecolor": "white",
           "ticks": "",
           "title": {
            "standoff": 15
           },
           "zerolinecolor": "white",
           "zerolinewidth": 2
          }
         }
        },
        "title": {
         "font": {
          "color": "#4D5663"
         }
        },
        "xaxis": {
         "gridcolor": "#E1E5ED",
         "showgrid": true,
         "tickfont": {
          "color": "#4D5663"
         },
         "title": {
          "font": {
           "color": "#4D5663"
          },
          "text": ""
         },
         "zerolinecolor": "#E1E5ED"
        },
        "yaxis": {
         "gridcolor": "#E1E5ED",
         "showgrid": true,
         "tickfont": {
          "color": "#4D5663"
         },
         "title": {
          "font": {
           "color": "#4D5663"
          },
          "text": ""
         },
         "zerolinecolor": "#E1E5ED"
        }
       }
      },
      "text/html": [
       "<div>                            <div id=\"8adbd066-dea5-46f4-ad47-06fee38f94e8\" class=\"plotly-graph-div\" style=\"height:525px; width:100%;\"></div>            <script type=\"text/javascript\">                require([\"plotly\"], function(Plotly) {                    window.PLOTLYENV=window.PLOTLYENV || {};\n",
       "                    window.PLOTLYENV.BASE_URL='https://plot.ly';                                    if (document.getElementById(\"8adbd066-dea5-46f4-ad47-06fee38f94e8\")) {                    Plotly.newPlot(                        \"8adbd066-dea5-46f4-ad47-06fee38f94e8\",                        [{\"marker\": {\"color\": \"rgba(255, 153, 51, 0.6)\", \"line\": {\"color\": \"rgba(255, 153, 51, 1.0)\", \"width\": 1}}, \"name\": \"None\", \"orientation\": \"v\", \"text\": \"\", \"type\": \"bar\", \"x\": [\"A\", \"B\", \"C\", \"D\"], \"y\": [100, 100, 100, 100]}],                        {\"legend\": {\"bgcolor\": \"#F5F6F9\", \"font\": {\"color\": \"#4D5663\"}}, \"paper_bgcolor\": \"#F5F6F9\", \"plot_bgcolor\": \"#F5F6F9\", \"template\": {\"data\": {\"bar\": [{\"error_x\": {\"color\": \"#2a3f5f\"}, \"error_y\": {\"color\": \"#2a3f5f\"}, \"marker\": {\"line\": {\"color\": \"#E5ECF6\", \"width\": 0.5}}, \"type\": \"bar\"}], \"barpolar\": [{\"marker\": {\"line\": {\"color\": \"#E5ECF6\", \"width\": 0.5}}, \"type\": \"barpolar\"}], \"carpet\": [{\"aaxis\": {\"endlinecolor\": \"#2a3f5f\", \"gridcolor\": \"white\", \"linecolor\": \"white\", \"minorgridcolor\": \"white\", \"startlinecolor\": \"#2a3f5f\"}, \"baxis\": {\"endlinecolor\": \"#2a3f5f\", \"gridcolor\": \"white\", \"linecolor\": \"white\", \"minorgridcolor\": \"white\", \"startlinecolor\": \"#2a3f5f\"}, \"type\": \"carpet\"}], \"choropleth\": [{\"colorbar\": {\"outlinewidth\": 0, \"ticks\": \"\"}, \"type\": \"choropleth\"}], \"contour\": [{\"colorbar\": {\"outlinewidth\": 0, \"ticks\": \"\"}, \"colorscale\": [[0.0, \"#0d0887\"], [0.1111111111111111, \"#46039f\"], [0.2222222222222222, \"#7201a8\"], [0.3333333333333333, \"#9c179e\"], [0.4444444444444444, \"#bd3786\"], [0.5555555555555556, \"#d8576b\"], [0.6666666666666666, \"#ed7953\"], [0.7777777777777778, \"#fb9f3a\"], [0.8888888888888888, \"#fdca26\"], [1.0, \"#f0f921\"]], \"type\": \"contour\"}], \"contourcarpet\": [{\"colorbar\": {\"outlinewidth\": 0, \"ticks\": \"\"}, \"type\": \"contourcarpet\"}], \"heatmap\": [{\"colorbar\": {\"outlinewidth\": 0, \"ticks\": \"\"}, \"colorscale\": [[0.0, \"#0d0887\"], [0.1111111111111111, \"#46039f\"], [0.2222222222222222, \"#7201a8\"], [0.3333333333333333, \"#9c179e\"], [0.4444444444444444, \"#bd3786\"], [0.5555555555555556, \"#d8576b\"], [0.6666666666666666, \"#ed7953\"], [0.7777777777777778, \"#fb9f3a\"], [0.8888888888888888, \"#fdca26\"], [1.0, \"#f0f921\"]], \"type\": \"heatmap\"}], \"heatmapgl\": [{\"colorbar\": {\"outlinewidth\": 0, \"ticks\": \"\"}, \"colorscale\": [[0.0, \"#0d0887\"], [0.1111111111111111, \"#46039f\"], [0.2222222222222222, \"#7201a8\"], [0.3333333333333333, \"#9c179e\"], [0.4444444444444444, \"#bd3786\"], [0.5555555555555556, \"#d8576b\"], [0.6666666666666666, \"#ed7953\"], [0.7777777777777778, \"#fb9f3a\"], [0.8888888888888888, \"#fdca26\"], [1.0, \"#f0f921\"]], \"type\": \"heatmapgl\"}], \"histogram\": [{\"marker\": {\"colorbar\": {\"outlinewidth\": 0, \"ticks\": \"\"}}, \"type\": \"histogram\"}], \"histogram2d\": [{\"colorbar\": {\"outlinewidth\": 0, \"ticks\": \"\"}, \"colorscale\": [[0.0, \"#0d0887\"], [0.1111111111111111, \"#46039f\"], [0.2222222222222222, \"#7201a8\"], [0.3333333333333333, \"#9c179e\"], [0.4444444444444444, \"#bd3786\"], [0.5555555555555556, \"#d8576b\"], [0.6666666666666666, \"#ed7953\"], [0.7777777777777778, \"#fb9f3a\"], [0.8888888888888888, \"#fdca26\"], [1.0, \"#f0f921\"]], \"type\": \"histogram2d\"}], \"histogram2dcontour\": [{\"colorbar\": {\"outlinewidth\": 0, \"ticks\": \"\"}, \"colorscale\": [[0.0, \"#0d0887\"], [0.1111111111111111, \"#46039f\"], [0.2222222222222222, \"#7201a8\"], [0.3333333333333333, \"#9c179e\"], [0.4444444444444444, \"#bd3786\"], [0.5555555555555556, \"#d8576b\"], [0.6666666666666666, \"#ed7953\"], [0.7777777777777778, \"#fb9f3a\"], [0.8888888888888888, \"#fdca26\"], [1.0, \"#f0f921\"]], \"type\": \"histogram2dcontour\"}], \"mesh3d\": [{\"colorbar\": {\"outlinewidth\": 0, \"ticks\": \"\"}, \"type\": \"mesh3d\"}], \"parcoords\": [{\"line\": {\"colorbar\": {\"outlinewidth\": 0, \"ticks\": \"\"}}, \"type\": \"parcoords\"}], \"pie\": [{\"automargin\": true, \"type\": \"pie\"}], \"scatter\": [{\"marker\": {\"colorbar\": {\"outlinewidth\": 0, \"ticks\": \"\"}}, \"type\": \"scatter\"}], \"scatter3d\": [{\"line\": {\"colorbar\": {\"outlinewidth\": 0, \"ticks\": \"\"}}, \"marker\": {\"colorbar\": {\"outlinewidth\": 0, \"ticks\": \"\"}}, \"type\": \"scatter3d\"}], \"scattercarpet\": [{\"marker\": {\"colorbar\": {\"outlinewidth\": 0, \"ticks\": \"\"}}, \"type\": \"scattercarpet\"}], \"scattergeo\": [{\"marker\": {\"colorbar\": {\"outlinewidth\": 0, \"ticks\": \"\"}}, \"type\": \"scattergeo\"}], \"scattergl\": [{\"marker\": {\"colorbar\": {\"outlinewidth\": 0, \"ticks\": \"\"}}, \"type\": \"scattergl\"}], \"scattermapbox\": [{\"marker\": {\"colorbar\": {\"outlinewidth\": 0, \"ticks\": \"\"}}, \"type\": \"scattermapbox\"}], \"scatterpolar\": [{\"marker\": {\"colorbar\": {\"outlinewidth\": 0, \"ticks\": \"\"}}, \"type\": \"scatterpolar\"}], \"scatterpolargl\": [{\"marker\": {\"colorbar\": {\"outlinewidth\": 0, \"ticks\": \"\"}}, \"type\": \"scatterpolargl\"}], \"scatterternary\": [{\"marker\": {\"colorbar\": {\"outlinewidth\": 0, \"ticks\": \"\"}}, \"type\": \"scatterternary\"}], \"surface\": [{\"colorbar\": {\"outlinewidth\": 0, \"ticks\": \"\"}, \"colorscale\": [[0.0, \"#0d0887\"], [0.1111111111111111, \"#46039f\"], [0.2222222222222222, \"#7201a8\"], [0.3333333333333333, \"#9c179e\"], [0.4444444444444444, \"#bd3786\"], [0.5555555555555556, \"#d8576b\"], [0.6666666666666666, \"#ed7953\"], [0.7777777777777778, \"#fb9f3a\"], [0.8888888888888888, \"#fdca26\"], [1.0, \"#f0f921\"]], \"type\": \"surface\"}], \"table\": [{\"cells\": {\"fill\": {\"color\": \"#EBF0F8\"}, \"line\": {\"color\": \"white\"}}, \"header\": {\"fill\": {\"color\": \"#C8D4E3\"}, \"line\": {\"color\": \"white\"}}, \"type\": \"table\"}]}, \"layout\": {\"annotationdefaults\": {\"arrowcolor\": \"#2a3f5f\", \"arrowhead\": 0, \"arrowwidth\": 1}, \"autotypenumbers\": \"strict\", \"coloraxis\": {\"colorbar\": {\"outlinewidth\": 0, \"ticks\": \"\"}}, \"colorscale\": {\"diverging\": [[0, \"#8e0152\"], [0.1, \"#c51b7d\"], [0.2, \"#de77ae\"], [0.3, \"#f1b6da\"], [0.4, \"#fde0ef\"], [0.5, \"#f7f7f7\"], [0.6, \"#e6f5d0\"], [0.7, \"#b8e186\"], [0.8, \"#7fbc41\"], [0.9, \"#4d9221\"], [1, \"#276419\"]], \"sequential\": [[0.0, \"#0d0887\"], [0.1111111111111111, \"#46039f\"], [0.2222222222222222, \"#7201a8\"], [0.3333333333333333, \"#9c179e\"], [0.4444444444444444, \"#bd3786\"], [0.5555555555555556, \"#d8576b\"], [0.6666666666666666, \"#ed7953\"], [0.7777777777777778, \"#fb9f3a\"], [0.8888888888888888, \"#fdca26\"], [1.0, \"#f0f921\"]], \"sequentialminus\": [[0.0, \"#0d0887\"], [0.1111111111111111, \"#46039f\"], [0.2222222222222222, \"#7201a8\"], [0.3333333333333333, \"#9c179e\"], [0.4444444444444444, \"#bd3786\"], [0.5555555555555556, \"#d8576b\"], [0.6666666666666666, \"#ed7953\"], [0.7777777777777778, \"#fb9f3a\"], [0.8888888888888888, \"#fdca26\"], [1.0, \"#f0f921\"]]}, \"colorway\": [\"#636efa\", \"#EF553B\", \"#00cc96\", \"#ab63fa\", \"#FFA15A\", \"#19d3f3\", \"#FF6692\", \"#B6E880\", \"#FF97FF\", \"#FECB52\"], \"font\": {\"color\": \"#2a3f5f\"}, \"geo\": {\"bgcolor\": \"white\", \"lakecolor\": \"white\", \"landcolor\": \"#E5ECF6\", \"showlakes\": true, \"showland\": true, \"subunitcolor\": \"white\"}, \"hoverlabel\": {\"align\": \"left\"}, \"hovermode\": \"closest\", \"mapbox\": {\"style\": \"light\"}, \"paper_bgcolor\": \"white\", \"plot_bgcolor\": \"#E5ECF6\", \"polar\": {\"angularaxis\": {\"gridcolor\": \"white\", \"linecolor\": \"white\", \"ticks\": \"\"}, \"bgcolor\": \"#E5ECF6\", \"radialaxis\": {\"gridcolor\": \"white\", \"linecolor\": \"white\", \"ticks\": \"\"}}, \"scene\": {\"xaxis\": {\"backgroundcolor\": \"#E5ECF6\", \"gridcolor\": \"white\", \"gridwidth\": 2, \"linecolor\": \"white\", \"showbackground\": true, \"ticks\": \"\", \"zerolinecolor\": \"white\"}, \"yaxis\": {\"backgroundcolor\": \"#E5ECF6\", \"gridcolor\": \"white\", \"gridwidth\": 2, \"linecolor\": \"white\", \"showbackground\": true, \"ticks\": \"\", \"zerolinecolor\": \"white\"}, \"zaxis\": {\"backgroundcolor\": \"#E5ECF6\", \"gridcolor\": \"white\", \"gridwidth\": 2, \"linecolor\": \"white\", \"showbackground\": true, \"ticks\": \"\", \"zerolinecolor\": \"white\"}}, \"shapedefaults\": {\"line\": {\"color\": \"#2a3f5f\"}}, \"ternary\": {\"aaxis\": {\"gridcolor\": \"white\", \"linecolor\": \"white\", \"ticks\": \"\"}, \"baxis\": {\"gridcolor\": \"white\", \"linecolor\": \"white\", \"ticks\": \"\"}, \"bgcolor\": \"#E5ECF6\", \"caxis\": {\"gridcolor\": \"white\", \"linecolor\": \"white\", \"ticks\": \"\"}}, \"title\": {\"x\": 0.05}, \"xaxis\": {\"automargin\": true, \"gridcolor\": \"white\", \"linecolor\": \"white\", \"ticks\": \"\", \"title\": {\"standoff\": 15}, \"zerolinecolor\": \"white\", \"zerolinewidth\": 2}, \"yaxis\": {\"automargin\": true, \"gridcolor\": \"white\", \"linecolor\": \"white\", \"ticks\": \"\", \"title\": {\"standoff\": 15}, \"zerolinecolor\": \"white\", \"zerolinewidth\": 2}}}, \"title\": {\"font\": {\"color\": \"#4D5663\"}}, \"xaxis\": {\"gridcolor\": \"#E1E5ED\", \"showgrid\": true, \"tickfont\": {\"color\": \"#4D5663\"}, \"title\": {\"font\": {\"color\": \"#4D5663\"}, \"text\": \"\"}, \"zerolinecolor\": \"#E1E5ED\"}, \"yaxis\": {\"gridcolor\": \"#E1E5ED\", \"showgrid\": true, \"tickfont\": {\"color\": \"#4D5663\"}, \"title\": {\"font\": {\"color\": \"#4D5663\"}, \"text\": \"\"}, \"zerolinecolor\": \"#E1E5ED\"}},                        {\"showLink\": true, \"linkText\": \"Export to plot.ly\", \"plotlyServerURL\": \"https://plot.ly\", \"responsive\": true}                    ).then(function(){\n",
       "                            \n",
       "var gd = document.getElementById('8adbd066-dea5-46f4-ad47-06fee38f94e8');\n",
       "var x = new MutationObserver(function (mutations, observer) {{\n",
       "        var display = window.getComputedStyle(gd).display;\n",
       "        if (!display || display === 'none') {{\n",
       "            console.log([gd, 'removed!']);\n",
       "            Plotly.purge(gd);\n",
       "            observer.disconnect();\n",
       "        }}\n",
       "}});\n",
       "\n",
       "// Listen for the removal of the full notebook cells\n",
       "var notebookContainer = gd.closest('#notebook-container');\n",
       "if (notebookContainer) {{\n",
       "    x.observe(notebookContainer, {childList: true});\n",
       "}}\n",
       "\n",
       "// Listen for the clearing of the current output cell\n",
       "var outputEl = gd.closest('.output');\n",
       "if (outputEl) {{\n",
       "    x.observe(outputEl, {childList: true});\n",
       "}}\n",
       "\n",
       "                        })                };                });            </script>        </div>"
      ]
     },
     "metadata": {},
     "output_type": "display_data"
    }
   ],
   "source": [
    "df.count().iplot(kind='bar')"
   ]
  },
  {
   "cell_type": "markdown",
   "metadata": {},
   "source": [
    "## Boxplots"
   ]
  },
  {
   "cell_type": "code",
   "execution_count": 13,
   "metadata": {},
   "outputs": [
    {
     "data": {
      "application/vnd.plotly.v1+json": {
       "config": {
        "linkText": "Export to plot.ly",
        "plotlyServerURL": "https://plot.ly",
        "showLink": true
       },
       "data": [
        {
         "boxpoints": false,
         "line": {
          "width": 1.3
         },
         "marker": {
          "color": "rgba(255, 153, 51, 1.0)"
         },
         "name": "A",
         "orientation": "v",
         "type": "box",
         "y": [
          0.41760155225455636,
          0.5261400468723789,
          0.5683423096739474,
          -0.8222461098210078,
          0.5445007517236217,
          0.5909299879074099,
          2.039579362940726,
          0.6262088723800441,
          0.19694594037636828,
          -3.0228983065582167,
          0.20013434662272542,
          0.7897393701529026,
          -1.2860106647372174,
          -1.209894031210368,
          1.4991812102081934,
          0.35295100673971,
          1.6068652128980419,
          0.44659510774809213,
          -0.6767341021203152,
          0.867598499054683,
          1.449819695873904,
          1.3191900045864868,
          -0.024513457915711818,
          0.18460391533600704,
          -0.23177229636727062,
          1.1887447336595125,
          -1.5984486384334315,
          -0.4791939980881674,
          0.45443684003122853,
          1.1858647312666772,
          0.6300812899870222,
          -0.9076010322718687,
          -1.0366066556848483,
          -0.6364365731046352,
          0.797019857738389,
          0.5601019577303988,
          -1.4652829651387353,
          1.3517284564656338,
          0.19750781481677754,
          -1.128982113739443,
          -0.01754605735598141,
          -0.044891495186233005,
          -0.8010310910031381,
          -0.30335402548602247,
          -0.3418257891963359,
          -1.1904895976608356,
          0.4408253515736436,
          1.6929673822638678,
          -0.3508487647510596,
          0.6929015015943848,
          0.6704346008145055,
          0.5019071084632046,
          -1.9676005808992338,
          0.2523635759175683,
          -0.13769847181233172,
          -0.5937099301262257,
          -0.4946241603235603,
          1.438623954125982,
          -0.3908975591294168,
          1.5713106951819324,
          0.8552659204102937,
          0.24516086205370485,
          0.2888971604931386,
          -0.14709909178975228,
          -0.57481584660485,
          0.6549006606048943,
          0.17296055568917387,
          -1.1992032201677807,
          -0.7056304144096323,
          -2.2219667883329373,
          -0.24281236415007146,
          -1.530315772894537,
          0.1423184582985676,
          -0.24145116574300846,
          -0.30577559894924256,
          -1.9700879316648785,
          1.552930248971835,
          -0.6550718586352199,
          1.62122878034275,
          1.167262884154505,
          -0.04828735125770609,
          1.446278149666796,
          -0.4026852504538263,
          2.2068846765818995,
          1.2032324446589693,
          1.2451406579941515,
          0.5746429329620883,
          0.025993186182502948,
          1.646829572457141,
          -1.2970898328462357,
          0.8804446701276977,
          -0.6672298832100317,
          -0.2551538650516365,
          -0.20516968130389845,
          -0.1893699347371977,
          1.2822922950580091,
          -0.259250383046811,
          1.0005601672190672,
          -1.1550813022509543,
          -1.5016589825132562
         ]
        },
        {
         "boxpoints": false,
         "line": {
          "width": 1.3
         },
         "marker": {
          "color": "rgba(55, 128, 191, 1.0)"
         },
         "name": "B",
         "orientation": "v",
         "type": "box",
         "y": [
          0.45531183603699393,
          0.5980709095986467,
          -0.34994300438479303,
          0.682610763724963,
          -1.4542337018715585,
          -0.3769121673601374,
          -0.6387922806675909,
          -0.7260129686538656,
          1.5278964844049967,
          -0.48756957792086913,
          0.05434385648508415,
          0.7506522319974177,
          -1.9413341849808416,
          -0.5730009940047913,
          -1.1003505963827607,
          1.0684780089870864,
          -0.8653245918742982,
          -1.1659141525288483,
          1.4748659606190033,
          1.1821959921800371,
          -0.7461798246499382,
          0.48999175008102147,
          -0.673992626184721,
          0.24893133866831796,
          0.6464588824587291,
          -0.1461097428226522,
          1.4026878825912379,
          -0.4985833083140884,
          -0.14469994922942367,
          -2.089059080119697,
          0.2579102415048242,
          0.1233431191998344,
          -0.5126377378670051,
          0.1845391531012246,
          0.26227917881843976,
          -2.517400123945921,
          -0.7664875910204841,
          1.2515981143552763,
          0.77024253182108,
          0.2663650999864578,
          -0.31410429215510044,
          -0.7595707679642624,
          -0.30063668798857396,
          -1.3659417049110871,
          -0.7385023938161782,
          -0.8783868473978256,
          -1.386658644809201,
          -0.425338368256794,
          -0.6707201032633747,
          0.3639683078524173,
          -0.6252515176436683,
          -0.7479873442020913,
          0.23379014573745413,
          0.19676520830860575,
          0.78420191379329,
          0.4667723126550738,
          -0.31299224975101747,
          1.4071812363229708,
          -0.9882035714894439,
          1.059675760547426,
          -0.661011691916808,
          0.5648241544355863,
          0.15498534009217793,
          -0.2969239333093207,
          -0.8579346573227228,
          -0.2983936903030944,
          -0.8188836855107948,
          -0.05905956696405363,
          1.2634824753451157,
          -0.24211420077731516,
          -0.4543600665000616,
          0.00020674132613351752,
          -0.983661158660926,
          -0.7938089830406612,
          0.9133767862108992,
          -0.40882011720110095,
          0.6296552104036756,
          0.067578322434332,
          0.49205614258355074,
          -0.6708775195031813,
          -2.3472801537369756,
          0.3347200513927004,
          0.27897836749072086,
          0.7426050366716708,
          1.0964144703582637,
          0.6100031054218946,
          -0.8642234541537205,
          0.6701889377888379,
          -0.8522639978236726,
          1.2811708836726825,
          -0.709792986765138,
          -0.9479604590556494,
          1.450475432415021,
          -0.6263162004965983,
          -0.25591862078357036,
          0.1794046087657056,
          -0.08294676921470963,
          -0.19139893329730934,
          0.589992480029799,
          -0.5097005552190711
         ]
        },
        {
         "boxpoints": false,
         "line": {
          "width": 1.3
         },
         "marker": {
          "color": "rgba(50, 171, 96, 1.0)"
         },
         "name": "C",
         "orientation": "v",
         "type": "box",
         "y": [
          0.3567412540471956,
          -0.277621504160643,
          -1.0039560507328307,
          0.4257875394596556,
          0.8485262765176328,
          0.027817741081305154,
          -1.7800691311508625,
          -1.8930610505968957,
          -0.06819106082740113,
          0.43366565834833737,
          1.0861225268145978,
          -0.5539736078617259,
          -0.08722181086773953,
          -0.039346148424286354,
          0.02426022263642747,
          -0.3239798433301274,
          -0.5475703879989886,
          0.10581527280291539,
          1.4692521950210637,
          -1.0685563032083263,
          -0.6073617902751547,
          0.41001464741051835,
          1.2845515232914555,
          0.3437694013387482,
          2.0241296518939427,
          0.716348298850311,
          0.1500977859365151,
          -1.479572162573671,
          0.12161963392533788,
          -0.29468756900021,
          -0.47507501852182565,
          -0.17952261305483727,
          -0.1401793967555207,
          -0.19358067173563642,
          -0.6135315251047768,
          0.5609601860154348,
          0.3644233052137257,
          0.5185641404240686,
          1.1638762577410178,
          -0.6382911894940564,
          1.0083918802169105,
          1.0636726060351618,
          1.2589916440795696,
          -0.5567782430971342,
          1.503910486047363,
          -0.1039842744244673,
          -0.6532649887744778,
          -0.7953422244590403,
          -0.02554402453545743,
          1.5193231117102857,
          -0.6062116799584988,
          -0.4148403299408071,
          -0.12557841868576408,
          -0.14423630327538,
          -1.3167152355180747,
          0.5251488066072629,
          0.7842350662560305,
          0.9880066036413466,
          0.2207036124958554,
          0.19373994552679588,
          -0.8480826738209563,
          -1.0290592176586044,
          0.7830598545164305,
          -1.5052245769808832,
          0.3278263641898475,
          0.13947034109223538,
          -0.002795163953398742,
          -0.014160736529868299,
          1.4427765071149234,
          -0.7621509714232797,
          0.7065671126852853,
          0.7945017251732709,
          -0.7297836742942091,
          2.4131451498614176,
          2.2445299938224976,
          0.14412247363103614,
          1.4339792912032998,
          0.7093706081785429,
          1.2343676777915684,
          0.660670851456429,
          0.7349524389088409,
          1.2765689692487583,
          -0.10448287256714851,
          0.6053610822144108,
          -0.04122164143347805,
          -0.7648034974534945,
          -0.789191795836851,
          -0.936563079684066,
          0.5154742497944342,
          -0.9031963361211861,
          0.14144805967255422,
          -1.4028188883733714,
          -0.25976107214927635,
          -1.0310683377887329,
          -1.3699899830889526,
          -1.676308545130461,
          0.40260360696246933,
          -0.6364028036937236,
          -0.5964837090022717,
          0.729176826983682
         ]
        },
        {
         "boxpoints": false,
         "line": {
          "width": 1.3
         },
         "marker": {
          "color": "rgba(128, 0, 128, 1.0)"
         },
         "name": "D",
         "orientation": "v",
         "type": "box",
         "y": [
          -1.34202166775557,
          0.24041236218769918,
          -1.0895993906002497,
          -1.4477730505340438,
          0.3265560291598136,
          -1.0627183263089948,
          2.2748119539369878,
          0.14002478373288554,
          -0.591482610766506,
          0.3672475929415598,
          -0.6523607787086786,
          0.04620958491721732,
          -0.5292075375810491,
          -0.1426341013200712,
          -0.992193609915696,
          -1.4508580201592014,
          0.8460637452465019,
          0.9561772764999883,
          -0.07484683674390989,
          0.303618913225969,
          1.5159308005788739,
          0.3884519230077761,
          1.205014344324589,
          0.39110073171143445,
          -1.4412416258689398,
          -0.5063324518534471,
          -0.5231572171845528,
          0.44703995761157306,
          -1.2283044186145742,
          0.20841355207505802,
          -0.3537097899246747,
          0.8404505092648065,
          -0.3295942502982704,
          0.5764188772427017,
          -0.6042277808645765,
          0.3470231871858434,
          1.1559274895045106,
          0.2798027226974251,
          -1.897226835172203,
          2.0984705425501513,
          1.248088207208783,
          -0.0026771784714443086,
          -0.3507749455528286,
          1.136933776325363,
          0.4747888094602326,
          0.5173850191199333,
          -0.398801075208429,
          -0.308605533844656,
          -2.2743739867380355,
          -0.30863557341001424,
          2.0088421343289387,
          -0.43891328004556274,
          -0.21348335628559187,
          0.10380703823181336,
          0.8220260708349477,
          0.4835166938101988,
          0.24586694233775314,
          -0.9296229063557128,
          -0.30592330589032324,
          -0.33521000892205965,
          0.016749593628197054,
          -0.13562841853330956,
          0.5249595724520443,
          0.5498983890001178,
          -0.2634244246000023,
          -0.9490978005532776,
          2.0126370942676317,
          0.1824088629928282,
          2.1656156815201983,
          1.5772870832511796,
          0.9114248100780128,
          -1.1443884388024306,
          0.43472719327085246,
          -0.3412961400193563,
          1.0670230308075241,
          -1.7315149468895397,
          -0.764445398381599,
          1.6989173660069625,
          1.8839510915177033,
          -0.5305355725011855,
          1.8213571156061392,
          0.3428641089022315,
          0.14654499835974855,
          0.02915989562030293,
          0.1333763354747478,
          0.6095982932668517,
          0.2604878686434509,
          1.3342361352729508,
          -0.11152614460930015,
          0.278282793389956,
          -1.59248851841307,
          -0.13123537115579278,
          -0.5421071636298173,
          1.4446683123494939,
          0.4916958334915132,
          -1.6940815209703621,
          0.016659471213699904,
          -0.10534647508326686,
          -0.2342201332176408,
          1.4419339622136704
         ]
        }
       ],
       "layout": {
        "legend": {
         "bgcolor": "#F5F6F9",
         "font": {
          "color": "#4D5663"
         }
        },
        "paper_bgcolor": "#F5F6F9",
        "plot_bgcolor": "#F5F6F9",
        "template": {
         "data": {
          "bar": [
           {
            "error_x": {
             "color": "#2a3f5f"
            },
            "error_y": {
             "color": "#2a3f5f"
            },
            "marker": {
             "line": {
              "color": "#E5ECF6",
              "width": 0.5
             }
            },
            "type": "bar"
           }
          ],
          "barpolar": [
           {
            "marker": {
             "line": {
              "color": "#E5ECF6",
              "width": 0.5
             }
            },
            "type": "barpolar"
           }
          ],
          "carpet": [
           {
            "aaxis": {
             "endlinecolor": "#2a3f5f",
             "gridcolor": "white",
             "linecolor": "white",
             "minorgridcolor": "white",
             "startlinecolor": "#2a3f5f"
            },
            "baxis": {
             "endlinecolor": "#2a3f5f",
             "gridcolor": "white",
             "linecolor": "white",
             "minorgridcolor": "white",
             "startlinecolor": "#2a3f5f"
            },
            "type": "carpet"
           }
          ],
          "choropleth": [
           {
            "colorbar": {
             "outlinewidth": 0,
             "ticks": ""
            },
            "type": "choropleth"
           }
          ],
          "contour": [
           {
            "colorbar": {
             "outlinewidth": 0,
             "ticks": ""
            },
            "colorscale": [
             [
              0,
              "#0d0887"
             ],
             [
              0.1111111111111111,
              "#46039f"
             ],
             [
              0.2222222222222222,
              "#7201a8"
             ],
             [
              0.3333333333333333,
              "#9c179e"
             ],
             [
              0.4444444444444444,
              "#bd3786"
             ],
             [
              0.5555555555555556,
              "#d8576b"
             ],
             [
              0.6666666666666666,
              "#ed7953"
             ],
             [
              0.7777777777777778,
              "#fb9f3a"
             ],
             [
              0.8888888888888888,
              "#fdca26"
             ],
             [
              1,
              "#f0f921"
             ]
            ],
            "type": "contour"
           }
          ],
          "contourcarpet": [
           {
            "colorbar": {
             "outlinewidth": 0,
             "ticks": ""
            },
            "type": "contourcarpet"
           }
          ],
          "heatmap": [
           {
            "colorbar": {
             "outlinewidth": 0,
             "ticks": ""
            },
            "colorscale": [
             [
              0,
              "#0d0887"
             ],
             [
              0.1111111111111111,
              "#46039f"
             ],
             [
              0.2222222222222222,
              "#7201a8"
             ],
             [
              0.3333333333333333,
              "#9c179e"
             ],
             [
              0.4444444444444444,
              "#bd3786"
             ],
             [
              0.5555555555555556,
              "#d8576b"
             ],
             [
              0.6666666666666666,
              "#ed7953"
             ],
             [
              0.7777777777777778,
              "#fb9f3a"
             ],
             [
              0.8888888888888888,
              "#fdca26"
             ],
             [
              1,
              "#f0f921"
             ]
            ],
            "type": "heatmap"
           }
          ],
          "heatmapgl": [
           {
            "colorbar": {
             "outlinewidth": 0,
             "ticks": ""
            },
            "colorscale": [
             [
              0,
              "#0d0887"
             ],
             [
              0.1111111111111111,
              "#46039f"
             ],
             [
              0.2222222222222222,
              "#7201a8"
             ],
             [
              0.3333333333333333,
              "#9c179e"
             ],
             [
              0.4444444444444444,
              "#bd3786"
             ],
             [
              0.5555555555555556,
              "#d8576b"
             ],
             [
              0.6666666666666666,
              "#ed7953"
             ],
             [
              0.7777777777777778,
              "#fb9f3a"
             ],
             [
              0.8888888888888888,
              "#fdca26"
             ],
             [
              1,
              "#f0f921"
             ]
            ],
            "type": "heatmapgl"
           }
          ],
          "histogram": [
           {
            "marker": {
             "colorbar": {
              "outlinewidth": 0,
              "ticks": ""
             }
            },
            "type": "histogram"
           }
          ],
          "histogram2d": [
           {
            "colorbar": {
             "outlinewidth": 0,
             "ticks": ""
            },
            "colorscale": [
             [
              0,
              "#0d0887"
             ],
             [
              0.1111111111111111,
              "#46039f"
             ],
             [
              0.2222222222222222,
              "#7201a8"
             ],
             [
              0.3333333333333333,
              "#9c179e"
             ],
             [
              0.4444444444444444,
              "#bd3786"
             ],
             [
              0.5555555555555556,
              "#d8576b"
             ],
             [
              0.6666666666666666,
              "#ed7953"
             ],
             [
              0.7777777777777778,
              "#fb9f3a"
             ],
             [
              0.8888888888888888,
              "#fdca26"
             ],
             [
              1,
              "#f0f921"
             ]
            ],
            "type": "histogram2d"
           }
          ],
          "histogram2dcontour": [
           {
            "colorbar": {
             "outlinewidth": 0,
             "ticks": ""
            },
            "colorscale": [
             [
              0,
              "#0d0887"
             ],
             [
              0.1111111111111111,
              "#46039f"
             ],
             [
              0.2222222222222222,
              "#7201a8"
             ],
             [
              0.3333333333333333,
              "#9c179e"
             ],
             [
              0.4444444444444444,
              "#bd3786"
             ],
             [
              0.5555555555555556,
              "#d8576b"
             ],
             [
              0.6666666666666666,
              "#ed7953"
             ],
             [
              0.7777777777777778,
              "#fb9f3a"
             ],
             [
              0.8888888888888888,
              "#fdca26"
             ],
             [
              1,
              "#f0f921"
             ]
            ],
            "type": "histogram2dcontour"
           }
          ],
          "mesh3d": [
           {
            "colorbar": {
             "outlinewidth": 0,
             "ticks": ""
            },
            "type": "mesh3d"
           }
          ],
          "parcoords": [
           {
            "line": {
             "colorbar": {
              "outlinewidth": 0,
              "ticks": ""
             }
            },
            "type": "parcoords"
           }
          ],
          "pie": [
           {
            "automargin": true,
            "type": "pie"
           }
          ],
          "scatter": [
           {
            "marker": {
             "colorbar": {
              "outlinewidth": 0,
              "ticks": ""
             }
            },
            "type": "scatter"
           }
          ],
          "scatter3d": [
           {
            "line": {
             "colorbar": {
              "outlinewidth": 0,
              "ticks": ""
             }
            },
            "marker": {
             "colorbar": {
              "outlinewidth": 0,
              "ticks": ""
             }
            },
            "type": "scatter3d"
           }
          ],
          "scattercarpet": [
           {
            "marker": {
             "colorbar": {
              "outlinewidth": 0,
              "ticks": ""
             }
            },
            "type": "scattercarpet"
           }
          ],
          "scattergeo": [
           {
            "marker": {
             "colorbar": {
              "outlinewidth": 0,
              "ticks": ""
             }
            },
            "type": "scattergeo"
           }
          ],
          "scattergl": [
           {
            "marker": {
             "colorbar": {
              "outlinewidth": 0,
              "ticks": ""
             }
            },
            "type": "scattergl"
           }
          ],
          "scattermapbox": [
           {
            "marker": {
             "colorbar": {
              "outlinewidth": 0,
              "ticks": ""
             }
            },
            "type": "scattermapbox"
           }
          ],
          "scatterpolar": [
           {
            "marker": {
             "colorbar": {
              "outlinewidth": 0,
              "ticks": ""
             }
            },
            "type": "scatterpolar"
           }
          ],
          "scatterpolargl": [
           {
            "marker": {
             "colorbar": {
              "outlinewidth": 0,
              "ticks": ""
             }
            },
            "type": "scatterpolargl"
           }
          ],
          "scatterternary": [
           {
            "marker": {
             "colorbar": {
              "outlinewidth": 0,
              "ticks": ""
             }
            },
            "type": "scatterternary"
           }
          ],
          "surface": [
           {
            "colorbar": {
             "outlinewidth": 0,
             "ticks": ""
            },
            "colorscale": [
             [
              0,
              "#0d0887"
             ],
             [
              0.1111111111111111,
              "#46039f"
             ],
             [
              0.2222222222222222,
              "#7201a8"
             ],
             [
              0.3333333333333333,
              "#9c179e"
             ],
             [
              0.4444444444444444,
              "#bd3786"
             ],
             [
              0.5555555555555556,
              "#d8576b"
             ],
             [
              0.6666666666666666,
              "#ed7953"
             ],
             [
              0.7777777777777778,
              "#fb9f3a"
             ],
             [
              0.8888888888888888,
              "#fdca26"
             ],
             [
              1,
              "#f0f921"
             ]
            ],
            "type": "surface"
           }
          ],
          "table": [
           {
            "cells": {
             "fill": {
              "color": "#EBF0F8"
             },
             "line": {
              "color": "white"
             }
            },
            "header": {
             "fill": {
              "color": "#C8D4E3"
             },
             "line": {
              "color": "white"
             }
            },
            "type": "table"
           }
          ]
         },
         "layout": {
          "annotationdefaults": {
           "arrowcolor": "#2a3f5f",
           "arrowhead": 0,
           "arrowwidth": 1
          },
          "autotypenumbers": "strict",
          "coloraxis": {
           "colorbar": {
            "outlinewidth": 0,
            "ticks": ""
           }
          },
          "colorscale": {
           "diverging": [
            [
             0,
             "#8e0152"
            ],
            [
             0.1,
             "#c51b7d"
            ],
            [
             0.2,
             "#de77ae"
            ],
            [
             0.3,
             "#f1b6da"
            ],
            [
             0.4,
             "#fde0ef"
            ],
            [
             0.5,
             "#f7f7f7"
            ],
            [
             0.6,
             "#e6f5d0"
            ],
            [
             0.7,
             "#b8e186"
            ],
            [
             0.8,
             "#7fbc41"
            ],
            [
             0.9,
             "#4d9221"
            ],
            [
             1,
             "#276419"
            ]
           ],
           "sequential": [
            [
             0,
             "#0d0887"
            ],
            [
             0.1111111111111111,
             "#46039f"
            ],
            [
             0.2222222222222222,
             "#7201a8"
            ],
            [
             0.3333333333333333,
             "#9c179e"
            ],
            [
             0.4444444444444444,
             "#bd3786"
            ],
            [
             0.5555555555555556,
             "#d8576b"
            ],
            [
             0.6666666666666666,
             "#ed7953"
            ],
            [
             0.7777777777777778,
             "#fb9f3a"
            ],
            [
             0.8888888888888888,
             "#fdca26"
            ],
            [
             1,
             "#f0f921"
            ]
           ],
           "sequentialminus": [
            [
             0,
             "#0d0887"
            ],
            [
             0.1111111111111111,
             "#46039f"
            ],
            [
             0.2222222222222222,
             "#7201a8"
            ],
            [
             0.3333333333333333,
             "#9c179e"
            ],
            [
             0.4444444444444444,
             "#bd3786"
            ],
            [
             0.5555555555555556,
             "#d8576b"
            ],
            [
             0.6666666666666666,
             "#ed7953"
            ],
            [
             0.7777777777777778,
             "#fb9f3a"
            ],
            [
             0.8888888888888888,
             "#fdca26"
            ],
            [
             1,
             "#f0f921"
            ]
           ]
          },
          "colorway": [
           "#636efa",
           "#EF553B",
           "#00cc96",
           "#ab63fa",
           "#FFA15A",
           "#19d3f3",
           "#FF6692",
           "#B6E880",
           "#FF97FF",
           "#FECB52"
          ],
          "font": {
           "color": "#2a3f5f"
          },
          "geo": {
           "bgcolor": "white",
           "lakecolor": "white",
           "landcolor": "#E5ECF6",
           "showlakes": true,
           "showland": true,
           "subunitcolor": "white"
          },
          "hoverlabel": {
           "align": "left"
          },
          "hovermode": "closest",
          "mapbox": {
           "style": "light"
          },
          "paper_bgcolor": "white",
          "plot_bgcolor": "#E5ECF6",
          "polar": {
           "angularaxis": {
            "gridcolor": "white",
            "linecolor": "white",
            "ticks": ""
           },
           "bgcolor": "#E5ECF6",
           "radialaxis": {
            "gridcolor": "white",
            "linecolor": "white",
            "ticks": ""
           }
          },
          "scene": {
           "xaxis": {
            "backgroundcolor": "#E5ECF6",
            "gridcolor": "white",
            "gridwidth": 2,
            "linecolor": "white",
            "showbackground": true,
            "ticks": "",
            "zerolinecolor": "white"
           },
           "yaxis": {
            "backgroundcolor": "#E5ECF6",
            "gridcolor": "white",
            "gridwidth": 2,
            "linecolor": "white",
            "showbackground": true,
            "ticks": "",
            "zerolinecolor": "white"
           },
           "zaxis": {
            "backgroundcolor": "#E5ECF6",
            "gridcolor": "white",
            "gridwidth": 2,
            "linecolor": "white",
            "showbackground": true,
            "ticks": "",
            "zerolinecolor": "white"
           }
          },
          "shapedefaults": {
           "line": {
            "color": "#2a3f5f"
           }
          },
          "ternary": {
           "aaxis": {
            "gridcolor": "white",
            "linecolor": "white",
            "ticks": ""
           },
           "baxis": {
            "gridcolor": "white",
            "linecolor": "white",
            "ticks": ""
           },
           "bgcolor": "#E5ECF6",
           "caxis": {
            "gridcolor": "white",
            "linecolor": "white",
            "ticks": ""
           }
          },
          "title": {
           "x": 0.05
          },
          "xaxis": {
           "automargin": true,
           "gridcolor": "white",
           "linecolor": "white",
           "ticks": "",
           "title": {
            "standoff": 15
           },
           "zerolinecolor": "white",
           "zerolinewidth": 2
          },
          "yaxis": {
           "automargin": true,
           "gridcolor": "white",
           "linecolor": "white",
           "ticks": "",
           "title": {
            "standoff": 15
           },
           "zerolinecolor": "white",
           "zerolinewidth": 2
          }
         }
        },
        "title": {
         "font": {
          "color": "#4D5663"
         }
        },
        "xaxis": {
         "gridcolor": "#E1E5ED",
         "showgrid": true,
         "tickfont": {
          "color": "#4D5663"
         },
         "title": {
          "font": {
           "color": "#4D5663"
          },
          "text": ""
         },
         "zerolinecolor": "#E1E5ED"
        },
        "yaxis": {
         "gridcolor": "#E1E5ED",
         "showgrid": true,
         "tickfont": {
          "color": "#4D5663"
         },
         "title": {
          "font": {
           "color": "#4D5663"
          },
          "text": ""
         },
         "zerolinecolor": "#E1E5ED"
        }
       }
      },
      "text/html": [
       "<div>                            <div id=\"d767ecb9-33b3-4061-a171-0f301dc77cb1\" class=\"plotly-graph-div\" style=\"height:525px; width:100%;\"></div>            <script type=\"text/javascript\">                require([\"plotly\"], function(Plotly) {                    window.PLOTLYENV=window.PLOTLYENV || {};\n",
       "                    window.PLOTLYENV.BASE_URL='https://plot.ly';                                    if (document.getElementById(\"d767ecb9-33b3-4061-a171-0f301dc77cb1\")) {                    Plotly.newPlot(                        \"d767ecb9-33b3-4061-a171-0f301dc77cb1\",                        [{\"boxpoints\": false, \"line\": {\"width\": 1.3}, \"marker\": {\"color\": \"rgba(255, 153, 51, 1.0)\"}, \"name\": \"A\", \"orientation\": \"v\", \"type\": \"box\", \"y\": [0.41760155225455636, 0.5261400468723789, 0.5683423096739474, -0.8222461098210078, 0.5445007517236217, 0.5909299879074099, 2.039579362940726, 0.6262088723800441, 0.19694594037636828, -3.0228983065582167, 0.20013434662272542, 0.7897393701529026, -1.2860106647372174, -1.209894031210368, 1.4991812102081934, 0.35295100673971, 1.6068652128980419, 0.44659510774809213, -0.6767341021203152, 0.867598499054683, 1.449819695873904, 1.3191900045864868, -0.024513457915711818, 0.18460391533600704, -0.23177229636727062, 1.1887447336595125, -1.5984486384334315, -0.4791939980881674, 0.45443684003122853, 1.1858647312666772, 0.6300812899870222, -0.9076010322718687, -1.0366066556848483, -0.6364365731046352, 0.797019857738389, 0.5601019577303988, -1.4652829651387353, 1.3517284564656338, 0.19750781481677754, -1.128982113739443, -0.01754605735598141, -0.044891495186233005, -0.8010310910031381, -0.30335402548602247, -0.3418257891963359, -1.1904895976608356, 0.4408253515736436, 1.6929673822638678, -0.3508487647510596, 0.6929015015943848, 0.6704346008145055, 0.5019071084632046, -1.9676005808992338, 0.2523635759175683, -0.13769847181233172, -0.5937099301262257, -0.4946241603235603, 1.438623954125982, -0.3908975591294168, 1.5713106951819324, 0.8552659204102937, 0.24516086205370485, 0.2888971604931386, -0.14709909178975228, -0.57481584660485, 0.6549006606048943, 0.17296055568917387, -1.1992032201677807, -0.7056304144096323, -2.2219667883329373, -0.24281236415007146, -1.530315772894537, 0.1423184582985676, -0.24145116574300846, -0.30577559894924256, -1.9700879316648785, 1.552930248971835, -0.6550718586352199, 1.62122878034275, 1.167262884154505, -0.04828735125770609, 1.446278149666796, -0.4026852504538263, 2.2068846765818995, 1.2032324446589693, 1.2451406579941515, 0.5746429329620883, 0.025993186182502948, 1.646829572457141, -1.2970898328462357, 0.8804446701276977, -0.6672298832100317, -0.2551538650516365, -0.20516968130389845, -0.1893699347371977, 1.2822922950580091, -0.259250383046811, 1.0005601672190672, -1.1550813022509543, -1.5016589825132562]}, {\"boxpoints\": false, \"line\": {\"width\": 1.3}, \"marker\": {\"color\": \"rgba(55, 128, 191, 1.0)\"}, \"name\": \"B\", \"orientation\": \"v\", \"type\": \"box\", \"y\": [0.45531183603699393, 0.5980709095986467, -0.34994300438479303, 0.682610763724963, -1.4542337018715585, -0.3769121673601374, -0.6387922806675909, -0.7260129686538656, 1.5278964844049967, -0.48756957792086913, 0.05434385648508415, 0.7506522319974177, -1.9413341849808416, -0.5730009940047913, -1.1003505963827607, 1.0684780089870864, -0.8653245918742982, -1.1659141525288483, 1.4748659606190033, 1.1821959921800371, -0.7461798246499382, 0.48999175008102147, -0.673992626184721, 0.24893133866831796, 0.6464588824587291, -0.1461097428226522, 1.4026878825912379, -0.4985833083140884, -0.14469994922942367, -2.089059080119697, 0.2579102415048242, 0.1233431191998344, -0.5126377378670051, 0.1845391531012246, 0.26227917881843976, -2.517400123945921, -0.7664875910204841, 1.2515981143552763, 0.77024253182108, 0.2663650999864578, -0.31410429215510044, -0.7595707679642624, -0.30063668798857396, -1.3659417049110871, -0.7385023938161782, -0.8783868473978256, -1.386658644809201, -0.425338368256794, -0.6707201032633747, 0.3639683078524173, -0.6252515176436683, -0.7479873442020913, 0.23379014573745413, 0.19676520830860575, 0.78420191379329, 0.4667723126550738, -0.31299224975101747, 1.4071812363229708, -0.9882035714894439, 1.059675760547426, -0.661011691916808, 0.5648241544355863, 0.15498534009217793, -0.2969239333093207, -0.8579346573227228, -0.2983936903030944, -0.8188836855107948, -0.05905956696405363, 1.2634824753451157, -0.24211420077731516, -0.4543600665000616, 0.00020674132613351752, -0.983661158660926, -0.7938089830406612, 0.9133767862108992, -0.40882011720110095, 0.6296552104036756, 0.067578322434332, 0.49205614258355074, -0.6708775195031813, -2.3472801537369756, 0.3347200513927004, 0.27897836749072086, 0.7426050366716708, 1.0964144703582637, 0.6100031054218946, -0.8642234541537205, 0.6701889377888379, -0.8522639978236726, 1.2811708836726825, -0.709792986765138, -0.9479604590556494, 1.450475432415021, -0.6263162004965983, -0.25591862078357036, 0.1794046087657056, -0.08294676921470963, -0.19139893329730934, 0.589992480029799, -0.5097005552190711]}, {\"boxpoints\": false, \"line\": {\"width\": 1.3}, \"marker\": {\"color\": \"rgba(50, 171, 96, 1.0)\"}, \"name\": \"C\", \"orientation\": \"v\", \"type\": \"box\", \"y\": [0.3567412540471956, -0.277621504160643, -1.0039560507328307, 0.4257875394596556, 0.8485262765176328, 0.027817741081305154, -1.7800691311508625, -1.8930610505968957, -0.06819106082740113, 0.43366565834833737, 1.0861225268145978, -0.5539736078617259, -0.08722181086773953, -0.039346148424286354, 0.02426022263642747, -0.3239798433301274, -0.5475703879989886, 0.10581527280291539, 1.4692521950210637, -1.0685563032083263, -0.6073617902751547, 0.41001464741051835, 1.2845515232914555, 0.3437694013387482, 2.0241296518939427, 0.716348298850311, 0.1500977859365151, -1.479572162573671, 0.12161963392533788, -0.29468756900021, -0.47507501852182565, -0.17952261305483727, -0.1401793967555207, -0.19358067173563642, -0.6135315251047768, 0.5609601860154348, 0.3644233052137257, 0.5185641404240686, 1.1638762577410178, -0.6382911894940564, 1.0083918802169105, 1.0636726060351618, 1.2589916440795696, -0.5567782430971342, 1.503910486047363, -0.1039842744244673, -0.6532649887744778, -0.7953422244590403, -0.02554402453545743, 1.5193231117102857, -0.6062116799584988, -0.4148403299408071, -0.12557841868576408, -0.14423630327538, -1.3167152355180747, 0.5251488066072629, 0.7842350662560305, 0.9880066036413466, 0.2207036124958554, 0.19373994552679588, -0.8480826738209563, -1.0290592176586044, 0.7830598545164305, -1.5052245769808832, 0.3278263641898475, 0.13947034109223538, -0.002795163953398742, -0.014160736529868299, 1.4427765071149234, -0.7621509714232797, 0.7065671126852853, 0.7945017251732709, -0.7297836742942091, 2.4131451498614176, 2.2445299938224976, 0.14412247363103614, 1.4339792912032998, 0.7093706081785429, 1.2343676777915684, 0.660670851456429, 0.7349524389088409, 1.2765689692487583, -0.10448287256714851, 0.6053610822144108, -0.04122164143347805, -0.7648034974534945, -0.789191795836851, -0.936563079684066, 0.5154742497944342, -0.9031963361211861, 0.14144805967255422, -1.4028188883733714, -0.25976107214927635, -1.0310683377887329, -1.3699899830889526, -1.676308545130461, 0.40260360696246933, -0.6364028036937236, -0.5964837090022717, 0.729176826983682]}, {\"boxpoints\": false, \"line\": {\"width\": 1.3}, \"marker\": {\"color\": \"rgba(128, 0, 128, 1.0)\"}, \"name\": \"D\", \"orientation\": \"v\", \"type\": \"box\", \"y\": [-1.34202166775557, 0.24041236218769918, -1.0895993906002497, -1.4477730505340438, 0.3265560291598136, -1.0627183263089948, 2.2748119539369878, 0.14002478373288554, -0.591482610766506, 0.3672475929415598, -0.6523607787086786, 0.04620958491721732, -0.5292075375810491, -0.1426341013200712, -0.992193609915696, -1.4508580201592014, 0.8460637452465019, 0.9561772764999883, -0.07484683674390989, 0.303618913225969, 1.5159308005788739, 0.3884519230077761, 1.205014344324589, 0.39110073171143445, -1.4412416258689398, -0.5063324518534471, -0.5231572171845528, 0.44703995761157306, -1.2283044186145742, 0.20841355207505802, -0.3537097899246747, 0.8404505092648065, -0.3295942502982704, 0.5764188772427017, -0.6042277808645765, 0.3470231871858434, 1.1559274895045106, 0.2798027226974251, -1.897226835172203, 2.0984705425501513, 1.248088207208783, -0.0026771784714443086, -0.3507749455528286, 1.136933776325363, 0.4747888094602326, 0.5173850191199333, -0.398801075208429, -0.308605533844656, -2.2743739867380355, -0.30863557341001424, 2.0088421343289387, -0.43891328004556274, -0.21348335628559187, 0.10380703823181336, 0.8220260708349477, 0.4835166938101988, 0.24586694233775314, -0.9296229063557128, -0.30592330589032324, -0.33521000892205965, 0.016749593628197054, -0.13562841853330956, 0.5249595724520443, 0.5498983890001178, -0.2634244246000023, -0.9490978005532776, 2.0126370942676317, 0.1824088629928282, 2.1656156815201983, 1.5772870832511796, 0.9114248100780128, -1.1443884388024306, 0.43472719327085246, -0.3412961400193563, 1.0670230308075241, -1.7315149468895397, -0.764445398381599, 1.6989173660069625, 1.8839510915177033, -0.5305355725011855, 1.8213571156061392, 0.3428641089022315, 0.14654499835974855, 0.02915989562030293, 0.1333763354747478, 0.6095982932668517, 0.2604878686434509, 1.3342361352729508, -0.11152614460930015, 0.278282793389956, -1.59248851841307, -0.13123537115579278, -0.5421071636298173, 1.4446683123494939, 0.4916958334915132, -1.6940815209703621, 0.016659471213699904, -0.10534647508326686, -0.2342201332176408, 1.4419339622136704]}],                        {\"legend\": {\"bgcolor\": \"#F5F6F9\", \"font\": {\"color\": \"#4D5663\"}}, \"paper_bgcolor\": \"#F5F6F9\", \"plot_bgcolor\": \"#F5F6F9\", \"template\": {\"data\": {\"bar\": [{\"error_x\": {\"color\": \"#2a3f5f\"}, \"error_y\": {\"color\": \"#2a3f5f\"}, \"marker\": {\"line\": {\"color\": \"#E5ECF6\", \"width\": 0.5}}, \"type\": \"bar\"}], \"barpolar\": [{\"marker\": {\"line\": {\"color\": \"#E5ECF6\", \"width\": 0.5}}, \"type\": \"barpolar\"}], \"carpet\": [{\"aaxis\": {\"endlinecolor\": \"#2a3f5f\", \"gridcolor\": \"white\", \"linecolor\": \"white\", \"minorgridcolor\": \"white\", \"startlinecolor\": \"#2a3f5f\"}, \"baxis\": {\"endlinecolor\": \"#2a3f5f\", \"gridcolor\": \"white\", \"linecolor\": \"white\", \"minorgridcolor\": \"white\", \"startlinecolor\": \"#2a3f5f\"}, \"type\": \"carpet\"}], \"choropleth\": [{\"colorbar\": {\"outlinewidth\": 0, \"ticks\": \"\"}, \"type\": \"choropleth\"}], \"contour\": [{\"colorbar\": {\"outlinewidth\": 0, \"ticks\": \"\"}, \"colorscale\": [[0.0, \"#0d0887\"], [0.1111111111111111, \"#46039f\"], [0.2222222222222222, \"#7201a8\"], [0.3333333333333333, \"#9c179e\"], [0.4444444444444444, \"#bd3786\"], [0.5555555555555556, \"#d8576b\"], [0.6666666666666666, \"#ed7953\"], [0.7777777777777778, \"#fb9f3a\"], [0.8888888888888888, \"#fdca26\"], [1.0, \"#f0f921\"]], \"type\": \"contour\"}], \"contourcarpet\": [{\"colorbar\": {\"outlinewidth\": 0, \"ticks\": \"\"}, \"type\": \"contourcarpet\"}], \"heatmap\": [{\"colorbar\": {\"outlinewidth\": 0, \"ticks\": \"\"}, \"colorscale\": [[0.0, \"#0d0887\"], [0.1111111111111111, \"#46039f\"], [0.2222222222222222, \"#7201a8\"], [0.3333333333333333, \"#9c179e\"], [0.4444444444444444, \"#bd3786\"], [0.5555555555555556, \"#d8576b\"], [0.6666666666666666, \"#ed7953\"], [0.7777777777777778, \"#fb9f3a\"], [0.8888888888888888, \"#fdca26\"], [1.0, \"#f0f921\"]], \"type\": \"heatmap\"}], \"heatmapgl\": [{\"colorbar\": {\"outlinewidth\": 0, \"ticks\": \"\"}, \"colorscale\": [[0.0, \"#0d0887\"], [0.1111111111111111, \"#46039f\"], [0.2222222222222222, \"#7201a8\"], [0.3333333333333333, \"#9c179e\"], [0.4444444444444444, \"#bd3786\"], [0.5555555555555556, \"#d8576b\"], [0.6666666666666666, \"#ed7953\"], [0.7777777777777778, \"#fb9f3a\"], [0.8888888888888888, \"#fdca26\"], [1.0, \"#f0f921\"]], \"type\": \"heatmapgl\"}], \"histogram\": [{\"marker\": {\"colorbar\": {\"outlinewidth\": 0, \"ticks\": \"\"}}, \"type\": \"histogram\"}], \"histogram2d\": [{\"colorbar\": {\"outlinewidth\": 0, \"ticks\": \"\"}, \"colorscale\": [[0.0, \"#0d0887\"], [0.1111111111111111, \"#46039f\"], [0.2222222222222222, \"#7201a8\"], [0.3333333333333333, \"#9c179e\"], [0.4444444444444444, \"#bd3786\"], [0.5555555555555556, \"#d8576b\"], [0.6666666666666666, \"#ed7953\"], [0.7777777777777778, \"#fb9f3a\"], [0.8888888888888888, \"#fdca26\"], [1.0, \"#f0f921\"]], \"type\": \"histogram2d\"}], \"histogram2dcontour\": [{\"colorbar\": {\"outlinewidth\": 0, \"ticks\": \"\"}, \"colorscale\": [[0.0, \"#0d0887\"], [0.1111111111111111, \"#46039f\"], [0.2222222222222222, \"#7201a8\"], [0.3333333333333333, \"#9c179e\"], [0.4444444444444444, \"#bd3786\"], [0.5555555555555556, \"#d8576b\"], [0.6666666666666666, \"#ed7953\"], [0.7777777777777778, \"#fb9f3a\"], [0.8888888888888888, \"#fdca26\"], [1.0, \"#f0f921\"]], \"type\": \"histogram2dcontour\"}], \"mesh3d\": [{\"colorbar\": {\"outlinewidth\": 0, \"ticks\": \"\"}, \"type\": \"mesh3d\"}], \"parcoords\": [{\"line\": {\"colorbar\": {\"outlinewidth\": 0, \"ticks\": \"\"}}, \"type\": \"parcoords\"}], \"pie\": [{\"automargin\": true, \"type\": \"pie\"}], \"scatter\": [{\"marker\": {\"colorbar\": {\"outlinewidth\": 0, \"ticks\": \"\"}}, \"type\": \"scatter\"}], \"scatter3d\": [{\"line\": {\"colorbar\": {\"outlinewidth\": 0, \"ticks\": \"\"}}, \"marker\": {\"colorbar\": {\"outlinewidth\": 0, \"ticks\": \"\"}}, \"type\": \"scatter3d\"}], \"scattercarpet\": [{\"marker\": {\"colorbar\": {\"outlinewidth\": 0, \"ticks\": \"\"}}, \"type\": \"scattercarpet\"}], \"scattergeo\": [{\"marker\": {\"colorbar\": {\"outlinewidth\": 0, \"ticks\": \"\"}}, \"type\": \"scattergeo\"}], \"scattergl\": [{\"marker\": {\"colorbar\": {\"outlinewidth\": 0, \"ticks\": \"\"}}, \"type\": \"scattergl\"}], \"scattermapbox\": [{\"marker\": {\"colorbar\": {\"outlinewidth\": 0, \"ticks\": \"\"}}, \"type\": \"scattermapbox\"}], \"scatterpolar\": [{\"marker\": {\"colorbar\": {\"outlinewidth\": 0, \"ticks\": \"\"}}, \"type\": \"scatterpolar\"}], \"scatterpolargl\": [{\"marker\": {\"colorbar\": {\"outlinewidth\": 0, \"ticks\": \"\"}}, \"type\": \"scatterpolargl\"}], \"scatterternary\": [{\"marker\": {\"colorbar\": {\"outlinewidth\": 0, \"ticks\": \"\"}}, \"type\": \"scatterternary\"}], \"surface\": [{\"colorbar\": {\"outlinewidth\": 0, \"ticks\": \"\"}, \"colorscale\": [[0.0, \"#0d0887\"], [0.1111111111111111, \"#46039f\"], [0.2222222222222222, \"#7201a8\"], [0.3333333333333333, \"#9c179e\"], [0.4444444444444444, \"#bd3786\"], [0.5555555555555556, \"#d8576b\"], [0.6666666666666666, \"#ed7953\"], [0.7777777777777778, \"#fb9f3a\"], [0.8888888888888888, \"#fdca26\"], [1.0, \"#f0f921\"]], \"type\": \"surface\"}], \"table\": [{\"cells\": {\"fill\": {\"color\": \"#EBF0F8\"}, \"line\": {\"color\": \"white\"}}, \"header\": {\"fill\": {\"color\": \"#C8D4E3\"}, \"line\": {\"color\": \"white\"}}, \"type\": \"table\"}]}, \"layout\": {\"annotationdefaults\": {\"arrowcolor\": \"#2a3f5f\", \"arrowhead\": 0, \"arrowwidth\": 1}, \"autotypenumbers\": \"strict\", \"coloraxis\": {\"colorbar\": {\"outlinewidth\": 0, \"ticks\": \"\"}}, \"colorscale\": {\"diverging\": [[0, \"#8e0152\"], [0.1, \"#c51b7d\"], [0.2, \"#de77ae\"], [0.3, \"#f1b6da\"], [0.4, \"#fde0ef\"], [0.5, \"#f7f7f7\"], [0.6, \"#e6f5d0\"], [0.7, \"#b8e186\"], [0.8, \"#7fbc41\"], [0.9, \"#4d9221\"], [1, \"#276419\"]], \"sequential\": [[0.0, \"#0d0887\"], [0.1111111111111111, \"#46039f\"], [0.2222222222222222, \"#7201a8\"], [0.3333333333333333, \"#9c179e\"], [0.4444444444444444, \"#bd3786\"], [0.5555555555555556, \"#d8576b\"], [0.6666666666666666, \"#ed7953\"], [0.7777777777777778, \"#fb9f3a\"], [0.8888888888888888, \"#fdca26\"], [1.0, \"#f0f921\"]], \"sequentialminus\": [[0.0, \"#0d0887\"], [0.1111111111111111, \"#46039f\"], [0.2222222222222222, \"#7201a8\"], [0.3333333333333333, \"#9c179e\"], [0.4444444444444444, \"#bd3786\"], [0.5555555555555556, \"#d8576b\"], [0.6666666666666666, \"#ed7953\"], [0.7777777777777778, \"#fb9f3a\"], [0.8888888888888888, \"#fdca26\"], [1.0, \"#f0f921\"]]}, \"colorway\": [\"#636efa\", \"#EF553B\", \"#00cc96\", \"#ab63fa\", \"#FFA15A\", \"#19d3f3\", \"#FF6692\", \"#B6E880\", \"#FF97FF\", \"#FECB52\"], \"font\": {\"color\": \"#2a3f5f\"}, \"geo\": {\"bgcolor\": \"white\", \"lakecolor\": \"white\", \"landcolor\": \"#E5ECF6\", \"showlakes\": true, \"showland\": true, \"subunitcolor\": \"white\"}, \"hoverlabel\": {\"align\": \"left\"}, \"hovermode\": \"closest\", \"mapbox\": {\"style\": \"light\"}, \"paper_bgcolor\": \"white\", \"plot_bgcolor\": \"#E5ECF6\", \"polar\": {\"angularaxis\": {\"gridcolor\": \"white\", \"linecolor\": \"white\", \"ticks\": \"\"}, \"bgcolor\": \"#E5ECF6\", \"radialaxis\": {\"gridcolor\": \"white\", \"linecolor\": \"white\", \"ticks\": \"\"}}, \"scene\": {\"xaxis\": {\"backgroundcolor\": \"#E5ECF6\", \"gridcolor\": \"white\", \"gridwidth\": 2, \"linecolor\": \"white\", \"showbackground\": true, \"ticks\": \"\", \"zerolinecolor\": \"white\"}, \"yaxis\": {\"backgroundcolor\": \"#E5ECF6\", \"gridcolor\": \"white\", \"gridwidth\": 2, \"linecolor\": \"white\", \"showbackground\": true, \"ticks\": \"\", \"zerolinecolor\": \"white\"}, \"zaxis\": {\"backgroundcolor\": \"#E5ECF6\", \"gridcolor\": \"white\", \"gridwidth\": 2, \"linecolor\": \"white\", \"showbackground\": true, \"ticks\": \"\", \"zerolinecolor\": \"white\"}}, \"shapedefaults\": {\"line\": {\"color\": \"#2a3f5f\"}}, \"ternary\": {\"aaxis\": {\"gridcolor\": \"white\", \"linecolor\": \"white\", \"ticks\": \"\"}, \"baxis\": {\"gridcolor\": \"white\", \"linecolor\": \"white\", \"ticks\": \"\"}, \"bgcolor\": \"#E5ECF6\", \"caxis\": {\"gridcolor\": \"white\", \"linecolor\": \"white\", \"ticks\": \"\"}}, \"title\": {\"x\": 0.05}, \"xaxis\": {\"automargin\": true, \"gridcolor\": \"white\", \"linecolor\": \"white\", \"ticks\": \"\", \"title\": {\"standoff\": 15}, \"zerolinecolor\": \"white\", \"zerolinewidth\": 2}, \"yaxis\": {\"automargin\": true, \"gridcolor\": \"white\", \"linecolor\": \"white\", \"ticks\": \"\", \"title\": {\"standoff\": 15}, \"zerolinecolor\": \"white\", \"zerolinewidth\": 2}}}, \"title\": {\"font\": {\"color\": \"#4D5663\"}}, \"xaxis\": {\"gridcolor\": \"#E1E5ED\", \"showgrid\": true, \"tickfont\": {\"color\": \"#4D5663\"}, \"title\": {\"font\": {\"color\": \"#4D5663\"}, \"text\": \"\"}, \"zerolinecolor\": \"#E1E5ED\"}, \"yaxis\": {\"gridcolor\": \"#E1E5ED\", \"showgrid\": true, \"tickfont\": {\"color\": \"#4D5663\"}, \"title\": {\"font\": {\"color\": \"#4D5663\"}, \"text\": \"\"}, \"zerolinecolor\": \"#E1E5ED\"}},                        {\"showLink\": true, \"linkText\": \"Export to plot.ly\", \"plotlyServerURL\": \"https://plot.ly\", \"responsive\": true}                    ).then(function(){\n",
       "                            \n",
       "var gd = document.getElementById('d767ecb9-33b3-4061-a171-0f301dc77cb1');\n",
       "var x = new MutationObserver(function (mutations, observer) {{\n",
       "        var display = window.getComputedStyle(gd).display;\n",
       "        if (!display || display === 'none') {{\n",
       "            console.log([gd, 'removed!']);\n",
       "            Plotly.purge(gd);\n",
       "            observer.disconnect();\n",
       "        }}\n",
       "}});\n",
       "\n",
       "// Listen for the removal of the full notebook cells\n",
       "var notebookContainer = gd.closest('#notebook-container');\n",
       "if (notebookContainer) {{\n",
       "    x.observe(notebookContainer, {childList: true});\n",
       "}}\n",
       "\n",
       "// Listen for the clearing of the current output cell\n",
       "var outputEl = gd.closest('.output');\n",
       "if (outputEl) {{\n",
       "    x.observe(outputEl, {childList: true});\n",
       "}}\n",
       "\n",
       "                        })                };                });            </script>        </div>"
      ]
     },
     "metadata": {},
     "output_type": "display_data"
    }
   ],
   "source": [
    "df.iplot(kind='box')"
   ]
  },
  {
   "cell_type": "markdown",
   "metadata": {},
   "source": [
    "## 3d Surface"
   ]
  },
  {
   "cell_type": "code",
   "execution_count": 14,
   "metadata": {},
   "outputs": [
    {
     "data": {
      "application/vnd.plotly.v1+json": {
       "config": {
        "linkText": "Export to plot.ly",
        "plotlyServerURL": "https://plot.ly",
        "showLink": true
       },
       "data": [
        {
         "colorscale": [
          [
           0,
           "rgb(165,0,38)"
          ],
          [
           0.1,
           "rgb(215,48,39)"
          ],
          [
           0.2,
           "rgb(244,109,67)"
          ],
          [
           0.3,
           "rgb(253,174,97)"
          ],
          [
           0.4,
           "rgb(254,224,144)"
          ],
          [
           0.5,
           "rgb(255,255,191)"
          ],
          [
           0.6,
           "rgb(224,243,248)"
          ],
          [
           0.7,
           "rgb(171,217,233)"
          ],
          [
           0.8,
           "rgb(116,173,209)"
          ],
          [
           0.9,
           "rgb(69,117,180)"
          ],
          [
           1,
           "rgb(49,54,149)"
          ]
         ],
         "type": "surface",
         "x": [
          0,
          1,
          2,
          3,
          4
         ],
         "y": [
          "x",
          "y",
          "z"
         ],
         "z": [
          [
           1,
           2,
           3,
           4,
           5
          ],
          [
           10,
           20,
           30,
           20,
           10
          ],
          [
           5,
           4,
           3,
           2,
           1
          ]
         ]
        }
       ],
       "layout": {
        "legend": {
         "bgcolor": "#F5F6F9",
         "font": {
          "color": "#4D5663"
         }
        },
        "paper_bgcolor": "#F5F6F9",
        "plot_bgcolor": "#F5F6F9",
        "template": {
         "data": {
          "bar": [
           {
            "error_x": {
             "color": "#2a3f5f"
            },
            "error_y": {
             "color": "#2a3f5f"
            },
            "marker": {
             "line": {
              "color": "#E5ECF6",
              "width": 0.5
             }
            },
            "type": "bar"
           }
          ],
          "barpolar": [
           {
            "marker": {
             "line": {
              "color": "#E5ECF6",
              "width": 0.5
             }
            },
            "type": "barpolar"
           }
          ],
          "carpet": [
           {
            "aaxis": {
             "endlinecolor": "#2a3f5f",
             "gridcolor": "white",
             "linecolor": "white",
             "minorgridcolor": "white",
             "startlinecolor": "#2a3f5f"
            },
            "baxis": {
             "endlinecolor": "#2a3f5f",
             "gridcolor": "white",
             "linecolor": "white",
             "minorgridcolor": "white",
             "startlinecolor": "#2a3f5f"
            },
            "type": "carpet"
           }
          ],
          "choropleth": [
           {
            "colorbar": {
             "outlinewidth": 0,
             "ticks": ""
            },
            "type": "choropleth"
           }
          ],
          "contour": [
           {
            "colorbar": {
             "outlinewidth": 0,
             "ticks": ""
            },
            "colorscale": [
             [
              0,
              "#0d0887"
             ],
             [
              0.1111111111111111,
              "#46039f"
             ],
             [
              0.2222222222222222,
              "#7201a8"
             ],
             [
              0.3333333333333333,
              "#9c179e"
             ],
             [
              0.4444444444444444,
              "#bd3786"
             ],
             [
              0.5555555555555556,
              "#d8576b"
             ],
             [
              0.6666666666666666,
              "#ed7953"
             ],
             [
              0.7777777777777778,
              "#fb9f3a"
             ],
             [
              0.8888888888888888,
              "#fdca26"
             ],
             [
              1,
              "#f0f921"
             ]
            ],
            "type": "contour"
           }
          ],
          "contourcarpet": [
           {
            "colorbar": {
             "outlinewidth": 0,
             "ticks": ""
            },
            "type": "contourcarpet"
           }
          ],
          "heatmap": [
           {
            "colorbar": {
             "outlinewidth": 0,
             "ticks": ""
            },
            "colorscale": [
             [
              0,
              "#0d0887"
             ],
             [
              0.1111111111111111,
              "#46039f"
             ],
             [
              0.2222222222222222,
              "#7201a8"
             ],
             [
              0.3333333333333333,
              "#9c179e"
             ],
             [
              0.4444444444444444,
              "#bd3786"
             ],
             [
              0.5555555555555556,
              "#d8576b"
             ],
             [
              0.6666666666666666,
              "#ed7953"
             ],
             [
              0.7777777777777778,
              "#fb9f3a"
             ],
             [
              0.8888888888888888,
              "#fdca26"
             ],
             [
              1,
              "#f0f921"
             ]
            ],
            "type": "heatmap"
           }
          ],
          "heatmapgl": [
           {
            "colorbar": {
             "outlinewidth": 0,
             "ticks": ""
            },
            "colorscale": [
             [
              0,
              "#0d0887"
             ],
             [
              0.1111111111111111,
              "#46039f"
             ],
             [
              0.2222222222222222,
              "#7201a8"
             ],
             [
              0.3333333333333333,
              "#9c179e"
             ],
             [
              0.4444444444444444,
              "#bd3786"
             ],
             [
              0.5555555555555556,
              "#d8576b"
             ],
             [
              0.6666666666666666,
              "#ed7953"
             ],
             [
              0.7777777777777778,
              "#fb9f3a"
             ],
             [
              0.8888888888888888,
              "#fdca26"
             ],
             [
              1,
              "#f0f921"
             ]
            ],
            "type": "heatmapgl"
           }
          ],
          "histogram": [
           {
            "marker": {
             "colorbar": {
              "outlinewidth": 0,
              "ticks": ""
             }
            },
            "type": "histogram"
           }
          ],
          "histogram2d": [
           {
            "colorbar": {
             "outlinewidth": 0,
             "ticks": ""
            },
            "colorscale": [
             [
              0,
              "#0d0887"
             ],
             [
              0.1111111111111111,
              "#46039f"
             ],
             [
              0.2222222222222222,
              "#7201a8"
             ],
             [
              0.3333333333333333,
              "#9c179e"
             ],
             [
              0.4444444444444444,
              "#bd3786"
             ],
             [
              0.5555555555555556,
              "#d8576b"
             ],
             [
              0.6666666666666666,
              "#ed7953"
             ],
             [
              0.7777777777777778,
              "#fb9f3a"
             ],
             [
              0.8888888888888888,
              "#fdca26"
             ],
             [
              1,
              "#f0f921"
             ]
            ],
            "type": "histogram2d"
           }
          ],
          "histogram2dcontour": [
           {
            "colorbar": {
             "outlinewidth": 0,
             "ticks": ""
            },
            "colorscale": [
             [
              0,
              "#0d0887"
             ],
             [
              0.1111111111111111,
              "#46039f"
             ],
             [
              0.2222222222222222,
              "#7201a8"
             ],
             [
              0.3333333333333333,
              "#9c179e"
             ],
             [
              0.4444444444444444,
              "#bd3786"
             ],
             [
              0.5555555555555556,
              "#d8576b"
             ],
             [
              0.6666666666666666,
              "#ed7953"
             ],
             [
              0.7777777777777778,
              "#fb9f3a"
             ],
             [
              0.8888888888888888,
              "#fdca26"
             ],
             [
              1,
              "#f0f921"
             ]
            ],
            "type": "histogram2dcontour"
           }
          ],
          "mesh3d": [
           {
            "colorbar": {
             "outlinewidth": 0,
             "ticks": ""
            },
            "type": "mesh3d"
           }
          ],
          "parcoords": [
           {
            "line": {
             "colorbar": {
              "outlinewidth": 0,
              "ticks": ""
             }
            },
            "type": "parcoords"
           }
          ],
          "pie": [
           {
            "automargin": true,
            "type": "pie"
           }
          ],
          "scatter": [
           {
            "marker": {
             "colorbar": {
              "outlinewidth": 0,
              "ticks": ""
             }
            },
            "type": "scatter"
           }
          ],
          "scatter3d": [
           {
            "line": {
             "colorbar": {
              "outlinewidth": 0,
              "ticks": ""
             }
            },
            "marker": {
             "colorbar": {
              "outlinewidth": 0,
              "ticks": ""
             }
            },
            "type": "scatter3d"
           }
          ],
          "scattercarpet": [
           {
            "marker": {
             "colorbar": {
              "outlinewidth": 0,
              "ticks": ""
             }
            },
            "type": "scattercarpet"
           }
          ],
          "scattergeo": [
           {
            "marker": {
             "colorbar": {
              "outlinewidth": 0,
              "ticks": ""
             }
            },
            "type": "scattergeo"
           }
          ],
          "scattergl": [
           {
            "marker": {
             "colorbar": {
              "outlinewidth": 0,
              "ticks": ""
             }
            },
            "type": "scattergl"
           }
          ],
          "scattermapbox": [
           {
            "marker": {
             "colorbar": {
              "outlinewidth": 0,
              "ticks": ""
             }
            },
            "type": "scattermapbox"
           }
          ],
          "scatterpolar": [
           {
            "marker": {
             "colorbar": {
              "outlinewidth": 0,
              "ticks": ""
             }
            },
            "type": "scatterpolar"
           }
          ],
          "scatterpolargl": [
           {
            "marker": {
             "colorbar": {
              "outlinewidth": 0,
              "ticks": ""
             }
            },
            "type": "scatterpolargl"
           }
          ],
          "scatterternary": [
           {
            "marker": {
             "colorbar": {
              "outlinewidth": 0,
              "ticks": ""
             }
            },
            "type": "scatterternary"
           }
          ],
          "surface": [
           {
            "colorbar": {
             "outlinewidth": 0,
             "ticks": ""
            },
            "colorscale": [
             [
              0,
              "#0d0887"
             ],
             [
              0.1111111111111111,
              "#46039f"
             ],
             [
              0.2222222222222222,
              "#7201a8"
             ],
             [
              0.3333333333333333,
              "#9c179e"
             ],
             [
              0.4444444444444444,
              "#bd3786"
             ],
             [
              0.5555555555555556,
              "#d8576b"
             ],
             [
              0.6666666666666666,
              "#ed7953"
             ],
             [
              0.7777777777777778,
              "#fb9f3a"
             ],
             [
              0.8888888888888888,
              "#fdca26"
             ],
             [
              1,
              "#f0f921"
             ]
            ],
            "type": "surface"
           }
          ],
          "table": [
           {
            "cells": {
             "fill": {
              "color": "#EBF0F8"
             },
             "line": {
              "color": "white"
             }
            },
            "header": {
             "fill": {
              "color": "#C8D4E3"
             },
             "line": {
              "color": "white"
             }
            },
            "type": "table"
           }
          ]
         },
         "layout": {
          "annotationdefaults": {
           "arrowcolor": "#2a3f5f",
           "arrowhead": 0,
           "arrowwidth": 1
          },
          "autotypenumbers": "strict",
          "coloraxis": {
           "colorbar": {
            "outlinewidth": 0,
            "ticks": ""
           }
          },
          "colorscale": {
           "diverging": [
            [
             0,
             "#8e0152"
            ],
            [
             0.1,
             "#c51b7d"
            ],
            [
             0.2,
             "#de77ae"
            ],
            [
             0.3,
             "#f1b6da"
            ],
            [
             0.4,
             "#fde0ef"
            ],
            [
             0.5,
             "#f7f7f7"
            ],
            [
             0.6,
             "#e6f5d0"
            ],
            [
             0.7,
             "#b8e186"
            ],
            [
             0.8,
             "#7fbc41"
            ],
            [
             0.9,
             "#4d9221"
            ],
            [
             1,
             "#276419"
            ]
           ],
           "sequential": [
            [
             0,
             "#0d0887"
            ],
            [
             0.1111111111111111,
             "#46039f"
            ],
            [
             0.2222222222222222,
             "#7201a8"
            ],
            [
             0.3333333333333333,
             "#9c179e"
            ],
            [
             0.4444444444444444,
             "#bd3786"
            ],
            [
             0.5555555555555556,
             "#d8576b"
            ],
            [
             0.6666666666666666,
             "#ed7953"
            ],
            [
             0.7777777777777778,
             "#fb9f3a"
            ],
            [
             0.8888888888888888,
             "#fdca26"
            ],
            [
             1,
             "#f0f921"
            ]
           ],
           "sequentialminus": [
            [
             0,
             "#0d0887"
            ],
            [
             0.1111111111111111,
             "#46039f"
            ],
            [
             0.2222222222222222,
             "#7201a8"
            ],
            [
             0.3333333333333333,
             "#9c179e"
            ],
            [
             0.4444444444444444,
             "#bd3786"
            ],
            [
             0.5555555555555556,
             "#d8576b"
            ],
            [
             0.6666666666666666,
             "#ed7953"
            ],
            [
             0.7777777777777778,
             "#fb9f3a"
            ],
            [
             0.8888888888888888,
             "#fdca26"
            ],
            [
             1,
             "#f0f921"
            ]
           ]
          },
          "colorway": [
           "#636efa",
           "#EF553B",
           "#00cc96",
           "#ab63fa",
           "#FFA15A",
           "#19d3f3",
           "#FF6692",
           "#B6E880",
           "#FF97FF",
           "#FECB52"
          ],
          "font": {
           "color": "#2a3f5f"
          },
          "geo": {
           "bgcolor": "white",
           "lakecolor": "white",
           "landcolor": "#E5ECF6",
           "showlakes": true,
           "showland": true,
           "subunitcolor": "white"
          },
          "hoverlabel": {
           "align": "left"
          },
          "hovermode": "closest",
          "mapbox": {
           "style": "light"
          },
          "paper_bgcolor": "white",
          "plot_bgcolor": "#E5ECF6",
          "polar": {
           "angularaxis": {
            "gridcolor": "white",
            "linecolor": "white",
            "ticks": ""
           },
           "bgcolor": "#E5ECF6",
           "radialaxis": {
            "gridcolor": "white",
            "linecolor": "white",
            "ticks": ""
           }
          },
          "scene": {
           "xaxis": {
            "backgroundcolor": "#E5ECF6",
            "gridcolor": "white",
            "gridwidth": 2,
            "linecolor": "white",
            "showbackground": true,
            "ticks": "",
            "zerolinecolor": "white"
           },
           "yaxis": {
            "backgroundcolor": "#E5ECF6",
            "gridcolor": "white",
            "gridwidth": 2,
            "linecolor": "white",
            "showbackground": true,
            "ticks": "",
            "zerolinecolor": "white"
           },
           "zaxis": {
            "backgroundcolor": "#E5ECF6",
            "gridcolor": "white",
            "gridwidth": 2,
            "linecolor": "white",
            "showbackground": true,
            "ticks": "",
            "zerolinecolor": "white"
           }
          },
          "shapedefaults": {
           "line": {
            "color": "#2a3f5f"
           }
          },
          "ternary": {
           "aaxis": {
            "gridcolor": "white",
            "linecolor": "white",
            "ticks": ""
           },
           "baxis": {
            "gridcolor": "white",
            "linecolor": "white",
            "ticks": ""
           },
           "bgcolor": "#E5ECF6",
           "caxis": {
            "gridcolor": "white",
            "linecolor": "white",
            "ticks": ""
           }
          },
          "title": {
           "x": 0.05
          },
          "xaxis": {
           "automargin": true,
           "gridcolor": "white",
           "linecolor": "white",
           "ticks": "",
           "title": {
            "standoff": 15
           },
           "zerolinecolor": "white",
           "zerolinewidth": 2
          },
          "yaxis": {
           "automargin": true,
           "gridcolor": "white",
           "linecolor": "white",
           "ticks": "",
           "title": {
            "standoff": 15
           },
           "zerolinecolor": "white",
           "zerolinewidth": 2
          }
         }
        },
        "title": {
         "font": {
          "color": "#4D5663"
         }
        },
        "xaxis": {
         "gridcolor": "#E1E5ED",
         "showgrid": true,
         "tickfont": {
          "color": "#4D5663"
         },
         "title": {
          "font": {
           "color": "#4D5663"
          },
          "text": ""
         },
         "zerolinecolor": "#E1E5ED"
        },
        "yaxis": {
         "gridcolor": "#E1E5ED",
         "showgrid": true,
         "tickfont": {
          "color": "#4D5663"
         },
         "title": {
          "font": {
           "color": "#4D5663"
          },
          "text": ""
         },
         "zerolinecolor": "#E1E5ED"
        }
       }
      },
      "text/html": [
       "<div>                            <div id=\"7c3acb34-84d8-468f-a168-0d1603220324\" class=\"plotly-graph-div\" style=\"height:525px; width:100%;\"></div>            <script type=\"text/javascript\">                require([\"plotly\"], function(Plotly) {                    window.PLOTLYENV=window.PLOTLYENV || {};\n",
       "                    window.PLOTLYENV.BASE_URL='https://plot.ly';                                    if (document.getElementById(\"7c3acb34-84d8-468f-a168-0d1603220324\")) {                    Plotly.newPlot(                        \"7c3acb34-84d8-468f-a168-0d1603220324\",                        [{\"colorscale\": [[0.0, \"rgb(165,0,38)\"], [0.1, \"rgb(215,48,39)\"], [0.2, \"rgb(244,109,67)\"], [0.3, \"rgb(253,174,97)\"], [0.4, \"rgb(254,224,144)\"], [0.5, \"rgb(255,255,191)\"], [0.6, \"rgb(224,243,248)\"], [0.7, \"rgb(171,217,233)\"], [0.8, \"rgb(116,173,209)\"], [0.9, \"rgb(69,117,180)\"], [1.0, \"rgb(49,54,149)\"]], \"type\": \"surface\", \"x\": [0, 1, 2, 3, 4], \"y\": [\"x\", \"y\", \"z\"], \"z\": [[1, 2, 3, 4, 5], [10, 20, 30, 20, 10], [5, 4, 3, 2, 1]]}],                        {\"legend\": {\"bgcolor\": \"#F5F6F9\", \"font\": {\"color\": \"#4D5663\"}}, \"paper_bgcolor\": \"#F5F6F9\", \"plot_bgcolor\": \"#F5F6F9\", \"template\": {\"data\": {\"bar\": [{\"error_x\": {\"color\": \"#2a3f5f\"}, \"error_y\": {\"color\": \"#2a3f5f\"}, \"marker\": {\"line\": {\"color\": \"#E5ECF6\", \"width\": 0.5}}, \"type\": \"bar\"}], \"barpolar\": [{\"marker\": {\"line\": {\"color\": \"#E5ECF6\", \"width\": 0.5}}, \"type\": \"barpolar\"}], \"carpet\": [{\"aaxis\": {\"endlinecolor\": \"#2a3f5f\", \"gridcolor\": \"white\", \"linecolor\": \"white\", \"minorgridcolor\": \"white\", \"startlinecolor\": \"#2a3f5f\"}, \"baxis\": {\"endlinecolor\": \"#2a3f5f\", \"gridcolor\": \"white\", \"linecolor\": \"white\", \"minorgridcolor\": \"white\", \"startlinecolor\": \"#2a3f5f\"}, \"type\": \"carpet\"}], \"choropleth\": [{\"colorbar\": {\"outlinewidth\": 0, \"ticks\": \"\"}, \"type\": \"choropleth\"}], \"contour\": [{\"colorbar\": {\"outlinewidth\": 0, \"ticks\": \"\"}, \"colorscale\": [[0.0, \"#0d0887\"], [0.1111111111111111, \"#46039f\"], [0.2222222222222222, \"#7201a8\"], [0.3333333333333333, \"#9c179e\"], [0.4444444444444444, \"#bd3786\"], [0.5555555555555556, \"#d8576b\"], [0.6666666666666666, \"#ed7953\"], [0.7777777777777778, \"#fb9f3a\"], [0.8888888888888888, \"#fdca26\"], [1.0, \"#f0f921\"]], \"type\": \"contour\"}], \"contourcarpet\": [{\"colorbar\": {\"outlinewidth\": 0, \"ticks\": \"\"}, \"type\": \"contourcarpet\"}], \"heatmap\": [{\"colorbar\": {\"outlinewidth\": 0, \"ticks\": \"\"}, \"colorscale\": [[0.0, \"#0d0887\"], [0.1111111111111111, \"#46039f\"], [0.2222222222222222, \"#7201a8\"], [0.3333333333333333, \"#9c179e\"], [0.4444444444444444, \"#bd3786\"], [0.5555555555555556, \"#d8576b\"], [0.6666666666666666, \"#ed7953\"], [0.7777777777777778, \"#fb9f3a\"], [0.8888888888888888, \"#fdca26\"], [1.0, \"#f0f921\"]], \"type\": \"heatmap\"}], \"heatmapgl\": [{\"colorbar\": {\"outlinewidth\": 0, \"ticks\": \"\"}, \"colorscale\": [[0.0, \"#0d0887\"], [0.1111111111111111, \"#46039f\"], [0.2222222222222222, \"#7201a8\"], [0.3333333333333333, \"#9c179e\"], [0.4444444444444444, \"#bd3786\"], [0.5555555555555556, \"#d8576b\"], [0.6666666666666666, \"#ed7953\"], [0.7777777777777778, \"#fb9f3a\"], [0.8888888888888888, \"#fdca26\"], [1.0, \"#f0f921\"]], \"type\": \"heatmapgl\"}], \"histogram\": [{\"marker\": {\"colorbar\": {\"outlinewidth\": 0, \"ticks\": \"\"}}, \"type\": \"histogram\"}], \"histogram2d\": [{\"colorbar\": {\"outlinewidth\": 0, \"ticks\": \"\"}, \"colorscale\": [[0.0, \"#0d0887\"], [0.1111111111111111, \"#46039f\"], [0.2222222222222222, \"#7201a8\"], [0.3333333333333333, \"#9c179e\"], [0.4444444444444444, \"#bd3786\"], [0.5555555555555556, \"#d8576b\"], [0.6666666666666666, \"#ed7953\"], [0.7777777777777778, \"#fb9f3a\"], [0.8888888888888888, \"#fdca26\"], [1.0, \"#f0f921\"]], \"type\": \"histogram2d\"}], \"histogram2dcontour\": [{\"colorbar\": {\"outlinewidth\": 0, \"ticks\": \"\"}, \"colorscale\": [[0.0, \"#0d0887\"], [0.1111111111111111, \"#46039f\"], [0.2222222222222222, \"#7201a8\"], [0.3333333333333333, \"#9c179e\"], [0.4444444444444444, \"#bd3786\"], [0.5555555555555556, \"#d8576b\"], [0.6666666666666666, \"#ed7953\"], [0.7777777777777778, \"#fb9f3a\"], [0.8888888888888888, \"#fdca26\"], [1.0, \"#f0f921\"]], \"type\": \"histogram2dcontour\"}], \"mesh3d\": [{\"colorbar\": {\"outlinewidth\": 0, \"ticks\": \"\"}, \"type\": \"mesh3d\"}], \"parcoords\": [{\"line\": {\"colorbar\": {\"outlinewidth\": 0, \"ticks\": \"\"}}, \"type\": \"parcoords\"}], \"pie\": [{\"automargin\": true, \"type\": \"pie\"}], \"scatter\": [{\"marker\": {\"colorbar\": {\"outlinewidth\": 0, \"ticks\": \"\"}}, \"type\": \"scatter\"}], \"scatter3d\": [{\"line\": {\"colorbar\": {\"outlinewidth\": 0, \"ticks\": \"\"}}, \"marker\": {\"colorbar\": {\"outlinewidth\": 0, \"ticks\": \"\"}}, \"type\": \"scatter3d\"}], \"scattercarpet\": [{\"marker\": {\"colorbar\": {\"outlinewidth\": 0, \"ticks\": \"\"}}, \"type\": \"scattercarpet\"}], \"scattergeo\": [{\"marker\": {\"colorbar\": {\"outlinewidth\": 0, \"ticks\": \"\"}}, \"type\": \"scattergeo\"}], \"scattergl\": [{\"marker\": {\"colorbar\": {\"outlinewidth\": 0, \"ticks\": \"\"}}, \"type\": \"scattergl\"}], \"scattermapbox\": [{\"marker\": {\"colorbar\": {\"outlinewidth\": 0, \"ticks\": \"\"}}, \"type\": \"scattermapbox\"}], \"scatterpolar\": [{\"marker\": {\"colorbar\": {\"outlinewidth\": 0, \"ticks\": \"\"}}, \"type\": \"scatterpolar\"}], \"scatterpolargl\": [{\"marker\": {\"colorbar\": {\"outlinewidth\": 0, \"ticks\": \"\"}}, \"type\": \"scatterpolargl\"}], \"scatterternary\": [{\"marker\": {\"colorbar\": {\"outlinewidth\": 0, \"ticks\": \"\"}}, \"type\": \"scatterternary\"}], \"surface\": [{\"colorbar\": {\"outlinewidth\": 0, \"ticks\": \"\"}, \"colorscale\": [[0.0, \"#0d0887\"], [0.1111111111111111, \"#46039f\"], [0.2222222222222222, \"#7201a8\"], [0.3333333333333333, \"#9c179e\"], [0.4444444444444444, \"#bd3786\"], [0.5555555555555556, \"#d8576b\"], [0.6666666666666666, \"#ed7953\"], [0.7777777777777778, \"#fb9f3a\"], [0.8888888888888888, \"#fdca26\"], [1.0, \"#f0f921\"]], \"type\": \"surface\"}], \"table\": [{\"cells\": {\"fill\": {\"color\": \"#EBF0F8\"}, \"line\": {\"color\": \"white\"}}, \"header\": {\"fill\": {\"color\": \"#C8D4E3\"}, \"line\": {\"color\": \"white\"}}, \"type\": \"table\"}]}, \"layout\": {\"annotationdefaults\": {\"arrowcolor\": \"#2a3f5f\", \"arrowhead\": 0, \"arrowwidth\": 1}, \"autotypenumbers\": \"strict\", \"coloraxis\": {\"colorbar\": {\"outlinewidth\": 0, \"ticks\": \"\"}}, \"colorscale\": {\"diverging\": [[0, \"#8e0152\"], [0.1, \"#c51b7d\"], [0.2, \"#de77ae\"], [0.3, \"#f1b6da\"], [0.4, \"#fde0ef\"], [0.5, \"#f7f7f7\"], [0.6, \"#e6f5d0\"], [0.7, \"#b8e186\"], [0.8, \"#7fbc41\"], [0.9, \"#4d9221\"], [1, \"#276419\"]], \"sequential\": [[0.0, \"#0d0887\"], [0.1111111111111111, \"#46039f\"], [0.2222222222222222, \"#7201a8\"], [0.3333333333333333, \"#9c179e\"], [0.4444444444444444, \"#bd3786\"], [0.5555555555555556, \"#d8576b\"], [0.6666666666666666, \"#ed7953\"], [0.7777777777777778, \"#fb9f3a\"], [0.8888888888888888, \"#fdca26\"], [1.0, \"#f0f921\"]], \"sequentialminus\": [[0.0, \"#0d0887\"], [0.1111111111111111, \"#46039f\"], [0.2222222222222222, \"#7201a8\"], [0.3333333333333333, \"#9c179e\"], [0.4444444444444444, \"#bd3786\"], [0.5555555555555556, \"#d8576b\"], [0.6666666666666666, \"#ed7953\"], [0.7777777777777778, \"#fb9f3a\"], [0.8888888888888888, \"#fdca26\"], [1.0, \"#f0f921\"]]}, \"colorway\": [\"#636efa\", \"#EF553B\", \"#00cc96\", \"#ab63fa\", \"#FFA15A\", \"#19d3f3\", \"#FF6692\", \"#B6E880\", \"#FF97FF\", \"#FECB52\"], \"font\": {\"color\": \"#2a3f5f\"}, \"geo\": {\"bgcolor\": \"white\", \"lakecolor\": \"white\", \"landcolor\": \"#E5ECF6\", \"showlakes\": true, \"showland\": true, \"subunitcolor\": \"white\"}, \"hoverlabel\": {\"align\": \"left\"}, \"hovermode\": \"closest\", \"mapbox\": {\"style\": \"light\"}, \"paper_bgcolor\": \"white\", \"plot_bgcolor\": \"#E5ECF6\", \"polar\": {\"angularaxis\": {\"gridcolor\": \"white\", \"linecolor\": \"white\", \"ticks\": \"\"}, \"bgcolor\": \"#E5ECF6\", \"radialaxis\": {\"gridcolor\": \"white\", \"linecolor\": \"white\", \"ticks\": \"\"}}, \"scene\": {\"xaxis\": {\"backgroundcolor\": \"#E5ECF6\", \"gridcolor\": \"white\", \"gridwidth\": 2, \"linecolor\": \"white\", \"showbackground\": true, \"ticks\": \"\", \"zerolinecolor\": \"white\"}, \"yaxis\": {\"backgroundcolor\": \"#E5ECF6\", \"gridcolor\": \"white\", \"gridwidth\": 2, \"linecolor\": \"white\", \"showbackground\": true, \"ticks\": \"\", \"zerolinecolor\": \"white\"}, \"zaxis\": {\"backgroundcolor\": \"#E5ECF6\", \"gridcolor\": \"white\", \"gridwidth\": 2, \"linecolor\": \"white\", \"showbackground\": true, \"ticks\": \"\", \"zerolinecolor\": \"white\"}}, \"shapedefaults\": {\"line\": {\"color\": \"#2a3f5f\"}}, \"ternary\": {\"aaxis\": {\"gridcolor\": \"white\", \"linecolor\": \"white\", \"ticks\": \"\"}, \"baxis\": {\"gridcolor\": \"white\", \"linecolor\": \"white\", \"ticks\": \"\"}, \"bgcolor\": \"#E5ECF6\", \"caxis\": {\"gridcolor\": \"white\", \"linecolor\": \"white\", \"ticks\": \"\"}}, \"title\": {\"x\": 0.05}, \"xaxis\": {\"automargin\": true, \"gridcolor\": \"white\", \"linecolor\": \"white\", \"ticks\": \"\", \"title\": {\"standoff\": 15}, \"zerolinecolor\": \"white\", \"zerolinewidth\": 2}, \"yaxis\": {\"automargin\": true, \"gridcolor\": \"white\", \"linecolor\": \"white\", \"ticks\": \"\", \"title\": {\"standoff\": 15}, \"zerolinecolor\": \"white\", \"zerolinewidth\": 2}}}, \"title\": {\"font\": {\"color\": \"#4D5663\"}}, \"xaxis\": {\"gridcolor\": \"#E1E5ED\", \"showgrid\": true, \"tickfont\": {\"color\": \"#4D5663\"}, \"title\": {\"font\": {\"color\": \"#4D5663\"}, \"text\": \"\"}, \"zerolinecolor\": \"#E1E5ED\"}, \"yaxis\": {\"gridcolor\": \"#E1E5ED\", \"showgrid\": true, \"tickfont\": {\"color\": \"#4D5663\"}, \"title\": {\"font\": {\"color\": \"#4D5663\"}, \"text\": \"\"}, \"zerolinecolor\": \"#E1E5ED\"}},                        {\"showLink\": true, \"linkText\": \"Export to plot.ly\", \"plotlyServerURL\": \"https://plot.ly\", \"responsive\": true}                    ).then(function(){\n",
       "                            \n",
       "var gd = document.getElementById('7c3acb34-84d8-468f-a168-0d1603220324');\n",
       "var x = new MutationObserver(function (mutations, observer) {{\n",
       "        var display = window.getComputedStyle(gd).display;\n",
       "        if (!display || display === 'none') {{\n",
       "            console.log([gd, 'removed!']);\n",
       "            Plotly.purge(gd);\n",
       "            observer.disconnect();\n",
       "        }}\n",
       "}});\n",
       "\n",
       "// Listen for the removal of the full notebook cells\n",
       "var notebookContainer = gd.closest('#notebook-container');\n",
       "if (notebookContainer) {{\n",
       "    x.observe(notebookContainer, {childList: true});\n",
       "}}\n",
       "\n",
       "// Listen for the clearing of the current output cell\n",
       "var outputEl = gd.closest('.output');\n",
       "if (outputEl) {{\n",
       "    x.observe(outputEl, {childList: true});\n",
       "}}\n",
       "\n",
       "                        })                };                });            </script>        </div>"
      ]
     },
     "metadata": {},
     "output_type": "display_data"
    }
   ],
   "source": [
    "df3 = pd.DataFrame({'x':[1,2,3,4,5],'y':[10,20,30,20,10],'z':[5,4,3,2,1]})\n",
    "df3.iplot(kind='surface',colorscale='rdylbu')"
   ]
  },
  {
   "cell_type": "markdown",
   "metadata": {},
   "source": [
    "## Spread"
   ]
  },
  {
   "cell_type": "code",
   "execution_count": 15,
   "metadata": {},
   "outputs": [
    {
     "name": "stderr",
     "output_type": "stream",
     "text": [
      "/home/mahdi/miniconda3/lib/python3.8/site-packages/cufflinks/plotlytools.py:849: FutureWarning:\n",
      "\n",
      "The pandas.np module is deprecated and will be removed from pandas in a future version. Import numpy directly instead\n",
      "\n",
      "/home/mahdi/miniconda3/lib/python3.8/site-packages/cufflinks/plotlytools.py:850: FutureWarning:\n",
      "\n",
      "The pandas.np module is deprecated and will be removed from pandas in a future version. Import numpy directly instead\n",
      "\n"
     ]
    },
    {
     "data": {
      "application/vnd.plotly.v1+json": {
       "config": {
        "linkText": "Export to plot.ly",
        "plotlyServerURL": "https://plot.ly",
        "showLink": true
       },
       "data": [
        {
         "line": {
          "color": "rgba(255, 153, 51, 1.0)",
          "dash": "solid",
          "shape": "linear",
          "width": 1.3
         },
         "mode": "lines",
         "name": "A",
         "text": "",
         "type": "scatter",
         "x": [
          0,
          1,
          2,
          3,
          4,
          5,
          6,
          7,
          8,
          9,
          10,
          11,
          12,
          13,
          14,
          15,
          16,
          17,
          18,
          19,
          20,
          21,
          22,
          23,
          24,
          25,
          26,
          27,
          28,
          29,
          30,
          31,
          32,
          33,
          34,
          35,
          36,
          37,
          38,
          39,
          40,
          41,
          42,
          43,
          44,
          45,
          46,
          47,
          48,
          49,
          50,
          51,
          52,
          53,
          54,
          55,
          56,
          57,
          58,
          59,
          60,
          61,
          62,
          63,
          64,
          65,
          66,
          67,
          68,
          69,
          70,
          71,
          72,
          73,
          74,
          75,
          76,
          77,
          78,
          79,
          80,
          81,
          82,
          83,
          84,
          85,
          86,
          87,
          88,
          89,
          90,
          91,
          92,
          93,
          94,
          95,
          96,
          97,
          98,
          99
         ],
         "y": [
          0.41760155225455636,
          0.5261400468723789,
          0.5683423096739474,
          -0.8222461098210078,
          0.5445007517236217,
          0.5909299879074099,
          2.039579362940726,
          0.6262088723800441,
          0.19694594037636828,
          -3.0228983065582167,
          0.20013434662272542,
          0.7897393701529026,
          -1.2860106647372174,
          -1.209894031210368,
          1.4991812102081934,
          0.35295100673971,
          1.6068652128980419,
          0.44659510774809213,
          -0.6767341021203152,
          0.867598499054683,
          1.449819695873904,
          1.3191900045864868,
          -0.024513457915711818,
          0.18460391533600704,
          -0.23177229636727062,
          1.1887447336595125,
          -1.5984486384334315,
          -0.4791939980881674,
          0.45443684003122853,
          1.1858647312666772,
          0.6300812899870222,
          -0.9076010322718687,
          -1.0366066556848483,
          -0.6364365731046352,
          0.797019857738389,
          0.5601019577303988,
          -1.4652829651387353,
          1.3517284564656338,
          0.19750781481677754,
          -1.128982113739443,
          -0.01754605735598141,
          -0.044891495186233005,
          -0.8010310910031381,
          -0.30335402548602247,
          -0.3418257891963359,
          -1.1904895976608356,
          0.4408253515736436,
          1.6929673822638678,
          -0.3508487647510596,
          0.6929015015943848,
          0.6704346008145055,
          0.5019071084632046,
          -1.9676005808992338,
          0.2523635759175683,
          -0.13769847181233172,
          -0.5937099301262257,
          -0.4946241603235603,
          1.438623954125982,
          -0.3908975591294168,
          1.5713106951819324,
          0.8552659204102937,
          0.24516086205370485,
          0.2888971604931386,
          -0.14709909178975228,
          -0.57481584660485,
          0.6549006606048943,
          0.17296055568917387,
          -1.1992032201677807,
          -0.7056304144096323,
          -2.2219667883329373,
          -0.24281236415007146,
          -1.530315772894537,
          0.1423184582985676,
          -0.24145116574300846,
          -0.30577559894924256,
          -1.9700879316648785,
          1.552930248971835,
          -0.6550718586352199,
          1.62122878034275,
          1.167262884154505,
          -0.04828735125770609,
          1.446278149666796,
          -0.4026852504538263,
          2.2068846765818995,
          1.2032324446589693,
          1.2451406579941515,
          0.5746429329620883,
          0.025993186182502948,
          1.646829572457141,
          -1.2970898328462357,
          0.8804446701276977,
          -0.6672298832100317,
          -0.2551538650516365,
          -0.20516968130389845,
          -0.1893699347371977,
          1.2822922950580091,
          -0.259250383046811,
          1.0005601672190672,
          -1.1550813022509543,
          -1.5016589825132562
         ]
        },
        {
         "line": {
          "color": "rgba(55, 128, 191, 1.0)",
          "dash": "solid",
          "shape": "linear",
          "width": 1.3
         },
         "mode": "lines",
         "name": "B",
         "text": "",
         "type": "scatter",
         "x": [
          0,
          1,
          2,
          3,
          4,
          5,
          6,
          7,
          8,
          9,
          10,
          11,
          12,
          13,
          14,
          15,
          16,
          17,
          18,
          19,
          20,
          21,
          22,
          23,
          24,
          25,
          26,
          27,
          28,
          29,
          30,
          31,
          32,
          33,
          34,
          35,
          36,
          37,
          38,
          39,
          40,
          41,
          42,
          43,
          44,
          45,
          46,
          47,
          48,
          49,
          50,
          51,
          52,
          53,
          54,
          55,
          56,
          57,
          58,
          59,
          60,
          61,
          62,
          63,
          64,
          65,
          66,
          67,
          68,
          69,
          70,
          71,
          72,
          73,
          74,
          75,
          76,
          77,
          78,
          79,
          80,
          81,
          82,
          83,
          84,
          85,
          86,
          87,
          88,
          89,
          90,
          91,
          92,
          93,
          94,
          95,
          96,
          97,
          98,
          99
         ],
         "y": [
          0.45531183603699393,
          0.5980709095986467,
          -0.34994300438479303,
          0.682610763724963,
          -1.4542337018715585,
          -0.3769121673601374,
          -0.6387922806675909,
          -0.7260129686538656,
          1.5278964844049967,
          -0.48756957792086913,
          0.05434385648508415,
          0.7506522319974177,
          -1.9413341849808416,
          -0.5730009940047913,
          -1.1003505963827607,
          1.0684780089870864,
          -0.8653245918742982,
          -1.1659141525288483,
          1.4748659606190033,
          1.1821959921800371,
          -0.7461798246499382,
          0.48999175008102147,
          -0.673992626184721,
          0.24893133866831796,
          0.6464588824587291,
          -0.1461097428226522,
          1.4026878825912379,
          -0.4985833083140884,
          -0.14469994922942367,
          -2.089059080119697,
          0.2579102415048242,
          0.1233431191998344,
          -0.5126377378670051,
          0.1845391531012246,
          0.26227917881843976,
          -2.517400123945921,
          -0.7664875910204841,
          1.2515981143552763,
          0.77024253182108,
          0.2663650999864578,
          -0.31410429215510044,
          -0.7595707679642624,
          -0.30063668798857396,
          -1.3659417049110871,
          -0.7385023938161782,
          -0.8783868473978256,
          -1.386658644809201,
          -0.425338368256794,
          -0.6707201032633747,
          0.3639683078524173,
          -0.6252515176436683,
          -0.7479873442020913,
          0.23379014573745413,
          0.19676520830860575,
          0.78420191379329,
          0.4667723126550738,
          -0.31299224975101747,
          1.4071812363229708,
          -0.9882035714894439,
          1.059675760547426,
          -0.661011691916808,
          0.5648241544355863,
          0.15498534009217793,
          -0.2969239333093207,
          -0.8579346573227228,
          -0.2983936903030944,
          -0.8188836855107948,
          -0.05905956696405363,
          1.2634824753451157,
          -0.24211420077731516,
          -0.4543600665000616,
          0.00020674132613351752,
          -0.983661158660926,
          -0.7938089830406612,
          0.9133767862108992,
          -0.40882011720110095,
          0.6296552104036756,
          0.067578322434332,
          0.49205614258355074,
          -0.6708775195031813,
          -2.3472801537369756,
          0.3347200513927004,
          0.27897836749072086,
          0.7426050366716708,
          1.0964144703582637,
          0.6100031054218946,
          -0.8642234541537205,
          0.6701889377888379,
          -0.8522639978236726,
          1.2811708836726825,
          -0.709792986765138,
          -0.9479604590556494,
          1.450475432415021,
          -0.6263162004965983,
          -0.25591862078357036,
          0.1794046087657056,
          -0.08294676921470963,
          -0.19139893329730934,
          0.589992480029799,
          -0.5097005552190711
         ]
        },
        {
         "connectgaps": false,
         "fill": "tozeroy",
         "line": {
          "color": "green",
          "dash": "solid",
          "shape": "linear",
          "width": 0.5
         },
         "mode": "lines",
         "name": "Spread",
         "showlegend": false,
         "type": "scatter",
         "x": [
          0,
          1,
          2,
          3,
          4,
          5,
          6,
          7,
          8,
          9,
          10,
          11,
          12,
          13,
          14,
          15,
          16,
          17,
          18,
          19,
          20,
          21,
          22,
          23,
          24,
          25,
          26,
          27,
          28,
          29,
          30,
          31,
          32,
          33,
          34,
          35,
          36,
          37,
          38,
          39,
          40,
          41,
          42,
          43,
          44,
          45,
          46,
          47,
          48,
          49,
          50,
          51,
          52,
          53,
          54,
          55,
          56,
          57,
          58,
          59,
          60,
          61,
          62,
          63,
          64,
          65,
          66,
          67,
          68,
          69,
          70,
          71,
          72,
          73,
          74,
          75,
          76,
          77,
          78,
          79,
          80,
          81,
          82,
          83,
          84,
          85,
          86,
          87,
          88,
          89,
          90,
          91,
          92,
          93,
          94,
          95,
          96,
          97,
          98,
          99
         ],
         "xaxis": "x2",
         "y": [
          "",
          "",
          0.9182853140587404,
          "",
          1.9987344535951803,
          0.9678421552675474,
          2.678371643608317,
          1.3522218410339097,
          "",
          "",
          0.14579049013764128,
          0.039087138155484924,
          0.6553235202436243,
          "",
          2.599531806590954,
          "",
          2.47218980477234,
          1.6125092602769404,
          "",
          "",
          2.1959995205238423,
          0.8291982545054654,
          0.6494791682690092,
          "",
          "",
          1.3348544764821648,
          "",
          0.019389310225920997,
          0.5991367892606522,
          3.2749238113863743,
          0.37217104848219795,
          "",
          "",
          "",
          0.5347406789199493,
          3.07750208167632,
          "",
          0.10013034211035743,
          "",
          "",
          0.296558234799119,
          0.7146792727780293,
          "",
          1.0625876794250646,
          0.39667660461984233,
          "",
          1.8274839963828446,
          2.118305750520662,
          0.31987133851231514,
          0.3289331937419675,
          1.2956861184581738,
          1.249894452665296,
          "",
          0.05559836760896256,
          "",
          "",
          "",
          0.03144271780301122,
          0.5973060123600271,
          0.5116349346345064,
          1.5162776123271016,
          "",
          0.1339118204009607,
          0.14982484151956843,
          0.2831188107178728,
          0.9532943509079888,
          0.9918442411999687,
          "",
          "",
          "",
          0.21154770234999015,
          "",
          1.1259796169594936,
          0.5523578172976527,
          "",
          "",
          0.9232750385681595,
          "",
          1.1291726377591993,
          1.8381404036576863,
          2.2989928024792694,
          1.1115580982740956,
          "",
          1.4642796399102287,
          0.10681797430070561,
          0.6351375525722569,
          1.4388663871158087,
          "",
          2.4990935702808135,
          "",
          1.5902376568928358,
          0.28073057584561767,
          "",
          0.42114651919269985,
          0.06654868604637265,
          1.1028876862923036,
          "",
          1.1919591005163765,
          "",
          ""
         ],
         "yaxis": "y2"
        },
        {
         "connectgaps": false,
         "fill": "tozeroy",
         "line": {
          "color": "red",
          "dash": "solid",
          "shape": "linear",
          "width": 0.5
         },
         "mode": "lines",
         "name": "Spread",
         "showlegend": false,
         "type": "scatter",
         "x": [
          0,
          1,
          2,
          3,
          4,
          5,
          6,
          7,
          8,
          9,
          10,
          11,
          12,
          13,
          14,
          15,
          16,
          17,
          18,
          19,
          20,
          21,
          22,
          23,
          24,
          25,
          26,
          27,
          28,
          29,
          30,
          31,
          32,
          33,
          34,
          35,
          36,
          37,
          38,
          39,
          40,
          41,
          42,
          43,
          44,
          45,
          46,
          47,
          48,
          49,
          50,
          51,
          52,
          53,
          54,
          55,
          56,
          57,
          58,
          59,
          60,
          61,
          62,
          63,
          64,
          65,
          66,
          67,
          68,
          69,
          70,
          71,
          72,
          73,
          74,
          75,
          76,
          77,
          78,
          79,
          80,
          81,
          82,
          83,
          84,
          85,
          86,
          87,
          88,
          89,
          90,
          91,
          92,
          93,
          94,
          95,
          96,
          97,
          98,
          99
         ],
         "xaxis": "x2",
         "y": [
          -0.03771028378243757,
          -0.07193086272626781,
          "",
          -1.5048568735459709,
          "",
          "",
          "",
          "",
          -1.3309505440286284,
          -2.5353287286373476,
          "",
          "",
          "",
          -0.6368930372055768,
          "",
          -0.7155270022473764,
          "",
          "",
          -2.1516000627393184,
          -0.3145974931253541,
          "",
          "",
          "",
          -0.06432742333231092,
          -0.8782311788259997,
          "",
          -3.0011365210246694,
          "",
          "",
          "",
          "",
          -1.030944151471703,
          -0.5239689178178433,
          -0.8209757262058598,
          "",
          "",
          -0.6987953741182512,
          "",
          -0.5727347170043025,
          -1.3953472137259006,
          "",
          "",
          -0.5003944030145642,
          "",
          "",
          -0.31210275026301004,
          "",
          "",
          "",
          "",
          "",
          "",
          -2.201390726636688,
          "",
          -0.9219003856056217,
          -1.0604822427812994,
          -0.18163191057254285,
          "",
          "",
          "",
          "",
          -0.31966329238188146,
          "",
          "",
          "",
          "",
          "",
          -1.140143653203727,
          -1.969112889754748,
          -1.979852587555622,
          "",
          -1.5305225142206704,
          "",
          "",
          -1.2191523851601418,
          -1.5612678144637775,
          "",
          -0.7226501810695519,
          "",
          "",
          "",
          "",
          -0.6816636179445472,
          "",
          "",
          "",
          "",
          -0.644195751606335,
          "",
          -2.578260716518918,
          "",
          "",
          -1.7056292974666576,
          "",
          "",
          "",
          -0.17630361383210136,
          "",
          -1.7450737822807532,
          -0.9919584272941852
         ],
         "yaxis": "y2"
        }
       ],
       "layout": {
        "hovermode": "x",
        "legend": {
         "bgcolor": "#F5F6F9",
         "font": {
          "color": "#4D5663"
         }
        },
        "paper_bgcolor": "#F5F6F9",
        "plot_bgcolor": "#F5F6F9",
        "template": {
         "data": {
          "bar": [
           {
            "error_x": {
             "color": "#2a3f5f"
            },
            "error_y": {
             "color": "#2a3f5f"
            },
            "marker": {
             "line": {
              "color": "#E5ECF6",
              "width": 0.5
             }
            },
            "type": "bar"
           }
          ],
          "barpolar": [
           {
            "marker": {
             "line": {
              "color": "#E5ECF6",
              "width": 0.5
             }
            },
            "type": "barpolar"
           }
          ],
          "carpet": [
           {
            "aaxis": {
             "endlinecolor": "#2a3f5f",
             "gridcolor": "white",
             "linecolor": "white",
             "minorgridcolor": "white",
             "startlinecolor": "#2a3f5f"
            },
            "baxis": {
             "endlinecolor": "#2a3f5f",
             "gridcolor": "white",
             "linecolor": "white",
             "minorgridcolor": "white",
             "startlinecolor": "#2a3f5f"
            },
            "type": "carpet"
           }
          ],
          "choropleth": [
           {
            "colorbar": {
             "outlinewidth": 0,
             "ticks": ""
            },
            "type": "choropleth"
           }
          ],
          "contour": [
           {
            "colorbar": {
             "outlinewidth": 0,
             "ticks": ""
            },
            "colorscale": [
             [
              0,
              "#0d0887"
             ],
             [
              0.1111111111111111,
              "#46039f"
             ],
             [
              0.2222222222222222,
              "#7201a8"
             ],
             [
              0.3333333333333333,
              "#9c179e"
             ],
             [
              0.4444444444444444,
              "#bd3786"
             ],
             [
              0.5555555555555556,
              "#d8576b"
             ],
             [
              0.6666666666666666,
              "#ed7953"
             ],
             [
              0.7777777777777778,
              "#fb9f3a"
             ],
             [
              0.8888888888888888,
              "#fdca26"
             ],
             [
              1,
              "#f0f921"
             ]
            ],
            "type": "contour"
           }
          ],
          "contourcarpet": [
           {
            "colorbar": {
             "outlinewidth": 0,
             "ticks": ""
            },
            "type": "contourcarpet"
           }
          ],
          "heatmap": [
           {
            "colorbar": {
             "outlinewidth": 0,
             "ticks": ""
            },
            "colorscale": [
             [
              0,
              "#0d0887"
             ],
             [
              0.1111111111111111,
              "#46039f"
             ],
             [
              0.2222222222222222,
              "#7201a8"
             ],
             [
              0.3333333333333333,
              "#9c179e"
             ],
             [
              0.4444444444444444,
              "#bd3786"
             ],
             [
              0.5555555555555556,
              "#d8576b"
             ],
             [
              0.6666666666666666,
              "#ed7953"
             ],
             [
              0.7777777777777778,
              "#fb9f3a"
             ],
             [
              0.8888888888888888,
              "#fdca26"
             ],
             [
              1,
              "#f0f921"
             ]
            ],
            "type": "heatmap"
           }
          ],
          "heatmapgl": [
           {
            "colorbar": {
             "outlinewidth": 0,
             "ticks": ""
            },
            "colorscale": [
             [
              0,
              "#0d0887"
             ],
             [
              0.1111111111111111,
              "#46039f"
             ],
             [
              0.2222222222222222,
              "#7201a8"
             ],
             [
              0.3333333333333333,
              "#9c179e"
             ],
             [
              0.4444444444444444,
              "#bd3786"
             ],
             [
              0.5555555555555556,
              "#d8576b"
             ],
             [
              0.6666666666666666,
              "#ed7953"
             ],
             [
              0.7777777777777778,
              "#fb9f3a"
             ],
             [
              0.8888888888888888,
              "#fdca26"
             ],
             [
              1,
              "#f0f921"
             ]
            ],
            "type": "heatmapgl"
           }
          ],
          "histogram": [
           {
            "marker": {
             "colorbar": {
              "outlinewidth": 0,
              "ticks": ""
             }
            },
            "type": "histogram"
           }
          ],
          "histogram2d": [
           {
            "colorbar": {
             "outlinewidth": 0,
             "ticks": ""
            },
            "colorscale": [
             [
              0,
              "#0d0887"
             ],
             [
              0.1111111111111111,
              "#46039f"
             ],
             [
              0.2222222222222222,
              "#7201a8"
             ],
             [
              0.3333333333333333,
              "#9c179e"
             ],
             [
              0.4444444444444444,
              "#bd3786"
             ],
             [
              0.5555555555555556,
              "#d8576b"
             ],
             [
              0.6666666666666666,
              "#ed7953"
             ],
             [
              0.7777777777777778,
              "#fb9f3a"
             ],
             [
              0.8888888888888888,
              "#fdca26"
             ],
             [
              1,
              "#f0f921"
             ]
            ],
            "type": "histogram2d"
           }
          ],
          "histogram2dcontour": [
           {
            "colorbar": {
             "outlinewidth": 0,
             "ticks": ""
            },
            "colorscale": [
             [
              0,
              "#0d0887"
             ],
             [
              0.1111111111111111,
              "#46039f"
             ],
             [
              0.2222222222222222,
              "#7201a8"
             ],
             [
              0.3333333333333333,
              "#9c179e"
             ],
             [
              0.4444444444444444,
              "#bd3786"
             ],
             [
              0.5555555555555556,
              "#d8576b"
             ],
             [
              0.6666666666666666,
              "#ed7953"
             ],
             [
              0.7777777777777778,
              "#fb9f3a"
             ],
             [
              0.8888888888888888,
              "#fdca26"
             ],
             [
              1,
              "#f0f921"
             ]
            ],
            "type": "histogram2dcontour"
           }
          ],
          "mesh3d": [
           {
            "colorbar": {
             "outlinewidth": 0,
             "ticks": ""
            },
            "type": "mesh3d"
           }
          ],
          "parcoords": [
           {
            "line": {
             "colorbar": {
              "outlinewidth": 0,
              "ticks": ""
             }
            },
            "type": "parcoords"
           }
          ],
          "pie": [
           {
            "automargin": true,
            "type": "pie"
           }
          ],
          "scatter": [
           {
            "marker": {
             "colorbar": {
              "outlinewidth": 0,
              "ticks": ""
             }
            },
            "type": "scatter"
           }
          ],
          "scatter3d": [
           {
            "line": {
             "colorbar": {
              "outlinewidth": 0,
              "ticks": ""
             }
            },
            "marker": {
             "colorbar": {
              "outlinewidth": 0,
              "ticks": ""
             }
            },
            "type": "scatter3d"
           }
          ],
          "scattercarpet": [
           {
            "marker": {
             "colorbar": {
              "outlinewidth": 0,
              "ticks": ""
             }
            },
            "type": "scattercarpet"
           }
          ],
          "scattergeo": [
           {
            "marker": {
             "colorbar": {
              "outlinewidth": 0,
              "ticks": ""
             }
            },
            "type": "scattergeo"
           }
          ],
          "scattergl": [
           {
            "marker": {
             "colorbar": {
              "outlinewidth": 0,
              "ticks": ""
             }
            },
            "type": "scattergl"
           }
          ],
          "scattermapbox": [
           {
            "marker": {
             "colorbar": {
              "outlinewidth": 0,
              "ticks": ""
             }
            },
            "type": "scattermapbox"
           }
          ],
          "scatterpolar": [
           {
            "marker": {
             "colorbar": {
              "outlinewidth": 0,
              "ticks": ""
             }
            },
            "type": "scatterpolar"
           }
          ],
          "scatterpolargl": [
           {
            "marker": {
             "colorbar": {
              "outlinewidth": 0,
              "ticks": ""
             }
            },
            "type": "scatterpolargl"
           }
          ],
          "scatterternary": [
           {
            "marker": {
             "colorbar": {
              "outlinewidth": 0,
              "ticks": ""
             }
            },
            "type": "scatterternary"
           }
          ],
          "surface": [
           {
            "colorbar": {
             "outlinewidth": 0,
             "ticks": ""
            },
            "colorscale": [
             [
              0,
              "#0d0887"
             ],
             [
              0.1111111111111111,
              "#46039f"
             ],
             [
              0.2222222222222222,
              "#7201a8"
             ],
             [
              0.3333333333333333,
              "#9c179e"
             ],
             [
              0.4444444444444444,
              "#bd3786"
             ],
             [
              0.5555555555555556,
              "#d8576b"
             ],
             [
              0.6666666666666666,
              "#ed7953"
             ],
             [
              0.7777777777777778,
              "#fb9f3a"
             ],
             [
              0.8888888888888888,
              "#fdca26"
             ],
             [
              1,
              "#f0f921"
             ]
            ],
            "type": "surface"
           }
          ],
          "table": [
           {
            "cells": {
             "fill": {
              "color": "#EBF0F8"
             },
             "line": {
              "color": "white"
             }
            },
            "header": {
             "fill": {
              "color": "#C8D4E3"
             },
             "line": {
              "color": "white"
             }
            },
            "type": "table"
           }
          ]
         },
         "layout": {
          "annotationdefaults": {
           "arrowcolor": "#2a3f5f",
           "arrowhead": 0,
           "arrowwidth": 1
          },
          "autotypenumbers": "strict",
          "coloraxis": {
           "colorbar": {
            "outlinewidth": 0,
            "ticks": ""
           }
          },
          "colorscale": {
           "diverging": [
            [
             0,
             "#8e0152"
            ],
            [
             0.1,
             "#c51b7d"
            ],
            [
             0.2,
             "#de77ae"
            ],
            [
             0.3,
             "#f1b6da"
            ],
            [
             0.4,
             "#fde0ef"
            ],
            [
             0.5,
             "#f7f7f7"
            ],
            [
             0.6,
             "#e6f5d0"
            ],
            [
             0.7,
             "#b8e186"
            ],
            [
             0.8,
             "#7fbc41"
            ],
            [
             0.9,
             "#4d9221"
            ],
            [
             1,
             "#276419"
            ]
           ],
           "sequential": [
            [
             0,
             "#0d0887"
            ],
            [
             0.1111111111111111,
             "#46039f"
            ],
            [
             0.2222222222222222,
             "#7201a8"
            ],
            [
             0.3333333333333333,
             "#9c179e"
            ],
            [
             0.4444444444444444,
             "#bd3786"
            ],
            [
             0.5555555555555556,
             "#d8576b"
            ],
            [
             0.6666666666666666,
             "#ed7953"
            ],
            [
             0.7777777777777778,
             "#fb9f3a"
            ],
            [
             0.8888888888888888,
             "#fdca26"
            ],
            [
             1,
             "#f0f921"
            ]
           ],
           "sequentialminus": [
            [
             0,
             "#0d0887"
            ],
            [
             0.1111111111111111,
             "#46039f"
            ],
            [
             0.2222222222222222,
             "#7201a8"
            ],
            [
             0.3333333333333333,
             "#9c179e"
            ],
            [
             0.4444444444444444,
             "#bd3786"
            ],
            [
             0.5555555555555556,
             "#d8576b"
            ],
            [
             0.6666666666666666,
             "#ed7953"
            ],
            [
             0.7777777777777778,
             "#fb9f3a"
            ],
            [
             0.8888888888888888,
             "#fdca26"
            ],
            [
             1,
             "#f0f921"
            ]
           ]
          },
          "colorway": [
           "#636efa",
           "#EF553B",
           "#00cc96",
           "#ab63fa",
           "#FFA15A",
           "#19d3f3",
           "#FF6692",
           "#B6E880",
           "#FF97FF",
           "#FECB52"
          ],
          "font": {
           "color": "#2a3f5f"
          },
          "geo": {
           "bgcolor": "white",
           "lakecolor": "white",
           "landcolor": "#E5ECF6",
           "showlakes": true,
           "showland": true,
           "subunitcolor": "white"
          },
          "hoverlabel": {
           "align": "left"
          },
          "hovermode": "closest",
          "mapbox": {
           "style": "light"
          },
          "paper_bgcolor": "white",
          "plot_bgcolor": "#E5ECF6",
          "polar": {
           "angularaxis": {
            "gridcolor": "white",
            "linecolor": "white",
            "ticks": ""
           },
           "bgcolor": "#E5ECF6",
           "radialaxis": {
            "gridcolor": "white",
            "linecolor": "white",
            "ticks": ""
           }
          },
          "scene": {
           "xaxis": {
            "backgroundcolor": "#E5ECF6",
            "gridcolor": "white",
            "gridwidth": 2,
            "linecolor": "white",
            "showbackground": true,
            "ticks": "",
            "zerolinecolor": "white"
           },
           "yaxis": {
            "backgroundcolor": "#E5ECF6",
            "gridcolor": "white",
            "gridwidth": 2,
            "linecolor": "white",
            "showbackground": true,
            "ticks": "",
            "zerolinecolor": "white"
           },
           "zaxis": {
            "backgroundcolor": "#E5ECF6",
            "gridcolor": "white",
            "gridwidth": 2,
            "linecolor": "white",
            "showbackground": true,
            "ticks": "",
            "zerolinecolor": "white"
           }
          },
          "shapedefaults": {
           "line": {
            "color": "#2a3f5f"
           }
          },
          "ternary": {
           "aaxis": {
            "gridcolor": "white",
            "linecolor": "white",
            "ticks": ""
           },
           "baxis": {
            "gridcolor": "white",
            "linecolor": "white",
            "ticks": ""
           },
           "bgcolor": "#E5ECF6",
           "caxis": {
            "gridcolor": "white",
            "linecolor": "white",
            "ticks": ""
           }
          },
          "title": {
           "x": 0.05
          },
          "xaxis": {
           "automargin": true,
           "gridcolor": "white",
           "linecolor": "white",
           "ticks": "",
           "title": {
            "standoff": 15
           },
           "zerolinecolor": "white",
           "zerolinewidth": 2
          },
          "yaxis": {
           "automargin": true,
           "gridcolor": "white",
           "linecolor": "white",
           "ticks": "",
           "title": {
            "standoff": 15
           },
           "zerolinecolor": "white",
           "zerolinewidth": 2
          }
         }
        },
        "title": {
         "font": {
          "color": "#4D5663"
         }
        },
        "xaxis": {
         "gridcolor": "#E1E5ED",
         "showgrid": true,
         "tickfont": {
          "color": "#4D5663"
         },
         "title": {
          "font": {
           "color": "#4D5663"
          },
          "text": ""
         },
         "zerolinecolor": "#E1E5ED"
        },
        "xaxis2": {
         "anchor": "y2",
         "gridcolor": "#E1E5ED",
         "showgrid": true,
         "showticklabels": false,
         "tickfont": {
          "color": "#4D5663"
         },
         "title": {
          "font": {
           "color": "#4D5663"
          },
          "text": ""
         },
         "zerolinecolor": "#E1E5ED"
        },
        "yaxis": {
         "domain": [
          0.3,
          1
         ],
         "gridcolor": "#E1E5ED",
         "showgrid": true,
         "tickfont": {
          "color": "#4D5663"
         },
         "title": {
          "font": {
           "color": "#4D5663"
          },
          "text": ""
         },
         "zerolinecolor": "#E1E5ED"
        },
        "yaxis2": {
         "domain": [
          0,
          0.25
         ],
         "gridcolor": "#E1E5ED",
         "showgrid": true,
         "tickfont": {
          "color": "#4D5663"
         },
         "title": {
          "font": {
           "color": "#4D5663"
          },
          "text": "Spread"
         },
         "zerolinecolor": "#E1E5ED"
        }
       }
      },
      "text/html": [
       "<div>                            <div id=\"ecfff859-68ad-4656-8b75-363d64fc3fcc\" class=\"plotly-graph-div\" style=\"height:525px; width:100%;\"></div>            <script type=\"text/javascript\">                require([\"plotly\"], function(Plotly) {                    window.PLOTLYENV=window.PLOTLYENV || {};\n",
       "                    window.PLOTLYENV.BASE_URL='https://plot.ly';                                    if (document.getElementById(\"ecfff859-68ad-4656-8b75-363d64fc3fcc\")) {                    Plotly.newPlot(                        \"ecfff859-68ad-4656-8b75-363d64fc3fcc\",                        [{\"line\": {\"color\": \"rgba(255, 153, 51, 1.0)\", \"dash\": \"solid\", \"shape\": \"linear\", \"width\": 1.3}, \"mode\": \"lines\", \"name\": \"A\", \"text\": \"\", \"type\": \"scatter\", \"x\": [0, 1, 2, 3, 4, 5, 6, 7, 8, 9, 10, 11, 12, 13, 14, 15, 16, 17, 18, 19, 20, 21, 22, 23, 24, 25, 26, 27, 28, 29, 30, 31, 32, 33, 34, 35, 36, 37, 38, 39, 40, 41, 42, 43, 44, 45, 46, 47, 48, 49, 50, 51, 52, 53, 54, 55, 56, 57, 58, 59, 60, 61, 62, 63, 64, 65, 66, 67, 68, 69, 70, 71, 72, 73, 74, 75, 76, 77, 78, 79, 80, 81, 82, 83, 84, 85, 86, 87, 88, 89, 90, 91, 92, 93, 94, 95, 96, 97, 98, 99], \"y\": [0.41760155225455636, 0.5261400468723789, 0.5683423096739474, -0.8222461098210078, 0.5445007517236217, 0.5909299879074099, 2.039579362940726, 0.6262088723800441, 0.19694594037636828, -3.0228983065582167, 0.20013434662272542, 0.7897393701529026, -1.2860106647372174, -1.209894031210368, 1.4991812102081934, 0.35295100673971, 1.6068652128980419, 0.44659510774809213, -0.6767341021203152, 0.867598499054683, 1.449819695873904, 1.3191900045864868, -0.024513457915711818, 0.18460391533600704, -0.23177229636727062, 1.1887447336595125, -1.5984486384334315, -0.4791939980881674, 0.45443684003122853, 1.1858647312666772, 0.6300812899870222, -0.9076010322718687, -1.0366066556848483, -0.6364365731046352, 0.797019857738389, 0.5601019577303988, -1.4652829651387353, 1.3517284564656338, 0.19750781481677754, -1.128982113739443, -0.01754605735598141, -0.044891495186233005, -0.8010310910031381, -0.30335402548602247, -0.3418257891963359, -1.1904895976608356, 0.4408253515736436, 1.6929673822638678, -0.3508487647510596, 0.6929015015943848, 0.6704346008145055, 0.5019071084632046, -1.9676005808992338, 0.2523635759175683, -0.13769847181233172, -0.5937099301262257, -0.4946241603235603, 1.438623954125982, -0.3908975591294168, 1.5713106951819324, 0.8552659204102937, 0.24516086205370485, 0.2888971604931386, -0.14709909178975228, -0.57481584660485, 0.6549006606048943, 0.17296055568917387, -1.1992032201677807, -0.7056304144096323, -2.2219667883329373, -0.24281236415007146, -1.530315772894537, 0.1423184582985676, -0.24145116574300846, -0.30577559894924256, -1.9700879316648785, 1.552930248971835, -0.6550718586352199, 1.62122878034275, 1.167262884154505, -0.04828735125770609, 1.446278149666796, -0.4026852504538263, 2.2068846765818995, 1.2032324446589693, 1.2451406579941515, 0.5746429329620883, 0.025993186182502948, 1.646829572457141, -1.2970898328462357, 0.8804446701276977, -0.6672298832100317, -0.2551538650516365, -0.20516968130389845, -0.1893699347371977, 1.2822922950580091, -0.259250383046811, 1.0005601672190672, -1.1550813022509543, -1.5016589825132562]}, {\"line\": {\"color\": \"rgba(55, 128, 191, 1.0)\", \"dash\": \"solid\", \"shape\": \"linear\", \"width\": 1.3}, \"mode\": \"lines\", \"name\": \"B\", \"text\": \"\", \"type\": \"scatter\", \"x\": [0, 1, 2, 3, 4, 5, 6, 7, 8, 9, 10, 11, 12, 13, 14, 15, 16, 17, 18, 19, 20, 21, 22, 23, 24, 25, 26, 27, 28, 29, 30, 31, 32, 33, 34, 35, 36, 37, 38, 39, 40, 41, 42, 43, 44, 45, 46, 47, 48, 49, 50, 51, 52, 53, 54, 55, 56, 57, 58, 59, 60, 61, 62, 63, 64, 65, 66, 67, 68, 69, 70, 71, 72, 73, 74, 75, 76, 77, 78, 79, 80, 81, 82, 83, 84, 85, 86, 87, 88, 89, 90, 91, 92, 93, 94, 95, 96, 97, 98, 99], \"y\": [0.45531183603699393, 0.5980709095986467, -0.34994300438479303, 0.682610763724963, -1.4542337018715585, -0.3769121673601374, -0.6387922806675909, -0.7260129686538656, 1.5278964844049967, -0.48756957792086913, 0.05434385648508415, 0.7506522319974177, -1.9413341849808416, -0.5730009940047913, -1.1003505963827607, 1.0684780089870864, -0.8653245918742982, -1.1659141525288483, 1.4748659606190033, 1.1821959921800371, -0.7461798246499382, 0.48999175008102147, -0.673992626184721, 0.24893133866831796, 0.6464588824587291, -0.1461097428226522, 1.4026878825912379, -0.4985833083140884, -0.14469994922942367, -2.089059080119697, 0.2579102415048242, 0.1233431191998344, -0.5126377378670051, 0.1845391531012246, 0.26227917881843976, -2.517400123945921, -0.7664875910204841, 1.2515981143552763, 0.77024253182108, 0.2663650999864578, -0.31410429215510044, -0.7595707679642624, -0.30063668798857396, -1.3659417049110871, -0.7385023938161782, -0.8783868473978256, -1.386658644809201, -0.425338368256794, -0.6707201032633747, 0.3639683078524173, -0.6252515176436683, -0.7479873442020913, 0.23379014573745413, 0.19676520830860575, 0.78420191379329, 0.4667723126550738, -0.31299224975101747, 1.4071812363229708, -0.9882035714894439, 1.059675760547426, -0.661011691916808, 0.5648241544355863, 0.15498534009217793, -0.2969239333093207, -0.8579346573227228, -0.2983936903030944, -0.8188836855107948, -0.05905956696405363, 1.2634824753451157, -0.24211420077731516, -0.4543600665000616, 0.00020674132613351752, -0.983661158660926, -0.7938089830406612, 0.9133767862108992, -0.40882011720110095, 0.6296552104036756, 0.067578322434332, 0.49205614258355074, -0.6708775195031813, -2.3472801537369756, 0.3347200513927004, 0.27897836749072086, 0.7426050366716708, 1.0964144703582637, 0.6100031054218946, -0.8642234541537205, 0.6701889377888379, -0.8522639978236726, 1.2811708836726825, -0.709792986765138, -0.9479604590556494, 1.450475432415021, -0.6263162004965983, -0.25591862078357036, 0.1794046087657056, -0.08294676921470963, -0.19139893329730934, 0.589992480029799, -0.5097005552190711]}, {\"connectgaps\": false, \"fill\": \"tozeroy\", \"line\": {\"color\": \"green\", \"dash\": \"solid\", \"shape\": \"linear\", \"width\": 0.5}, \"mode\": \"lines\", \"name\": \"Spread\", \"showlegend\": false, \"type\": \"scatter\", \"x\": [0, 1, 2, 3, 4, 5, 6, 7, 8, 9, 10, 11, 12, 13, 14, 15, 16, 17, 18, 19, 20, 21, 22, 23, 24, 25, 26, 27, 28, 29, 30, 31, 32, 33, 34, 35, 36, 37, 38, 39, 40, 41, 42, 43, 44, 45, 46, 47, 48, 49, 50, 51, 52, 53, 54, 55, 56, 57, 58, 59, 60, 61, 62, 63, 64, 65, 66, 67, 68, 69, 70, 71, 72, 73, 74, 75, 76, 77, 78, 79, 80, 81, 82, 83, 84, 85, 86, 87, 88, 89, 90, 91, 92, 93, 94, 95, 96, 97, 98, 99], \"xaxis\": \"x2\", \"y\": [\"\", \"\", 0.9182853140587404, \"\", 1.9987344535951803, 0.9678421552675474, 2.678371643608317, 1.3522218410339097, \"\", \"\", 0.14579049013764128, 0.039087138155484924, 0.6553235202436243, \"\", 2.599531806590954, \"\", 2.47218980477234, 1.6125092602769404, \"\", \"\", 2.1959995205238423, 0.8291982545054654, 0.6494791682690092, \"\", \"\", 1.3348544764821648, \"\", 0.019389310225920997, 0.5991367892606522, 3.2749238113863743, 0.37217104848219795, \"\", \"\", \"\", 0.5347406789199493, 3.07750208167632, \"\", 0.10013034211035743, \"\", \"\", 0.296558234799119, 0.7146792727780293, \"\", 1.0625876794250646, 0.39667660461984233, \"\", 1.8274839963828446, 2.118305750520662, 0.31987133851231514, 0.3289331937419675, 1.2956861184581738, 1.249894452665296, \"\", 0.05559836760896256, \"\", \"\", \"\", 0.03144271780301122, 0.5973060123600271, 0.5116349346345064, 1.5162776123271016, \"\", 0.1339118204009607, 0.14982484151956843, 0.2831188107178728, 0.9532943509079888, 0.9918442411999687, \"\", \"\", \"\", 0.21154770234999015, \"\", 1.1259796169594936, 0.5523578172976527, \"\", \"\", 0.9232750385681595, \"\", 1.1291726377591993, 1.8381404036576863, 2.2989928024792694, 1.1115580982740956, \"\", 1.4642796399102287, 0.10681797430070561, 0.6351375525722569, 1.4388663871158087, \"\", 2.4990935702808135, \"\", 1.5902376568928358, 0.28073057584561767, \"\", 0.42114651919269985, 0.06654868604637265, 1.1028876862923036, \"\", 1.1919591005163765, \"\", \"\"], \"yaxis\": \"y2\"}, {\"connectgaps\": false, \"fill\": \"tozeroy\", \"line\": {\"color\": \"red\", \"dash\": \"solid\", \"shape\": \"linear\", \"width\": 0.5}, \"mode\": \"lines\", \"name\": \"Spread\", \"showlegend\": false, \"type\": \"scatter\", \"x\": [0, 1, 2, 3, 4, 5, 6, 7, 8, 9, 10, 11, 12, 13, 14, 15, 16, 17, 18, 19, 20, 21, 22, 23, 24, 25, 26, 27, 28, 29, 30, 31, 32, 33, 34, 35, 36, 37, 38, 39, 40, 41, 42, 43, 44, 45, 46, 47, 48, 49, 50, 51, 52, 53, 54, 55, 56, 57, 58, 59, 60, 61, 62, 63, 64, 65, 66, 67, 68, 69, 70, 71, 72, 73, 74, 75, 76, 77, 78, 79, 80, 81, 82, 83, 84, 85, 86, 87, 88, 89, 90, 91, 92, 93, 94, 95, 96, 97, 98, 99], \"xaxis\": \"x2\", \"y\": [-0.03771028378243757, -0.07193086272626781, \"\", -1.5048568735459709, \"\", \"\", \"\", \"\", -1.3309505440286284, -2.5353287286373476, \"\", \"\", \"\", -0.6368930372055768, \"\", -0.7155270022473764, \"\", \"\", -2.1516000627393184, -0.3145974931253541, \"\", \"\", \"\", -0.06432742333231092, -0.8782311788259997, \"\", -3.0011365210246694, \"\", \"\", \"\", \"\", -1.030944151471703, -0.5239689178178433, -0.8209757262058598, \"\", \"\", -0.6987953741182512, \"\", -0.5727347170043025, -1.3953472137259006, \"\", \"\", -0.5003944030145642, \"\", \"\", -0.31210275026301004, \"\", \"\", \"\", \"\", \"\", \"\", -2.201390726636688, \"\", -0.9219003856056217, -1.0604822427812994, -0.18163191057254285, \"\", \"\", \"\", \"\", -0.31966329238188146, \"\", \"\", \"\", \"\", \"\", -1.140143653203727, -1.969112889754748, -1.979852587555622, \"\", -1.5305225142206704, \"\", \"\", -1.2191523851601418, -1.5612678144637775, \"\", -0.7226501810695519, \"\", \"\", \"\", \"\", -0.6816636179445472, \"\", \"\", \"\", \"\", -0.644195751606335, \"\", -2.578260716518918, \"\", \"\", -1.7056292974666576, \"\", \"\", \"\", -0.17630361383210136, \"\", -1.7450737822807532, -0.9919584272941852], \"yaxis\": \"y2\"}],                        {\"hovermode\": \"x\", \"legend\": {\"bgcolor\": \"#F5F6F9\", \"font\": {\"color\": \"#4D5663\"}}, \"paper_bgcolor\": \"#F5F6F9\", \"plot_bgcolor\": \"#F5F6F9\", \"template\": {\"data\": {\"bar\": [{\"error_x\": {\"color\": \"#2a3f5f\"}, \"error_y\": {\"color\": \"#2a3f5f\"}, \"marker\": {\"line\": {\"color\": \"#E5ECF6\", \"width\": 0.5}}, \"type\": \"bar\"}], \"barpolar\": [{\"marker\": {\"line\": {\"color\": \"#E5ECF6\", \"width\": 0.5}}, \"type\": \"barpolar\"}], \"carpet\": [{\"aaxis\": {\"endlinecolor\": \"#2a3f5f\", \"gridcolor\": \"white\", \"linecolor\": \"white\", \"minorgridcolor\": \"white\", \"startlinecolor\": \"#2a3f5f\"}, \"baxis\": {\"endlinecolor\": \"#2a3f5f\", \"gridcolor\": \"white\", \"linecolor\": \"white\", \"minorgridcolor\": \"white\", \"startlinecolor\": \"#2a3f5f\"}, \"type\": \"carpet\"}], \"choropleth\": [{\"colorbar\": {\"outlinewidth\": 0, \"ticks\": \"\"}, \"type\": \"choropleth\"}], \"contour\": [{\"colorbar\": {\"outlinewidth\": 0, \"ticks\": \"\"}, \"colorscale\": [[0.0, \"#0d0887\"], [0.1111111111111111, \"#46039f\"], [0.2222222222222222, \"#7201a8\"], [0.3333333333333333, \"#9c179e\"], [0.4444444444444444, \"#bd3786\"], [0.5555555555555556, \"#d8576b\"], [0.6666666666666666, \"#ed7953\"], [0.7777777777777778, \"#fb9f3a\"], [0.8888888888888888, \"#fdca26\"], [1.0, \"#f0f921\"]], \"type\": \"contour\"}], \"contourcarpet\": [{\"colorbar\": {\"outlinewidth\": 0, \"ticks\": \"\"}, \"type\": \"contourcarpet\"}], \"heatmap\": [{\"colorbar\": {\"outlinewidth\": 0, \"ticks\": \"\"}, \"colorscale\": [[0.0, \"#0d0887\"], [0.1111111111111111, \"#46039f\"], [0.2222222222222222, \"#7201a8\"], [0.3333333333333333, \"#9c179e\"], [0.4444444444444444, \"#bd3786\"], [0.5555555555555556, \"#d8576b\"], [0.6666666666666666, \"#ed7953\"], [0.7777777777777778, \"#fb9f3a\"], [0.8888888888888888, \"#fdca26\"], [1.0, \"#f0f921\"]], \"type\": \"heatmap\"}], \"heatmapgl\": [{\"colorbar\": {\"outlinewidth\": 0, \"ticks\": \"\"}, \"colorscale\": [[0.0, \"#0d0887\"], [0.1111111111111111, \"#46039f\"], [0.2222222222222222, \"#7201a8\"], [0.3333333333333333, \"#9c179e\"], [0.4444444444444444, \"#bd3786\"], [0.5555555555555556, \"#d8576b\"], [0.6666666666666666, \"#ed7953\"], [0.7777777777777778, \"#fb9f3a\"], [0.8888888888888888, \"#fdca26\"], [1.0, \"#f0f921\"]], \"type\": \"heatmapgl\"}], \"histogram\": [{\"marker\": {\"colorbar\": {\"outlinewidth\": 0, \"ticks\": \"\"}}, \"type\": \"histogram\"}], \"histogram2d\": [{\"colorbar\": {\"outlinewidth\": 0, \"ticks\": \"\"}, \"colorscale\": [[0.0, \"#0d0887\"], [0.1111111111111111, \"#46039f\"], [0.2222222222222222, \"#7201a8\"], [0.3333333333333333, \"#9c179e\"], [0.4444444444444444, \"#bd3786\"], [0.5555555555555556, \"#d8576b\"], [0.6666666666666666, \"#ed7953\"], [0.7777777777777778, \"#fb9f3a\"], [0.8888888888888888, \"#fdca26\"], [1.0, \"#f0f921\"]], \"type\": \"histogram2d\"}], \"histogram2dcontour\": [{\"colorbar\": {\"outlinewidth\": 0, \"ticks\": \"\"}, \"colorscale\": [[0.0, \"#0d0887\"], [0.1111111111111111, \"#46039f\"], [0.2222222222222222, \"#7201a8\"], [0.3333333333333333, \"#9c179e\"], [0.4444444444444444, \"#bd3786\"], [0.5555555555555556, \"#d8576b\"], [0.6666666666666666, \"#ed7953\"], [0.7777777777777778, \"#fb9f3a\"], [0.8888888888888888, \"#fdca26\"], [1.0, \"#f0f921\"]], \"type\": \"histogram2dcontour\"}], \"mesh3d\": [{\"colorbar\": {\"outlinewidth\": 0, \"ticks\": \"\"}, \"type\": \"mesh3d\"}], \"parcoords\": [{\"line\": {\"colorbar\": {\"outlinewidth\": 0, \"ticks\": \"\"}}, \"type\": \"parcoords\"}], \"pie\": [{\"automargin\": true, \"type\": \"pie\"}], \"scatter\": [{\"marker\": {\"colorbar\": {\"outlinewidth\": 0, \"ticks\": \"\"}}, \"type\": \"scatter\"}], \"scatter3d\": [{\"line\": {\"colorbar\": {\"outlinewidth\": 0, \"ticks\": \"\"}}, \"marker\": {\"colorbar\": {\"outlinewidth\": 0, \"ticks\": \"\"}}, \"type\": \"scatter3d\"}], \"scattercarpet\": [{\"marker\": {\"colorbar\": {\"outlinewidth\": 0, \"ticks\": \"\"}}, \"type\": \"scattercarpet\"}], \"scattergeo\": [{\"marker\": {\"colorbar\": {\"outlinewidth\": 0, \"ticks\": \"\"}}, \"type\": \"scattergeo\"}], \"scattergl\": [{\"marker\": {\"colorbar\": {\"outlinewidth\": 0, \"ticks\": \"\"}}, \"type\": \"scattergl\"}], \"scattermapbox\": [{\"marker\": {\"colorbar\": {\"outlinewidth\": 0, \"ticks\": \"\"}}, \"type\": \"scattermapbox\"}], \"scatterpolar\": [{\"marker\": {\"colorbar\": {\"outlinewidth\": 0, \"ticks\": \"\"}}, \"type\": \"scatterpolar\"}], \"scatterpolargl\": [{\"marker\": {\"colorbar\": {\"outlinewidth\": 0, \"ticks\": \"\"}}, \"type\": \"scatterpolargl\"}], \"scatterternary\": [{\"marker\": {\"colorbar\": {\"outlinewidth\": 0, \"ticks\": \"\"}}, \"type\": \"scatterternary\"}], \"surface\": [{\"colorbar\": {\"outlinewidth\": 0, \"ticks\": \"\"}, \"colorscale\": [[0.0, \"#0d0887\"], [0.1111111111111111, \"#46039f\"], [0.2222222222222222, \"#7201a8\"], [0.3333333333333333, \"#9c179e\"], [0.4444444444444444, \"#bd3786\"], [0.5555555555555556, \"#d8576b\"], [0.6666666666666666, \"#ed7953\"], [0.7777777777777778, \"#fb9f3a\"], [0.8888888888888888, \"#fdca26\"], [1.0, \"#f0f921\"]], \"type\": \"surface\"}], \"table\": [{\"cells\": {\"fill\": {\"color\": \"#EBF0F8\"}, \"line\": {\"color\": \"white\"}}, \"header\": {\"fill\": {\"color\": \"#C8D4E3\"}, \"line\": {\"color\": \"white\"}}, \"type\": \"table\"}]}, \"layout\": {\"annotationdefaults\": {\"arrowcolor\": \"#2a3f5f\", \"arrowhead\": 0, \"arrowwidth\": 1}, \"autotypenumbers\": \"strict\", \"coloraxis\": {\"colorbar\": {\"outlinewidth\": 0, \"ticks\": \"\"}}, \"colorscale\": {\"diverging\": [[0, \"#8e0152\"], [0.1, \"#c51b7d\"], [0.2, \"#de77ae\"], [0.3, \"#f1b6da\"], [0.4, \"#fde0ef\"], [0.5, \"#f7f7f7\"], [0.6, \"#e6f5d0\"], [0.7, \"#b8e186\"], [0.8, \"#7fbc41\"], [0.9, \"#4d9221\"], [1, \"#276419\"]], \"sequential\": [[0.0, \"#0d0887\"], [0.1111111111111111, \"#46039f\"], [0.2222222222222222, \"#7201a8\"], [0.3333333333333333, \"#9c179e\"], [0.4444444444444444, \"#bd3786\"], [0.5555555555555556, \"#d8576b\"], [0.6666666666666666, \"#ed7953\"], [0.7777777777777778, \"#fb9f3a\"], [0.8888888888888888, \"#fdca26\"], [1.0, \"#f0f921\"]], \"sequentialminus\": [[0.0, \"#0d0887\"], [0.1111111111111111, \"#46039f\"], [0.2222222222222222, \"#7201a8\"], [0.3333333333333333, \"#9c179e\"], [0.4444444444444444, \"#bd3786\"], [0.5555555555555556, \"#d8576b\"], [0.6666666666666666, \"#ed7953\"], [0.7777777777777778, \"#fb9f3a\"], [0.8888888888888888, \"#fdca26\"], [1.0, \"#f0f921\"]]}, \"colorway\": [\"#636efa\", \"#EF553B\", \"#00cc96\", \"#ab63fa\", \"#FFA15A\", \"#19d3f3\", \"#FF6692\", \"#B6E880\", \"#FF97FF\", \"#FECB52\"], \"font\": {\"color\": \"#2a3f5f\"}, \"geo\": {\"bgcolor\": \"white\", \"lakecolor\": \"white\", \"landcolor\": \"#E5ECF6\", \"showlakes\": true, \"showland\": true, \"subunitcolor\": \"white\"}, \"hoverlabel\": {\"align\": \"left\"}, \"hovermode\": \"closest\", \"mapbox\": {\"style\": \"light\"}, \"paper_bgcolor\": \"white\", \"plot_bgcolor\": \"#E5ECF6\", \"polar\": {\"angularaxis\": {\"gridcolor\": \"white\", \"linecolor\": \"white\", \"ticks\": \"\"}, \"bgcolor\": \"#E5ECF6\", \"radialaxis\": {\"gridcolor\": \"white\", \"linecolor\": \"white\", \"ticks\": \"\"}}, \"scene\": {\"xaxis\": {\"backgroundcolor\": \"#E5ECF6\", \"gridcolor\": \"white\", \"gridwidth\": 2, \"linecolor\": \"white\", \"showbackground\": true, \"ticks\": \"\", \"zerolinecolor\": \"white\"}, \"yaxis\": {\"backgroundcolor\": \"#E5ECF6\", \"gridcolor\": \"white\", \"gridwidth\": 2, \"linecolor\": \"white\", \"showbackground\": true, \"ticks\": \"\", \"zerolinecolor\": \"white\"}, \"zaxis\": {\"backgroundcolor\": \"#E5ECF6\", \"gridcolor\": \"white\", \"gridwidth\": 2, \"linecolor\": \"white\", \"showbackground\": true, \"ticks\": \"\", \"zerolinecolor\": \"white\"}}, \"shapedefaults\": {\"line\": {\"color\": \"#2a3f5f\"}}, \"ternary\": {\"aaxis\": {\"gridcolor\": \"white\", \"linecolor\": \"white\", \"ticks\": \"\"}, \"baxis\": {\"gridcolor\": \"white\", \"linecolor\": \"white\", \"ticks\": \"\"}, \"bgcolor\": \"#E5ECF6\", \"caxis\": {\"gridcolor\": \"white\", \"linecolor\": \"white\", \"ticks\": \"\"}}, \"title\": {\"x\": 0.05}, \"xaxis\": {\"automargin\": true, \"gridcolor\": \"white\", \"linecolor\": \"white\", \"ticks\": \"\", \"title\": {\"standoff\": 15}, \"zerolinecolor\": \"white\", \"zerolinewidth\": 2}, \"yaxis\": {\"automargin\": true, \"gridcolor\": \"white\", \"linecolor\": \"white\", \"ticks\": \"\", \"title\": {\"standoff\": 15}, \"zerolinecolor\": \"white\", \"zerolinewidth\": 2}}}, \"title\": {\"font\": {\"color\": \"#4D5663\"}}, \"xaxis\": {\"gridcolor\": \"#E1E5ED\", \"showgrid\": true, \"tickfont\": {\"color\": \"#4D5663\"}, \"title\": {\"font\": {\"color\": \"#4D5663\"}, \"text\": \"\"}, \"zerolinecolor\": \"#E1E5ED\"}, \"xaxis2\": {\"anchor\": \"y2\", \"gridcolor\": \"#E1E5ED\", \"showgrid\": true, \"showticklabels\": false, \"tickfont\": {\"color\": \"#4D5663\"}, \"title\": {\"font\": {\"color\": \"#4D5663\"}, \"text\": \"\"}, \"zerolinecolor\": \"#E1E5ED\"}, \"yaxis\": {\"domain\": [0.3, 1], \"gridcolor\": \"#E1E5ED\", \"showgrid\": true, \"tickfont\": {\"color\": \"#4D5663\"}, \"title\": {\"font\": {\"color\": \"#4D5663\"}, \"text\": \"\"}, \"zerolinecolor\": \"#E1E5ED\"}, \"yaxis2\": {\"domain\": [0, 0.25], \"gridcolor\": \"#E1E5ED\", \"showgrid\": true, \"tickfont\": {\"color\": \"#4D5663\"}, \"title\": {\"font\": {\"color\": \"#4D5663\"}, \"text\": \"Spread\"}, \"zerolinecolor\": \"#E1E5ED\"}},                        {\"showLink\": true, \"linkText\": \"Export to plot.ly\", \"plotlyServerURL\": \"https://plot.ly\", \"responsive\": true}                    ).then(function(){\n",
       "                            \n",
       "var gd = document.getElementById('ecfff859-68ad-4656-8b75-363d64fc3fcc');\n",
       "var x = new MutationObserver(function (mutations, observer) {{\n",
       "        var display = window.getComputedStyle(gd).display;\n",
       "        if (!display || display === 'none') {{\n",
       "            console.log([gd, 'removed!']);\n",
       "            Plotly.purge(gd);\n",
       "            observer.disconnect();\n",
       "        }}\n",
       "}});\n",
       "\n",
       "// Listen for the removal of the full notebook cells\n",
       "var notebookContainer = gd.closest('#notebook-container');\n",
       "if (notebookContainer) {{\n",
       "    x.observe(notebookContainer, {childList: true});\n",
       "}}\n",
       "\n",
       "// Listen for the clearing of the current output cell\n",
       "var outputEl = gd.closest('.output');\n",
       "if (outputEl) {{\n",
       "    x.observe(outputEl, {childList: true});\n",
       "}}\n",
       "\n",
       "                        })                };                });            </script>        </div>"
      ]
     },
     "metadata": {},
     "output_type": "display_data"
    }
   ],
   "source": [
    "df[['A','B']].iplot(kind='spread')"
   ]
  },
  {
   "cell_type": "markdown",
   "metadata": {},
   "source": [
    "## histogram"
   ]
  },
  {
   "cell_type": "code",
   "execution_count": 16,
   "metadata": {},
   "outputs": [
    {
     "data": {
      "application/vnd.plotly.v1+json": {
       "config": {
        "linkText": "Export to plot.ly",
        "plotlyServerURL": "https://plot.ly",
        "showLink": true
       },
       "data": [
        {
         "histfunc": "count",
         "histnorm": "",
         "marker": {
          "color": "rgba(255, 153, 51, 1.0)",
          "line": {
           "color": "#4D5663",
           "width": 1.3
          }
         },
         "name": "A",
         "nbinsx": 25,
         "opacity": 0.8,
         "orientation": "v",
         "type": "histogram",
         "x": [
          0.41760155225455636,
          0.5261400468723789,
          0.5683423096739474,
          -0.8222461098210078,
          0.5445007517236217,
          0.5909299879074099,
          2.039579362940726,
          0.6262088723800441,
          0.19694594037636828,
          -3.0228983065582167,
          0.20013434662272542,
          0.7897393701529026,
          -1.2860106647372174,
          -1.209894031210368,
          1.4991812102081934,
          0.35295100673971,
          1.6068652128980419,
          0.44659510774809213,
          -0.6767341021203152,
          0.867598499054683,
          1.449819695873904,
          1.3191900045864868,
          -0.024513457915711818,
          0.18460391533600704,
          -0.23177229636727062,
          1.1887447336595125,
          -1.5984486384334315,
          -0.4791939980881674,
          0.45443684003122853,
          1.1858647312666772,
          0.6300812899870222,
          -0.9076010322718687,
          -1.0366066556848483,
          -0.6364365731046352,
          0.797019857738389,
          0.5601019577303988,
          -1.4652829651387353,
          1.3517284564656338,
          0.19750781481677754,
          -1.128982113739443,
          -0.01754605735598141,
          -0.044891495186233005,
          -0.8010310910031381,
          -0.30335402548602247,
          -0.3418257891963359,
          -1.1904895976608356,
          0.4408253515736436,
          1.6929673822638678,
          -0.3508487647510596,
          0.6929015015943848,
          0.6704346008145055,
          0.5019071084632046,
          -1.9676005808992338,
          0.2523635759175683,
          -0.13769847181233172,
          -0.5937099301262257,
          -0.4946241603235603,
          1.438623954125982,
          -0.3908975591294168,
          1.5713106951819324,
          0.8552659204102937,
          0.24516086205370485,
          0.2888971604931386,
          -0.14709909178975228,
          -0.57481584660485,
          0.6549006606048943,
          0.17296055568917387,
          -1.1992032201677807,
          -0.7056304144096323,
          -2.2219667883329373,
          -0.24281236415007146,
          -1.530315772894537,
          0.1423184582985676,
          -0.24145116574300846,
          -0.30577559894924256,
          -1.9700879316648785,
          1.552930248971835,
          -0.6550718586352199,
          1.62122878034275,
          1.167262884154505,
          -0.04828735125770609,
          1.446278149666796,
          -0.4026852504538263,
          2.2068846765818995,
          1.2032324446589693,
          1.2451406579941515,
          0.5746429329620883,
          0.025993186182502948,
          1.646829572457141,
          -1.2970898328462357,
          0.8804446701276977,
          -0.6672298832100317,
          -0.2551538650516365,
          -0.20516968130389845,
          -0.1893699347371977,
          1.2822922950580091,
          -0.259250383046811,
          1.0005601672190672,
          -1.1550813022509543,
          -1.5016589825132562
         ]
        }
       ],
       "layout": {
        "barmode": "overlay",
        "legend": {
         "bgcolor": "#F5F6F9",
         "font": {
          "color": "#4D5663"
         }
        },
        "paper_bgcolor": "#F5F6F9",
        "plot_bgcolor": "#F5F6F9",
        "template": {
         "data": {
          "bar": [
           {
            "error_x": {
             "color": "#2a3f5f"
            },
            "error_y": {
             "color": "#2a3f5f"
            },
            "marker": {
             "line": {
              "color": "#E5ECF6",
              "width": 0.5
             }
            },
            "type": "bar"
           }
          ],
          "barpolar": [
           {
            "marker": {
             "line": {
              "color": "#E5ECF6",
              "width": 0.5
             }
            },
            "type": "barpolar"
           }
          ],
          "carpet": [
           {
            "aaxis": {
             "endlinecolor": "#2a3f5f",
             "gridcolor": "white",
             "linecolor": "white",
             "minorgridcolor": "white",
             "startlinecolor": "#2a3f5f"
            },
            "baxis": {
             "endlinecolor": "#2a3f5f",
             "gridcolor": "white",
             "linecolor": "white",
             "minorgridcolor": "white",
             "startlinecolor": "#2a3f5f"
            },
            "type": "carpet"
           }
          ],
          "choropleth": [
           {
            "colorbar": {
             "outlinewidth": 0,
             "ticks": ""
            },
            "type": "choropleth"
           }
          ],
          "contour": [
           {
            "colorbar": {
             "outlinewidth": 0,
             "ticks": ""
            },
            "colorscale": [
             [
              0,
              "#0d0887"
             ],
             [
              0.1111111111111111,
              "#46039f"
             ],
             [
              0.2222222222222222,
              "#7201a8"
             ],
             [
              0.3333333333333333,
              "#9c179e"
             ],
             [
              0.4444444444444444,
              "#bd3786"
             ],
             [
              0.5555555555555556,
              "#d8576b"
             ],
             [
              0.6666666666666666,
              "#ed7953"
             ],
             [
              0.7777777777777778,
              "#fb9f3a"
             ],
             [
              0.8888888888888888,
              "#fdca26"
             ],
             [
              1,
              "#f0f921"
             ]
            ],
            "type": "contour"
           }
          ],
          "contourcarpet": [
           {
            "colorbar": {
             "outlinewidth": 0,
             "ticks": ""
            },
            "type": "contourcarpet"
           }
          ],
          "heatmap": [
           {
            "colorbar": {
             "outlinewidth": 0,
             "ticks": ""
            },
            "colorscale": [
             [
              0,
              "#0d0887"
             ],
             [
              0.1111111111111111,
              "#46039f"
             ],
             [
              0.2222222222222222,
              "#7201a8"
             ],
             [
              0.3333333333333333,
              "#9c179e"
             ],
             [
              0.4444444444444444,
              "#bd3786"
             ],
             [
              0.5555555555555556,
              "#d8576b"
             ],
             [
              0.6666666666666666,
              "#ed7953"
             ],
             [
              0.7777777777777778,
              "#fb9f3a"
             ],
             [
              0.8888888888888888,
              "#fdca26"
             ],
             [
              1,
              "#f0f921"
             ]
            ],
            "type": "heatmap"
           }
          ],
          "heatmapgl": [
           {
            "colorbar": {
             "outlinewidth": 0,
             "ticks": ""
            },
            "colorscale": [
             [
              0,
              "#0d0887"
             ],
             [
              0.1111111111111111,
              "#46039f"
             ],
             [
              0.2222222222222222,
              "#7201a8"
             ],
             [
              0.3333333333333333,
              "#9c179e"
             ],
             [
              0.4444444444444444,
              "#bd3786"
             ],
             [
              0.5555555555555556,
              "#d8576b"
             ],
             [
              0.6666666666666666,
              "#ed7953"
             ],
             [
              0.7777777777777778,
              "#fb9f3a"
             ],
             [
              0.8888888888888888,
              "#fdca26"
             ],
             [
              1,
              "#f0f921"
             ]
            ],
            "type": "heatmapgl"
           }
          ],
          "histogram": [
           {
            "marker": {
             "colorbar": {
              "outlinewidth": 0,
              "ticks": ""
             }
            },
            "type": "histogram"
           }
          ],
          "histogram2d": [
           {
            "colorbar": {
             "outlinewidth": 0,
             "ticks": ""
            },
            "colorscale": [
             [
              0,
              "#0d0887"
             ],
             [
              0.1111111111111111,
              "#46039f"
             ],
             [
              0.2222222222222222,
              "#7201a8"
             ],
             [
              0.3333333333333333,
              "#9c179e"
             ],
             [
              0.4444444444444444,
              "#bd3786"
             ],
             [
              0.5555555555555556,
              "#d8576b"
             ],
             [
              0.6666666666666666,
              "#ed7953"
             ],
             [
              0.7777777777777778,
              "#fb9f3a"
             ],
             [
              0.8888888888888888,
              "#fdca26"
             ],
             [
              1,
              "#f0f921"
             ]
            ],
            "type": "histogram2d"
           }
          ],
          "histogram2dcontour": [
           {
            "colorbar": {
             "outlinewidth": 0,
             "ticks": ""
            },
            "colorscale": [
             [
              0,
              "#0d0887"
             ],
             [
              0.1111111111111111,
              "#46039f"
             ],
             [
              0.2222222222222222,
              "#7201a8"
             ],
             [
              0.3333333333333333,
              "#9c179e"
             ],
             [
              0.4444444444444444,
              "#bd3786"
             ],
             [
              0.5555555555555556,
              "#d8576b"
             ],
             [
              0.6666666666666666,
              "#ed7953"
             ],
             [
              0.7777777777777778,
              "#fb9f3a"
             ],
             [
              0.8888888888888888,
              "#fdca26"
             ],
             [
              1,
              "#f0f921"
             ]
            ],
            "type": "histogram2dcontour"
           }
          ],
          "mesh3d": [
           {
            "colorbar": {
             "outlinewidth": 0,
             "ticks": ""
            },
            "type": "mesh3d"
           }
          ],
          "parcoords": [
           {
            "line": {
             "colorbar": {
              "outlinewidth": 0,
              "ticks": ""
             }
            },
            "type": "parcoords"
           }
          ],
          "pie": [
           {
            "automargin": true,
            "type": "pie"
           }
          ],
          "scatter": [
           {
            "marker": {
             "colorbar": {
              "outlinewidth": 0,
              "ticks": ""
             }
            },
            "type": "scatter"
           }
          ],
          "scatter3d": [
           {
            "line": {
             "colorbar": {
              "outlinewidth": 0,
              "ticks": ""
             }
            },
            "marker": {
             "colorbar": {
              "outlinewidth": 0,
              "ticks": ""
             }
            },
            "type": "scatter3d"
           }
          ],
          "scattercarpet": [
           {
            "marker": {
             "colorbar": {
              "outlinewidth": 0,
              "ticks": ""
             }
            },
            "type": "scattercarpet"
           }
          ],
          "scattergeo": [
           {
            "marker": {
             "colorbar": {
              "outlinewidth": 0,
              "ticks": ""
             }
            },
            "type": "scattergeo"
           }
          ],
          "scattergl": [
           {
            "marker": {
             "colorbar": {
              "outlinewidth": 0,
              "ticks": ""
             }
            },
            "type": "scattergl"
           }
          ],
          "scattermapbox": [
           {
            "marker": {
             "colorbar": {
              "outlinewidth": 0,
              "ticks": ""
             }
            },
            "type": "scattermapbox"
           }
          ],
          "scatterpolar": [
           {
            "marker": {
             "colorbar": {
              "outlinewidth": 0,
              "ticks": ""
             }
            },
            "type": "scatterpolar"
           }
          ],
          "scatterpolargl": [
           {
            "marker": {
             "colorbar": {
              "outlinewidth": 0,
              "ticks": ""
             }
            },
            "type": "scatterpolargl"
           }
          ],
          "scatterternary": [
           {
            "marker": {
             "colorbar": {
              "outlinewidth": 0,
              "ticks": ""
             }
            },
            "type": "scatterternary"
           }
          ],
          "surface": [
           {
            "colorbar": {
             "outlinewidth": 0,
             "ticks": ""
            },
            "colorscale": [
             [
              0,
              "#0d0887"
             ],
             [
              0.1111111111111111,
              "#46039f"
             ],
             [
              0.2222222222222222,
              "#7201a8"
             ],
             [
              0.3333333333333333,
              "#9c179e"
             ],
             [
              0.4444444444444444,
              "#bd3786"
             ],
             [
              0.5555555555555556,
              "#d8576b"
             ],
             [
              0.6666666666666666,
              "#ed7953"
             ],
             [
              0.7777777777777778,
              "#fb9f3a"
             ],
             [
              0.8888888888888888,
              "#fdca26"
             ],
             [
              1,
              "#f0f921"
             ]
            ],
            "type": "surface"
           }
          ],
          "table": [
           {
            "cells": {
             "fill": {
              "color": "#EBF0F8"
             },
             "line": {
              "color": "white"
             }
            },
            "header": {
             "fill": {
              "color": "#C8D4E3"
             },
             "line": {
              "color": "white"
             }
            },
            "type": "table"
           }
          ]
         },
         "layout": {
          "annotationdefaults": {
           "arrowcolor": "#2a3f5f",
           "arrowhead": 0,
           "arrowwidth": 1
          },
          "autotypenumbers": "strict",
          "coloraxis": {
           "colorbar": {
            "outlinewidth": 0,
            "ticks": ""
           }
          },
          "colorscale": {
           "diverging": [
            [
             0,
             "#8e0152"
            ],
            [
             0.1,
             "#c51b7d"
            ],
            [
             0.2,
             "#de77ae"
            ],
            [
             0.3,
             "#f1b6da"
            ],
            [
             0.4,
             "#fde0ef"
            ],
            [
             0.5,
             "#f7f7f7"
            ],
            [
             0.6,
             "#e6f5d0"
            ],
            [
             0.7,
             "#b8e186"
            ],
            [
             0.8,
             "#7fbc41"
            ],
            [
             0.9,
             "#4d9221"
            ],
            [
             1,
             "#276419"
            ]
           ],
           "sequential": [
            [
             0,
             "#0d0887"
            ],
            [
             0.1111111111111111,
             "#46039f"
            ],
            [
             0.2222222222222222,
             "#7201a8"
            ],
            [
             0.3333333333333333,
             "#9c179e"
            ],
            [
             0.4444444444444444,
             "#bd3786"
            ],
            [
             0.5555555555555556,
             "#d8576b"
            ],
            [
             0.6666666666666666,
             "#ed7953"
            ],
            [
             0.7777777777777778,
             "#fb9f3a"
            ],
            [
             0.8888888888888888,
             "#fdca26"
            ],
            [
             1,
             "#f0f921"
            ]
           ],
           "sequentialminus": [
            [
             0,
             "#0d0887"
            ],
            [
             0.1111111111111111,
             "#46039f"
            ],
            [
             0.2222222222222222,
             "#7201a8"
            ],
            [
             0.3333333333333333,
             "#9c179e"
            ],
            [
             0.4444444444444444,
             "#bd3786"
            ],
            [
             0.5555555555555556,
             "#d8576b"
            ],
            [
             0.6666666666666666,
             "#ed7953"
            ],
            [
             0.7777777777777778,
             "#fb9f3a"
            ],
            [
             0.8888888888888888,
             "#fdca26"
            ],
            [
             1,
             "#f0f921"
            ]
           ]
          },
          "colorway": [
           "#636efa",
           "#EF553B",
           "#00cc96",
           "#ab63fa",
           "#FFA15A",
           "#19d3f3",
           "#FF6692",
           "#B6E880",
           "#FF97FF",
           "#FECB52"
          ],
          "font": {
           "color": "#2a3f5f"
          },
          "geo": {
           "bgcolor": "white",
           "lakecolor": "white",
           "landcolor": "#E5ECF6",
           "showlakes": true,
           "showland": true,
           "subunitcolor": "white"
          },
          "hoverlabel": {
           "align": "left"
          },
          "hovermode": "closest",
          "mapbox": {
           "style": "light"
          },
          "paper_bgcolor": "white",
          "plot_bgcolor": "#E5ECF6",
          "polar": {
           "angularaxis": {
            "gridcolor": "white",
            "linecolor": "white",
            "ticks": ""
           },
           "bgcolor": "#E5ECF6",
           "radialaxis": {
            "gridcolor": "white",
            "linecolor": "white",
            "ticks": ""
           }
          },
          "scene": {
           "xaxis": {
            "backgroundcolor": "#E5ECF6",
            "gridcolor": "white",
            "gridwidth": 2,
            "linecolor": "white",
            "showbackground": true,
            "ticks": "",
            "zerolinecolor": "white"
           },
           "yaxis": {
            "backgroundcolor": "#E5ECF6",
            "gridcolor": "white",
            "gridwidth": 2,
            "linecolor": "white",
            "showbackground": true,
            "ticks": "",
            "zerolinecolor": "white"
           },
           "zaxis": {
            "backgroundcolor": "#E5ECF6",
            "gridcolor": "white",
            "gridwidth": 2,
            "linecolor": "white",
            "showbackground": true,
            "ticks": "",
            "zerolinecolor": "white"
           }
          },
          "shapedefaults": {
           "line": {
            "color": "#2a3f5f"
           }
          },
          "ternary": {
           "aaxis": {
            "gridcolor": "white",
            "linecolor": "white",
            "ticks": ""
           },
           "baxis": {
            "gridcolor": "white",
            "linecolor": "white",
            "ticks": ""
           },
           "bgcolor": "#E5ECF6",
           "caxis": {
            "gridcolor": "white",
            "linecolor": "white",
            "ticks": ""
           }
          },
          "title": {
           "x": 0.05
          },
          "xaxis": {
           "automargin": true,
           "gridcolor": "white",
           "linecolor": "white",
           "ticks": "",
           "title": {
            "standoff": 15
           },
           "zerolinecolor": "white",
           "zerolinewidth": 2
          },
          "yaxis": {
           "automargin": true,
           "gridcolor": "white",
           "linecolor": "white",
           "ticks": "",
           "title": {
            "standoff": 15
           },
           "zerolinecolor": "white",
           "zerolinewidth": 2
          }
         }
        },
        "title": {
         "font": {
          "color": "#4D5663"
         }
        },
        "xaxis": {
         "gridcolor": "#E1E5ED",
         "showgrid": true,
         "tickfont": {
          "color": "#4D5663"
         },
         "title": {
          "font": {
           "color": "#4D5663"
          },
          "text": ""
         },
         "zerolinecolor": "#E1E5ED"
        },
        "yaxis": {
         "gridcolor": "#E1E5ED",
         "showgrid": true,
         "tickfont": {
          "color": "#4D5663"
         },
         "title": {
          "font": {
           "color": "#4D5663"
          },
          "text": ""
         },
         "zerolinecolor": "#E1E5ED"
        }
       }
      },
      "text/html": [
       "<div>                            <div id=\"73939b01-9c50-4564-9711-78d65f68ba77\" class=\"plotly-graph-div\" style=\"height:525px; width:100%;\"></div>            <script type=\"text/javascript\">                require([\"plotly\"], function(Plotly) {                    window.PLOTLYENV=window.PLOTLYENV || {};\n",
       "                    window.PLOTLYENV.BASE_URL='https://plot.ly';                                    if (document.getElementById(\"73939b01-9c50-4564-9711-78d65f68ba77\")) {                    Plotly.newPlot(                        \"73939b01-9c50-4564-9711-78d65f68ba77\",                        [{\"histfunc\": \"count\", \"histnorm\": \"\", \"marker\": {\"color\": \"rgba(255, 153, 51, 1.0)\", \"line\": {\"color\": \"#4D5663\", \"width\": 1.3}}, \"name\": \"A\", \"nbinsx\": 25, \"opacity\": 0.8, \"orientation\": \"v\", \"type\": \"histogram\", \"x\": [0.41760155225455636, 0.5261400468723789, 0.5683423096739474, -0.8222461098210078, 0.5445007517236217, 0.5909299879074099, 2.039579362940726, 0.6262088723800441, 0.19694594037636828, -3.0228983065582167, 0.20013434662272542, 0.7897393701529026, -1.2860106647372174, -1.209894031210368, 1.4991812102081934, 0.35295100673971, 1.6068652128980419, 0.44659510774809213, -0.6767341021203152, 0.867598499054683, 1.449819695873904, 1.3191900045864868, -0.024513457915711818, 0.18460391533600704, -0.23177229636727062, 1.1887447336595125, -1.5984486384334315, -0.4791939980881674, 0.45443684003122853, 1.1858647312666772, 0.6300812899870222, -0.9076010322718687, -1.0366066556848483, -0.6364365731046352, 0.797019857738389, 0.5601019577303988, -1.4652829651387353, 1.3517284564656338, 0.19750781481677754, -1.128982113739443, -0.01754605735598141, -0.044891495186233005, -0.8010310910031381, -0.30335402548602247, -0.3418257891963359, -1.1904895976608356, 0.4408253515736436, 1.6929673822638678, -0.3508487647510596, 0.6929015015943848, 0.6704346008145055, 0.5019071084632046, -1.9676005808992338, 0.2523635759175683, -0.13769847181233172, -0.5937099301262257, -0.4946241603235603, 1.438623954125982, -0.3908975591294168, 1.5713106951819324, 0.8552659204102937, 0.24516086205370485, 0.2888971604931386, -0.14709909178975228, -0.57481584660485, 0.6549006606048943, 0.17296055568917387, -1.1992032201677807, -0.7056304144096323, -2.2219667883329373, -0.24281236415007146, -1.530315772894537, 0.1423184582985676, -0.24145116574300846, -0.30577559894924256, -1.9700879316648785, 1.552930248971835, -0.6550718586352199, 1.62122878034275, 1.167262884154505, -0.04828735125770609, 1.446278149666796, -0.4026852504538263, 2.2068846765818995, 1.2032324446589693, 1.2451406579941515, 0.5746429329620883, 0.025993186182502948, 1.646829572457141, -1.2970898328462357, 0.8804446701276977, -0.6672298832100317, -0.2551538650516365, -0.20516968130389845, -0.1893699347371977, 1.2822922950580091, -0.259250383046811, 1.0005601672190672, -1.1550813022509543, -1.5016589825132562]}],                        {\"barmode\": \"overlay\", \"legend\": {\"bgcolor\": \"#F5F6F9\", \"font\": {\"color\": \"#4D5663\"}}, \"paper_bgcolor\": \"#F5F6F9\", \"plot_bgcolor\": \"#F5F6F9\", \"template\": {\"data\": {\"bar\": [{\"error_x\": {\"color\": \"#2a3f5f\"}, \"error_y\": {\"color\": \"#2a3f5f\"}, \"marker\": {\"line\": {\"color\": \"#E5ECF6\", \"width\": 0.5}}, \"type\": \"bar\"}], \"barpolar\": [{\"marker\": {\"line\": {\"color\": \"#E5ECF6\", \"width\": 0.5}}, \"type\": \"barpolar\"}], \"carpet\": [{\"aaxis\": {\"endlinecolor\": \"#2a3f5f\", \"gridcolor\": \"white\", \"linecolor\": \"white\", \"minorgridcolor\": \"white\", \"startlinecolor\": \"#2a3f5f\"}, \"baxis\": {\"endlinecolor\": \"#2a3f5f\", \"gridcolor\": \"white\", \"linecolor\": \"white\", \"minorgridcolor\": \"white\", \"startlinecolor\": \"#2a3f5f\"}, \"type\": \"carpet\"}], \"choropleth\": [{\"colorbar\": {\"outlinewidth\": 0, \"ticks\": \"\"}, \"type\": \"choropleth\"}], \"contour\": [{\"colorbar\": {\"outlinewidth\": 0, \"ticks\": \"\"}, \"colorscale\": [[0.0, \"#0d0887\"], [0.1111111111111111, \"#46039f\"], [0.2222222222222222, \"#7201a8\"], [0.3333333333333333, \"#9c179e\"], [0.4444444444444444, \"#bd3786\"], [0.5555555555555556, \"#d8576b\"], [0.6666666666666666, \"#ed7953\"], [0.7777777777777778, \"#fb9f3a\"], [0.8888888888888888, \"#fdca26\"], [1.0, \"#f0f921\"]], \"type\": \"contour\"}], \"contourcarpet\": [{\"colorbar\": {\"outlinewidth\": 0, \"ticks\": \"\"}, \"type\": \"contourcarpet\"}], \"heatmap\": [{\"colorbar\": {\"outlinewidth\": 0, \"ticks\": \"\"}, \"colorscale\": [[0.0, \"#0d0887\"], [0.1111111111111111, \"#46039f\"], [0.2222222222222222, \"#7201a8\"], [0.3333333333333333, \"#9c179e\"], [0.4444444444444444, \"#bd3786\"], [0.5555555555555556, \"#d8576b\"], [0.6666666666666666, \"#ed7953\"], [0.7777777777777778, \"#fb9f3a\"], [0.8888888888888888, \"#fdca26\"], [1.0, \"#f0f921\"]], \"type\": \"heatmap\"}], \"heatmapgl\": [{\"colorbar\": {\"outlinewidth\": 0, \"ticks\": \"\"}, \"colorscale\": [[0.0, \"#0d0887\"], [0.1111111111111111, \"#46039f\"], [0.2222222222222222, \"#7201a8\"], [0.3333333333333333, \"#9c179e\"], [0.4444444444444444, \"#bd3786\"], [0.5555555555555556, \"#d8576b\"], [0.6666666666666666, \"#ed7953\"], [0.7777777777777778, \"#fb9f3a\"], [0.8888888888888888, \"#fdca26\"], [1.0, \"#f0f921\"]], \"type\": \"heatmapgl\"}], \"histogram\": [{\"marker\": {\"colorbar\": {\"outlinewidth\": 0, \"ticks\": \"\"}}, \"type\": \"histogram\"}], \"histogram2d\": [{\"colorbar\": {\"outlinewidth\": 0, \"ticks\": \"\"}, \"colorscale\": [[0.0, \"#0d0887\"], [0.1111111111111111, \"#46039f\"], [0.2222222222222222, \"#7201a8\"], [0.3333333333333333, \"#9c179e\"], [0.4444444444444444, \"#bd3786\"], [0.5555555555555556, \"#d8576b\"], [0.6666666666666666, \"#ed7953\"], [0.7777777777777778, \"#fb9f3a\"], [0.8888888888888888, \"#fdca26\"], [1.0, \"#f0f921\"]], \"type\": \"histogram2d\"}], \"histogram2dcontour\": [{\"colorbar\": {\"outlinewidth\": 0, \"ticks\": \"\"}, \"colorscale\": [[0.0, \"#0d0887\"], [0.1111111111111111, \"#46039f\"], [0.2222222222222222, \"#7201a8\"], [0.3333333333333333, \"#9c179e\"], [0.4444444444444444, \"#bd3786\"], [0.5555555555555556, \"#d8576b\"], [0.6666666666666666, \"#ed7953\"], [0.7777777777777778, \"#fb9f3a\"], [0.8888888888888888, \"#fdca26\"], [1.0, \"#f0f921\"]], \"type\": \"histogram2dcontour\"}], \"mesh3d\": [{\"colorbar\": {\"outlinewidth\": 0, \"ticks\": \"\"}, \"type\": \"mesh3d\"}], \"parcoords\": [{\"line\": {\"colorbar\": {\"outlinewidth\": 0, \"ticks\": \"\"}}, \"type\": \"parcoords\"}], \"pie\": [{\"automargin\": true, \"type\": \"pie\"}], \"scatter\": [{\"marker\": {\"colorbar\": {\"outlinewidth\": 0, \"ticks\": \"\"}}, \"type\": \"scatter\"}], \"scatter3d\": [{\"line\": {\"colorbar\": {\"outlinewidth\": 0, \"ticks\": \"\"}}, \"marker\": {\"colorbar\": {\"outlinewidth\": 0, \"ticks\": \"\"}}, \"type\": \"scatter3d\"}], \"scattercarpet\": [{\"marker\": {\"colorbar\": {\"outlinewidth\": 0, \"ticks\": \"\"}}, \"type\": \"scattercarpet\"}], \"scattergeo\": [{\"marker\": {\"colorbar\": {\"outlinewidth\": 0, \"ticks\": \"\"}}, \"type\": \"scattergeo\"}], \"scattergl\": [{\"marker\": {\"colorbar\": {\"outlinewidth\": 0, \"ticks\": \"\"}}, \"type\": \"scattergl\"}], \"scattermapbox\": [{\"marker\": {\"colorbar\": {\"outlinewidth\": 0, \"ticks\": \"\"}}, \"type\": \"scattermapbox\"}], \"scatterpolar\": [{\"marker\": {\"colorbar\": {\"outlinewidth\": 0, \"ticks\": \"\"}}, \"type\": \"scatterpolar\"}], \"scatterpolargl\": [{\"marker\": {\"colorbar\": {\"outlinewidth\": 0, \"ticks\": \"\"}}, \"type\": \"scatterpolargl\"}], \"scatterternary\": [{\"marker\": {\"colorbar\": {\"outlinewidth\": 0, \"ticks\": \"\"}}, \"type\": \"scatterternary\"}], \"surface\": [{\"colorbar\": {\"outlinewidth\": 0, \"ticks\": \"\"}, \"colorscale\": [[0.0, \"#0d0887\"], [0.1111111111111111, \"#46039f\"], [0.2222222222222222, \"#7201a8\"], [0.3333333333333333, \"#9c179e\"], [0.4444444444444444, \"#bd3786\"], [0.5555555555555556, \"#d8576b\"], [0.6666666666666666, \"#ed7953\"], [0.7777777777777778, \"#fb9f3a\"], [0.8888888888888888, \"#fdca26\"], [1.0, \"#f0f921\"]], \"type\": \"surface\"}], \"table\": [{\"cells\": {\"fill\": {\"color\": \"#EBF0F8\"}, \"line\": {\"color\": \"white\"}}, \"header\": {\"fill\": {\"color\": \"#C8D4E3\"}, \"line\": {\"color\": \"white\"}}, \"type\": \"table\"}]}, \"layout\": {\"annotationdefaults\": {\"arrowcolor\": \"#2a3f5f\", \"arrowhead\": 0, \"arrowwidth\": 1}, \"autotypenumbers\": \"strict\", \"coloraxis\": {\"colorbar\": {\"outlinewidth\": 0, \"ticks\": \"\"}}, \"colorscale\": {\"diverging\": [[0, \"#8e0152\"], [0.1, \"#c51b7d\"], [0.2, \"#de77ae\"], [0.3, \"#f1b6da\"], [0.4, \"#fde0ef\"], [0.5, \"#f7f7f7\"], [0.6, \"#e6f5d0\"], [0.7, \"#b8e186\"], [0.8, \"#7fbc41\"], [0.9, \"#4d9221\"], [1, \"#276419\"]], \"sequential\": [[0.0, \"#0d0887\"], [0.1111111111111111, \"#46039f\"], [0.2222222222222222, \"#7201a8\"], [0.3333333333333333, \"#9c179e\"], [0.4444444444444444, \"#bd3786\"], [0.5555555555555556, \"#d8576b\"], [0.6666666666666666, \"#ed7953\"], [0.7777777777777778, \"#fb9f3a\"], [0.8888888888888888, \"#fdca26\"], [1.0, \"#f0f921\"]], \"sequentialminus\": [[0.0, \"#0d0887\"], [0.1111111111111111, \"#46039f\"], [0.2222222222222222, \"#7201a8\"], [0.3333333333333333, \"#9c179e\"], [0.4444444444444444, \"#bd3786\"], [0.5555555555555556, \"#d8576b\"], [0.6666666666666666, \"#ed7953\"], [0.7777777777777778, \"#fb9f3a\"], [0.8888888888888888, \"#fdca26\"], [1.0, \"#f0f921\"]]}, \"colorway\": [\"#636efa\", \"#EF553B\", \"#00cc96\", \"#ab63fa\", \"#FFA15A\", \"#19d3f3\", \"#FF6692\", \"#B6E880\", \"#FF97FF\", \"#FECB52\"], \"font\": {\"color\": \"#2a3f5f\"}, \"geo\": {\"bgcolor\": \"white\", \"lakecolor\": \"white\", \"landcolor\": \"#E5ECF6\", \"showlakes\": true, \"showland\": true, \"subunitcolor\": \"white\"}, \"hoverlabel\": {\"align\": \"left\"}, \"hovermode\": \"closest\", \"mapbox\": {\"style\": \"light\"}, \"paper_bgcolor\": \"white\", \"plot_bgcolor\": \"#E5ECF6\", \"polar\": {\"angularaxis\": {\"gridcolor\": \"white\", \"linecolor\": \"white\", \"ticks\": \"\"}, \"bgcolor\": \"#E5ECF6\", \"radialaxis\": {\"gridcolor\": \"white\", \"linecolor\": \"white\", \"ticks\": \"\"}}, \"scene\": {\"xaxis\": {\"backgroundcolor\": \"#E5ECF6\", \"gridcolor\": \"white\", \"gridwidth\": 2, \"linecolor\": \"white\", \"showbackground\": true, \"ticks\": \"\", \"zerolinecolor\": \"white\"}, \"yaxis\": {\"backgroundcolor\": \"#E5ECF6\", \"gridcolor\": \"white\", \"gridwidth\": 2, \"linecolor\": \"white\", \"showbackground\": true, \"ticks\": \"\", \"zerolinecolor\": \"white\"}, \"zaxis\": {\"backgroundcolor\": \"#E5ECF6\", \"gridcolor\": \"white\", \"gridwidth\": 2, \"linecolor\": \"white\", \"showbackground\": true, \"ticks\": \"\", \"zerolinecolor\": \"white\"}}, \"shapedefaults\": {\"line\": {\"color\": \"#2a3f5f\"}}, \"ternary\": {\"aaxis\": {\"gridcolor\": \"white\", \"linecolor\": \"white\", \"ticks\": \"\"}, \"baxis\": {\"gridcolor\": \"white\", \"linecolor\": \"white\", \"ticks\": \"\"}, \"bgcolor\": \"#E5ECF6\", \"caxis\": {\"gridcolor\": \"white\", \"linecolor\": \"white\", \"ticks\": \"\"}}, \"title\": {\"x\": 0.05}, \"xaxis\": {\"automargin\": true, \"gridcolor\": \"white\", \"linecolor\": \"white\", \"ticks\": \"\", \"title\": {\"standoff\": 15}, \"zerolinecolor\": \"white\", \"zerolinewidth\": 2}, \"yaxis\": {\"automargin\": true, \"gridcolor\": \"white\", \"linecolor\": \"white\", \"ticks\": \"\", \"title\": {\"standoff\": 15}, \"zerolinecolor\": \"white\", \"zerolinewidth\": 2}}}, \"title\": {\"font\": {\"color\": \"#4D5663\"}}, \"xaxis\": {\"gridcolor\": \"#E1E5ED\", \"showgrid\": true, \"tickfont\": {\"color\": \"#4D5663\"}, \"title\": {\"font\": {\"color\": \"#4D5663\"}, \"text\": \"\"}, \"zerolinecolor\": \"#E1E5ED\"}, \"yaxis\": {\"gridcolor\": \"#E1E5ED\", \"showgrid\": true, \"tickfont\": {\"color\": \"#4D5663\"}, \"title\": {\"font\": {\"color\": \"#4D5663\"}, \"text\": \"\"}, \"zerolinecolor\": \"#E1E5ED\"}},                        {\"showLink\": true, \"linkText\": \"Export to plot.ly\", \"plotlyServerURL\": \"https://plot.ly\", \"responsive\": true}                    ).then(function(){\n",
       "                            \n",
       "var gd = document.getElementById('73939b01-9c50-4564-9711-78d65f68ba77');\n",
       "var x = new MutationObserver(function (mutations, observer) {{\n",
       "        var display = window.getComputedStyle(gd).display;\n",
       "        if (!display || display === 'none') {{\n",
       "            console.log([gd, 'removed!']);\n",
       "            Plotly.purge(gd);\n",
       "            observer.disconnect();\n",
       "        }}\n",
       "}});\n",
       "\n",
       "// Listen for the removal of the full notebook cells\n",
       "var notebookContainer = gd.closest('#notebook-container');\n",
       "if (notebookContainer) {{\n",
       "    x.observe(notebookContainer, {childList: true});\n",
       "}}\n",
       "\n",
       "// Listen for the clearing of the current output cell\n",
       "var outputEl = gd.closest('.output');\n",
       "if (outputEl) {{\n",
       "    x.observe(outputEl, {childList: true});\n",
       "}}\n",
       "\n",
       "                        })                };                });            </script>        </div>"
      ]
     },
     "metadata": {},
     "output_type": "display_data"
    }
   ],
   "source": [
    "df['A'].iplot(kind='hist',bins=25)"
   ]
  },
  {
   "cell_type": "code",
   "execution_count": 17,
   "metadata": {},
   "outputs": [
    {
     "data": {
      "application/vnd.plotly.v1+json": {
       "config": {
        "linkText": "Export to plot.ly",
        "plotlyServerURL": "https://plot.ly",
        "showLink": true
       },
       "data": [
        {
         "marker": {
          "color": [
           "rgb(255, 153, 51)",
           "rgb(55, 128, 191)",
           "rgb(50, 171, 96)",
           "rgb(128, 0, 128)",
           "rgb(219, 64, 82)",
           "rgb(0, 128, 128)",
           "rgb(255, 255, 51)",
           "rgb(128, 128, 0)",
           "rgb(251, 128, 114)",
           "rgb(128, 177, 211)"
          ],
          "line": {
           "width": 1.3
          },
          "size": [
           64,
           49,
           32,
           65,
           75,
           56,
           14,
           12,
           54,
           66,
           81,
           43,
           53,
           55,
           56,
           48,
           43,
           58,
           90,
           31,
           41,
           65,
           85,
           63,
           102,
           72,
           59,
           21,
           58,
           49,
           44,
           51,
           52,
           51,
           41,
           68,
           64,
           68,
           82,
           41,
           79,
           80,
           85,
           43,
           90,
           53,
           40,
           37,
           55,
           91,
           41,
           46,
           53,
           52,
           25,
           68,
           74,
           78,
           61,
           60,
           36,
           32,
           74,
           21,
           63,
           59,
           55,
           55,
           89,
           38,
           72,
           74,
           39,
           112,
           108,
           59,
           89,
           72,
           84,
           71,
           73,
           85,
           53,
           70,
           55,
           38,
           37,
           34,
           67,
           34,
           59,
           23,
           49,
           32,
           24,
           17,
           65,
           41,
           42,
           72
          ],
          "symbol": "circle"
         },
         "mode": "markers",
         "text": "",
         "type": "scatter",
         "x": [
          0.41760155225455636,
          0.5261400468723789,
          0.5683423096739474,
          -0.8222461098210078,
          0.5445007517236217,
          0.5909299879074099,
          2.039579362940726,
          0.6262088723800441,
          0.19694594037636828,
          -3.0228983065582167,
          0.20013434662272542,
          0.7897393701529026,
          -1.2860106647372174,
          -1.209894031210368,
          1.4991812102081934,
          0.35295100673971,
          1.6068652128980419,
          0.44659510774809213,
          -0.6767341021203152,
          0.867598499054683,
          1.449819695873904,
          1.3191900045864868,
          -0.024513457915711818,
          0.18460391533600704,
          -0.23177229636727062,
          1.1887447336595125,
          -1.5984486384334315,
          -0.4791939980881674,
          0.45443684003122853,
          1.1858647312666772,
          0.6300812899870222,
          -0.9076010322718687,
          -1.0366066556848483,
          -0.6364365731046352,
          0.797019857738389,
          0.5601019577303988,
          -1.4652829651387353,
          1.3517284564656338,
          0.19750781481677754,
          -1.128982113739443,
          -0.01754605735598141,
          -0.044891495186233005,
          -0.8010310910031381,
          -0.30335402548602247,
          -0.3418257891963359,
          -1.1904895976608356,
          0.4408253515736436,
          1.6929673822638678,
          -0.3508487647510596,
          0.6929015015943848,
          0.6704346008145055,
          0.5019071084632046,
          -1.9676005808992338,
          0.2523635759175683,
          -0.13769847181233172,
          -0.5937099301262257,
          -0.4946241603235603,
          1.438623954125982,
          -0.3908975591294168,
          1.5713106951819324,
          0.8552659204102937,
          0.24516086205370485,
          0.2888971604931386,
          -0.14709909178975228,
          -0.57481584660485,
          0.6549006606048943,
          0.17296055568917387,
          -1.1992032201677807,
          -0.7056304144096323,
          -2.2219667883329373,
          -0.24281236415007146,
          -1.530315772894537,
          0.1423184582985676,
          -0.24145116574300846,
          -0.30577559894924256,
          -1.9700879316648785,
          1.552930248971835,
          -0.6550718586352199,
          1.62122878034275,
          1.167262884154505,
          -0.04828735125770609,
          1.446278149666796,
          -0.4026852504538263,
          2.2068846765818995,
          1.2032324446589693,
          1.2451406579941515,
          0.5746429329620883,
          0.025993186182502948,
          1.646829572457141,
          -1.2970898328462357,
          0.8804446701276977,
          -0.6672298832100317,
          -0.2551538650516365,
          -0.20516968130389845,
          -0.1893699347371977,
          1.2822922950580091,
          -0.259250383046811,
          1.0005601672190672,
          -1.1550813022509543,
          -1.5016589825132562
         ],
         "y": [
          0.45531183603699393,
          0.5980709095986467,
          -0.34994300438479303,
          0.682610763724963,
          -1.4542337018715585,
          -0.3769121673601374,
          -0.6387922806675909,
          -0.7260129686538656,
          1.5278964844049967,
          -0.48756957792086913,
          0.05434385648508415,
          0.7506522319974177,
          -1.9413341849808416,
          -0.5730009940047913,
          -1.1003505963827607,
          1.0684780089870864,
          -0.8653245918742982,
          -1.1659141525288483,
          1.4748659606190033,
          1.1821959921800371,
          -0.7461798246499382,
          0.48999175008102147,
          -0.673992626184721,
          0.24893133866831796,
          0.6464588824587291,
          -0.1461097428226522,
          1.4026878825912379,
          -0.4985833083140884,
          -0.14469994922942367,
          -2.089059080119697,
          0.2579102415048242,
          0.1233431191998344,
          -0.5126377378670051,
          0.1845391531012246,
          0.26227917881843976,
          -2.517400123945921,
          -0.7664875910204841,
          1.2515981143552763,
          0.77024253182108,
          0.2663650999864578,
          -0.31410429215510044,
          -0.7595707679642624,
          -0.30063668798857396,
          -1.3659417049110871,
          -0.7385023938161782,
          -0.8783868473978256,
          -1.386658644809201,
          -0.425338368256794,
          -0.6707201032633747,
          0.3639683078524173,
          -0.6252515176436683,
          -0.7479873442020913,
          0.23379014573745413,
          0.19676520830860575,
          0.78420191379329,
          0.4667723126550738,
          -0.31299224975101747,
          1.4071812363229708,
          -0.9882035714894439,
          1.059675760547426,
          -0.661011691916808,
          0.5648241544355863,
          0.15498534009217793,
          -0.2969239333093207,
          -0.8579346573227228,
          -0.2983936903030944,
          -0.8188836855107948,
          -0.05905956696405363,
          1.2634824753451157,
          -0.24211420077731516,
          -0.4543600665000616,
          0.00020674132613351752,
          -0.983661158660926,
          -0.7938089830406612,
          0.9133767862108992,
          -0.40882011720110095,
          0.6296552104036756,
          0.067578322434332,
          0.49205614258355074,
          -0.6708775195031813,
          -2.3472801537369756,
          0.3347200513927004,
          0.27897836749072086,
          0.7426050366716708,
          1.0964144703582637,
          0.6100031054218946,
          -0.8642234541537205,
          0.6701889377888379,
          -0.8522639978236726,
          1.2811708836726825,
          -0.709792986765138,
          -0.9479604590556494,
          1.450475432415021,
          -0.6263162004965983,
          -0.25591862078357036,
          0.1794046087657056,
          -0.08294676921470963,
          -0.19139893329730934,
          0.589992480029799,
          -0.5097005552190711
         ]
        }
       ],
       "layout": {
        "legend": {
         "bgcolor": "#F5F6F9",
         "font": {
          "color": "#4D5663"
         }
        },
        "paper_bgcolor": "#F5F6F9",
        "plot_bgcolor": "#F5F6F9",
        "template": {
         "data": {
          "bar": [
           {
            "error_x": {
             "color": "#2a3f5f"
            },
            "error_y": {
             "color": "#2a3f5f"
            },
            "marker": {
             "line": {
              "color": "#E5ECF6",
              "width": 0.5
             }
            },
            "type": "bar"
           }
          ],
          "barpolar": [
           {
            "marker": {
             "line": {
              "color": "#E5ECF6",
              "width": 0.5
             }
            },
            "type": "barpolar"
           }
          ],
          "carpet": [
           {
            "aaxis": {
             "endlinecolor": "#2a3f5f",
             "gridcolor": "white",
             "linecolor": "white",
             "minorgridcolor": "white",
             "startlinecolor": "#2a3f5f"
            },
            "baxis": {
             "endlinecolor": "#2a3f5f",
             "gridcolor": "white",
             "linecolor": "white",
             "minorgridcolor": "white",
             "startlinecolor": "#2a3f5f"
            },
            "type": "carpet"
           }
          ],
          "choropleth": [
           {
            "colorbar": {
             "outlinewidth": 0,
             "ticks": ""
            },
            "type": "choropleth"
           }
          ],
          "contour": [
           {
            "colorbar": {
             "outlinewidth": 0,
             "ticks": ""
            },
            "colorscale": [
             [
              0,
              "#0d0887"
             ],
             [
              0.1111111111111111,
              "#46039f"
             ],
             [
              0.2222222222222222,
              "#7201a8"
             ],
             [
              0.3333333333333333,
              "#9c179e"
             ],
             [
              0.4444444444444444,
              "#bd3786"
             ],
             [
              0.5555555555555556,
              "#d8576b"
             ],
             [
              0.6666666666666666,
              "#ed7953"
             ],
             [
              0.7777777777777778,
              "#fb9f3a"
             ],
             [
              0.8888888888888888,
              "#fdca26"
             ],
             [
              1,
              "#f0f921"
             ]
            ],
            "type": "contour"
           }
          ],
          "contourcarpet": [
           {
            "colorbar": {
             "outlinewidth": 0,
             "ticks": ""
            },
            "type": "contourcarpet"
           }
          ],
          "heatmap": [
           {
            "colorbar": {
             "outlinewidth": 0,
             "ticks": ""
            },
            "colorscale": [
             [
              0,
              "#0d0887"
             ],
             [
              0.1111111111111111,
              "#46039f"
             ],
             [
              0.2222222222222222,
              "#7201a8"
             ],
             [
              0.3333333333333333,
              "#9c179e"
             ],
             [
              0.4444444444444444,
              "#bd3786"
             ],
             [
              0.5555555555555556,
              "#d8576b"
             ],
             [
              0.6666666666666666,
              "#ed7953"
             ],
             [
              0.7777777777777778,
              "#fb9f3a"
             ],
             [
              0.8888888888888888,
              "#fdca26"
             ],
             [
              1,
              "#f0f921"
             ]
            ],
            "type": "heatmap"
           }
          ],
          "heatmapgl": [
           {
            "colorbar": {
             "outlinewidth": 0,
             "ticks": ""
            },
            "colorscale": [
             [
              0,
              "#0d0887"
             ],
             [
              0.1111111111111111,
              "#46039f"
             ],
             [
              0.2222222222222222,
              "#7201a8"
             ],
             [
              0.3333333333333333,
              "#9c179e"
             ],
             [
              0.4444444444444444,
              "#bd3786"
             ],
             [
              0.5555555555555556,
              "#d8576b"
             ],
             [
              0.6666666666666666,
              "#ed7953"
             ],
             [
              0.7777777777777778,
              "#fb9f3a"
             ],
             [
              0.8888888888888888,
              "#fdca26"
             ],
             [
              1,
              "#f0f921"
             ]
            ],
            "type": "heatmapgl"
           }
          ],
          "histogram": [
           {
            "marker": {
             "colorbar": {
              "outlinewidth": 0,
              "ticks": ""
             }
            },
            "type": "histogram"
           }
          ],
          "histogram2d": [
           {
            "colorbar": {
             "outlinewidth": 0,
             "ticks": ""
            },
            "colorscale": [
             [
              0,
              "#0d0887"
             ],
             [
              0.1111111111111111,
              "#46039f"
             ],
             [
              0.2222222222222222,
              "#7201a8"
             ],
             [
              0.3333333333333333,
              "#9c179e"
             ],
             [
              0.4444444444444444,
              "#bd3786"
             ],
             [
              0.5555555555555556,
              "#d8576b"
             ],
             [
              0.6666666666666666,
              "#ed7953"
             ],
             [
              0.7777777777777778,
              "#fb9f3a"
             ],
             [
              0.8888888888888888,
              "#fdca26"
             ],
             [
              1,
              "#f0f921"
             ]
            ],
            "type": "histogram2d"
           }
          ],
          "histogram2dcontour": [
           {
            "colorbar": {
             "outlinewidth": 0,
             "ticks": ""
            },
            "colorscale": [
             [
              0,
              "#0d0887"
             ],
             [
              0.1111111111111111,
              "#46039f"
             ],
             [
              0.2222222222222222,
              "#7201a8"
             ],
             [
              0.3333333333333333,
              "#9c179e"
             ],
             [
              0.4444444444444444,
              "#bd3786"
             ],
             [
              0.5555555555555556,
              "#d8576b"
             ],
             [
              0.6666666666666666,
              "#ed7953"
             ],
             [
              0.7777777777777778,
              "#fb9f3a"
             ],
             [
              0.8888888888888888,
              "#fdca26"
             ],
             [
              1,
              "#f0f921"
             ]
            ],
            "type": "histogram2dcontour"
           }
          ],
          "mesh3d": [
           {
            "colorbar": {
             "outlinewidth": 0,
             "ticks": ""
            },
            "type": "mesh3d"
           }
          ],
          "parcoords": [
           {
            "line": {
             "colorbar": {
              "outlinewidth": 0,
              "ticks": ""
             }
            },
            "type": "parcoords"
           }
          ],
          "pie": [
           {
            "automargin": true,
            "type": "pie"
           }
          ],
          "scatter": [
           {
            "marker": {
             "colorbar": {
              "outlinewidth": 0,
              "ticks": ""
             }
            },
            "type": "scatter"
           }
          ],
          "scatter3d": [
           {
            "line": {
             "colorbar": {
              "outlinewidth": 0,
              "ticks": ""
             }
            },
            "marker": {
             "colorbar": {
              "outlinewidth": 0,
              "ticks": ""
             }
            },
            "type": "scatter3d"
           }
          ],
          "scattercarpet": [
           {
            "marker": {
             "colorbar": {
              "outlinewidth": 0,
              "ticks": ""
             }
            },
            "type": "scattercarpet"
           }
          ],
          "scattergeo": [
           {
            "marker": {
             "colorbar": {
              "outlinewidth": 0,
              "ticks": ""
             }
            },
            "type": "scattergeo"
           }
          ],
          "scattergl": [
           {
            "marker": {
             "colorbar": {
              "outlinewidth": 0,
              "ticks": ""
             }
            },
            "type": "scattergl"
           }
          ],
          "scattermapbox": [
           {
            "marker": {
             "colorbar": {
              "outlinewidth": 0,
              "ticks": ""
             }
            },
            "type": "scattermapbox"
           }
          ],
          "scatterpolar": [
           {
            "marker": {
             "colorbar": {
              "outlinewidth": 0,
              "ticks": ""
             }
            },
            "type": "scatterpolar"
           }
          ],
          "scatterpolargl": [
           {
            "marker": {
             "colorbar": {
              "outlinewidth": 0,
              "ticks": ""
             }
            },
            "type": "scatterpolargl"
           }
          ],
          "scatterternary": [
           {
            "marker": {
             "colorbar": {
              "outlinewidth": 0,
              "ticks": ""
             }
            },
            "type": "scatterternary"
           }
          ],
          "surface": [
           {
            "colorbar": {
             "outlinewidth": 0,
             "ticks": ""
            },
            "colorscale": [
             [
              0,
              "#0d0887"
             ],
             [
              0.1111111111111111,
              "#46039f"
             ],
             [
              0.2222222222222222,
              "#7201a8"
             ],
             [
              0.3333333333333333,
              "#9c179e"
             ],
             [
              0.4444444444444444,
              "#bd3786"
             ],
             [
              0.5555555555555556,
              "#d8576b"
             ],
             [
              0.6666666666666666,
              "#ed7953"
             ],
             [
              0.7777777777777778,
              "#fb9f3a"
             ],
             [
              0.8888888888888888,
              "#fdca26"
             ],
             [
              1,
              "#f0f921"
             ]
            ],
            "type": "surface"
           }
          ],
          "table": [
           {
            "cells": {
             "fill": {
              "color": "#EBF0F8"
             },
             "line": {
              "color": "white"
             }
            },
            "header": {
             "fill": {
              "color": "#C8D4E3"
             },
             "line": {
              "color": "white"
             }
            },
            "type": "table"
           }
          ]
         },
         "layout": {
          "annotationdefaults": {
           "arrowcolor": "#2a3f5f",
           "arrowhead": 0,
           "arrowwidth": 1
          },
          "autotypenumbers": "strict",
          "coloraxis": {
           "colorbar": {
            "outlinewidth": 0,
            "ticks": ""
           }
          },
          "colorscale": {
           "diverging": [
            [
             0,
             "#8e0152"
            ],
            [
             0.1,
             "#c51b7d"
            ],
            [
             0.2,
             "#de77ae"
            ],
            [
             0.3,
             "#f1b6da"
            ],
            [
             0.4,
             "#fde0ef"
            ],
            [
             0.5,
             "#f7f7f7"
            ],
            [
             0.6,
             "#e6f5d0"
            ],
            [
             0.7,
             "#b8e186"
            ],
            [
             0.8,
             "#7fbc41"
            ],
            [
             0.9,
             "#4d9221"
            ],
            [
             1,
             "#276419"
            ]
           ],
           "sequential": [
            [
             0,
             "#0d0887"
            ],
            [
             0.1111111111111111,
             "#46039f"
            ],
            [
             0.2222222222222222,
             "#7201a8"
            ],
            [
             0.3333333333333333,
             "#9c179e"
            ],
            [
             0.4444444444444444,
             "#bd3786"
            ],
            [
             0.5555555555555556,
             "#d8576b"
            ],
            [
             0.6666666666666666,
             "#ed7953"
            ],
            [
             0.7777777777777778,
             "#fb9f3a"
            ],
            [
             0.8888888888888888,
             "#fdca26"
            ],
            [
             1,
             "#f0f921"
            ]
           ],
           "sequentialminus": [
            [
             0,
             "#0d0887"
            ],
            [
             0.1111111111111111,
             "#46039f"
            ],
            [
             0.2222222222222222,
             "#7201a8"
            ],
            [
             0.3333333333333333,
             "#9c179e"
            ],
            [
             0.4444444444444444,
             "#bd3786"
            ],
            [
             0.5555555555555556,
             "#d8576b"
            ],
            [
             0.6666666666666666,
             "#ed7953"
            ],
            [
             0.7777777777777778,
             "#fb9f3a"
            ],
            [
             0.8888888888888888,
             "#fdca26"
            ],
            [
             1,
             "#f0f921"
            ]
           ]
          },
          "colorway": [
           "#636efa",
           "#EF553B",
           "#00cc96",
           "#ab63fa",
           "#FFA15A",
           "#19d3f3",
           "#FF6692",
           "#B6E880",
           "#FF97FF",
           "#FECB52"
          ],
          "font": {
           "color": "#2a3f5f"
          },
          "geo": {
           "bgcolor": "white",
           "lakecolor": "white",
           "landcolor": "#E5ECF6",
           "showlakes": true,
           "showland": true,
           "subunitcolor": "white"
          },
          "hoverlabel": {
           "align": "left"
          },
          "hovermode": "closest",
          "mapbox": {
           "style": "light"
          },
          "paper_bgcolor": "white",
          "plot_bgcolor": "#E5ECF6",
          "polar": {
           "angularaxis": {
            "gridcolor": "white",
            "linecolor": "white",
            "ticks": ""
           },
           "bgcolor": "#E5ECF6",
           "radialaxis": {
            "gridcolor": "white",
            "linecolor": "white",
            "ticks": ""
           }
          },
          "scene": {
           "xaxis": {
            "backgroundcolor": "#E5ECF6",
            "gridcolor": "white",
            "gridwidth": 2,
            "linecolor": "white",
            "showbackground": true,
            "ticks": "",
            "zerolinecolor": "white"
           },
           "yaxis": {
            "backgroundcolor": "#E5ECF6",
            "gridcolor": "white",
            "gridwidth": 2,
            "linecolor": "white",
            "showbackground": true,
            "ticks": "",
            "zerolinecolor": "white"
           },
           "zaxis": {
            "backgroundcolor": "#E5ECF6",
            "gridcolor": "white",
            "gridwidth": 2,
            "linecolor": "white",
            "showbackground": true,
            "ticks": "",
            "zerolinecolor": "white"
           }
          },
          "shapedefaults": {
           "line": {
            "color": "#2a3f5f"
           }
          },
          "ternary": {
           "aaxis": {
            "gridcolor": "white",
            "linecolor": "white",
            "ticks": ""
           },
           "baxis": {
            "gridcolor": "white",
            "linecolor": "white",
            "ticks": ""
           },
           "bgcolor": "#E5ECF6",
           "caxis": {
            "gridcolor": "white",
            "linecolor": "white",
            "ticks": ""
           }
          },
          "title": {
           "x": 0.05
          },
          "xaxis": {
           "automargin": true,
           "gridcolor": "white",
           "linecolor": "white",
           "ticks": "",
           "title": {
            "standoff": 15
           },
           "zerolinecolor": "white",
           "zerolinewidth": 2
          },
          "yaxis": {
           "automargin": true,
           "gridcolor": "white",
           "linecolor": "white",
           "ticks": "",
           "title": {
            "standoff": 15
           },
           "zerolinecolor": "white",
           "zerolinewidth": 2
          }
         }
        },
        "title": {
         "font": {
          "color": "#4D5663"
         }
        },
        "xaxis": {
         "gridcolor": "#E1E5ED",
         "showgrid": true,
         "tickfont": {
          "color": "#4D5663"
         },
         "title": {
          "font": {
           "color": "#4D5663"
          },
          "text": ""
         },
         "zerolinecolor": "#E1E5ED"
        },
        "yaxis": {
         "gridcolor": "#E1E5ED",
         "showgrid": true,
         "tickfont": {
          "color": "#4D5663"
         },
         "title": {
          "font": {
           "color": "#4D5663"
          },
          "text": ""
         },
         "zerolinecolor": "#E1E5ED"
        }
       }
      },
      "text/html": [
       "<div>                            <div id=\"d9ae3ab3-c136-478b-b605-30331021271c\" class=\"plotly-graph-div\" style=\"height:525px; width:100%;\"></div>            <script type=\"text/javascript\">                require([\"plotly\"], function(Plotly) {                    window.PLOTLYENV=window.PLOTLYENV || {};\n",
       "                    window.PLOTLYENV.BASE_URL='https://plot.ly';                                    if (document.getElementById(\"d9ae3ab3-c136-478b-b605-30331021271c\")) {                    Plotly.newPlot(                        \"d9ae3ab3-c136-478b-b605-30331021271c\",                        [{\"marker\": {\"color\": [\"rgb(255, 153, 51)\", \"rgb(55, 128, 191)\", \"rgb(50, 171, 96)\", \"rgb(128, 0, 128)\", \"rgb(219, 64, 82)\", \"rgb(0, 128, 128)\", \"rgb(255, 255, 51)\", \"rgb(128, 128, 0)\", \"rgb(251, 128, 114)\", \"rgb(128, 177, 211)\"], \"line\": {\"width\": 1.3}, \"size\": [64, 49, 32, 65, 75, 56, 14, 12, 54, 66, 81, 43, 53, 55, 56, 48, 43, 58, 90, 31, 41, 65, 85, 63, 102, 72, 59, 21, 58, 49, 44, 51, 52, 51, 41, 68, 64, 68, 82, 41, 79, 80, 85, 43, 90, 53, 40, 37, 55, 91, 41, 46, 53, 52, 25, 68, 74, 78, 61, 60, 36, 32, 74, 21, 63, 59, 55, 55, 89, 38, 72, 74, 39, 112, 108, 59, 89, 72, 84, 71, 73, 85, 53, 70, 55, 38, 37, 34, 67, 34, 59, 23, 49, 32, 24, 17, 65, 41, 42, 72], \"symbol\": \"circle\"}, \"mode\": \"markers\", \"text\": \"\", \"type\": \"scatter\", \"x\": [0.41760155225455636, 0.5261400468723789, 0.5683423096739474, -0.8222461098210078, 0.5445007517236217, 0.5909299879074099, 2.039579362940726, 0.6262088723800441, 0.19694594037636828, -3.0228983065582167, 0.20013434662272542, 0.7897393701529026, -1.2860106647372174, -1.209894031210368, 1.4991812102081934, 0.35295100673971, 1.6068652128980419, 0.44659510774809213, -0.6767341021203152, 0.867598499054683, 1.449819695873904, 1.3191900045864868, -0.024513457915711818, 0.18460391533600704, -0.23177229636727062, 1.1887447336595125, -1.5984486384334315, -0.4791939980881674, 0.45443684003122853, 1.1858647312666772, 0.6300812899870222, -0.9076010322718687, -1.0366066556848483, -0.6364365731046352, 0.797019857738389, 0.5601019577303988, -1.4652829651387353, 1.3517284564656338, 0.19750781481677754, -1.128982113739443, -0.01754605735598141, -0.044891495186233005, -0.8010310910031381, -0.30335402548602247, -0.3418257891963359, -1.1904895976608356, 0.4408253515736436, 1.6929673822638678, -0.3508487647510596, 0.6929015015943848, 0.6704346008145055, 0.5019071084632046, -1.9676005808992338, 0.2523635759175683, -0.13769847181233172, -0.5937099301262257, -0.4946241603235603, 1.438623954125982, -0.3908975591294168, 1.5713106951819324, 0.8552659204102937, 0.24516086205370485, 0.2888971604931386, -0.14709909178975228, -0.57481584660485, 0.6549006606048943, 0.17296055568917387, -1.1992032201677807, -0.7056304144096323, -2.2219667883329373, -0.24281236415007146, -1.530315772894537, 0.1423184582985676, -0.24145116574300846, -0.30577559894924256, -1.9700879316648785, 1.552930248971835, -0.6550718586352199, 1.62122878034275, 1.167262884154505, -0.04828735125770609, 1.446278149666796, -0.4026852504538263, 2.2068846765818995, 1.2032324446589693, 1.2451406579941515, 0.5746429329620883, 0.025993186182502948, 1.646829572457141, -1.2970898328462357, 0.8804446701276977, -0.6672298832100317, -0.2551538650516365, -0.20516968130389845, -0.1893699347371977, 1.2822922950580091, -0.259250383046811, 1.0005601672190672, -1.1550813022509543, -1.5016589825132562], \"y\": [0.45531183603699393, 0.5980709095986467, -0.34994300438479303, 0.682610763724963, -1.4542337018715585, -0.3769121673601374, -0.6387922806675909, -0.7260129686538656, 1.5278964844049967, -0.48756957792086913, 0.05434385648508415, 0.7506522319974177, -1.9413341849808416, -0.5730009940047913, -1.1003505963827607, 1.0684780089870864, -0.8653245918742982, -1.1659141525288483, 1.4748659606190033, 1.1821959921800371, -0.7461798246499382, 0.48999175008102147, -0.673992626184721, 0.24893133866831796, 0.6464588824587291, -0.1461097428226522, 1.4026878825912379, -0.4985833083140884, -0.14469994922942367, -2.089059080119697, 0.2579102415048242, 0.1233431191998344, -0.5126377378670051, 0.1845391531012246, 0.26227917881843976, -2.517400123945921, -0.7664875910204841, 1.2515981143552763, 0.77024253182108, 0.2663650999864578, -0.31410429215510044, -0.7595707679642624, -0.30063668798857396, -1.3659417049110871, -0.7385023938161782, -0.8783868473978256, -1.386658644809201, -0.425338368256794, -0.6707201032633747, 0.3639683078524173, -0.6252515176436683, -0.7479873442020913, 0.23379014573745413, 0.19676520830860575, 0.78420191379329, 0.4667723126550738, -0.31299224975101747, 1.4071812363229708, -0.9882035714894439, 1.059675760547426, -0.661011691916808, 0.5648241544355863, 0.15498534009217793, -0.2969239333093207, -0.8579346573227228, -0.2983936903030944, -0.8188836855107948, -0.05905956696405363, 1.2634824753451157, -0.24211420077731516, -0.4543600665000616, 0.00020674132613351752, -0.983661158660926, -0.7938089830406612, 0.9133767862108992, -0.40882011720110095, 0.6296552104036756, 0.067578322434332, 0.49205614258355074, -0.6708775195031813, -2.3472801537369756, 0.3347200513927004, 0.27897836749072086, 0.7426050366716708, 1.0964144703582637, 0.6100031054218946, -0.8642234541537205, 0.6701889377888379, -0.8522639978236726, 1.2811708836726825, -0.709792986765138, -0.9479604590556494, 1.450475432415021, -0.6263162004965983, -0.25591862078357036, 0.1794046087657056, -0.08294676921470963, -0.19139893329730934, 0.589992480029799, -0.5097005552190711]}],                        {\"legend\": {\"bgcolor\": \"#F5F6F9\", \"font\": {\"color\": \"#4D5663\"}}, \"paper_bgcolor\": \"#F5F6F9\", \"plot_bgcolor\": \"#F5F6F9\", \"template\": {\"data\": {\"bar\": [{\"error_x\": {\"color\": \"#2a3f5f\"}, \"error_y\": {\"color\": \"#2a3f5f\"}, \"marker\": {\"line\": {\"color\": \"#E5ECF6\", \"width\": 0.5}}, \"type\": \"bar\"}], \"barpolar\": [{\"marker\": {\"line\": {\"color\": \"#E5ECF6\", \"width\": 0.5}}, \"type\": \"barpolar\"}], \"carpet\": [{\"aaxis\": {\"endlinecolor\": \"#2a3f5f\", \"gridcolor\": \"white\", \"linecolor\": \"white\", \"minorgridcolor\": \"white\", \"startlinecolor\": \"#2a3f5f\"}, \"baxis\": {\"endlinecolor\": \"#2a3f5f\", \"gridcolor\": \"white\", \"linecolor\": \"white\", \"minorgridcolor\": \"white\", \"startlinecolor\": \"#2a3f5f\"}, \"type\": \"carpet\"}], \"choropleth\": [{\"colorbar\": {\"outlinewidth\": 0, \"ticks\": \"\"}, \"type\": \"choropleth\"}], \"contour\": [{\"colorbar\": {\"outlinewidth\": 0, \"ticks\": \"\"}, \"colorscale\": [[0.0, \"#0d0887\"], [0.1111111111111111, \"#46039f\"], [0.2222222222222222, \"#7201a8\"], [0.3333333333333333, \"#9c179e\"], [0.4444444444444444, \"#bd3786\"], [0.5555555555555556, \"#d8576b\"], [0.6666666666666666, \"#ed7953\"], [0.7777777777777778, \"#fb9f3a\"], [0.8888888888888888, \"#fdca26\"], [1.0, \"#f0f921\"]], \"type\": \"contour\"}], \"contourcarpet\": [{\"colorbar\": {\"outlinewidth\": 0, \"ticks\": \"\"}, \"type\": \"contourcarpet\"}], \"heatmap\": [{\"colorbar\": {\"outlinewidth\": 0, \"ticks\": \"\"}, \"colorscale\": [[0.0, \"#0d0887\"], [0.1111111111111111, \"#46039f\"], [0.2222222222222222, \"#7201a8\"], [0.3333333333333333, \"#9c179e\"], [0.4444444444444444, \"#bd3786\"], [0.5555555555555556, \"#d8576b\"], [0.6666666666666666, \"#ed7953\"], [0.7777777777777778, \"#fb9f3a\"], [0.8888888888888888, \"#fdca26\"], [1.0, \"#f0f921\"]], \"type\": \"heatmap\"}], \"heatmapgl\": [{\"colorbar\": {\"outlinewidth\": 0, \"ticks\": \"\"}, \"colorscale\": [[0.0, \"#0d0887\"], [0.1111111111111111, \"#46039f\"], [0.2222222222222222, \"#7201a8\"], [0.3333333333333333, \"#9c179e\"], [0.4444444444444444, \"#bd3786\"], [0.5555555555555556, \"#d8576b\"], [0.6666666666666666, \"#ed7953\"], [0.7777777777777778, \"#fb9f3a\"], [0.8888888888888888, \"#fdca26\"], [1.0, \"#f0f921\"]], \"type\": \"heatmapgl\"}], \"histogram\": [{\"marker\": {\"colorbar\": {\"outlinewidth\": 0, \"ticks\": \"\"}}, \"type\": \"histogram\"}], \"histogram2d\": [{\"colorbar\": {\"outlinewidth\": 0, \"ticks\": \"\"}, \"colorscale\": [[0.0, \"#0d0887\"], [0.1111111111111111, \"#46039f\"], [0.2222222222222222, \"#7201a8\"], [0.3333333333333333, \"#9c179e\"], [0.4444444444444444, \"#bd3786\"], [0.5555555555555556, \"#d8576b\"], [0.6666666666666666, \"#ed7953\"], [0.7777777777777778, \"#fb9f3a\"], [0.8888888888888888, \"#fdca26\"], [1.0, \"#f0f921\"]], \"type\": \"histogram2d\"}], \"histogram2dcontour\": [{\"colorbar\": {\"outlinewidth\": 0, \"ticks\": \"\"}, \"colorscale\": [[0.0, \"#0d0887\"], [0.1111111111111111, \"#46039f\"], [0.2222222222222222, \"#7201a8\"], [0.3333333333333333, \"#9c179e\"], [0.4444444444444444, \"#bd3786\"], [0.5555555555555556, \"#d8576b\"], [0.6666666666666666, \"#ed7953\"], [0.7777777777777778, \"#fb9f3a\"], [0.8888888888888888, \"#fdca26\"], [1.0, \"#f0f921\"]], \"type\": \"histogram2dcontour\"}], \"mesh3d\": [{\"colorbar\": {\"outlinewidth\": 0, \"ticks\": \"\"}, \"type\": \"mesh3d\"}], \"parcoords\": [{\"line\": {\"colorbar\": {\"outlinewidth\": 0, \"ticks\": \"\"}}, \"type\": \"parcoords\"}], \"pie\": [{\"automargin\": true, \"type\": \"pie\"}], \"scatter\": [{\"marker\": {\"colorbar\": {\"outlinewidth\": 0, \"ticks\": \"\"}}, \"type\": \"scatter\"}], \"scatter3d\": [{\"line\": {\"colorbar\": {\"outlinewidth\": 0, \"ticks\": \"\"}}, \"marker\": {\"colorbar\": {\"outlinewidth\": 0, \"ticks\": \"\"}}, \"type\": \"scatter3d\"}], \"scattercarpet\": [{\"marker\": {\"colorbar\": {\"outlinewidth\": 0, \"ticks\": \"\"}}, \"type\": \"scattercarpet\"}], \"scattergeo\": [{\"marker\": {\"colorbar\": {\"outlinewidth\": 0, \"ticks\": \"\"}}, \"type\": \"scattergeo\"}], \"scattergl\": [{\"marker\": {\"colorbar\": {\"outlinewidth\": 0, \"ticks\": \"\"}}, \"type\": \"scattergl\"}], \"scattermapbox\": [{\"marker\": {\"colorbar\": {\"outlinewidth\": 0, \"ticks\": \"\"}}, \"type\": \"scattermapbox\"}], \"scatterpolar\": [{\"marker\": {\"colorbar\": {\"outlinewidth\": 0, \"ticks\": \"\"}}, \"type\": \"scatterpolar\"}], \"scatterpolargl\": [{\"marker\": {\"colorbar\": {\"outlinewidth\": 0, \"ticks\": \"\"}}, \"type\": \"scatterpolargl\"}], \"scatterternary\": [{\"marker\": {\"colorbar\": {\"outlinewidth\": 0, \"ticks\": \"\"}}, \"type\": \"scatterternary\"}], \"surface\": [{\"colorbar\": {\"outlinewidth\": 0, \"ticks\": \"\"}, \"colorscale\": [[0.0, \"#0d0887\"], [0.1111111111111111, \"#46039f\"], [0.2222222222222222, \"#7201a8\"], [0.3333333333333333, \"#9c179e\"], [0.4444444444444444, \"#bd3786\"], [0.5555555555555556, \"#d8576b\"], [0.6666666666666666, \"#ed7953\"], [0.7777777777777778, \"#fb9f3a\"], [0.8888888888888888, \"#fdca26\"], [1.0, \"#f0f921\"]], \"type\": \"surface\"}], \"table\": [{\"cells\": {\"fill\": {\"color\": \"#EBF0F8\"}, \"line\": {\"color\": \"white\"}}, \"header\": {\"fill\": {\"color\": \"#C8D4E3\"}, \"line\": {\"color\": \"white\"}}, \"type\": \"table\"}]}, \"layout\": {\"annotationdefaults\": {\"arrowcolor\": \"#2a3f5f\", \"arrowhead\": 0, \"arrowwidth\": 1}, \"autotypenumbers\": \"strict\", \"coloraxis\": {\"colorbar\": {\"outlinewidth\": 0, \"ticks\": \"\"}}, \"colorscale\": {\"diverging\": [[0, \"#8e0152\"], [0.1, \"#c51b7d\"], [0.2, \"#de77ae\"], [0.3, \"#f1b6da\"], [0.4, \"#fde0ef\"], [0.5, \"#f7f7f7\"], [0.6, \"#e6f5d0\"], [0.7, \"#b8e186\"], [0.8, \"#7fbc41\"], [0.9, \"#4d9221\"], [1, \"#276419\"]], \"sequential\": [[0.0, \"#0d0887\"], [0.1111111111111111, \"#46039f\"], [0.2222222222222222, \"#7201a8\"], [0.3333333333333333, \"#9c179e\"], [0.4444444444444444, \"#bd3786\"], [0.5555555555555556, \"#d8576b\"], [0.6666666666666666, \"#ed7953\"], [0.7777777777777778, \"#fb9f3a\"], [0.8888888888888888, \"#fdca26\"], [1.0, \"#f0f921\"]], \"sequentialminus\": [[0.0, \"#0d0887\"], [0.1111111111111111, \"#46039f\"], [0.2222222222222222, \"#7201a8\"], [0.3333333333333333, \"#9c179e\"], [0.4444444444444444, \"#bd3786\"], [0.5555555555555556, \"#d8576b\"], [0.6666666666666666, \"#ed7953\"], [0.7777777777777778, \"#fb9f3a\"], [0.8888888888888888, \"#fdca26\"], [1.0, \"#f0f921\"]]}, \"colorway\": [\"#636efa\", \"#EF553B\", \"#00cc96\", \"#ab63fa\", \"#FFA15A\", \"#19d3f3\", \"#FF6692\", \"#B6E880\", \"#FF97FF\", \"#FECB52\"], \"font\": {\"color\": \"#2a3f5f\"}, \"geo\": {\"bgcolor\": \"white\", \"lakecolor\": \"white\", \"landcolor\": \"#E5ECF6\", \"showlakes\": true, \"showland\": true, \"subunitcolor\": \"white\"}, \"hoverlabel\": {\"align\": \"left\"}, \"hovermode\": \"closest\", \"mapbox\": {\"style\": \"light\"}, \"paper_bgcolor\": \"white\", \"plot_bgcolor\": \"#E5ECF6\", \"polar\": {\"angularaxis\": {\"gridcolor\": \"white\", \"linecolor\": \"white\", \"ticks\": \"\"}, \"bgcolor\": \"#E5ECF6\", \"radialaxis\": {\"gridcolor\": \"white\", \"linecolor\": \"white\", \"ticks\": \"\"}}, \"scene\": {\"xaxis\": {\"backgroundcolor\": \"#E5ECF6\", \"gridcolor\": \"white\", \"gridwidth\": 2, \"linecolor\": \"white\", \"showbackground\": true, \"ticks\": \"\", \"zerolinecolor\": \"white\"}, \"yaxis\": {\"backgroundcolor\": \"#E5ECF6\", \"gridcolor\": \"white\", \"gridwidth\": 2, \"linecolor\": \"white\", \"showbackground\": true, \"ticks\": \"\", \"zerolinecolor\": \"white\"}, \"zaxis\": {\"backgroundcolor\": \"#E5ECF6\", \"gridcolor\": \"white\", \"gridwidth\": 2, \"linecolor\": \"white\", \"showbackground\": true, \"ticks\": \"\", \"zerolinecolor\": \"white\"}}, \"shapedefaults\": {\"line\": {\"color\": \"#2a3f5f\"}}, \"ternary\": {\"aaxis\": {\"gridcolor\": \"white\", \"linecolor\": \"white\", \"ticks\": \"\"}, \"baxis\": {\"gridcolor\": \"white\", \"linecolor\": \"white\", \"ticks\": \"\"}, \"bgcolor\": \"#E5ECF6\", \"caxis\": {\"gridcolor\": \"white\", \"linecolor\": \"white\", \"ticks\": \"\"}}, \"title\": {\"x\": 0.05}, \"xaxis\": {\"automargin\": true, \"gridcolor\": \"white\", \"linecolor\": \"white\", \"ticks\": \"\", \"title\": {\"standoff\": 15}, \"zerolinecolor\": \"white\", \"zerolinewidth\": 2}, \"yaxis\": {\"automargin\": true, \"gridcolor\": \"white\", \"linecolor\": \"white\", \"ticks\": \"\", \"title\": {\"standoff\": 15}, \"zerolinecolor\": \"white\", \"zerolinewidth\": 2}}}, \"title\": {\"font\": {\"color\": \"#4D5663\"}}, \"xaxis\": {\"gridcolor\": \"#E1E5ED\", \"showgrid\": true, \"tickfont\": {\"color\": \"#4D5663\"}, \"title\": {\"font\": {\"color\": \"#4D5663\"}, \"text\": \"\"}, \"zerolinecolor\": \"#E1E5ED\"}, \"yaxis\": {\"gridcolor\": \"#E1E5ED\", \"showgrid\": true, \"tickfont\": {\"color\": \"#4D5663\"}, \"title\": {\"font\": {\"color\": \"#4D5663\"}, \"text\": \"\"}, \"zerolinecolor\": \"#E1E5ED\"}},                        {\"showLink\": true, \"linkText\": \"Export to plot.ly\", \"plotlyServerURL\": \"https://plot.ly\", \"responsive\": true}                    ).then(function(){\n",
       "                            \n",
       "var gd = document.getElementById('d9ae3ab3-c136-478b-b605-30331021271c');\n",
       "var x = new MutationObserver(function (mutations, observer) {{\n",
       "        var display = window.getComputedStyle(gd).display;\n",
       "        if (!display || display === 'none') {{\n",
       "            console.log([gd, 'removed!']);\n",
       "            Plotly.purge(gd);\n",
       "            observer.disconnect();\n",
       "        }}\n",
       "}});\n",
       "\n",
       "// Listen for the removal of the full notebook cells\n",
       "var notebookContainer = gd.closest('#notebook-container');\n",
       "if (notebookContainer) {{\n",
       "    x.observe(notebookContainer, {childList: true});\n",
       "}}\n",
       "\n",
       "// Listen for the clearing of the current output cell\n",
       "var outputEl = gd.closest('.output');\n",
       "if (outputEl) {{\n",
       "    x.observe(outputEl, {childList: true});\n",
       "}}\n",
       "\n",
       "                        })                };                });            </script>        </div>"
      ]
     },
     "metadata": {},
     "output_type": "display_data"
    }
   ],
   "source": [
    "df.iplot(kind='bubble',x='A',y='B',size='C')"
   ]
  },
  {
   "cell_type": "markdown",
   "metadata": {},
   "source": [
    "## scatter_matrix()\n",
    "\n",
    "Similar to sns.pairplot()"
   ]
  },
  {
   "cell_type": "code",
   "execution_count": 18,
   "metadata": {},
   "outputs": [
    {
     "data": {
      "application/vnd.plotly.v1+json": {
       "config": {
        "linkText": "Export to plot.ly",
        "plotlyServerURL": "https://plot.ly",
        "showLink": true
       },
       "data": [
        {
         "histfunc": "count",
         "histnorm": "",
         "marker": {
          "color": "rgba(255, 153, 51, 1.0)",
          "line": {
           "color": "#4D5663",
           "width": 1.3
          }
         },
         "name": "A",
         "nbinsx": 10,
         "opacity": 0.8,
         "orientation": "v",
         "type": "histogram",
         "x": [
          0.41760155225455636,
          0.5261400468723789,
          0.5683423096739474,
          -0.8222461098210078,
          0.5445007517236217,
          0.5909299879074099,
          2.039579362940726,
          0.6262088723800441,
          0.19694594037636828,
          -3.0228983065582167,
          0.20013434662272542,
          0.7897393701529026,
          -1.2860106647372174,
          -1.209894031210368,
          1.4991812102081934,
          0.35295100673971,
          1.6068652128980419,
          0.44659510774809213,
          -0.6767341021203152,
          0.867598499054683,
          1.449819695873904,
          1.3191900045864868,
          -0.024513457915711818,
          0.18460391533600704,
          -0.23177229636727062,
          1.1887447336595125,
          -1.5984486384334315,
          -0.4791939980881674,
          0.45443684003122853,
          1.1858647312666772,
          0.6300812899870222,
          -0.9076010322718687,
          -1.0366066556848483,
          -0.6364365731046352,
          0.797019857738389,
          0.5601019577303988,
          -1.4652829651387353,
          1.3517284564656338,
          0.19750781481677754,
          -1.128982113739443,
          -0.01754605735598141,
          -0.044891495186233005,
          -0.8010310910031381,
          -0.30335402548602247,
          -0.3418257891963359,
          -1.1904895976608356,
          0.4408253515736436,
          1.6929673822638678,
          -0.3508487647510596,
          0.6929015015943848,
          0.6704346008145055,
          0.5019071084632046,
          -1.9676005808992338,
          0.2523635759175683,
          -0.13769847181233172,
          -0.5937099301262257,
          -0.4946241603235603,
          1.438623954125982,
          -0.3908975591294168,
          1.5713106951819324,
          0.8552659204102937,
          0.24516086205370485,
          0.2888971604931386,
          -0.14709909178975228,
          -0.57481584660485,
          0.6549006606048943,
          0.17296055568917387,
          -1.1992032201677807,
          -0.7056304144096323,
          -2.2219667883329373,
          -0.24281236415007146,
          -1.530315772894537,
          0.1423184582985676,
          -0.24145116574300846,
          -0.30577559894924256,
          -1.9700879316648785,
          1.552930248971835,
          -0.6550718586352199,
          1.62122878034275,
          1.167262884154505,
          -0.04828735125770609,
          1.446278149666796,
          -0.4026852504538263,
          2.2068846765818995,
          1.2032324446589693,
          1.2451406579941515,
          0.5746429329620883,
          0.025993186182502948,
          1.646829572457141,
          -1.2970898328462357,
          0.8804446701276977,
          -0.6672298832100317,
          -0.2551538650516365,
          -0.20516968130389845,
          -0.1893699347371977,
          1.2822922950580091,
          -0.259250383046811,
          1.0005601672190672,
          -1.1550813022509543,
          -1.5016589825132562
         ],
         "xaxis": "x",
         "yaxis": "y"
        },
        {
         "line": {
          "color": "rgba(128, 128, 128, 1.0)",
          "dash": "solid",
          "shape": "linear",
          "width": 1.3
         },
         "marker": {
          "size": 2,
          "symbol": "circle"
         },
         "mode": "markers",
         "name": "A",
         "text": "",
         "type": "scatter",
         "x": [
          0.45531183603699393,
          0.5980709095986467,
          -0.34994300438479303,
          0.682610763724963,
          -1.4542337018715585,
          -0.3769121673601374,
          -0.6387922806675909,
          -0.7260129686538656,
          1.5278964844049967,
          -0.48756957792086913,
          0.05434385648508415,
          0.7506522319974177,
          -1.9413341849808416,
          -0.5730009940047913,
          -1.1003505963827607,
          1.0684780089870864,
          -0.8653245918742982,
          -1.1659141525288483,
          1.4748659606190033,
          1.1821959921800371,
          -0.7461798246499382,
          0.48999175008102147,
          -0.673992626184721,
          0.24893133866831796,
          0.6464588824587291,
          -0.1461097428226522,
          1.4026878825912379,
          -0.4985833083140884,
          -0.14469994922942367,
          -2.089059080119697,
          0.2579102415048242,
          0.1233431191998344,
          -0.5126377378670051,
          0.1845391531012246,
          0.26227917881843976,
          -2.517400123945921,
          -0.7664875910204841,
          1.2515981143552763,
          0.77024253182108,
          0.2663650999864578,
          -0.31410429215510044,
          -0.7595707679642624,
          -0.30063668798857396,
          -1.3659417049110871,
          -0.7385023938161782,
          -0.8783868473978256,
          -1.386658644809201,
          -0.425338368256794,
          -0.6707201032633747,
          0.3639683078524173,
          -0.6252515176436683,
          -0.7479873442020913,
          0.23379014573745413,
          0.19676520830860575,
          0.78420191379329,
          0.4667723126550738,
          -0.31299224975101747,
          1.4071812363229708,
          -0.9882035714894439,
          1.059675760547426,
          -0.661011691916808,
          0.5648241544355863,
          0.15498534009217793,
          -0.2969239333093207,
          -0.8579346573227228,
          -0.2983936903030944,
          -0.8188836855107948,
          -0.05905956696405363,
          1.2634824753451157,
          -0.24211420077731516,
          -0.4543600665000616,
          0.00020674132613351752,
          -0.983661158660926,
          -0.7938089830406612,
          0.9133767862108992,
          -0.40882011720110095,
          0.6296552104036756,
          0.067578322434332,
          0.49205614258355074,
          -0.6708775195031813,
          -2.3472801537369756,
          0.3347200513927004,
          0.27897836749072086,
          0.7426050366716708,
          1.0964144703582637,
          0.6100031054218946,
          -0.8642234541537205,
          0.6701889377888379,
          -0.8522639978236726,
          1.2811708836726825,
          -0.709792986765138,
          -0.9479604590556494,
          1.450475432415021,
          -0.6263162004965983,
          -0.25591862078357036,
          0.1794046087657056,
          -0.08294676921470963,
          -0.19139893329730934,
          0.589992480029799,
          -0.5097005552190711
         ],
         "xaxis": "x2",
         "y": [
          0.41760155225455636,
          0.5261400468723789,
          0.5683423096739474,
          -0.8222461098210078,
          0.5445007517236217,
          0.5909299879074099,
          2.039579362940726,
          0.6262088723800441,
          0.19694594037636828,
          -3.0228983065582167,
          0.20013434662272542,
          0.7897393701529026,
          -1.2860106647372174,
          -1.209894031210368,
          1.4991812102081934,
          0.35295100673971,
          1.6068652128980419,
          0.44659510774809213,
          -0.6767341021203152,
          0.867598499054683,
          1.449819695873904,
          1.3191900045864868,
          -0.024513457915711818,
          0.18460391533600704,
          -0.23177229636727062,
          1.1887447336595125,
          -1.5984486384334315,
          -0.4791939980881674,
          0.45443684003122853,
          1.1858647312666772,
          0.6300812899870222,
          -0.9076010322718687,
          -1.0366066556848483,
          -0.6364365731046352,
          0.797019857738389,
          0.5601019577303988,
          -1.4652829651387353,
          1.3517284564656338,
          0.19750781481677754,
          -1.128982113739443,
          -0.01754605735598141,
          -0.044891495186233005,
          -0.8010310910031381,
          -0.30335402548602247,
          -0.3418257891963359,
          -1.1904895976608356,
          0.4408253515736436,
          1.6929673822638678,
          -0.3508487647510596,
          0.6929015015943848,
          0.6704346008145055,
          0.5019071084632046,
          -1.9676005808992338,
          0.2523635759175683,
          -0.13769847181233172,
          -0.5937099301262257,
          -0.4946241603235603,
          1.438623954125982,
          -0.3908975591294168,
          1.5713106951819324,
          0.8552659204102937,
          0.24516086205370485,
          0.2888971604931386,
          -0.14709909178975228,
          -0.57481584660485,
          0.6549006606048943,
          0.17296055568917387,
          -1.1992032201677807,
          -0.7056304144096323,
          -2.2219667883329373,
          -0.24281236415007146,
          -1.530315772894537,
          0.1423184582985676,
          -0.24145116574300846,
          -0.30577559894924256,
          -1.9700879316648785,
          1.552930248971835,
          -0.6550718586352199,
          1.62122878034275,
          1.167262884154505,
          -0.04828735125770609,
          1.446278149666796,
          -0.4026852504538263,
          2.2068846765818995,
          1.2032324446589693,
          1.2451406579941515,
          0.5746429329620883,
          0.025993186182502948,
          1.646829572457141,
          -1.2970898328462357,
          0.8804446701276977,
          -0.6672298832100317,
          -0.2551538650516365,
          -0.20516968130389845,
          -0.1893699347371977,
          1.2822922950580091,
          -0.259250383046811,
          1.0005601672190672,
          -1.1550813022509543,
          -1.5016589825132562
         ],
         "yaxis": "y2"
        },
        {
         "line": {
          "color": "rgba(128, 128, 128, 1.0)",
          "dash": "solid",
          "shape": "linear",
          "width": 1.3
         },
         "marker": {
          "size": 2,
          "symbol": "circle"
         },
         "mode": "markers",
         "name": "A",
         "text": "",
         "type": "scatter",
         "x": [
          0.3567412540471956,
          -0.277621504160643,
          -1.0039560507328307,
          0.4257875394596556,
          0.8485262765176328,
          0.027817741081305154,
          -1.7800691311508625,
          -1.8930610505968957,
          -0.06819106082740113,
          0.43366565834833737,
          1.0861225268145978,
          -0.5539736078617259,
          -0.08722181086773953,
          -0.039346148424286354,
          0.02426022263642747,
          -0.3239798433301274,
          -0.5475703879989886,
          0.10581527280291539,
          1.4692521950210637,
          -1.0685563032083263,
          -0.6073617902751547,
          0.41001464741051835,
          1.2845515232914555,
          0.3437694013387482,
          2.0241296518939427,
          0.716348298850311,
          0.1500977859365151,
          -1.479572162573671,
          0.12161963392533788,
          -0.29468756900021,
          -0.47507501852182565,
          -0.17952261305483727,
          -0.1401793967555207,
          -0.19358067173563642,
          -0.6135315251047768,
          0.5609601860154348,
          0.3644233052137257,
          0.5185641404240686,
          1.1638762577410178,
          -0.6382911894940564,
          1.0083918802169105,
          1.0636726060351618,
          1.2589916440795696,
          -0.5567782430971342,
          1.503910486047363,
          -0.1039842744244673,
          -0.6532649887744778,
          -0.7953422244590403,
          -0.02554402453545743,
          1.5193231117102857,
          -0.6062116799584988,
          -0.4148403299408071,
          -0.12557841868576408,
          -0.14423630327538,
          -1.3167152355180747,
          0.5251488066072629,
          0.7842350662560305,
          0.9880066036413466,
          0.2207036124958554,
          0.19373994552679588,
          -0.8480826738209563,
          -1.0290592176586044,
          0.7830598545164305,
          -1.5052245769808832,
          0.3278263641898475,
          0.13947034109223538,
          -0.002795163953398742,
          -0.014160736529868299,
          1.4427765071149234,
          -0.7621509714232797,
          0.7065671126852853,
          0.7945017251732709,
          -0.7297836742942091,
          2.4131451498614176,
          2.2445299938224976,
          0.14412247363103614,
          1.4339792912032998,
          0.7093706081785429,
          1.2343676777915684,
          0.660670851456429,
          0.7349524389088409,
          1.2765689692487583,
          -0.10448287256714851,
          0.6053610822144108,
          -0.04122164143347805,
          -0.7648034974534945,
          -0.789191795836851,
          -0.936563079684066,
          0.5154742497944342,
          -0.9031963361211861,
          0.14144805967255422,
          -1.4028188883733714,
          -0.25976107214927635,
          -1.0310683377887329,
          -1.3699899830889526,
          -1.676308545130461,
          0.40260360696246933,
          -0.6364028036937236,
          -0.5964837090022717,
          0.729176826983682
         ],
         "xaxis": "x3",
         "y": [
          0.41760155225455636,
          0.5261400468723789,
          0.5683423096739474,
          -0.8222461098210078,
          0.5445007517236217,
          0.5909299879074099,
          2.039579362940726,
          0.6262088723800441,
          0.19694594037636828,
          -3.0228983065582167,
          0.20013434662272542,
          0.7897393701529026,
          -1.2860106647372174,
          -1.209894031210368,
          1.4991812102081934,
          0.35295100673971,
          1.6068652128980419,
          0.44659510774809213,
          -0.6767341021203152,
          0.867598499054683,
          1.449819695873904,
          1.3191900045864868,
          -0.024513457915711818,
          0.18460391533600704,
          -0.23177229636727062,
          1.1887447336595125,
          -1.5984486384334315,
          -0.4791939980881674,
          0.45443684003122853,
          1.1858647312666772,
          0.6300812899870222,
          -0.9076010322718687,
          -1.0366066556848483,
          -0.6364365731046352,
          0.797019857738389,
          0.5601019577303988,
          -1.4652829651387353,
          1.3517284564656338,
          0.19750781481677754,
          -1.128982113739443,
          -0.01754605735598141,
          -0.044891495186233005,
          -0.8010310910031381,
          -0.30335402548602247,
          -0.3418257891963359,
          -1.1904895976608356,
          0.4408253515736436,
          1.6929673822638678,
          -0.3508487647510596,
          0.6929015015943848,
          0.6704346008145055,
          0.5019071084632046,
          -1.9676005808992338,
          0.2523635759175683,
          -0.13769847181233172,
          -0.5937099301262257,
          -0.4946241603235603,
          1.438623954125982,
          -0.3908975591294168,
          1.5713106951819324,
          0.8552659204102937,
          0.24516086205370485,
          0.2888971604931386,
          -0.14709909178975228,
          -0.57481584660485,
          0.6549006606048943,
          0.17296055568917387,
          -1.1992032201677807,
          -0.7056304144096323,
          -2.2219667883329373,
          -0.24281236415007146,
          -1.530315772894537,
          0.1423184582985676,
          -0.24145116574300846,
          -0.30577559894924256,
          -1.9700879316648785,
          1.552930248971835,
          -0.6550718586352199,
          1.62122878034275,
          1.167262884154505,
          -0.04828735125770609,
          1.446278149666796,
          -0.4026852504538263,
          2.2068846765818995,
          1.2032324446589693,
          1.2451406579941515,
          0.5746429329620883,
          0.025993186182502948,
          1.646829572457141,
          -1.2970898328462357,
          0.8804446701276977,
          -0.6672298832100317,
          -0.2551538650516365,
          -0.20516968130389845,
          -0.1893699347371977,
          1.2822922950580091,
          -0.259250383046811,
          1.0005601672190672,
          -1.1550813022509543,
          -1.5016589825132562
         ],
         "yaxis": "y3"
        },
        {
         "line": {
          "color": "rgba(128, 128, 128, 1.0)",
          "dash": "solid",
          "shape": "linear",
          "width": 1.3
         },
         "marker": {
          "size": 2,
          "symbol": "circle"
         },
         "mode": "markers",
         "name": "A",
         "text": "",
         "type": "scatter",
         "x": [
          -1.34202166775557,
          0.24041236218769918,
          -1.0895993906002497,
          -1.4477730505340438,
          0.3265560291598136,
          -1.0627183263089948,
          2.2748119539369878,
          0.14002478373288554,
          -0.591482610766506,
          0.3672475929415598,
          -0.6523607787086786,
          0.04620958491721732,
          -0.5292075375810491,
          -0.1426341013200712,
          -0.992193609915696,
          -1.4508580201592014,
          0.8460637452465019,
          0.9561772764999883,
          -0.07484683674390989,
          0.303618913225969,
          1.5159308005788739,
          0.3884519230077761,
          1.205014344324589,
          0.39110073171143445,
          -1.4412416258689398,
          -0.5063324518534471,
          -0.5231572171845528,
          0.44703995761157306,
          -1.2283044186145742,
          0.20841355207505802,
          -0.3537097899246747,
          0.8404505092648065,
          -0.3295942502982704,
          0.5764188772427017,
          -0.6042277808645765,
          0.3470231871858434,
          1.1559274895045106,
          0.2798027226974251,
          -1.897226835172203,
          2.0984705425501513,
          1.248088207208783,
          -0.0026771784714443086,
          -0.3507749455528286,
          1.136933776325363,
          0.4747888094602326,
          0.5173850191199333,
          -0.398801075208429,
          -0.308605533844656,
          -2.2743739867380355,
          -0.30863557341001424,
          2.0088421343289387,
          -0.43891328004556274,
          -0.21348335628559187,
          0.10380703823181336,
          0.8220260708349477,
          0.4835166938101988,
          0.24586694233775314,
          -0.9296229063557128,
          -0.30592330589032324,
          -0.33521000892205965,
          0.016749593628197054,
          -0.13562841853330956,
          0.5249595724520443,
          0.5498983890001178,
          -0.2634244246000023,
          -0.9490978005532776,
          2.0126370942676317,
          0.1824088629928282,
          2.1656156815201983,
          1.5772870832511796,
          0.9114248100780128,
          -1.1443884388024306,
          0.43472719327085246,
          -0.3412961400193563,
          1.0670230308075241,
          -1.7315149468895397,
          -0.764445398381599,
          1.6989173660069625,
          1.8839510915177033,
          -0.5305355725011855,
          1.8213571156061392,
          0.3428641089022315,
          0.14654499835974855,
          0.02915989562030293,
          0.1333763354747478,
          0.6095982932668517,
          0.2604878686434509,
          1.3342361352729508,
          -0.11152614460930015,
          0.278282793389956,
          -1.59248851841307,
          -0.13123537115579278,
          -0.5421071636298173,
          1.4446683123494939,
          0.4916958334915132,
          -1.6940815209703621,
          0.016659471213699904,
          -0.10534647508326686,
          -0.2342201332176408,
          1.4419339622136704
         ],
         "xaxis": "x4",
         "y": [
          0.41760155225455636,
          0.5261400468723789,
          0.5683423096739474,
          -0.8222461098210078,
          0.5445007517236217,
          0.5909299879074099,
          2.039579362940726,
          0.6262088723800441,
          0.19694594037636828,
          -3.0228983065582167,
          0.20013434662272542,
          0.7897393701529026,
          -1.2860106647372174,
          -1.209894031210368,
          1.4991812102081934,
          0.35295100673971,
          1.6068652128980419,
          0.44659510774809213,
          -0.6767341021203152,
          0.867598499054683,
          1.449819695873904,
          1.3191900045864868,
          -0.024513457915711818,
          0.18460391533600704,
          -0.23177229636727062,
          1.1887447336595125,
          -1.5984486384334315,
          -0.4791939980881674,
          0.45443684003122853,
          1.1858647312666772,
          0.6300812899870222,
          -0.9076010322718687,
          -1.0366066556848483,
          -0.6364365731046352,
          0.797019857738389,
          0.5601019577303988,
          -1.4652829651387353,
          1.3517284564656338,
          0.19750781481677754,
          -1.128982113739443,
          -0.01754605735598141,
          -0.044891495186233005,
          -0.8010310910031381,
          -0.30335402548602247,
          -0.3418257891963359,
          -1.1904895976608356,
          0.4408253515736436,
          1.6929673822638678,
          -0.3508487647510596,
          0.6929015015943848,
          0.6704346008145055,
          0.5019071084632046,
          -1.9676005808992338,
          0.2523635759175683,
          -0.13769847181233172,
          -0.5937099301262257,
          -0.4946241603235603,
          1.438623954125982,
          -0.3908975591294168,
          1.5713106951819324,
          0.8552659204102937,
          0.24516086205370485,
          0.2888971604931386,
          -0.14709909178975228,
          -0.57481584660485,
          0.6549006606048943,
          0.17296055568917387,
          -1.1992032201677807,
          -0.7056304144096323,
          -2.2219667883329373,
          -0.24281236415007146,
          -1.530315772894537,
          0.1423184582985676,
          -0.24145116574300846,
          -0.30577559894924256,
          -1.9700879316648785,
          1.552930248971835,
          -0.6550718586352199,
          1.62122878034275,
          1.167262884154505,
          -0.04828735125770609,
          1.446278149666796,
          -0.4026852504538263,
          2.2068846765818995,
          1.2032324446589693,
          1.2451406579941515,
          0.5746429329620883,
          0.025993186182502948,
          1.646829572457141,
          -1.2970898328462357,
          0.8804446701276977,
          -0.6672298832100317,
          -0.2551538650516365,
          -0.20516968130389845,
          -0.1893699347371977,
          1.2822922950580091,
          -0.259250383046811,
          1.0005601672190672,
          -1.1550813022509543,
          -1.5016589825132562
         ],
         "yaxis": "y4"
        },
        {
         "line": {
          "color": "rgba(128, 128, 128, 1.0)",
          "dash": "solid",
          "shape": "linear",
          "width": 1.3
         },
         "marker": {
          "size": 2,
          "symbol": "circle"
         },
         "mode": "markers",
         "name": "B",
         "text": "",
         "type": "scatter",
         "x": [
          0.41760155225455636,
          0.5261400468723789,
          0.5683423096739474,
          -0.8222461098210078,
          0.5445007517236217,
          0.5909299879074099,
          2.039579362940726,
          0.6262088723800441,
          0.19694594037636828,
          -3.0228983065582167,
          0.20013434662272542,
          0.7897393701529026,
          -1.2860106647372174,
          -1.209894031210368,
          1.4991812102081934,
          0.35295100673971,
          1.6068652128980419,
          0.44659510774809213,
          -0.6767341021203152,
          0.867598499054683,
          1.449819695873904,
          1.3191900045864868,
          -0.024513457915711818,
          0.18460391533600704,
          -0.23177229636727062,
          1.1887447336595125,
          -1.5984486384334315,
          -0.4791939980881674,
          0.45443684003122853,
          1.1858647312666772,
          0.6300812899870222,
          -0.9076010322718687,
          -1.0366066556848483,
          -0.6364365731046352,
          0.797019857738389,
          0.5601019577303988,
          -1.4652829651387353,
          1.3517284564656338,
          0.19750781481677754,
          -1.128982113739443,
          -0.01754605735598141,
          -0.044891495186233005,
          -0.8010310910031381,
          -0.30335402548602247,
          -0.3418257891963359,
          -1.1904895976608356,
          0.4408253515736436,
          1.6929673822638678,
          -0.3508487647510596,
          0.6929015015943848,
          0.6704346008145055,
          0.5019071084632046,
          -1.9676005808992338,
          0.2523635759175683,
          -0.13769847181233172,
          -0.5937099301262257,
          -0.4946241603235603,
          1.438623954125982,
          -0.3908975591294168,
          1.5713106951819324,
          0.8552659204102937,
          0.24516086205370485,
          0.2888971604931386,
          -0.14709909178975228,
          -0.57481584660485,
          0.6549006606048943,
          0.17296055568917387,
          -1.1992032201677807,
          -0.7056304144096323,
          -2.2219667883329373,
          -0.24281236415007146,
          -1.530315772894537,
          0.1423184582985676,
          -0.24145116574300846,
          -0.30577559894924256,
          -1.9700879316648785,
          1.552930248971835,
          -0.6550718586352199,
          1.62122878034275,
          1.167262884154505,
          -0.04828735125770609,
          1.446278149666796,
          -0.4026852504538263,
          2.2068846765818995,
          1.2032324446589693,
          1.2451406579941515,
          0.5746429329620883,
          0.025993186182502948,
          1.646829572457141,
          -1.2970898328462357,
          0.8804446701276977,
          -0.6672298832100317,
          -0.2551538650516365,
          -0.20516968130389845,
          -0.1893699347371977,
          1.2822922950580091,
          -0.259250383046811,
          1.0005601672190672,
          -1.1550813022509543,
          -1.5016589825132562
         ],
         "xaxis": "x5",
         "y": [
          0.45531183603699393,
          0.5980709095986467,
          -0.34994300438479303,
          0.682610763724963,
          -1.4542337018715585,
          -0.3769121673601374,
          -0.6387922806675909,
          -0.7260129686538656,
          1.5278964844049967,
          -0.48756957792086913,
          0.05434385648508415,
          0.7506522319974177,
          -1.9413341849808416,
          -0.5730009940047913,
          -1.1003505963827607,
          1.0684780089870864,
          -0.8653245918742982,
          -1.1659141525288483,
          1.4748659606190033,
          1.1821959921800371,
          -0.7461798246499382,
          0.48999175008102147,
          -0.673992626184721,
          0.24893133866831796,
          0.6464588824587291,
          -0.1461097428226522,
          1.4026878825912379,
          -0.4985833083140884,
          -0.14469994922942367,
          -2.089059080119697,
          0.2579102415048242,
          0.1233431191998344,
          -0.5126377378670051,
          0.1845391531012246,
          0.26227917881843976,
          -2.517400123945921,
          -0.7664875910204841,
          1.2515981143552763,
          0.77024253182108,
          0.2663650999864578,
          -0.31410429215510044,
          -0.7595707679642624,
          -0.30063668798857396,
          -1.3659417049110871,
          -0.7385023938161782,
          -0.8783868473978256,
          -1.386658644809201,
          -0.425338368256794,
          -0.6707201032633747,
          0.3639683078524173,
          -0.6252515176436683,
          -0.7479873442020913,
          0.23379014573745413,
          0.19676520830860575,
          0.78420191379329,
          0.4667723126550738,
          -0.31299224975101747,
          1.4071812363229708,
          -0.9882035714894439,
          1.059675760547426,
          -0.661011691916808,
          0.5648241544355863,
          0.15498534009217793,
          -0.2969239333093207,
          -0.8579346573227228,
          -0.2983936903030944,
          -0.8188836855107948,
          -0.05905956696405363,
          1.2634824753451157,
          -0.24211420077731516,
          -0.4543600665000616,
          0.00020674132613351752,
          -0.983661158660926,
          -0.7938089830406612,
          0.9133767862108992,
          -0.40882011720110095,
          0.6296552104036756,
          0.067578322434332,
          0.49205614258355074,
          -0.6708775195031813,
          -2.3472801537369756,
          0.3347200513927004,
          0.27897836749072086,
          0.7426050366716708,
          1.0964144703582637,
          0.6100031054218946,
          -0.8642234541537205,
          0.6701889377888379,
          -0.8522639978236726,
          1.2811708836726825,
          -0.709792986765138,
          -0.9479604590556494,
          1.450475432415021,
          -0.6263162004965983,
          -0.25591862078357036,
          0.1794046087657056,
          -0.08294676921470963,
          -0.19139893329730934,
          0.589992480029799,
          -0.5097005552190711
         ],
         "yaxis": "y5"
        },
        {
         "histfunc": "count",
         "histnorm": "",
         "marker": {
          "color": "rgba(55, 128, 191, 1.0)",
          "line": {
           "color": "#4D5663",
           "width": 1.3
          }
         },
         "name": "B",
         "nbinsx": 10,
         "opacity": 0.8,
         "orientation": "v",
         "type": "histogram",
         "x": [
          0.45531183603699393,
          0.5980709095986467,
          -0.34994300438479303,
          0.682610763724963,
          -1.4542337018715585,
          -0.3769121673601374,
          -0.6387922806675909,
          -0.7260129686538656,
          1.5278964844049967,
          -0.48756957792086913,
          0.05434385648508415,
          0.7506522319974177,
          -1.9413341849808416,
          -0.5730009940047913,
          -1.1003505963827607,
          1.0684780089870864,
          -0.8653245918742982,
          -1.1659141525288483,
          1.4748659606190033,
          1.1821959921800371,
          -0.7461798246499382,
          0.48999175008102147,
          -0.673992626184721,
          0.24893133866831796,
          0.6464588824587291,
          -0.1461097428226522,
          1.4026878825912379,
          -0.4985833083140884,
          -0.14469994922942367,
          -2.089059080119697,
          0.2579102415048242,
          0.1233431191998344,
          -0.5126377378670051,
          0.1845391531012246,
          0.26227917881843976,
          -2.517400123945921,
          -0.7664875910204841,
          1.2515981143552763,
          0.77024253182108,
          0.2663650999864578,
          -0.31410429215510044,
          -0.7595707679642624,
          -0.30063668798857396,
          -1.3659417049110871,
          -0.7385023938161782,
          -0.8783868473978256,
          -1.386658644809201,
          -0.425338368256794,
          -0.6707201032633747,
          0.3639683078524173,
          -0.6252515176436683,
          -0.7479873442020913,
          0.23379014573745413,
          0.19676520830860575,
          0.78420191379329,
          0.4667723126550738,
          -0.31299224975101747,
          1.4071812363229708,
          -0.9882035714894439,
          1.059675760547426,
          -0.661011691916808,
          0.5648241544355863,
          0.15498534009217793,
          -0.2969239333093207,
          -0.8579346573227228,
          -0.2983936903030944,
          -0.8188836855107948,
          -0.05905956696405363,
          1.2634824753451157,
          -0.24211420077731516,
          -0.4543600665000616,
          0.00020674132613351752,
          -0.983661158660926,
          -0.7938089830406612,
          0.9133767862108992,
          -0.40882011720110095,
          0.6296552104036756,
          0.067578322434332,
          0.49205614258355074,
          -0.6708775195031813,
          -2.3472801537369756,
          0.3347200513927004,
          0.27897836749072086,
          0.7426050366716708,
          1.0964144703582637,
          0.6100031054218946,
          -0.8642234541537205,
          0.6701889377888379,
          -0.8522639978236726,
          1.2811708836726825,
          -0.709792986765138,
          -0.9479604590556494,
          1.450475432415021,
          -0.6263162004965983,
          -0.25591862078357036,
          0.1794046087657056,
          -0.08294676921470963,
          -0.19139893329730934,
          0.589992480029799,
          -0.5097005552190711
         ],
         "xaxis": "x6",
         "yaxis": "y6"
        },
        {
         "line": {
          "color": "rgba(128, 128, 128, 1.0)",
          "dash": "solid",
          "shape": "linear",
          "width": 1.3
         },
         "marker": {
          "size": 2,
          "symbol": "circle"
         },
         "mode": "markers",
         "name": "B",
         "text": "",
         "type": "scatter",
         "x": [
          0.3567412540471956,
          -0.277621504160643,
          -1.0039560507328307,
          0.4257875394596556,
          0.8485262765176328,
          0.027817741081305154,
          -1.7800691311508625,
          -1.8930610505968957,
          -0.06819106082740113,
          0.43366565834833737,
          1.0861225268145978,
          -0.5539736078617259,
          -0.08722181086773953,
          -0.039346148424286354,
          0.02426022263642747,
          -0.3239798433301274,
          -0.5475703879989886,
          0.10581527280291539,
          1.4692521950210637,
          -1.0685563032083263,
          -0.6073617902751547,
          0.41001464741051835,
          1.2845515232914555,
          0.3437694013387482,
          2.0241296518939427,
          0.716348298850311,
          0.1500977859365151,
          -1.479572162573671,
          0.12161963392533788,
          -0.29468756900021,
          -0.47507501852182565,
          -0.17952261305483727,
          -0.1401793967555207,
          -0.19358067173563642,
          -0.6135315251047768,
          0.5609601860154348,
          0.3644233052137257,
          0.5185641404240686,
          1.1638762577410178,
          -0.6382911894940564,
          1.0083918802169105,
          1.0636726060351618,
          1.2589916440795696,
          -0.5567782430971342,
          1.503910486047363,
          -0.1039842744244673,
          -0.6532649887744778,
          -0.7953422244590403,
          -0.02554402453545743,
          1.5193231117102857,
          -0.6062116799584988,
          -0.4148403299408071,
          -0.12557841868576408,
          -0.14423630327538,
          -1.3167152355180747,
          0.5251488066072629,
          0.7842350662560305,
          0.9880066036413466,
          0.2207036124958554,
          0.19373994552679588,
          -0.8480826738209563,
          -1.0290592176586044,
          0.7830598545164305,
          -1.5052245769808832,
          0.3278263641898475,
          0.13947034109223538,
          -0.002795163953398742,
          -0.014160736529868299,
          1.4427765071149234,
          -0.7621509714232797,
          0.7065671126852853,
          0.7945017251732709,
          -0.7297836742942091,
          2.4131451498614176,
          2.2445299938224976,
          0.14412247363103614,
          1.4339792912032998,
          0.7093706081785429,
          1.2343676777915684,
          0.660670851456429,
          0.7349524389088409,
          1.2765689692487583,
          -0.10448287256714851,
          0.6053610822144108,
          -0.04122164143347805,
          -0.7648034974534945,
          -0.789191795836851,
          -0.936563079684066,
          0.5154742497944342,
          -0.9031963361211861,
          0.14144805967255422,
          -1.4028188883733714,
          -0.25976107214927635,
          -1.0310683377887329,
          -1.3699899830889526,
          -1.676308545130461,
          0.40260360696246933,
          -0.6364028036937236,
          -0.5964837090022717,
          0.729176826983682
         ],
         "xaxis": "x7",
         "y": [
          0.45531183603699393,
          0.5980709095986467,
          -0.34994300438479303,
          0.682610763724963,
          -1.4542337018715585,
          -0.3769121673601374,
          -0.6387922806675909,
          -0.7260129686538656,
          1.5278964844049967,
          -0.48756957792086913,
          0.05434385648508415,
          0.7506522319974177,
          -1.9413341849808416,
          -0.5730009940047913,
          -1.1003505963827607,
          1.0684780089870864,
          -0.8653245918742982,
          -1.1659141525288483,
          1.4748659606190033,
          1.1821959921800371,
          -0.7461798246499382,
          0.48999175008102147,
          -0.673992626184721,
          0.24893133866831796,
          0.6464588824587291,
          -0.1461097428226522,
          1.4026878825912379,
          -0.4985833083140884,
          -0.14469994922942367,
          -2.089059080119697,
          0.2579102415048242,
          0.1233431191998344,
          -0.5126377378670051,
          0.1845391531012246,
          0.26227917881843976,
          -2.517400123945921,
          -0.7664875910204841,
          1.2515981143552763,
          0.77024253182108,
          0.2663650999864578,
          -0.31410429215510044,
          -0.7595707679642624,
          -0.30063668798857396,
          -1.3659417049110871,
          -0.7385023938161782,
          -0.8783868473978256,
          -1.386658644809201,
          -0.425338368256794,
          -0.6707201032633747,
          0.3639683078524173,
          -0.6252515176436683,
          -0.7479873442020913,
          0.23379014573745413,
          0.19676520830860575,
          0.78420191379329,
          0.4667723126550738,
          -0.31299224975101747,
          1.4071812363229708,
          -0.9882035714894439,
          1.059675760547426,
          -0.661011691916808,
          0.5648241544355863,
          0.15498534009217793,
          -0.2969239333093207,
          -0.8579346573227228,
          -0.2983936903030944,
          -0.8188836855107948,
          -0.05905956696405363,
          1.2634824753451157,
          -0.24211420077731516,
          -0.4543600665000616,
          0.00020674132613351752,
          -0.983661158660926,
          -0.7938089830406612,
          0.9133767862108992,
          -0.40882011720110095,
          0.6296552104036756,
          0.067578322434332,
          0.49205614258355074,
          -0.6708775195031813,
          -2.3472801537369756,
          0.3347200513927004,
          0.27897836749072086,
          0.7426050366716708,
          1.0964144703582637,
          0.6100031054218946,
          -0.8642234541537205,
          0.6701889377888379,
          -0.8522639978236726,
          1.2811708836726825,
          -0.709792986765138,
          -0.9479604590556494,
          1.450475432415021,
          -0.6263162004965983,
          -0.25591862078357036,
          0.1794046087657056,
          -0.08294676921470963,
          -0.19139893329730934,
          0.589992480029799,
          -0.5097005552190711
         ],
         "yaxis": "y7"
        },
        {
         "line": {
          "color": "rgba(128, 128, 128, 1.0)",
          "dash": "solid",
          "shape": "linear",
          "width": 1.3
         },
         "marker": {
          "size": 2,
          "symbol": "circle"
         },
         "mode": "markers",
         "name": "B",
         "text": "",
         "type": "scatter",
         "x": [
          -1.34202166775557,
          0.24041236218769918,
          -1.0895993906002497,
          -1.4477730505340438,
          0.3265560291598136,
          -1.0627183263089948,
          2.2748119539369878,
          0.14002478373288554,
          -0.591482610766506,
          0.3672475929415598,
          -0.6523607787086786,
          0.04620958491721732,
          -0.5292075375810491,
          -0.1426341013200712,
          -0.992193609915696,
          -1.4508580201592014,
          0.8460637452465019,
          0.9561772764999883,
          -0.07484683674390989,
          0.303618913225969,
          1.5159308005788739,
          0.3884519230077761,
          1.205014344324589,
          0.39110073171143445,
          -1.4412416258689398,
          -0.5063324518534471,
          -0.5231572171845528,
          0.44703995761157306,
          -1.2283044186145742,
          0.20841355207505802,
          -0.3537097899246747,
          0.8404505092648065,
          -0.3295942502982704,
          0.5764188772427017,
          -0.6042277808645765,
          0.3470231871858434,
          1.1559274895045106,
          0.2798027226974251,
          -1.897226835172203,
          2.0984705425501513,
          1.248088207208783,
          -0.0026771784714443086,
          -0.3507749455528286,
          1.136933776325363,
          0.4747888094602326,
          0.5173850191199333,
          -0.398801075208429,
          -0.308605533844656,
          -2.2743739867380355,
          -0.30863557341001424,
          2.0088421343289387,
          -0.43891328004556274,
          -0.21348335628559187,
          0.10380703823181336,
          0.8220260708349477,
          0.4835166938101988,
          0.24586694233775314,
          -0.9296229063557128,
          -0.30592330589032324,
          -0.33521000892205965,
          0.016749593628197054,
          -0.13562841853330956,
          0.5249595724520443,
          0.5498983890001178,
          -0.2634244246000023,
          -0.9490978005532776,
          2.0126370942676317,
          0.1824088629928282,
          2.1656156815201983,
          1.5772870832511796,
          0.9114248100780128,
          -1.1443884388024306,
          0.43472719327085246,
          -0.3412961400193563,
          1.0670230308075241,
          -1.7315149468895397,
          -0.764445398381599,
          1.6989173660069625,
          1.8839510915177033,
          -0.5305355725011855,
          1.8213571156061392,
          0.3428641089022315,
          0.14654499835974855,
          0.02915989562030293,
          0.1333763354747478,
          0.6095982932668517,
          0.2604878686434509,
          1.3342361352729508,
          -0.11152614460930015,
          0.278282793389956,
          -1.59248851841307,
          -0.13123537115579278,
          -0.5421071636298173,
          1.4446683123494939,
          0.4916958334915132,
          -1.6940815209703621,
          0.016659471213699904,
          -0.10534647508326686,
          -0.2342201332176408,
          1.4419339622136704
         ],
         "xaxis": "x8",
         "y": [
          0.45531183603699393,
          0.5980709095986467,
          -0.34994300438479303,
          0.682610763724963,
          -1.4542337018715585,
          -0.3769121673601374,
          -0.6387922806675909,
          -0.7260129686538656,
          1.5278964844049967,
          -0.48756957792086913,
          0.05434385648508415,
          0.7506522319974177,
          -1.9413341849808416,
          -0.5730009940047913,
          -1.1003505963827607,
          1.0684780089870864,
          -0.8653245918742982,
          -1.1659141525288483,
          1.4748659606190033,
          1.1821959921800371,
          -0.7461798246499382,
          0.48999175008102147,
          -0.673992626184721,
          0.24893133866831796,
          0.6464588824587291,
          -0.1461097428226522,
          1.4026878825912379,
          -0.4985833083140884,
          -0.14469994922942367,
          -2.089059080119697,
          0.2579102415048242,
          0.1233431191998344,
          -0.5126377378670051,
          0.1845391531012246,
          0.26227917881843976,
          -2.517400123945921,
          -0.7664875910204841,
          1.2515981143552763,
          0.77024253182108,
          0.2663650999864578,
          -0.31410429215510044,
          -0.7595707679642624,
          -0.30063668798857396,
          -1.3659417049110871,
          -0.7385023938161782,
          -0.8783868473978256,
          -1.386658644809201,
          -0.425338368256794,
          -0.6707201032633747,
          0.3639683078524173,
          -0.6252515176436683,
          -0.7479873442020913,
          0.23379014573745413,
          0.19676520830860575,
          0.78420191379329,
          0.4667723126550738,
          -0.31299224975101747,
          1.4071812363229708,
          -0.9882035714894439,
          1.059675760547426,
          -0.661011691916808,
          0.5648241544355863,
          0.15498534009217793,
          -0.2969239333093207,
          -0.8579346573227228,
          -0.2983936903030944,
          -0.8188836855107948,
          -0.05905956696405363,
          1.2634824753451157,
          -0.24211420077731516,
          -0.4543600665000616,
          0.00020674132613351752,
          -0.983661158660926,
          -0.7938089830406612,
          0.9133767862108992,
          -0.40882011720110095,
          0.6296552104036756,
          0.067578322434332,
          0.49205614258355074,
          -0.6708775195031813,
          -2.3472801537369756,
          0.3347200513927004,
          0.27897836749072086,
          0.7426050366716708,
          1.0964144703582637,
          0.6100031054218946,
          -0.8642234541537205,
          0.6701889377888379,
          -0.8522639978236726,
          1.2811708836726825,
          -0.709792986765138,
          -0.9479604590556494,
          1.450475432415021,
          -0.6263162004965983,
          -0.25591862078357036,
          0.1794046087657056,
          -0.08294676921470963,
          -0.19139893329730934,
          0.589992480029799,
          -0.5097005552190711
         ],
         "yaxis": "y8"
        },
        {
         "line": {
          "color": "rgba(128, 128, 128, 1.0)",
          "dash": "solid",
          "shape": "linear",
          "width": 1.3
         },
         "marker": {
          "size": 2,
          "symbol": "circle"
         },
         "mode": "markers",
         "name": "C",
         "text": "",
         "type": "scatter",
         "x": [
          0.41760155225455636,
          0.5261400468723789,
          0.5683423096739474,
          -0.8222461098210078,
          0.5445007517236217,
          0.5909299879074099,
          2.039579362940726,
          0.6262088723800441,
          0.19694594037636828,
          -3.0228983065582167,
          0.20013434662272542,
          0.7897393701529026,
          -1.2860106647372174,
          -1.209894031210368,
          1.4991812102081934,
          0.35295100673971,
          1.6068652128980419,
          0.44659510774809213,
          -0.6767341021203152,
          0.867598499054683,
          1.449819695873904,
          1.3191900045864868,
          -0.024513457915711818,
          0.18460391533600704,
          -0.23177229636727062,
          1.1887447336595125,
          -1.5984486384334315,
          -0.4791939980881674,
          0.45443684003122853,
          1.1858647312666772,
          0.6300812899870222,
          -0.9076010322718687,
          -1.0366066556848483,
          -0.6364365731046352,
          0.797019857738389,
          0.5601019577303988,
          -1.4652829651387353,
          1.3517284564656338,
          0.19750781481677754,
          -1.128982113739443,
          -0.01754605735598141,
          -0.044891495186233005,
          -0.8010310910031381,
          -0.30335402548602247,
          -0.3418257891963359,
          -1.1904895976608356,
          0.4408253515736436,
          1.6929673822638678,
          -0.3508487647510596,
          0.6929015015943848,
          0.6704346008145055,
          0.5019071084632046,
          -1.9676005808992338,
          0.2523635759175683,
          -0.13769847181233172,
          -0.5937099301262257,
          -0.4946241603235603,
          1.438623954125982,
          -0.3908975591294168,
          1.5713106951819324,
          0.8552659204102937,
          0.24516086205370485,
          0.2888971604931386,
          -0.14709909178975228,
          -0.57481584660485,
          0.6549006606048943,
          0.17296055568917387,
          -1.1992032201677807,
          -0.7056304144096323,
          -2.2219667883329373,
          -0.24281236415007146,
          -1.530315772894537,
          0.1423184582985676,
          -0.24145116574300846,
          -0.30577559894924256,
          -1.9700879316648785,
          1.552930248971835,
          -0.6550718586352199,
          1.62122878034275,
          1.167262884154505,
          -0.04828735125770609,
          1.446278149666796,
          -0.4026852504538263,
          2.2068846765818995,
          1.2032324446589693,
          1.2451406579941515,
          0.5746429329620883,
          0.025993186182502948,
          1.646829572457141,
          -1.2970898328462357,
          0.8804446701276977,
          -0.6672298832100317,
          -0.2551538650516365,
          -0.20516968130389845,
          -0.1893699347371977,
          1.2822922950580091,
          -0.259250383046811,
          1.0005601672190672,
          -1.1550813022509543,
          -1.5016589825132562
         ],
         "xaxis": "x9",
         "y": [
          0.3567412540471956,
          -0.277621504160643,
          -1.0039560507328307,
          0.4257875394596556,
          0.8485262765176328,
          0.027817741081305154,
          -1.7800691311508625,
          -1.8930610505968957,
          -0.06819106082740113,
          0.43366565834833737,
          1.0861225268145978,
          -0.5539736078617259,
          -0.08722181086773953,
          -0.039346148424286354,
          0.02426022263642747,
          -0.3239798433301274,
          -0.5475703879989886,
          0.10581527280291539,
          1.4692521950210637,
          -1.0685563032083263,
          -0.6073617902751547,
          0.41001464741051835,
          1.2845515232914555,
          0.3437694013387482,
          2.0241296518939427,
          0.716348298850311,
          0.1500977859365151,
          -1.479572162573671,
          0.12161963392533788,
          -0.29468756900021,
          -0.47507501852182565,
          -0.17952261305483727,
          -0.1401793967555207,
          -0.19358067173563642,
          -0.6135315251047768,
          0.5609601860154348,
          0.3644233052137257,
          0.5185641404240686,
          1.1638762577410178,
          -0.6382911894940564,
          1.0083918802169105,
          1.0636726060351618,
          1.2589916440795696,
          -0.5567782430971342,
          1.503910486047363,
          -0.1039842744244673,
          -0.6532649887744778,
          -0.7953422244590403,
          -0.02554402453545743,
          1.5193231117102857,
          -0.6062116799584988,
          -0.4148403299408071,
          -0.12557841868576408,
          -0.14423630327538,
          -1.3167152355180747,
          0.5251488066072629,
          0.7842350662560305,
          0.9880066036413466,
          0.2207036124958554,
          0.19373994552679588,
          -0.8480826738209563,
          -1.0290592176586044,
          0.7830598545164305,
          -1.5052245769808832,
          0.3278263641898475,
          0.13947034109223538,
          -0.002795163953398742,
          -0.014160736529868299,
          1.4427765071149234,
          -0.7621509714232797,
          0.7065671126852853,
          0.7945017251732709,
          -0.7297836742942091,
          2.4131451498614176,
          2.2445299938224976,
          0.14412247363103614,
          1.4339792912032998,
          0.7093706081785429,
          1.2343676777915684,
          0.660670851456429,
          0.7349524389088409,
          1.2765689692487583,
          -0.10448287256714851,
          0.6053610822144108,
          -0.04122164143347805,
          -0.7648034974534945,
          -0.789191795836851,
          -0.936563079684066,
          0.5154742497944342,
          -0.9031963361211861,
          0.14144805967255422,
          -1.4028188883733714,
          -0.25976107214927635,
          -1.0310683377887329,
          -1.3699899830889526,
          -1.676308545130461,
          0.40260360696246933,
          -0.6364028036937236,
          -0.5964837090022717,
          0.729176826983682
         ],
         "yaxis": "y9"
        },
        {
         "line": {
          "color": "rgba(128, 128, 128, 1.0)",
          "dash": "solid",
          "shape": "linear",
          "width": 1.3
         },
         "marker": {
          "size": 2,
          "symbol": "circle"
         },
         "mode": "markers",
         "name": "C",
         "text": "",
         "type": "scatter",
         "x": [
          0.45531183603699393,
          0.5980709095986467,
          -0.34994300438479303,
          0.682610763724963,
          -1.4542337018715585,
          -0.3769121673601374,
          -0.6387922806675909,
          -0.7260129686538656,
          1.5278964844049967,
          -0.48756957792086913,
          0.05434385648508415,
          0.7506522319974177,
          -1.9413341849808416,
          -0.5730009940047913,
          -1.1003505963827607,
          1.0684780089870864,
          -0.8653245918742982,
          -1.1659141525288483,
          1.4748659606190033,
          1.1821959921800371,
          -0.7461798246499382,
          0.48999175008102147,
          -0.673992626184721,
          0.24893133866831796,
          0.6464588824587291,
          -0.1461097428226522,
          1.4026878825912379,
          -0.4985833083140884,
          -0.14469994922942367,
          -2.089059080119697,
          0.2579102415048242,
          0.1233431191998344,
          -0.5126377378670051,
          0.1845391531012246,
          0.26227917881843976,
          -2.517400123945921,
          -0.7664875910204841,
          1.2515981143552763,
          0.77024253182108,
          0.2663650999864578,
          -0.31410429215510044,
          -0.7595707679642624,
          -0.30063668798857396,
          -1.3659417049110871,
          -0.7385023938161782,
          -0.8783868473978256,
          -1.386658644809201,
          -0.425338368256794,
          -0.6707201032633747,
          0.3639683078524173,
          -0.6252515176436683,
          -0.7479873442020913,
          0.23379014573745413,
          0.19676520830860575,
          0.78420191379329,
          0.4667723126550738,
          -0.31299224975101747,
          1.4071812363229708,
          -0.9882035714894439,
          1.059675760547426,
          -0.661011691916808,
          0.5648241544355863,
          0.15498534009217793,
          -0.2969239333093207,
          -0.8579346573227228,
          -0.2983936903030944,
          -0.8188836855107948,
          -0.05905956696405363,
          1.2634824753451157,
          -0.24211420077731516,
          -0.4543600665000616,
          0.00020674132613351752,
          -0.983661158660926,
          -0.7938089830406612,
          0.9133767862108992,
          -0.40882011720110095,
          0.6296552104036756,
          0.067578322434332,
          0.49205614258355074,
          -0.6708775195031813,
          -2.3472801537369756,
          0.3347200513927004,
          0.27897836749072086,
          0.7426050366716708,
          1.0964144703582637,
          0.6100031054218946,
          -0.8642234541537205,
          0.6701889377888379,
          -0.8522639978236726,
          1.2811708836726825,
          -0.709792986765138,
          -0.9479604590556494,
          1.450475432415021,
          -0.6263162004965983,
          -0.25591862078357036,
          0.1794046087657056,
          -0.08294676921470963,
          -0.19139893329730934,
          0.589992480029799,
          -0.5097005552190711
         ],
         "xaxis": "x10",
         "y": [
          0.3567412540471956,
          -0.277621504160643,
          -1.0039560507328307,
          0.4257875394596556,
          0.8485262765176328,
          0.027817741081305154,
          -1.7800691311508625,
          -1.8930610505968957,
          -0.06819106082740113,
          0.43366565834833737,
          1.0861225268145978,
          -0.5539736078617259,
          -0.08722181086773953,
          -0.039346148424286354,
          0.02426022263642747,
          -0.3239798433301274,
          -0.5475703879989886,
          0.10581527280291539,
          1.4692521950210637,
          -1.0685563032083263,
          -0.6073617902751547,
          0.41001464741051835,
          1.2845515232914555,
          0.3437694013387482,
          2.0241296518939427,
          0.716348298850311,
          0.1500977859365151,
          -1.479572162573671,
          0.12161963392533788,
          -0.29468756900021,
          -0.47507501852182565,
          -0.17952261305483727,
          -0.1401793967555207,
          -0.19358067173563642,
          -0.6135315251047768,
          0.5609601860154348,
          0.3644233052137257,
          0.5185641404240686,
          1.1638762577410178,
          -0.6382911894940564,
          1.0083918802169105,
          1.0636726060351618,
          1.2589916440795696,
          -0.5567782430971342,
          1.503910486047363,
          -0.1039842744244673,
          -0.6532649887744778,
          -0.7953422244590403,
          -0.02554402453545743,
          1.5193231117102857,
          -0.6062116799584988,
          -0.4148403299408071,
          -0.12557841868576408,
          -0.14423630327538,
          -1.3167152355180747,
          0.5251488066072629,
          0.7842350662560305,
          0.9880066036413466,
          0.2207036124958554,
          0.19373994552679588,
          -0.8480826738209563,
          -1.0290592176586044,
          0.7830598545164305,
          -1.5052245769808832,
          0.3278263641898475,
          0.13947034109223538,
          -0.002795163953398742,
          -0.014160736529868299,
          1.4427765071149234,
          -0.7621509714232797,
          0.7065671126852853,
          0.7945017251732709,
          -0.7297836742942091,
          2.4131451498614176,
          2.2445299938224976,
          0.14412247363103614,
          1.4339792912032998,
          0.7093706081785429,
          1.2343676777915684,
          0.660670851456429,
          0.7349524389088409,
          1.2765689692487583,
          -0.10448287256714851,
          0.6053610822144108,
          -0.04122164143347805,
          -0.7648034974534945,
          -0.789191795836851,
          -0.936563079684066,
          0.5154742497944342,
          -0.9031963361211861,
          0.14144805967255422,
          -1.4028188883733714,
          -0.25976107214927635,
          -1.0310683377887329,
          -1.3699899830889526,
          -1.676308545130461,
          0.40260360696246933,
          -0.6364028036937236,
          -0.5964837090022717,
          0.729176826983682
         ],
         "yaxis": "y10"
        },
        {
         "histfunc": "count",
         "histnorm": "",
         "marker": {
          "color": "rgba(50, 171, 96, 1.0)",
          "line": {
           "color": "#4D5663",
           "width": 1.3
          }
         },
         "name": "C",
         "nbinsx": 10,
         "opacity": 0.8,
         "orientation": "v",
         "type": "histogram",
         "x": [
          0.3567412540471956,
          -0.277621504160643,
          -1.0039560507328307,
          0.4257875394596556,
          0.8485262765176328,
          0.027817741081305154,
          -1.7800691311508625,
          -1.8930610505968957,
          -0.06819106082740113,
          0.43366565834833737,
          1.0861225268145978,
          -0.5539736078617259,
          -0.08722181086773953,
          -0.039346148424286354,
          0.02426022263642747,
          -0.3239798433301274,
          -0.5475703879989886,
          0.10581527280291539,
          1.4692521950210637,
          -1.0685563032083263,
          -0.6073617902751547,
          0.41001464741051835,
          1.2845515232914555,
          0.3437694013387482,
          2.0241296518939427,
          0.716348298850311,
          0.1500977859365151,
          -1.479572162573671,
          0.12161963392533788,
          -0.29468756900021,
          -0.47507501852182565,
          -0.17952261305483727,
          -0.1401793967555207,
          -0.19358067173563642,
          -0.6135315251047768,
          0.5609601860154348,
          0.3644233052137257,
          0.5185641404240686,
          1.1638762577410178,
          -0.6382911894940564,
          1.0083918802169105,
          1.0636726060351618,
          1.2589916440795696,
          -0.5567782430971342,
          1.503910486047363,
          -0.1039842744244673,
          -0.6532649887744778,
          -0.7953422244590403,
          -0.02554402453545743,
          1.5193231117102857,
          -0.6062116799584988,
          -0.4148403299408071,
          -0.12557841868576408,
          -0.14423630327538,
          -1.3167152355180747,
          0.5251488066072629,
          0.7842350662560305,
          0.9880066036413466,
          0.2207036124958554,
          0.19373994552679588,
          -0.8480826738209563,
          -1.0290592176586044,
          0.7830598545164305,
          -1.5052245769808832,
          0.3278263641898475,
          0.13947034109223538,
          -0.002795163953398742,
          -0.014160736529868299,
          1.4427765071149234,
          -0.7621509714232797,
          0.7065671126852853,
          0.7945017251732709,
          -0.7297836742942091,
          2.4131451498614176,
          2.2445299938224976,
          0.14412247363103614,
          1.4339792912032998,
          0.7093706081785429,
          1.2343676777915684,
          0.660670851456429,
          0.7349524389088409,
          1.2765689692487583,
          -0.10448287256714851,
          0.6053610822144108,
          -0.04122164143347805,
          -0.7648034974534945,
          -0.789191795836851,
          -0.936563079684066,
          0.5154742497944342,
          -0.9031963361211861,
          0.14144805967255422,
          -1.4028188883733714,
          -0.25976107214927635,
          -1.0310683377887329,
          -1.3699899830889526,
          -1.676308545130461,
          0.40260360696246933,
          -0.6364028036937236,
          -0.5964837090022717,
          0.729176826983682
         ],
         "xaxis": "x11",
         "yaxis": "y11"
        },
        {
         "line": {
          "color": "rgba(128, 128, 128, 1.0)",
          "dash": "solid",
          "shape": "linear",
          "width": 1.3
         },
         "marker": {
          "size": 2,
          "symbol": "circle"
         },
         "mode": "markers",
         "name": "C",
         "text": "",
         "type": "scatter",
         "x": [
          -1.34202166775557,
          0.24041236218769918,
          -1.0895993906002497,
          -1.4477730505340438,
          0.3265560291598136,
          -1.0627183263089948,
          2.2748119539369878,
          0.14002478373288554,
          -0.591482610766506,
          0.3672475929415598,
          -0.6523607787086786,
          0.04620958491721732,
          -0.5292075375810491,
          -0.1426341013200712,
          -0.992193609915696,
          -1.4508580201592014,
          0.8460637452465019,
          0.9561772764999883,
          -0.07484683674390989,
          0.303618913225969,
          1.5159308005788739,
          0.3884519230077761,
          1.205014344324589,
          0.39110073171143445,
          -1.4412416258689398,
          -0.5063324518534471,
          -0.5231572171845528,
          0.44703995761157306,
          -1.2283044186145742,
          0.20841355207505802,
          -0.3537097899246747,
          0.8404505092648065,
          -0.3295942502982704,
          0.5764188772427017,
          -0.6042277808645765,
          0.3470231871858434,
          1.1559274895045106,
          0.2798027226974251,
          -1.897226835172203,
          2.0984705425501513,
          1.248088207208783,
          -0.0026771784714443086,
          -0.3507749455528286,
          1.136933776325363,
          0.4747888094602326,
          0.5173850191199333,
          -0.398801075208429,
          -0.308605533844656,
          -2.2743739867380355,
          -0.30863557341001424,
          2.0088421343289387,
          -0.43891328004556274,
          -0.21348335628559187,
          0.10380703823181336,
          0.8220260708349477,
          0.4835166938101988,
          0.24586694233775314,
          -0.9296229063557128,
          -0.30592330589032324,
          -0.33521000892205965,
          0.016749593628197054,
          -0.13562841853330956,
          0.5249595724520443,
          0.5498983890001178,
          -0.2634244246000023,
          -0.9490978005532776,
          2.0126370942676317,
          0.1824088629928282,
          2.1656156815201983,
          1.5772870832511796,
          0.9114248100780128,
          -1.1443884388024306,
          0.43472719327085246,
          -0.3412961400193563,
          1.0670230308075241,
          -1.7315149468895397,
          -0.764445398381599,
          1.6989173660069625,
          1.8839510915177033,
          -0.5305355725011855,
          1.8213571156061392,
          0.3428641089022315,
          0.14654499835974855,
          0.02915989562030293,
          0.1333763354747478,
          0.6095982932668517,
          0.2604878686434509,
          1.3342361352729508,
          -0.11152614460930015,
          0.278282793389956,
          -1.59248851841307,
          -0.13123537115579278,
          -0.5421071636298173,
          1.4446683123494939,
          0.4916958334915132,
          -1.6940815209703621,
          0.016659471213699904,
          -0.10534647508326686,
          -0.2342201332176408,
          1.4419339622136704
         ],
         "xaxis": "x12",
         "y": [
          0.3567412540471956,
          -0.277621504160643,
          -1.0039560507328307,
          0.4257875394596556,
          0.8485262765176328,
          0.027817741081305154,
          -1.7800691311508625,
          -1.8930610505968957,
          -0.06819106082740113,
          0.43366565834833737,
          1.0861225268145978,
          -0.5539736078617259,
          -0.08722181086773953,
          -0.039346148424286354,
          0.02426022263642747,
          -0.3239798433301274,
          -0.5475703879989886,
          0.10581527280291539,
          1.4692521950210637,
          -1.0685563032083263,
          -0.6073617902751547,
          0.41001464741051835,
          1.2845515232914555,
          0.3437694013387482,
          2.0241296518939427,
          0.716348298850311,
          0.1500977859365151,
          -1.479572162573671,
          0.12161963392533788,
          -0.29468756900021,
          -0.47507501852182565,
          -0.17952261305483727,
          -0.1401793967555207,
          -0.19358067173563642,
          -0.6135315251047768,
          0.5609601860154348,
          0.3644233052137257,
          0.5185641404240686,
          1.1638762577410178,
          -0.6382911894940564,
          1.0083918802169105,
          1.0636726060351618,
          1.2589916440795696,
          -0.5567782430971342,
          1.503910486047363,
          -0.1039842744244673,
          -0.6532649887744778,
          -0.7953422244590403,
          -0.02554402453545743,
          1.5193231117102857,
          -0.6062116799584988,
          -0.4148403299408071,
          -0.12557841868576408,
          -0.14423630327538,
          -1.3167152355180747,
          0.5251488066072629,
          0.7842350662560305,
          0.9880066036413466,
          0.2207036124958554,
          0.19373994552679588,
          -0.8480826738209563,
          -1.0290592176586044,
          0.7830598545164305,
          -1.5052245769808832,
          0.3278263641898475,
          0.13947034109223538,
          -0.002795163953398742,
          -0.014160736529868299,
          1.4427765071149234,
          -0.7621509714232797,
          0.7065671126852853,
          0.7945017251732709,
          -0.7297836742942091,
          2.4131451498614176,
          2.2445299938224976,
          0.14412247363103614,
          1.4339792912032998,
          0.7093706081785429,
          1.2343676777915684,
          0.660670851456429,
          0.7349524389088409,
          1.2765689692487583,
          -0.10448287256714851,
          0.6053610822144108,
          -0.04122164143347805,
          -0.7648034974534945,
          -0.789191795836851,
          -0.936563079684066,
          0.5154742497944342,
          -0.9031963361211861,
          0.14144805967255422,
          -1.4028188883733714,
          -0.25976107214927635,
          -1.0310683377887329,
          -1.3699899830889526,
          -1.676308545130461,
          0.40260360696246933,
          -0.6364028036937236,
          -0.5964837090022717,
          0.729176826983682
         ],
         "yaxis": "y12"
        },
        {
         "line": {
          "color": "rgba(128, 128, 128, 1.0)",
          "dash": "solid",
          "shape": "linear",
          "width": 1.3
         },
         "marker": {
          "size": 2,
          "symbol": "circle"
         },
         "mode": "markers",
         "name": "D",
         "text": "",
         "type": "scatter",
         "x": [
          0.41760155225455636,
          0.5261400468723789,
          0.5683423096739474,
          -0.8222461098210078,
          0.5445007517236217,
          0.5909299879074099,
          2.039579362940726,
          0.6262088723800441,
          0.19694594037636828,
          -3.0228983065582167,
          0.20013434662272542,
          0.7897393701529026,
          -1.2860106647372174,
          -1.209894031210368,
          1.4991812102081934,
          0.35295100673971,
          1.6068652128980419,
          0.44659510774809213,
          -0.6767341021203152,
          0.867598499054683,
          1.449819695873904,
          1.3191900045864868,
          -0.024513457915711818,
          0.18460391533600704,
          -0.23177229636727062,
          1.1887447336595125,
          -1.5984486384334315,
          -0.4791939980881674,
          0.45443684003122853,
          1.1858647312666772,
          0.6300812899870222,
          -0.9076010322718687,
          -1.0366066556848483,
          -0.6364365731046352,
          0.797019857738389,
          0.5601019577303988,
          -1.4652829651387353,
          1.3517284564656338,
          0.19750781481677754,
          -1.128982113739443,
          -0.01754605735598141,
          -0.044891495186233005,
          -0.8010310910031381,
          -0.30335402548602247,
          -0.3418257891963359,
          -1.1904895976608356,
          0.4408253515736436,
          1.6929673822638678,
          -0.3508487647510596,
          0.6929015015943848,
          0.6704346008145055,
          0.5019071084632046,
          -1.9676005808992338,
          0.2523635759175683,
          -0.13769847181233172,
          -0.5937099301262257,
          -0.4946241603235603,
          1.438623954125982,
          -0.3908975591294168,
          1.5713106951819324,
          0.8552659204102937,
          0.24516086205370485,
          0.2888971604931386,
          -0.14709909178975228,
          -0.57481584660485,
          0.6549006606048943,
          0.17296055568917387,
          -1.1992032201677807,
          -0.7056304144096323,
          -2.2219667883329373,
          -0.24281236415007146,
          -1.530315772894537,
          0.1423184582985676,
          -0.24145116574300846,
          -0.30577559894924256,
          -1.9700879316648785,
          1.552930248971835,
          -0.6550718586352199,
          1.62122878034275,
          1.167262884154505,
          -0.04828735125770609,
          1.446278149666796,
          -0.4026852504538263,
          2.2068846765818995,
          1.2032324446589693,
          1.2451406579941515,
          0.5746429329620883,
          0.025993186182502948,
          1.646829572457141,
          -1.2970898328462357,
          0.8804446701276977,
          -0.6672298832100317,
          -0.2551538650516365,
          -0.20516968130389845,
          -0.1893699347371977,
          1.2822922950580091,
          -0.259250383046811,
          1.0005601672190672,
          -1.1550813022509543,
          -1.5016589825132562
         ],
         "xaxis": "x13",
         "y": [
          -1.34202166775557,
          0.24041236218769918,
          -1.0895993906002497,
          -1.4477730505340438,
          0.3265560291598136,
          -1.0627183263089948,
          2.2748119539369878,
          0.14002478373288554,
          -0.591482610766506,
          0.3672475929415598,
          -0.6523607787086786,
          0.04620958491721732,
          -0.5292075375810491,
          -0.1426341013200712,
          -0.992193609915696,
          -1.4508580201592014,
          0.8460637452465019,
          0.9561772764999883,
          -0.07484683674390989,
          0.303618913225969,
          1.5159308005788739,
          0.3884519230077761,
          1.205014344324589,
          0.39110073171143445,
          -1.4412416258689398,
          -0.5063324518534471,
          -0.5231572171845528,
          0.44703995761157306,
          -1.2283044186145742,
          0.20841355207505802,
          -0.3537097899246747,
          0.8404505092648065,
          -0.3295942502982704,
          0.5764188772427017,
          -0.6042277808645765,
          0.3470231871858434,
          1.1559274895045106,
          0.2798027226974251,
          -1.897226835172203,
          2.0984705425501513,
          1.248088207208783,
          -0.0026771784714443086,
          -0.3507749455528286,
          1.136933776325363,
          0.4747888094602326,
          0.5173850191199333,
          -0.398801075208429,
          -0.308605533844656,
          -2.2743739867380355,
          -0.30863557341001424,
          2.0088421343289387,
          -0.43891328004556274,
          -0.21348335628559187,
          0.10380703823181336,
          0.8220260708349477,
          0.4835166938101988,
          0.24586694233775314,
          -0.9296229063557128,
          -0.30592330589032324,
          -0.33521000892205965,
          0.016749593628197054,
          -0.13562841853330956,
          0.5249595724520443,
          0.5498983890001178,
          -0.2634244246000023,
          -0.9490978005532776,
          2.0126370942676317,
          0.1824088629928282,
          2.1656156815201983,
          1.5772870832511796,
          0.9114248100780128,
          -1.1443884388024306,
          0.43472719327085246,
          -0.3412961400193563,
          1.0670230308075241,
          -1.7315149468895397,
          -0.764445398381599,
          1.6989173660069625,
          1.8839510915177033,
          -0.5305355725011855,
          1.8213571156061392,
          0.3428641089022315,
          0.14654499835974855,
          0.02915989562030293,
          0.1333763354747478,
          0.6095982932668517,
          0.2604878686434509,
          1.3342361352729508,
          -0.11152614460930015,
          0.278282793389956,
          -1.59248851841307,
          -0.13123537115579278,
          -0.5421071636298173,
          1.4446683123494939,
          0.4916958334915132,
          -1.6940815209703621,
          0.016659471213699904,
          -0.10534647508326686,
          -0.2342201332176408,
          1.4419339622136704
         ],
         "yaxis": "y13"
        },
        {
         "line": {
          "color": "rgba(128, 128, 128, 1.0)",
          "dash": "solid",
          "shape": "linear",
          "width": 1.3
         },
         "marker": {
          "size": 2,
          "symbol": "circle"
         },
         "mode": "markers",
         "name": "D",
         "text": "",
         "type": "scatter",
         "x": [
          0.45531183603699393,
          0.5980709095986467,
          -0.34994300438479303,
          0.682610763724963,
          -1.4542337018715585,
          -0.3769121673601374,
          -0.6387922806675909,
          -0.7260129686538656,
          1.5278964844049967,
          -0.48756957792086913,
          0.05434385648508415,
          0.7506522319974177,
          -1.9413341849808416,
          -0.5730009940047913,
          -1.1003505963827607,
          1.0684780089870864,
          -0.8653245918742982,
          -1.1659141525288483,
          1.4748659606190033,
          1.1821959921800371,
          -0.7461798246499382,
          0.48999175008102147,
          -0.673992626184721,
          0.24893133866831796,
          0.6464588824587291,
          -0.1461097428226522,
          1.4026878825912379,
          -0.4985833083140884,
          -0.14469994922942367,
          -2.089059080119697,
          0.2579102415048242,
          0.1233431191998344,
          -0.5126377378670051,
          0.1845391531012246,
          0.26227917881843976,
          -2.517400123945921,
          -0.7664875910204841,
          1.2515981143552763,
          0.77024253182108,
          0.2663650999864578,
          -0.31410429215510044,
          -0.7595707679642624,
          -0.30063668798857396,
          -1.3659417049110871,
          -0.7385023938161782,
          -0.8783868473978256,
          -1.386658644809201,
          -0.425338368256794,
          -0.6707201032633747,
          0.3639683078524173,
          -0.6252515176436683,
          -0.7479873442020913,
          0.23379014573745413,
          0.19676520830860575,
          0.78420191379329,
          0.4667723126550738,
          -0.31299224975101747,
          1.4071812363229708,
          -0.9882035714894439,
          1.059675760547426,
          -0.661011691916808,
          0.5648241544355863,
          0.15498534009217793,
          -0.2969239333093207,
          -0.8579346573227228,
          -0.2983936903030944,
          -0.8188836855107948,
          -0.05905956696405363,
          1.2634824753451157,
          -0.24211420077731516,
          -0.4543600665000616,
          0.00020674132613351752,
          -0.983661158660926,
          -0.7938089830406612,
          0.9133767862108992,
          -0.40882011720110095,
          0.6296552104036756,
          0.067578322434332,
          0.49205614258355074,
          -0.6708775195031813,
          -2.3472801537369756,
          0.3347200513927004,
          0.27897836749072086,
          0.7426050366716708,
          1.0964144703582637,
          0.6100031054218946,
          -0.8642234541537205,
          0.6701889377888379,
          -0.8522639978236726,
          1.2811708836726825,
          -0.709792986765138,
          -0.9479604590556494,
          1.450475432415021,
          -0.6263162004965983,
          -0.25591862078357036,
          0.1794046087657056,
          -0.08294676921470963,
          -0.19139893329730934,
          0.589992480029799,
          -0.5097005552190711
         ],
         "xaxis": "x14",
         "y": [
          -1.34202166775557,
          0.24041236218769918,
          -1.0895993906002497,
          -1.4477730505340438,
          0.3265560291598136,
          -1.0627183263089948,
          2.2748119539369878,
          0.14002478373288554,
          -0.591482610766506,
          0.3672475929415598,
          -0.6523607787086786,
          0.04620958491721732,
          -0.5292075375810491,
          -0.1426341013200712,
          -0.992193609915696,
          -1.4508580201592014,
          0.8460637452465019,
          0.9561772764999883,
          -0.07484683674390989,
          0.303618913225969,
          1.5159308005788739,
          0.3884519230077761,
          1.205014344324589,
          0.39110073171143445,
          -1.4412416258689398,
          -0.5063324518534471,
          -0.5231572171845528,
          0.44703995761157306,
          -1.2283044186145742,
          0.20841355207505802,
          -0.3537097899246747,
          0.8404505092648065,
          -0.3295942502982704,
          0.5764188772427017,
          -0.6042277808645765,
          0.3470231871858434,
          1.1559274895045106,
          0.2798027226974251,
          -1.897226835172203,
          2.0984705425501513,
          1.248088207208783,
          -0.0026771784714443086,
          -0.3507749455528286,
          1.136933776325363,
          0.4747888094602326,
          0.5173850191199333,
          -0.398801075208429,
          -0.308605533844656,
          -2.2743739867380355,
          -0.30863557341001424,
          2.0088421343289387,
          -0.43891328004556274,
          -0.21348335628559187,
          0.10380703823181336,
          0.8220260708349477,
          0.4835166938101988,
          0.24586694233775314,
          -0.9296229063557128,
          -0.30592330589032324,
          -0.33521000892205965,
          0.016749593628197054,
          -0.13562841853330956,
          0.5249595724520443,
          0.5498983890001178,
          -0.2634244246000023,
          -0.9490978005532776,
          2.0126370942676317,
          0.1824088629928282,
          2.1656156815201983,
          1.5772870832511796,
          0.9114248100780128,
          -1.1443884388024306,
          0.43472719327085246,
          -0.3412961400193563,
          1.0670230308075241,
          -1.7315149468895397,
          -0.764445398381599,
          1.6989173660069625,
          1.8839510915177033,
          -0.5305355725011855,
          1.8213571156061392,
          0.3428641089022315,
          0.14654499835974855,
          0.02915989562030293,
          0.1333763354747478,
          0.6095982932668517,
          0.2604878686434509,
          1.3342361352729508,
          -0.11152614460930015,
          0.278282793389956,
          -1.59248851841307,
          -0.13123537115579278,
          -0.5421071636298173,
          1.4446683123494939,
          0.4916958334915132,
          -1.6940815209703621,
          0.016659471213699904,
          -0.10534647508326686,
          -0.2342201332176408,
          1.4419339622136704
         ],
         "yaxis": "y14"
        },
        {
         "line": {
          "color": "rgba(128, 128, 128, 1.0)",
          "dash": "solid",
          "shape": "linear",
          "width": 1.3
         },
         "marker": {
          "size": 2,
          "symbol": "circle"
         },
         "mode": "markers",
         "name": "D",
         "text": "",
         "type": "scatter",
         "x": [
          0.3567412540471956,
          -0.277621504160643,
          -1.0039560507328307,
          0.4257875394596556,
          0.8485262765176328,
          0.027817741081305154,
          -1.7800691311508625,
          -1.8930610505968957,
          -0.06819106082740113,
          0.43366565834833737,
          1.0861225268145978,
          -0.5539736078617259,
          -0.08722181086773953,
          -0.039346148424286354,
          0.02426022263642747,
          -0.3239798433301274,
          -0.5475703879989886,
          0.10581527280291539,
          1.4692521950210637,
          -1.0685563032083263,
          -0.6073617902751547,
          0.41001464741051835,
          1.2845515232914555,
          0.3437694013387482,
          2.0241296518939427,
          0.716348298850311,
          0.1500977859365151,
          -1.479572162573671,
          0.12161963392533788,
          -0.29468756900021,
          -0.47507501852182565,
          -0.17952261305483727,
          -0.1401793967555207,
          -0.19358067173563642,
          -0.6135315251047768,
          0.5609601860154348,
          0.3644233052137257,
          0.5185641404240686,
          1.1638762577410178,
          -0.6382911894940564,
          1.0083918802169105,
          1.0636726060351618,
          1.2589916440795696,
          -0.5567782430971342,
          1.503910486047363,
          -0.1039842744244673,
          -0.6532649887744778,
          -0.7953422244590403,
          -0.02554402453545743,
          1.5193231117102857,
          -0.6062116799584988,
          -0.4148403299408071,
          -0.12557841868576408,
          -0.14423630327538,
          -1.3167152355180747,
          0.5251488066072629,
          0.7842350662560305,
          0.9880066036413466,
          0.2207036124958554,
          0.19373994552679588,
          -0.8480826738209563,
          -1.0290592176586044,
          0.7830598545164305,
          -1.5052245769808832,
          0.3278263641898475,
          0.13947034109223538,
          -0.002795163953398742,
          -0.014160736529868299,
          1.4427765071149234,
          -0.7621509714232797,
          0.7065671126852853,
          0.7945017251732709,
          -0.7297836742942091,
          2.4131451498614176,
          2.2445299938224976,
          0.14412247363103614,
          1.4339792912032998,
          0.7093706081785429,
          1.2343676777915684,
          0.660670851456429,
          0.7349524389088409,
          1.2765689692487583,
          -0.10448287256714851,
          0.6053610822144108,
          -0.04122164143347805,
          -0.7648034974534945,
          -0.789191795836851,
          -0.936563079684066,
          0.5154742497944342,
          -0.9031963361211861,
          0.14144805967255422,
          -1.4028188883733714,
          -0.25976107214927635,
          -1.0310683377887329,
          -1.3699899830889526,
          -1.676308545130461,
          0.40260360696246933,
          -0.6364028036937236,
          -0.5964837090022717,
          0.729176826983682
         ],
         "xaxis": "x15",
         "y": [
          -1.34202166775557,
          0.24041236218769918,
          -1.0895993906002497,
          -1.4477730505340438,
          0.3265560291598136,
          -1.0627183263089948,
          2.2748119539369878,
          0.14002478373288554,
          -0.591482610766506,
          0.3672475929415598,
          -0.6523607787086786,
          0.04620958491721732,
          -0.5292075375810491,
          -0.1426341013200712,
          -0.992193609915696,
          -1.4508580201592014,
          0.8460637452465019,
          0.9561772764999883,
          -0.07484683674390989,
          0.303618913225969,
          1.5159308005788739,
          0.3884519230077761,
          1.205014344324589,
          0.39110073171143445,
          -1.4412416258689398,
          -0.5063324518534471,
          -0.5231572171845528,
          0.44703995761157306,
          -1.2283044186145742,
          0.20841355207505802,
          -0.3537097899246747,
          0.8404505092648065,
          -0.3295942502982704,
          0.5764188772427017,
          -0.6042277808645765,
          0.3470231871858434,
          1.1559274895045106,
          0.2798027226974251,
          -1.897226835172203,
          2.0984705425501513,
          1.248088207208783,
          -0.0026771784714443086,
          -0.3507749455528286,
          1.136933776325363,
          0.4747888094602326,
          0.5173850191199333,
          -0.398801075208429,
          -0.308605533844656,
          -2.2743739867380355,
          -0.30863557341001424,
          2.0088421343289387,
          -0.43891328004556274,
          -0.21348335628559187,
          0.10380703823181336,
          0.8220260708349477,
          0.4835166938101988,
          0.24586694233775314,
          -0.9296229063557128,
          -0.30592330589032324,
          -0.33521000892205965,
          0.016749593628197054,
          -0.13562841853330956,
          0.5249595724520443,
          0.5498983890001178,
          -0.2634244246000023,
          -0.9490978005532776,
          2.0126370942676317,
          0.1824088629928282,
          2.1656156815201983,
          1.5772870832511796,
          0.9114248100780128,
          -1.1443884388024306,
          0.43472719327085246,
          -0.3412961400193563,
          1.0670230308075241,
          -1.7315149468895397,
          -0.764445398381599,
          1.6989173660069625,
          1.8839510915177033,
          -0.5305355725011855,
          1.8213571156061392,
          0.3428641089022315,
          0.14654499835974855,
          0.02915989562030293,
          0.1333763354747478,
          0.6095982932668517,
          0.2604878686434509,
          1.3342361352729508,
          -0.11152614460930015,
          0.278282793389956,
          -1.59248851841307,
          -0.13123537115579278,
          -0.5421071636298173,
          1.4446683123494939,
          0.4916958334915132,
          -1.6940815209703621,
          0.016659471213699904,
          -0.10534647508326686,
          -0.2342201332176408,
          1.4419339622136704
         ],
         "yaxis": "y15"
        },
        {
         "histfunc": "count",
         "histnorm": "",
         "marker": {
          "color": "rgba(128, 0, 128, 1.0)",
          "line": {
           "color": "#4D5663",
           "width": 1.3
          }
         },
         "name": "D",
         "nbinsx": 10,
         "opacity": 0.8,
         "orientation": "v",
         "type": "histogram",
         "x": [
          -1.34202166775557,
          0.24041236218769918,
          -1.0895993906002497,
          -1.4477730505340438,
          0.3265560291598136,
          -1.0627183263089948,
          2.2748119539369878,
          0.14002478373288554,
          -0.591482610766506,
          0.3672475929415598,
          -0.6523607787086786,
          0.04620958491721732,
          -0.5292075375810491,
          -0.1426341013200712,
          -0.992193609915696,
          -1.4508580201592014,
          0.8460637452465019,
          0.9561772764999883,
          -0.07484683674390989,
          0.303618913225969,
          1.5159308005788739,
          0.3884519230077761,
          1.205014344324589,
          0.39110073171143445,
          -1.4412416258689398,
          -0.5063324518534471,
          -0.5231572171845528,
          0.44703995761157306,
          -1.2283044186145742,
          0.20841355207505802,
          -0.3537097899246747,
          0.8404505092648065,
          -0.3295942502982704,
          0.5764188772427017,
          -0.6042277808645765,
          0.3470231871858434,
          1.1559274895045106,
          0.2798027226974251,
          -1.897226835172203,
          2.0984705425501513,
          1.248088207208783,
          -0.0026771784714443086,
          -0.3507749455528286,
          1.136933776325363,
          0.4747888094602326,
          0.5173850191199333,
          -0.398801075208429,
          -0.308605533844656,
          -2.2743739867380355,
          -0.30863557341001424,
          2.0088421343289387,
          -0.43891328004556274,
          -0.21348335628559187,
          0.10380703823181336,
          0.8220260708349477,
          0.4835166938101988,
          0.24586694233775314,
          -0.9296229063557128,
          -0.30592330589032324,
          -0.33521000892205965,
          0.016749593628197054,
          -0.13562841853330956,
          0.5249595724520443,
          0.5498983890001178,
          -0.2634244246000023,
          -0.9490978005532776,
          2.0126370942676317,
          0.1824088629928282,
          2.1656156815201983,
          1.5772870832511796,
          0.9114248100780128,
          -1.1443884388024306,
          0.43472719327085246,
          -0.3412961400193563,
          1.0670230308075241,
          -1.7315149468895397,
          -0.764445398381599,
          1.6989173660069625,
          1.8839510915177033,
          -0.5305355725011855,
          1.8213571156061392,
          0.3428641089022315,
          0.14654499835974855,
          0.02915989562030293,
          0.1333763354747478,
          0.6095982932668517,
          0.2604878686434509,
          1.3342361352729508,
          -0.11152614460930015,
          0.278282793389956,
          -1.59248851841307,
          -0.13123537115579278,
          -0.5421071636298173,
          1.4446683123494939,
          0.4916958334915132,
          -1.6940815209703621,
          0.016659471213699904,
          -0.10534647508326686,
          -0.2342201332176408,
          1.4419339622136704
         ],
         "xaxis": "x16",
         "yaxis": "y16"
        }
       ],
       "layout": {
        "bargap": 0.02,
        "legend": {
         "bgcolor": "#F5F6F9",
         "font": {
          "color": "#4D5663"
         }
        },
        "paper_bgcolor": "#F5F6F9",
        "plot_bgcolor": "#F5F6F9",
        "showlegend": false,
        "template": {
         "data": {
          "bar": [
           {
            "error_x": {
             "color": "#2a3f5f"
            },
            "error_y": {
             "color": "#2a3f5f"
            },
            "marker": {
             "line": {
              "color": "#E5ECF6",
              "width": 0.5
             }
            },
            "type": "bar"
           }
          ],
          "barpolar": [
           {
            "marker": {
             "line": {
              "color": "#E5ECF6",
              "width": 0.5
             }
            },
            "type": "barpolar"
           }
          ],
          "carpet": [
           {
            "aaxis": {
             "endlinecolor": "#2a3f5f",
             "gridcolor": "white",
             "linecolor": "white",
             "minorgridcolor": "white",
             "startlinecolor": "#2a3f5f"
            },
            "baxis": {
             "endlinecolor": "#2a3f5f",
             "gridcolor": "white",
             "linecolor": "white",
             "minorgridcolor": "white",
             "startlinecolor": "#2a3f5f"
            },
            "type": "carpet"
           }
          ],
          "choropleth": [
           {
            "colorbar": {
             "outlinewidth": 0,
             "ticks": ""
            },
            "type": "choropleth"
           }
          ],
          "contour": [
           {
            "colorbar": {
             "outlinewidth": 0,
             "ticks": ""
            },
            "colorscale": [
             [
              0,
              "#0d0887"
             ],
             [
              0.1111111111111111,
              "#46039f"
             ],
             [
              0.2222222222222222,
              "#7201a8"
             ],
             [
              0.3333333333333333,
              "#9c179e"
             ],
             [
              0.4444444444444444,
              "#bd3786"
             ],
             [
              0.5555555555555556,
              "#d8576b"
             ],
             [
              0.6666666666666666,
              "#ed7953"
             ],
             [
              0.7777777777777778,
              "#fb9f3a"
             ],
             [
              0.8888888888888888,
              "#fdca26"
             ],
             [
              1,
              "#f0f921"
             ]
            ],
            "type": "contour"
           }
          ],
          "contourcarpet": [
           {
            "colorbar": {
             "outlinewidth": 0,
             "ticks": ""
            },
            "type": "contourcarpet"
           }
          ],
          "heatmap": [
           {
            "colorbar": {
             "outlinewidth": 0,
             "ticks": ""
            },
            "colorscale": [
             [
              0,
              "#0d0887"
             ],
             [
              0.1111111111111111,
              "#46039f"
             ],
             [
              0.2222222222222222,
              "#7201a8"
             ],
             [
              0.3333333333333333,
              "#9c179e"
             ],
             [
              0.4444444444444444,
              "#bd3786"
             ],
             [
              0.5555555555555556,
              "#d8576b"
             ],
             [
              0.6666666666666666,
              "#ed7953"
             ],
             [
              0.7777777777777778,
              "#fb9f3a"
             ],
             [
              0.8888888888888888,
              "#fdca26"
             ],
             [
              1,
              "#f0f921"
             ]
            ],
            "type": "heatmap"
           }
          ],
          "heatmapgl": [
           {
            "colorbar": {
             "outlinewidth": 0,
             "ticks": ""
            },
            "colorscale": [
             [
              0,
              "#0d0887"
             ],
             [
              0.1111111111111111,
              "#46039f"
             ],
             [
              0.2222222222222222,
              "#7201a8"
             ],
             [
              0.3333333333333333,
              "#9c179e"
             ],
             [
              0.4444444444444444,
              "#bd3786"
             ],
             [
              0.5555555555555556,
              "#d8576b"
             ],
             [
              0.6666666666666666,
              "#ed7953"
             ],
             [
              0.7777777777777778,
              "#fb9f3a"
             ],
             [
              0.8888888888888888,
              "#fdca26"
             ],
             [
              1,
              "#f0f921"
             ]
            ],
            "type": "heatmapgl"
           }
          ],
          "histogram": [
           {
            "marker": {
             "colorbar": {
              "outlinewidth": 0,
              "ticks": ""
             }
            },
            "type": "histogram"
           }
          ],
          "histogram2d": [
           {
            "colorbar": {
             "outlinewidth": 0,
             "ticks": ""
            },
            "colorscale": [
             [
              0,
              "#0d0887"
             ],
             [
              0.1111111111111111,
              "#46039f"
             ],
             [
              0.2222222222222222,
              "#7201a8"
             ],
             [
              0.3333333333333333,
              "#9c179e"
             ],
             [
              0.4444444444444444,
              "#bd3786"
             ],
             [
              0.5555555555555556,
              "#d8576b"
             ],
             [
              0.6666666666666666,
              "#ed7953"
             ],
             [
              0.7777777777777778,
              "#fb9f3a"
             ],
             [
              0.8888888888888888,
              "#fdca26"
             ],
             [
              1,
              "#f0f921"
             ]
            ],
            "type": "histogram2d"
           }
          ],
          "histogram2dcontour": [
           {
            "colorbar": {
             "outlinewidth": 0,
             "ticks": ""
            },
            "colorscale": [
             [
              0,
              "#0d0887"
             ],
             [
              0.1111111111111111,
              "#46039f"
             ],
             [
              0.2222222222222222,
              "#7201a8"
             ],
             [
              0.3333333333333333,
              "#9c179e"
             ],
             [
              0.4444444444444444,
              "#bd3786"
             ],
             [
              0.5555555555555556,
              "#d8576b"
             ],
             [
              0.6666666666666666,
              "#ed7953"
             ],
             [
              0.7777777777777778,
              "#fb9f3a"
             ],
             [
              0.8888888888888888,
              "#fdca26"
             ],
             [
              1,
              "#f0f921"
             ]
            ],
            "type": "histogram2dcontour"
           }
          ],
          "mesh3d": [
           {
            "colorbar": {
             "outlinewidth": 0,
             "ticks": ""
            },
            "type": "mesh3d"
           }
          ],
          "parcoords": [
           {
            "line": {
             "colorbar": {
              "outlinewidth": 0,
              "ticks": ""
             }
            },
            "type": "parcoords"
           }
          ],
          "pie": [
           {
            "automargin": true,
            "type": "pie"
           }
          ],
          "scatter": [
           {
            "marker": {
             "colorbar": {
              "outlinewidth": 0,
              "ticks": ""
             }
            },
            "type": "scatter"
           }
          ],
          "scatter3d": [
           {
            "line": {
             "colorbar": {
              "outlinewidth": 0,
              "ticks": ""
             }
            },
            "marker": {
             "colorbar": {
              "outlinewidth": 0,
              "ticks": ""
             }
            },
            "type": "scatter3d"
           }
          ],
          "scattercarpet": [
           {
            "marker": {
             "colorbar": {
              "outlinewidth": 0,
              "ticks": ""
             }
            },
            "type": "scattercarpet"
           }
          ],
          "scattergeo": [
           {
            "marker": {
             "colorbar": {
              "outlinewidth": 0,
              "ticks": ""
             }
            },
            "type": "scattergeo"
           }
          ],
          "scattergl": [
           {
            "marker": {
             "colorbar": {
              "outlinewidth": 0,
              "ticks": ""
             }
            },
            "type": "scattergl"
           }
          ],
          "scattermapbox": [
           {
            "marker": {
             "colorbar": {
              "outlinewidth": 0,
              "ticks": ""
             }
            },
            "type": "scattermapbox"
           }
          ],
          "scatterpolar": [
           {
            "marker": {
             "colorbar": {
              "outlinewidth": 0,
              "ticks": ""
             }
            },
            "type": "scatterpolar"
           }
          ],
          "scatterpolargl": [
           {
            "marker": {
             "colorbar": {
              "outlinewidth": 0,
              "ticks": ""
             }
            },
            "type": "scatterpolargl"
           }
          ],
          "scatterternary": [
           {
            "marker": {
             "colorbar": {
              "outlinewidth": 0,
              "ticks": ""
             }
            },
            "type": "scatterternary"
           }
          ],
          "surface": [
           {
            "colorbar": {
             "outlinewidth": 0,
             "ticks": ""
            },
            "colorscale": [
             [
              0,
              "#0d0887"
             ],
             [
              0.1111111111111111,
              "#46039f"
             ],
             [
              0.2222222222222222,
              "#7201a8"
             ],
             [
              0.3333333333333333,
              "#9c179e"
             ],
             [
              0.4444444444444444,
              "#bd3786"
             ],
             [
              0.5555555555555556,
              "#d8576b"
             ],
             [
              0.6666666666666666,
              "#ed7953"
             ],
             [
              0.7777777777777778,
              "#fb9f3a"
             ],
             [
              0.8888888888888888,
              "#fdca26"
             ],
             [
              1,
              "#f0f921"
             ]
            ],
            "type": "surface"
           }
          ],
          "table": [
           {
            "cells": {
             "fill": {
              "color": "#EBF0F8"
             },
             "line": {
              "color": "white"
             }
            },
            "header": {
             "fill": {
              "color": "#C8D4E3"
             },
             "line": {
              "color": "white"
             }
            },
            "type": "table"
           }
          ]
         },
         "layout": {
          "annotationdefaults": {
           "arrowcolor": "#2a3f5f",
           "arrowhead": 0,
           "arrowwidth": 1
          },
          "autotypenumbers": "strict",
          "coloraxis": {
           "colorbar": {
            "outlinewidth": 0,
            "ticks": ""
           }
          },
          "colorscale": {
           "diverging": [
            [
             0,
             "#8e0152"
            ],
            [
             0.1,
             "#c51b7d"
            ],
            [
             0.2,
             "#de77ae"
            ],
            [
             0.3,
             "#f1b6da"
            ],
            [
             0.4,
             "#fde0ef"
            ],
            [
             0.5,
             "#f7f7f7"
            ],
            [
             0.6,
             "#e6f5d0"
            ],
            [
             0.7,
             "#b8e186"
            ],
            [
             0.8,
             "#7fbc41"
            ],
            [
             0.9,
             "#4d9221"
            ],
            [
             1,
             "#276419"
            ]
           ],
           "sequential": [
            [
             0,
             "#0d0887"
            ],
            [
             0.1111111111111111,
             "#46039f"
            ],
            [
             0.2222222222222222,
             "#7201a8"
            ],
            [
             0.3333333333333333,
             "#9c179e"
            ],
            [
             0.4444444444444444,
             "#bd3786"
            ],
            [
             0.5555555555555556,
             "#d8576b"
            ],
            [
             0.6666666666666666,
             "#ed7953"
            ],
            [
             0.7777777777777778,
             "#fb9f3a"
            ],
            [
             0.8888888888888888,
             "#fdca26"
            ],
            [
             1,
             "#f0f921"
            ]
           ],
           "sequentialminus": [
            [
             0,
             "#0d0887"
            ],
            [
             0.1111111111111111,
             "#46039f"
            ],
            [
             0.2222222222222222,
             "#7201a8"
            ],
            [
             0.3333333333333333,
             "#9c179e"
            ],
            [
             0.4444444444444444,
             "#bd3786"
            ],
            [
             0.5555555555555556,
             "#d8576b"
            ],
            [
             0.6666666666666666,
             "#ed7953"
            ],
            [
             0.7777777777777778,
             "#fb9f3a"
            ],
            [
             0.8888888888888888,
             "#fdca26"
            ],
            [
             1,
             "#f0f921"
            ]
           ]
          },
          "colorway": [
           "#636efa",
           "#EF553B",
           "#00cc96",
           "#ab63fa",
           "#FFA15A",
           "#19d3f3",
           "#FF6692",
           "#B6E880",
           "#FF97FF",
           "#FECB52"
          ],
          "font": {
           "color": "#2a3f5f"
          },
          "geo": {
           "bgcolor": "white",
           "lakecolor": "white",
           "landcolor": "#E5ECF6",
           "showlakes": true,
           "showland": true,
           "subunitcolor": "white"
          },
          "hoverlabel": {
           "align": "left"
          },
          "hovermode": "closest",
          "mapbox": {
           "style": "light"
          },
          "paper_bgcolor": "white",
          "plot_bgcolor": "#E5ECF6",
          "polar": {
           "angularaxis": {
            "gridcolor": "white",
            "linecolor": "white",
            "ticks": ""
           },
           "bgcolor": "#E5ECF6",
           "radialaxis": {
            "gridcolor": "white",
            "linecolor": "white",
            "ticks": ""
           }
          },
          "scene": {
           "xaxis": {
            "backgroundcolor": "#E5ECF6",
            "gridcolor": "white",
            "gridwidth": 2,
            "linecolor": "white",
            "showbackground": true,
            "ticks": "",
            "zerolinecolor": "white"
           },
           "yaxis": {
            "backgroundcolor": "#E5ECF6",
            "gridcolor": "white",
            "gridwidth": 2,
            "linecolor": "white",
            "showbackground": true,
            "ticks": "",
            "zerolinecolor": "white"
           },
           "zaxis": {
            "backgroundcolor": "#E5ECF6",
            "gridcolor": "white",
            "gridwidth": 2,
            "linecolor": "white",
            "showbackground": true,
            "ticks": "",
            "zerolinecolor": "white"
           }
          },
          "shapedefaults": {
           "line": {
            "color": "#2a3f5f"
           }
          },
          "ternary": {
           "aaxis": {
            "gridcolor": "white",
            "linecolor": "white",
            "ticks": ""
           },
           "baxis": {
            "gridcolor": "white",
            "linecolor": "white",
            "ticks": ""
           },
           "bgcolor": "#E5ECF6",
           "caxis": {
            "gridcolor": "white",
            "linecolor": "white",
            "ticks": ""
           }
          },
          "title": {
           "x": 0.05
          },
          "xaxis": {
           "automargin": true,
           "gridcolor": "white",
           "linecolor": "white",
           "ticks": "",
           "title": {
            "standoff": 15
           },
           "zerolinecolor": "white",
           "zerolinewidth": 2
          },
          "yaxis": {
           "automargin": true,
           "gridcolor": "white",
           "linecolor": "white",
           "ticks": "",
           "title": {
            "standoff": 15
           },
           "zerolinecolor": "white",
           "zerolinewidth": 2
          }
         }
        },
        "title": {
         "font": {
          "color": "#4D5663"
         }
        },
        "xaxis": {
         "anchor": "y",
         "domain": [
          0,
          0.2125
         ],
         "gridcolor": "#E1E5ED",
         "showgrid": false,
         "tickfont": {
          "color": "#4D5663"
         },
         "title": {
          "font": {
           "color": "#4D5663"
          },
          "text": ""
         },
         "zerolinecolor": "#E1E5ED"
        },
        "xaxis10": {
         "anchor": "y10",
         "domain": [
          0.2625,
          0.475
         ],
         "gridcolor": "#E1E5ED",
         "showgrid": false,
         "tickfont": {
          "color": "#4D5663"
         },
         "title": {
          "font": {
           "color": "#4D5663"
          },
          "text": ""
         },
         "zerolinecolor": "#E1E5ED"
        },
        "xaxis11": {
         "anchor": "y11",
         "domain": [
          0.525,
          0.7375
         ],
         "gridcolor": "#E1E5ED",
         "showgrid": false,
         "tickfont": {
          "color": "#4D5663"
         },
         "title": {
          "font": {
           "color": "#4D5663"
          },
          "text": ""
         },
         "zerolinecolor": "#E1E5ED"
        },
        "xaxis12": {
         "anchor": "y12",
         "domain": [
          0.7875,
          1
         ],
         "gridcolor": "#E1E5ED",
         "showgrid": false,
         "tickfont": {
          "color": "#4D5663"
         },
         "title": {
          "font": {
           "color": "#4D5663"
          },
          "text": ""
         },
         "zerolinecolor": "#E1E5ED"
        },
        "xaxis13": {
         "anchor": "y13",
         "domain": [
          0,
          0.2125
         ],
         "gridcolor": "#E1E5ED",
         "showgrid": false,
         "tickfont": {
          "color": "#4D5663"
         },
         "title": {
          "font": {
           "color": "#4D5663"
          },
          "text": ""
         },
         "zerolinecolor": "#E1E5ED"
        },
        "xaxis14": {
         "anchor": "y14",
         "domain": [
          0.2625,
          0.475
         ],
         "gridcolor": "#E1E5ED",
         "showgrid": false,
         "tickfont": {
          "color": "#4D5663"
         },
         "title": {
          "font": {
           "color": "#4D5663"
          },
          "text": ""
         },
         "zerolinecolor": "#E1E5ED"
        },
        "xaxis15": {
         "anchor": "y15",
         "domain": [
          0.525,
          0.7375
         ],
         "gridcolor": "#E1E5ED",
         "showgrid": false,
         "tickfont": {
          "color": "#4D5663"
         },
         "title": {
          "font": {
           "color": "#4D5663"
          },
          "text": ""
         },
         "zerolinecolor": "#E1E5ED"
        },
        "xaxis16": {
         "anchor": "y16",
         "domain": [
          0.7875,
          1
         ],
         "gridcolor": "#E1E5ED",
         "showgrid": false,
         "tickfont": {
          "color": "#4D5663"
         },
         "title": {
          "font": {
           "color": "#4D5663"
          },
          "text": ""
         },
         "zerolinecolor": "#E1E5ED"
        },
        "xaxis2": {
         "anchor": "y2",
         "domain": [
          0.2625,
          0.475
         ],
         "gridcolor": "#E1E5ED",
         "showgrid": false,
         "tickfont": {
          "color": "#4D5663"
         },
         "title": {
          "font": {
           "color": "#4D5663"
          },
          "text": ""
         },
         "zerolinecolor": "#E1E5ED"
        },
        "xaxis3": {
         "anchor": "y3",
         "domain": [
          0.525,
          0.7375
         ],
         "gridcolor": "#E1E5ED",
         "showgrid": false,
         "tickfont": {
          "color": "#4D5663"
         },
         "title": {
          "font": {
           "color": "#4D5663"
          },
          "text": ""
         },
         "zerolinecolor": "#E1E5ED"
        },
        "xaxis4": {
         "anchor": "y4",
         "domain": [
          0.7875,
          1
         ],
         "gridcolor": "#E1E5ED",
         "showgrid": false,
         "tickfont": {
          "color": "#4D5663"
         },
         "title": {
          "font": {
           "color": "#4D5663"
          },
          "text": ""
         },
         "zerolinecolor": "#E1E5ED"
        },
        "xaxis5": {
         "anchor": "y5",
         "domain": [
          0,
          0.2125
         ],
         "gridcolor": "#E1E5ED",
         "showgrid": false,
         "tickfont": {
          "color": "#4D5663"
         },
         "title": {
          "font": {
           "color": "#4D5663"
          },
          "text": ""
         },
         "zerolinecolor": "#E1E5ED"
        },
        "xaxis6": {
         "anchor": "y6",
         "domain": [
          0.2625,
          0.475
         ],
         "gridcolor": "#E1E5ED",
         "showgrid": false,
         "tickfont": {
          "color": "#4D5663"
         },
         "title": {
          "font": {
           "color": "#4D5663"
          },
          "text": ""
         },
         "zerolinecolor": "#E1E5ED"
        },
        "xaxis7": {
         "anchor": "y7",
         "domain": [
          0.525,
          0.7375
         ],
         "gridcolor": "#E1E5ED",
         "showgrid": false,
         "tickfont": {
          "color": "#4D5663"
         },
         "title": {
          "font": {
           "color": "#4D5663"
          },
          "text": ""
         },
         "zerolinecolor": "#E1E5ED"
        },
        "xaxis8": {
         "anchor": "y8",
         "domain": [
          0.7875,
          1
         ],
         "gridcolor": "#E1E5ED",
         "showgrid": false,
         "tickfont": {
          "color": "#4D5663"
         },
         "title": {
          "font": {
           "color": "#4D5663"
          },
          "text": ""
         },
         "zerolinecolor": "#E1E5ED"
        },
        "xaxis9": {
         "anchor": "y9",
         "domain": [
          0,
          0.2125
         ],
         "gridcolor": "#E1E5ED",
         "showgrid": false,
         "tickfont": {
          "color": "#4D5663"
         },
         "title": {
          "font": {
           "color": "#4D5663"
          },
          "text": ""
         },
         "zerolinecolor": "#E1E5ED"
        },
        "yaxis": {
         "anchor": "x",
         "domain": [
          0.8025,
          1
         ],
         "gridcolor": "#E1E5ED",
         "showgrid": false,
         "tickfont": {
          "color": "#4D5663"
         },
         "title": {
          "font": {
           "color": "#4D5663"
          },
          "text": ""
         },
         "zerolinecolor": "#E1E5ED"
        },
        "yaxis10": {
         "anchor": "x10",
         "domain": [
          0.2675,
          0.465
         ],
         "gridcolor": "#E1E5ED",
         "showgrid": false,
         "tickfont": {
          "color": "#4D5663"
         },
         "title": {
          "font": {
           "color": "#4D5663"
          },
          "text": ""
         },
         "zerolinecolor": "#E1E5ED"
        },
        "yaxis11": {
         "anchor": "x11",
         "domain": [
          0.2675,
          0.465
         ],
         "gridcolor": "#E1E5ED",
         "showgrid": false,
         "tickfont": {
          "color": "#4D5663"
         },
         "title": {
          "font": {
           "color": "#4D5663"
          },
          "text": ""
         },
         "zerolinecolor": "#E1E5ED"
        },
        "yaxis12": {
         "anchor": "x12",
         "domain": [
          0.2675,
          0.465
         ],
         "gridcolor": "#E1E5ED",
         "showgrid": false,
         "tickfont": {
          "color": "#4D5663"
         },
         "title": {
          "font": {
           "color": "#4D5663"
          },
          "text": ""
         },
         "zerolinecolor": "#E1E5ED"
        },
        "yaxis13": {
         "anchor": "x13",
         "domain": [
          0,
          0.1975
         ],
         "gridcolor": "#E1E5ED",
         "showgrid": false,
         "tickfont": {
          "color": "#4D5663"
         },
         "title": {
          "font": {
           "color": "#4D5663"
          },
          "text": ""
         },
         "zerolinecolor": "#E1E5ED"
        },
        "yaxis14": {
         "anchor": "x14",
         "domain": [
          0,
          0.1975
         ],
         "gridcolor": "#E1E5ED",
         "showgrid": false,
         "tickfont": {
          "color": "#4D5663"
         },
         "title": {
          "font": {
           "color": "#4D5663"
          },
          "text": ""
         },
         "zerolinecolor": "#E1E5ED"
        },
        "yaxis15": {
         "anchor": "x15",
         "domain": [
          0,
          0.1975
         ],
         "gridcolor": "#E1E5ED",
         "showgrid": false,
         "tickfont": {
          "color": "#4D5663"
         },
         "title": {
          "font": {
           "color": "#4D5663"
          },
          "text": ""
         },
         "zerolinecolor": "#E1E5ED"
        },
        "yaxis16": {
         "anchor": "x16",
         "domain": [
          0,
          0.1975
         ],
         "gridcolor": "#E1E5ED",
         "showgrid": false,
         "tickfont": {
          "color": "#4D5663"
         },
         "title": {
          "font": {
           "color": "#4D5663"
          },
          "text": ""
         },
         "zerolinecolor": "#E1E5ED"
        },
        "yaxis2": {
         "anchor": "x2",
         "domain": [
          0.8025,
          1
         ],
         "gridcolor": "#E1E5ED",
         "showgrid": false,
         "tickfont": {
          "color": "#4D5663"
         },
         "title": {
          "font": {
           "color": "#4D5663"
          },
          "text": ""
         },
         "zerolinecolor": "#E1E5ED"
        },
        "yaxis3": {
         "anchor": "x3",
         "domain": [
          0.8025,
          1
         ],
         "gridcolor": "#E1E5ED",
         "showgrid": false,
         "tickfont": {
          "color": "#4D5663"
         },
         "title": {
          "font": {
           "color": "#4D5663"
          },
          "text": ""
         },
         "zerolinecolor": "#E1E5ED"
        },
        "yaxis4": {
         "anchor": "x4",
         "domain": [
          0.8025,
          1
         ],
         "gridcolor": "#E1E5ED",
         "showgrid": false,
         "tickfont": {
          "color": "#4D5663"
         },
         "title": {
          "font": {
           "color": "#4D5663"
          },
          "text": ""
         },
         "zerolinecolor": "#E1E5ED"
        },
        "yaxis5": {
         "anchor": "x5",
         "domain": [
          0.535,
          0.7325
         ],
         "gridcolor": "#E1E5ED",
         "showgrid": false,
         "tickfont": {
          "color": "#4D5663"
         },
         "title": {
          "font": {
           "color": "#4D5663"
          },
          "text": ""
         },
         "zerolinecolor": "#E1E5ED"
        },
        "yaxis6": {
         "anchor": "x6",
         "domain": [
          0.535,
          0.7325
         ],
         "gridcolor": "#E1E5ED",
         "showgrid": false,
         "tickfont": {
          "color": "#4D5663"
         },
         "title": {
          "font": {
           "color": "#4D5663"
          },
          "text": ""
         },
         "zerolinecolor": "#E1E5ED"
        },
        "yaxis7": {
         "anchor": "x7",
         "domain": [
          0.535,
          0.7325
         ],
         "gridcolor": "#E1E5ED",
         "showgrid": false,
         "tickfont": {
          "color": "#4D5663"
         },
         "title": {
          "font": {
           "color": "#4D5663"
          },
          "text": ""
         },
         "zerolinecolor": "#E1E5ED"
        },
        "yaxis8": {
         "anchor": "x8",
         "domain": [
          0.535,
          0.7325
         ],
         "gridcolor": "#E1E5ED",
         "showgrid": false,
         "tickfont": {
          "color": "#4D5663"
         },
         "title": {
          "font": {
           "color": "#4D5663"
          },
          "text": ""
         },
         "zerolinecolor": "#E1E5ED"
        },
        "yaxis9": {
         "anchor": "x9",
         "domain": [
          0.2675,
          0.465
         ],
         "gridcolor": "#E1E5ED",
         "showgrid": false,
         "tickfont": {
          "color": "#4D5663"
         },
         "title": {
          "font": {
           "color": "#4D5663"
          },
          "text": ""
         },
         "zerolinecolor": "#E1E5ED"
        }
       }
      },
      "text/html": [
       "<div>                            <div id=\"a2a447e9-5386-4f15-9d84-aff2b5c59c48\" class=\"plotly-graph-div\" style=\"height:525px; width:100%;\"></div>            <script type=\"text/javascript\">                require([\"plotly\"], function(Plotly) {                    window.PLOTLYENV=window.PLOTLYENV || {};\n",
       "                    window.PLOTLYENV.BASE_URL='https://plot.ly';                                    if (document.getElementById(\"a2a447e9-5386-4f15-9d84-aff2b5c59c48\")) {                    Plotly.newPlot(                        \"a2a447e9-5386-4f15-9d84-aff2b5c59c48\",                        [{\"histfunc\": \"count\", \"histnorm\": \"\", \"marker\": {\"color\": \"rgba(255, 153, 51, 1.0)\", \"line\": {\"color\": \"#4D5663\", \"width\": 1.3}}, \"name\": \"A\", \"nbinsx\": 10, \"opacity\": 0.8, \"orientation\": \"v\", \"type\": \"histogram\", \"x\": [0.41760155225455636, 0.5261400468723789, 0.5683423096739474, -0.8222461098210078, 0.5445007517236217, 0.5909299879074099, 2.039579362940726, 0.6262088723800441, 0.19694594037636828, -3.0228983065582167, 0.20013434662272542, 0.7897393701529026, -1.2860106647372174, -1.209894031210368, 1.4991812102081934, 0.35295100673971, 1.6068652128980419, 0.44659510774809213, -0.6767341021203152, 0.867598499054683, 1.449819695873904, 1.3191900045864868, -0.024513457915711818, 0.18460391533600704, -0.23177229636727062, 1.1887447336595125, -1.5984486384334315, -0.4791939980881674, 0.45443684003122853, 1.1858647312666772, 0.6300812899870222, -0.9076010322718687, -1.0366066556848483, -0.6364365731046352, 0.797019857738389, 0.5601019577303988, -1.4652829651387353, 1.3517284564656338, 0.19750781481677754, -1.128982113739443, -0.01754605735598141, -0.044891495186233005, -0.8010310910031381, -0.30335402548602247, -0.3418257891963359, -1.1904895976608356, 0.4408253515736436, 1.6929673822638678, -0.3508487647510596, 0.6929015015943848, 0.6704346008145055, 0.5019071084632046, -1.9676005808992338, 0.2523635759175683, -0.13769847181233172, -0.5937099301262257, -0.4946241603235603, 1.438623954125982, -0.3908975591294168, 1.5713106951819324, 0.8552659204102937, 0.24516086205370485, 0.2888971604931386, -0.14709909178975228, -0.57481584660485, 0.6549006606048943, 0.17296055568917387, -1.1992032201677807, -0.7056304144096323, -2.2219667883329373, -0.24281236415007146, -1.530315772894537, 0.1423184582985676, -0.24145116574300846, -0.30577559894924256, -1.9700879316648785, 1.552930248971835, -0.6550718586352199, 1.62122878034275, 1.167262884154505, -0.04828735125770609, 1.446278149666796, -0.4026852504538263, 2.2068846765818995, 1.2032324446589693, 1.2451406579941515, 0.5746429329620883, 0.025993186182502948, 1.646829572457141, -1.2970898328462357, 0.8804446701276977, -0.6672298832100317, -0.2551538650516365, -0.20516968130389845, -0.1893699347371977, 1.2822922950580091, -0.259250383046811, 1.0005601672190672, -1.1550813022509543, -1.5016589825132562], \"xaxis\": \"x\", \"yaxis\": \"y\"}, {\"line\": {\"color\": \"rgba(128, 128, 128, 1.0)\", \"dash\": \"solid\", \"shape\": \"linear\", \"width\": 1.3}, \"marker\": {\"size\": 2, \"symbol\": \"circle\"}, \"mode\": \"markers\", \"name\": \"A\", \"text\": \"\", \"type\": \"scatter\", \"x\": [0.45531183603699393, 0.5980709095986467, -0.34994300438479303, 0.682610763724963, -1.4542337018715585, -0.3769121673601374, -0.6387922806675909, -0.7260129686538656, 1.5278964844049967, -0.48756957792086913, 0.05434385648508415, 0.7506522319974177, -1.9413341849808416, -0.5730009940047913, -1.1003505963827607, 1.0684780089870864, -0.8653245918742982, -1.1659141525288483, 1.4748659606190033, 1.1821959921800371, -0.7461798246499382, 0.48999175008102147, -0.673992626184721, 0.24893133866831796, 0.6464588824587291, -0.1461097428226522, 1.4026878825912379, -0.4985833083140884, -0.14469994922942367, -2.089059080119697, 0.2579102415048242, 0.1233431191998344, -0.5126377378670051, 0.1845391531012246, 0.26227917881843976, -2.517400123945921, -0.7664875910204841, 1.2515981143552763, 0.77024253182108, 0.2663650999864578, -0.31410429215510044, -0.7595707679642624, -0.30063668798857396, -1.3659417049110871, -0.7385023938161782, -0.8783868473978256, -1.386658644809201, -0.425338368256794, -0.6707201032633747, 0.3639683078524173, -0.6252515176436683, -0.7479873442020913, 0.23379014573745413, 0.19676520830860575, 0.78420191379329, 0.4667723126550738, -0.31299224975101747, 1.4071812363229708, -0.9882035714894439, 1.059675760547426, -0.661011691916808, 0.5648241544355863, 0.15498534009217793, -0.2969239333093207, -0.8579346573227228, -0.2983936903030944, -0.8188836855107948, -0.05905956696405363, 1.2634824753451157, -0.24211420077731516, -0.4543600665000616, 0.00020674132613351752, -0.983661158660926, -0.7938089830406612, 0.9133767862108992, -0.40882011720110095, 0.6296552104036756, 0.067578322434332, 0.49205614258355074, -0.6708775195031813, -2.3472801537369756, 0.3347200513927004, 0.27897836749072086, 0.7426050366716708, 1.0964144703582637, 0.6100031054218946, -0.8642234541537205, 0.6701889377888379, -0.8522639978236726, 1.2811708836726825, -0.709792986765138, -0.9479604590556494, 1.450475432415021, -0.6263162004965983, -0.25591862078357036, 0.1794046087657056, -0.08294676921470963, -0.19139893329730934, 0.589992480029799, -0.5097005552190711], \"xaxis\": \"x2\", \"y\": [0.41760155225455636, 0.5261400468723789, 0.5683423096739474, -0.8222461098210078, 0.5445007517236217, 0.5909299879074099, 2.039579362940726, 0.6262088723800441, 0.19694594037636828, -3.0228983065582167, 0.20013434662272542, 0.7897393701529026, -1.2860106647372174, -1.209894031210368, 1.4991812102081934, 0.35295100673971, 1.6068652128980419, 0.44659510774809213, -0.6767341021203152, 0.867598499054683, 1.449819695873904, 1.3191900045864868, -0.024513457915711818, 0.18460391533600704, -0.23177229636727062, 1.1887447336595125, -1.5984486384334315, -0.4791939980881674, 0.45443684003122853, 1.1858647312666772, 0.6300812899870222, -0.9076010322718687, -1.0366066556848483, -0.6364365731046352, 0.797019857738389, 0.5601019577303988, -1.4652829651387353, 1.3517284564656338, 0.19750781481677754, -1.128982113739443, -0.01754605735598141, -0.044891495186233005, -0.8010310910031381, -0.30335402548602247, -0.3418257891963359, -1.1904895976608356, 0.4408253515736436, 1.6929673822638678, -0.3508487647510596, 0.6929015015943848, 0.6704346008145055, 0.5019071084632046, -1.9676005808992338, 0.2523635759175683, -0.13769847181233172, -0.5937099301262257, -0.4946241603235603, 1.438623954125982, -0.3908975591294168, 1.5713106951819324, 0.8552659204102937, 0.24516086205370485, 0.2888971604931386, -0.14709909178975228, -0.57481584660485, 0.6549006606048943, 0.17296055568917387, -1.1992032201677807, -0.7056304144096323, -2.2219667883329373, -0.24281236415007146, -1.530315772894537, 0.1423184582985676, -0.24145116574300846, -0.30577559894924256, -1.9700879316648785, 1.552930248971835, -0.6550718586352199, 1.62122878034275, 1.167262884154505, -0.04828735125770609, 1.446278149666796, -0.4026852504538263, 2.2068846765818995, 1.2032324446589693, 1.2451406579941515, 0.5746429329620883, 0.025993186182502948, 1.646829572457141, -1.2970898328462357, 0.8804446701276977, -0.6672298832100317, -0.2551538650516365, -0.20516968130389845, -0.1893699347371977, 1.2822922950580091, -0.259250383046811, 1.0005601672190672, -1.1550813022509543, -1.5016589825132562], \"yaxis\": \"y2\"}, {\"line\": {\"color\": \"rgba(128, 128, 128, 1.0)\", \"dash\": \"solid\", \"shape\": \"linear\", \"width\": 1.3}, \"marker\": {\"size\": 2, \"symbol\": \"circle\"}, \"mode\": \"markers\", \"name\": \"A\", \"text\": \"\", \"type\": \"scatter\", \"x\": [0.3567412540471956, -0.277621504160643, -1.0039560507328307, 0.4257875394596556, 0.8485262765176328, 0.027817741081305154, -1.7800691311508625, -1.8930610505968957, -0.06819106082740113, 0.43366565834833737, 1.0861225268145978, -0.5539736078617259, -0.08722181086773953, -0.039346148424286354, 0.02426022263642747, -0.3239798433301274, -0.5475703879989886, 0.10581527280291539, 1.4692521950210637, -1.0685563032083263, -0.6073617902751547, 0.41001464741051835, 1.2845515232914555, 0.3437694013387482, 2.0241296518939427, 0.716348298850311, 0.1500977859365151, -1.479572162573671, 0.12161963392533788, -0.29468756900021, -0.47507501852182565, -0.17952261305483727, -0.1401793967555207, -0.19358067173563642, -0.6135315251047768, 0.5609601860154348, 0.3644233052137257, 0.5185641404240686, 1.1638762577410178, -0.6382911894940564, 1.0083918802169105, 1.0636726060351618, 1.2589916440795696, -0.5567782430971342, 1.503910486047363, -0.1039842744244673, -0.6532649887744778, -0.7953422244590403, -0.02554402453545743, 1.5193231117102857, -0.6062116799584988, -0.4148403299408071, -0.12557841868576408, -0.14423630327538, -1.3167152355180747, 0.5251488066072629, 0.7842350662560305, 0.9880066036413466, 0.2207036124958554, 0.19373994552679588, -0.8480826738209563, -1.0290592176586044, 0.7830598545164305, -1.5052245769808832, 0.3278263641898475, 0.13947034109223538, -0.002795163953398742, -0.014160736529868299, 1.4427765071149234, -0.7621509714232797, 0.7065671126852853, 0.7945017251732709, -0.7297836742942091, 2.4131451498614176, 2.2445299938224976, 0.14412247363103614, 1.4339792912032998, 0.7093706081785429, 1.2343676777915684, 0.660670851456429, 0.7349524389088409, 1.2765689692487583, -0.10448287256714851, 0.6053610822144108, -0.04122164143347805, -0.7648034974534945, -0.789191795836851, -0.936563079684066, 0.5154742497944342, -0.9031963361211861, 0.14144805967255422, -1.4028188883733714, -0.25976107214927635, -1.0310683377887329, -1.3699899830889526, -1.676308545130461, 0.40260360696246933, -0.6364028036937236, -0.5964837090022717, 0.729176826983682], \"xaxis\": \"x3\", \"y\": [0.41760155225455636, 0.5261400468723789, 0.5683423096739474, -0.8222461098210078, 0.5445007517236217, 0.5909299879074099, 2.039579362940726, 0.6262088723800441, 0.19694594037636828, -3.0228983065582167, 0.20013434662272542, 0.7897393701529026, -1.2860106647372174, -1.209894031210368, 1.4991812102081934, 0.35295100673971, 1.6068652128980419, 0.44659510774809213, -0.6767341021203152, 0.867598499054683, 1.449819695873904, 1.3191900045864868, -0.024513457915711818, 0.18460391533600704, -0.23177229636727062, 1.1887447336595125, -1.5984486384334315, -0.4791939980881674, 0.45443684003122853, 1.1858647312666772, 0.6300812899870222, -0.9076010322718687, -1.0366066556848483, -0.6364365731046352, 0.797019857738389, 0.5601019577303988, -1.4652829651387353, 1.3517284564656338, 0.19750781481677754, -1.128982113739443, -0.01754605735598141, -0.044891495186233005, -0.8010310910031381, -0.30335402548602247, -0.3418257891963359, -1.1904895976608356, 0.4408253515736436, 1.6929673822638678, -0.3508487647510596, 0.6929015015943848, 0.6704346008145055, 0.5019071084632046, -1.9676005808992338, 0.2523635759175683, -0.13769847181233172, -0.5937099301262257, -0.4946241603235603, 1.438623954125982, -0.3908975591294168, 1.5713106951819324, 0.8552659204102937, 0.24516086205370485, 0.2888971604931386, -0.14709909178975228, -0.57481584660485, 0.6549006606048943, 0.17296055568917387, -1.1992032201677807, -0.7056304144096323, -2.2219667883329373, -0.24281236415007146, -1.530315772894537, 0.1423184582985676, -0.24145116574300846, -0.30577559894924256, -1.9700879316648785, 1.552930248971835, -0.6550718586352199, 1.62122878034275, 1.167262884154505, -0.04828735125770609, 1.446278149666796, -0.4026852504538263, 2.2068846765818995, 1.2032324446589693, 1.2451406579941515, 0.5746429329620883, 0.025993186182502948, 1.646829572457141, -1.2970898328462357, 0.8804446701276977, -0.6672298832100317, -0.2551538650516365, -0.20516968130389845, -0.1893699347371977, 1.2822922950580091, -0.259250383046811, 1.0005601672190672, -1.1550813022509543, -1.5016589825132562], \"yaxis\": \"y3\"}, {\"line\": {\"color\": \"rgba(128, 128, 128, 1.0)\", \"dash\": \"solid\", \"shape\": \"linear\", \"width\": 1.3}, \"marker\": {\"size\": 2, \"symbol\": \"circle\"}, \"mode\": \"markers\", \"name\": \"A\", \"text\": \"\", \"type\": \"scatter\", \"x\": [-1.34202166775557, 0.24041236218769918, -1.0895993906002497, -1.4477730505340438, 0.3265560291598136, -1.0627183263089948, 2.2748119539369878, 0.14002478373288554, -0.591482610766506, 0.3672475929415598, -0.6523607787086786, 0.04620958491721732, -0.5292075375810491, -0.1426341013200712, -0.992193609915696, -1.4508580201592014, 0.8460637452465019, 0.9561772764999883, -0.07484683674390989, 0.303618913225969, 1.5159308005788739, 0.3884519230077761, 1.205014344324589, 0.39110073171143445, -1.4412416258689398, -0.5063324518534471, -0.5231572171845528, 0.44703995761157306, -1.2283044186145742, 0.20841355207505802, -0.3537097899246747, 0.8404505092648065, -0.3295942502982704, 0.5764188772427017, -0.6042277808645765, 0.3470231871858434, 1.1559274895045106, 0.2798027226974251, -1.897226835172203, 2.0984705425501513, 1.248088207208783, -0.0026771784714443086, -0.3507749455528286, 1.136933776325363, 0.4747888094602326, 0.5173850191199333, -0.398801075208429, -0.308605533844656, -2.2743739867380355, -0.30863557341001424, 2.0088421343289387, -0.43891328004556274, -0.21348335628559187, 0.10380703823181336, 0.8220260708349477, 0.4835166938101988, 0.24586694233775314, -0.9296229063557128, -0.30592330589032324, -0.33521000892205965, 0.016749593628197054, -0.13562841853330956, 0.5249595724520443, 0.5498983890001178, -0.2634244246000023, -0.9490978005532776, 2.0126370942676317, 0.1824088629928282, 2.1656156815201983, 1.5772870832511796, 0.9114248100780128, -1.1443884388024306, 0.43472719327085246, -0.3412961400193563, 1.0670230308075241, -1.7315149468895397, -0.764445398381599, 1.6989173660069625, 1.8839510915177033, -0.5305355725011855, 1.8213571156061392, 0.3428641089022315, 0.14654499835974855, 0.02915989562030293, 0.1333763354747478, 0.6095982932668517, 0.2604878686434509, 1.3342361352729508, -0.11152614460930015, 0.278282793389956, -1.59248851841307, -0.13123537115579278, -0.5421071636298173, 1.4446683123494939, 0.4916958334915132, -1.6940815209703621, 0.016659471213699904, -0.10534647508326686, -0.2342201332176408, 1.4419339622136704], \"xaxis\": \"x4\", \"y\": [0.41760155225455636, 0.5261400468723789, 0.5683423096739474, -0.8222461098210078, 0.5445007517236217, 0.5909299879074099, 2.039579362940726, 0.6262088723800441, 0.19694594037636828, -3.0228983065582167, 0.20013434662272542, 0.7897393701529026, -1.2860106647372174, -1.209894031210368, 1.4991812102081934, 0.35295100673971, 1.6068652128980419, 0.44659510774809213, -0.6767341021203152, 0.867598499054683, 1.449819695873904, 1.3191900045864868, -0.024513457915711818, 0.18460391533600704, -0.23177229636727062, 1.1887447336595125, -1.5984486384334315, -0.4791939980881674, 0.45443684003122853, 1.1858647312666772, 0.6300812899870222, -0.9076010322718687, -1.0366066556848483, -0.6364365731046352, 0.797019857738389, 0.5601019577303988, -1.4652829651387353, 1.3517284564656338, 0.19750781481677754, -1.128982113739443, -0.01754605735598141, -0.044891495186233005, -0.8010310910031381, -0.30335402548602247, -0.3418257891963359, -1.1904895976608356, 0.4408253515736436, 1.6929673822638678, -0.3508487647510596, 0.6929015015943848, 0.6704346008145055, 0.5019071084632046, -1.9676005808992338, 0.2523635759175683, -0.13769847181233172, -0.5937099301262257, -0.4946241603235603, 1.438623954125982, -0.3908975591294168, 1.5713106951819324, 0.8552659204102937, 0.24516086205370485, 0.2888971604931386, -0.14709909178975228, -0.57481584660485, 0.6549006606048943, 0.17296055568917387, -1.1992032201677807, -0.7056304144096323, -2.2219667883329373, -0.24281236415007146, -1.530315772894537, 0.1423184582985676, -0.24145116574300846, -0.30577559894924256, -1.9700879316648785, 1.552930248971835, -0.6550718586352199, 1.62122878034275, 1.167262884154505, -0.04828735125770609, 1.446278149666796, -0.4026852504538263, 2.2068846765818995, 1.2032324446589693, 1.2451406579941515, 0.5746429329620883, 0.025993186182502948, 1.646829572457141, -1.2970898328462357, 0.8804446701276977, -0.6672298832100317, -0.2551538650516365, -0.20516968130389845, -0.1893699347371977, 1.2822922950580091, -0.259250383046811, 1.0005601672190672, -1.1550813022509543, -1.5016589825132562], \"yaxis\": \"y4\"}, {\"line\": {\"color\": \"rgba(128, 128, 128, 1.0)\", \"dash\": \"solid\", \"shape\": \"linear\", \"width\": 1.3}, \"marker\": {\"size\": 2, \"symbol\": \"circle\"}, \"mode\": \"markers\", \"name\": \"B\", \"text\": \"\", \"type\": \"scatter\", \"x\": [0.41760155225455636, 0.5261400468723789, 0.5683423096739474, -0.8222461098210078, 0.5445007517236217, 0.5909299879074099, 2.039579362940726, 0.6262088723800441, 0.19694594037636828, -3.0228983065582167, 0.20013434662272542, 0.7897393701529026, -1.2860106647372174, -1.209894031210368, 1.4991812102081934, 0.35295100673971, 1.6068652128980419, 0.44659510774809213, -0.6767341021203152, 0.867598499054683, 1.449819695873904, 1.3191900045864868, -0.024513457915711818, 0.18460391533600704, -0.23177229636727062, 1.1887447336595125, -1.5984486384334315, -0.4791939980881674, 0.45443684003122853, 1.1858647312666772, 0.6300812899870222, -0.9076010322718687, -1.0366066556848483, -0.6364365731046352, 0.797019857738389, 0.5601019577303988, -1.4652829651387353, 1.3517284564656338, 0.19750781481677754, -1.128982113739443, -0.01754605735598141, -0.044891495186233005, -0.8010310910031381, -0.30335402548602247, -0.3418257891963359, -1.1904895976608356, 0.4408253515736436, 1.6929673822638678, -0.3508487647510596, 0.6929015015943848, 0.6704346008145055, 0.5019071084632046, -1.9676005808992338, 0.2523635759175683, -0.13769847181233172, -0.5937099301262257, -0.4946241603235603, 1.438623954125982, -0.3908975591294168, 1.5713106951819324, 0.8552659204102937, 0.24516086205370485, 0.2888971604931386, -0.14709909178975228, -0.57481584660485, 0.6549006606048943, 0.17296055568917387, -1.1992032201677807, -0.7056304144096323, -2.2219667883329373, -0.24281236415007146, -1.530315772894537, 0.1423184582985676, -0.24145116574300846, -0.30577559894924256, -1.9700879316648785, 1.552930248971835, -0.6550718586352199, 1.62122878034275, 1.167262884154505, -0.04828735125770609, 1.446278149666796, -0.4026852504538263, 2.2068846765818995, 1.2032324446589693, 1.2451406579941515, 0.5746429329620883, 0.025993186182502948, 1.646829572457141, -1.2970898328462357, 0.8804446701276977, -0.6672298832100317, -0.2551538650516365, -0.20516968130389845, -0.1893699347371977, 1.2822922950580091, -0.259250383046811, 1.0005601672190672, -1.1550813022509543, -1.5016589825132562], \"xaxis\": \"x5\", \"y\": [0.45531183603699393, 0.5980709095986467, -0.34994300438479303, 0.682610763724963, -1.4542337018715585, -0.3769121673601374, -0.6387922806675909, -0.7260129686538656, 1.5278964844049967, -0.48756957792086913, 0.05434385648508415, 0.7506522319974177, -1.9413341849808416, -0.5730009940047913, -1.1003505963827607, 1.0684780089870864, -0.8653245918742982, -1.1659141525288483, 1.4748659606190033, 1.1821959921800371, -0.7461798246499382, 0.48999175008102147, -0.673992626184721, 0.24893133866831796, 0.6464588824587291, -0.1461097428226522, 1.4026878825912379, -0.4985833083140884, -0.14469994922942367, -2.089059080119697, 0.2579102415048242, 0.1233431191998344, -0.5126377378670051, 0.1845391531012246, 0.26227917881843976, -2.517400123945921, -0.7664875910204841, 1.2515981143552763, 0.77024253182108, 0.2663650999864578, -0.31410429215510044, -0.7595707679642624, -0.30063668798857396, -1.3659417049110871, -0.7385023938161782, -0.8783868473978256, -1.386658644809201, -0.425338368256794, -0.6707201032633747, 0.3639683078524173, -0.6252515176436683, -0.7479873442020913, 0.23379014573745413, 0.19676520830860575, 0.78420191379329, 0.4667723126550738, -0.31299224975101747, 1.4071812363229708, -0.9882035714894439, 1.059675760547426, -0.661011691916808, 0.5648241544355863, 0.15498534009217793, -0.2969239333093207, -0.8579346573227228, -0.2983936903030944, -0.8188836855107948, -0.05905956696405363, 1.2634824753451157, -0.24211420077731516, -0.4543600665000616, 0.00020674132613351752, -0.983661158660926, -0.7938089830406612, 0.9133767862108992, -0.40882011720110095, 0.6296552104036756, 0.067578322434332, 0.49205614258355074, -0.6708775195031813, -2.3472801537369756, 0.3347200513927004, 0.27897836749072086, 0.7426050366716708, 1.0964144703582637, 0.6100031054218946, -0.8642234541537205, 0.6701889377888379, -0.8522639978236726, 1.2811708836726825, -0.709792986765138, -0.9479604590556494, 1.450475432415021, -0.6263162004965983, -0.25591862078357036, 0.1794046087657056, -0.08294676921470963, -0.19139893329730934, 0.589992480029799, -0.5097005552190711], \"yaxis\": \"y5\"}, {\"histfunc\": \"count\", \"histnorm\": \"\", \"marker\": {\"color\": \"rgba(55, 128, 191, 1.0)\", \"line\": {\"color\": \"#4D5663\", \"width\": 1.3}}, \"name\": \"B\", \"nbinsx\": 10, \"opacity\": 0.8, \"orientation\": \"v\", \"type\": \"histogram\", \"x\": [0.45531183603699393, 0.5980709095986467, -0.34994300438479303, 0.682610763724963, -1.4542337018715585, -0.3769121673601374, -0.6387922806675909, -0.7260129686538656, 1.5278964844049967, -0.48756957792086913, 0.05434385648508415, 0.7506522319974177, -1.9413341849808416, -0.5730009940047913, -1.1003505963827607, 1.0684780089870864, -0.8653245918742982, -1.1659141525288483, 1.4748659606190033, 1.1821959921800371, -0.7461798246499382, 0.48999175008102147, -0.673992626184721, 0.24893133866831796, 0.6464588824587291, -0.1461097428226522, 1.4026878825912379, -0.4985833083140884, -0.14469994922942367, -2.089059080119697, 0.2579102415048242, 0.1233431191998344, -0.5126377378670051, 0.1845391531012246, 0.26227917881843976, -2.517400123945921, -0.7664875910204841, 1.2515981143552763, 0.77024253182108, 0.2663650999864578, -0.31410429215510044, -0.7595707679642624, -0.30063668798857396, -1.3659417049110871, -0.7385023938161782, -0.8783868473978256, -1.386658644809201, -0.425338368256794, -0.6707201032633747, 0.3639683078524173, -0.6252515176436683, -0.7479873442020913, 0.23379014573745413, 0.19676520830860575, 0.78420191379329, 0.4667723126550738, -0.31299224975101747, 1.4071812363229708, -0.9882035714894439, 1.059675760547426, -0.661011691916808, 0.5648241544355863, 0.15498534009217793, -0.2969239333093207, -0.8579346573227228, -0.2983936903030944, -0.8188836855107948, -0.05905956696405363, 1.2634824753451157, -0.24211420077731516, -0.4543600665000616, 0.00020674132613351752, -0.983661158660926, -0.7938089830406612, 0.9133767862108992, -0.40882011720110095, 0.6296552104036756, 0.067578322434332, 0.49205614258355074, -0.6708775195031813, -2.3472801537369756, 0.3347200513927004, 0.27897836749072086, 0.7426050366716708, 1.0964144703582637, 0.6100031054218946, -0.8642234541537205, 0.6701889377888379, -0.8522639978236726, 1.2811708836726825, -0.709792986765138, -0.9479604590556494, 1.450475432415021, -0.6263162004965983, -0.25591862078357036, 0.1794046087657056, -0.08294676921470963, -0.19139893329730934, 0.589992480029799, -0.5097005552190711], \"xaxis\": \"x6\", \"yaxis\": \"y6\"}, {\"line\": {\"color\": \"rgba(128, 128, 128, 1.0)\", \"dash\": \"solid\", \"shape\": \"linear\", \"width\": 1.3}, \"marker\": {\"size\": 2, \"symbol\": \"circle\"}, \"mode\": \"markers\", \"name\": \"B\", \"text\": \"\", \"type\": \"scatter\", \"x\": [0.3567412540471956, -0.277621504160643, -1.0039560507328307, 0.4257875394596556, 0.8485262765176328, 0.027817741081305154, -1.7800691311508625, -1.8930610505968957, -0.06819106082740113, 0.43366565834833737, 1.0861225268145978, -0.5539736078617259, -0.08722181086773953, -0.039346148424286354, 0.02426022263642747, -0.3239798433301274, -0.5475703879989886, 0.10581527280291539, 1.4692521950210637, -1.0685563032083263, -0.6073617902751547, 0.41001464741051835, 1.2845515232914555, 0.3437694013387482, 2.0241296518939427, 0.716348298850311, 0.1500977859365151, -1.479572162573671, 0.12161963392533788, -0.29468756900021, -0.47507501852182565, -0.17952261305483727, -0.1401793967555207, -0.19358067173563642, -0.6135315251047768, 0.5609601860154348, 0.3644233052137257, 0.5185641404240686, 1.1638762577410178, -0.6382911894940564, 1.0083918802169105, 1.0636726060351618, 1.2589916440795696, -0.5567782430971342, 1.503910486047363, -0.1039842744244673, -0.6532649887744778, -0.7953422244590403, -0.02554402453545743, 1.5193231117102857, -0.6062116799584988, -0.4148403299408071, -0.12557841868576408, -0.14423630327538, -1.3167152355180747, 0.5251488066072629, 0.7842350662560305, 0.9880066036413466, 0.2207036124958554, 0.19373994552679588, -0.8480826738209563, -1.0290592176586044, 0.7830598545164305, -1.5052245769808832, 0.3278263641898475, 0.13947034109223538, -0.002795163953398742, -0.014160736529868299, 1.4427765071149234, -0.7621509714232797, 0.7065671126852853, 0.7945017251732709, -0.7297836742942091, 2.4131451498614176, 2.2445299938224976, 0.14412247363103614, 1.4339792912032998, 0.7093706081785429, 1.2343676777915684, 0.660670851456429, 0.7349524389088409, 1.2765689692487583, -0.10448287256714851, 0.6053610822144108, -0.04122164143347805, -0.7648034974534945, -0.789191795836851, -0.936563079684066, 0.5154742497944342, -0.9031963361211861, 0.14144805967255422, -1.4028188883733714, -0.25976107214927635, -1.0310683377887329, -1.3699899830889526, -1.676308545130461, 0.40260360696246933, -0.6364028036937236, -0.5964837090022717, 0.729176826983682], \"xaxis\": \"x7\", \"y\": [0.45531183603699393, 0.5980709095986467, -0.34994300438479303, 0.682610763724963, -1.4542337018715585, -0.3769121673601374, -0.6387922806675909, -0.7260129686538656, 1.5278964844049967, -0.48756957792086913, 0.05434385648508415, 0.7506522319974177, -1.9413341849808416, -0.5730009940047913, -1.1003505963827607, 1.0684780089870864, -0.8653245918742982, -1.1659141525288483, 1.4748659606190033, 1.1821959921800371, -0.7461798246499382, 0.48999175008102147, -0.673992626184721, 0.24893133866831796, 0.6464588824587291, -0.1461097428226522, 1.4026878825912379, -0.4985833083140884, -0.14469994922942367, -2.089059080119697, 0.2579102415048242, 0.1233431191998344, -0.5126377378670051, 0.1845391531012246, 0.26227917881843976, -2.517400123945921, -0.7664875910204841, 1.2515981143552763, 0.77024253182108, 0.2663650999864578, -0.31410429215510044, -0.7595707679642624, -0.30063668798857396, -1.3659417049110871, -0.7385023938161782, -0.8783868473978256, -1.386658644809201, -0.425338368256794, -0.6707201032633747, 0.3639683078524173, -0.6252515176436683, -0.7479873442020913, 0.23379014573745413, 0.19676520830860575, 0.78420191379329, 0.4667723126550738, -0.31299224975101747, 1.4071812363229708, -0.9882035714894439, 1.059675760547426, -0.661011691916808, 0.5648241544355863, 0.15498534009217793, -0.2969239333093207, -0.8579346573227228, -0.2983936903030944, -0.8188836855107948, -0.05905956696405363, 1.2634824753451157, -0.24211420077731516, -0.4543600665000616, 0.00020674132613351752, -0.983661158660926, -0.7938089830406612, 0.9133767862108992, -0.40882011720110095, 0.6296552104036756, 0.067578322434332, 0.49205614258355074, -0.6708775195031813, -2.3472801537369756, 0.3347200513927004, 0.27897836749072086, 0.7426050366716708, 1.0964144703582637, 0.6100031054218946, -0.8642234541537205, 0.6701889377888379, -0.8522639978236726, 1.2811708836726825, -0.709792986765138, -0.9479604590556494, 1.450475432415021, -0.6263162004965983, -0.25591862078357036, 0.1794046087657056, -0.08294676921470963, -0.19139893329730934, 0.589992480029799, -0.5097005552190711], \"yaxis\": \"y7\"}, {\"line\": {\"color\": \"rgba(128, 128, 128, 1.0)\", \"dash\": \"solid\", \"shape\": \"linear\", \"width\": 1.3}, \"marker\": {\"size\": 2, \"symbol\": \"circle\"}, \"mode\": \"markers\", \"name\": \"B\", \"text\": \"\", \"type\": \"scatter\", \"x\": [-1.34202166775557, 0.24041236218769918, -1.0895993906002497, -1.4477730505340438, 0.3265560291598136, -1.0627183263089948, 2.2748119539369878, 0.14002478373288554, -0.591482610766506, 0.3672475929415598, -0.6523607787086786, 0.04620958491721732, -0.5292075375810491, -0.1426341013200712, -0.992193609915696, -1.4508580201592014, 0.8460637452465019, 0.9561772764999883, -0.07484683674390989, 0.303618913225969, 1.5159308005788739, 0.3884519230077761, 1.205014344324589, 0.39110073171143445, -1.4412416258689398, -0.5063324518534471, -0.5231572171845528, 0.44703995761157306, -1.2283044186145742, 0.20841355207505802, -0.3537097899246747, 0.8404505092648065, -0.3295942502982704, 0.5764188772427017, -0.6042277808645765, 0.3470231871858434, 1.1559274895045106, 0.2798027226974251, -1.897226835172203, 2.0984705425501513, 1.248088207208783, -0.0026771784714443086, -0.3507749455528286, 1.136933776325363, 0.4747888094602326, 0.5173850191199333, -0.398801075208429, -0.308605533844656, -2.2743739867380355, -0.30863557341001424, 2.0088421343289387, -0.43891328004556274, -0.21348335628559187, 0.10380703823181336, 0.8220260708349477, 0.4835166938101988, 0.24586694233775314, -0.9296229063557128, -0.30592330589032324, -0.33521000892205965, 0.016749593628197054, -0.13562841853330956, 0.5249595724520443, 0.5498983890001178, -0.2634244246000023, -0.9490978005532776, 2.0126370942676317, 0.1824088629928282, 2.1656156815201983, 1.5772870832511796, 0.9114248100780128, -1.1443884388024306, 0.43472719327085246, -0.3412961400193563, 1.0670230308075241, -1.7315149468895397, -0.764445398381599, 1.6989173660069625, 1.8839510915177033, -0.5305355725011855, 1.8213571156061392, 0.3428641089022315, 0.14654499835974855, 0.02915989562030293, 0.1333763354747478, 0.6095982932668517, 0.2604878686434509, 1.3342361352729508, -0.11152614460930015, 0.278282793389956, -1.59248851841307, -0.13123537115579278, -0.5421071636298173, 1.4446683123494939, 0.4916958334915132, -1.6940815209703621, 0.016659471213699904, -0.10534647508326686, -0.2342201332176408, 1.4419339622136704], \"xaxis\": \"x8\", \"y\": [0.45531183603699393, 0.5980709095986467, -0.34994300438479303, 0.682610763724963, -1.4542337018715585, -0.3769121673601374, -0.6387922806675909, -0.7260129686538656, 1.5278964844049967, -0.48756957792086913, 0.05434385648508415, 0.7506522319974177, -1.9413341849808416, -0.5730009940047913, -1.1003505963827607, 1.0684780089870864, -0.8653245918742982, -1.1659141525288483, 1.4748659606190033, 1.1821959921800371, -0.7461798246499382, 0.48999175008102147, -0.673992626184721, 0.24893133866831796, 0.6464588824587291, -0.1461097428226522, 1.4026878825912379, -0.4985833083140884, -0.14469994922942367, -2.089059080119697, 0.2579102415048242, 0.1233431191998344, -0.5126377378670051, 0.1845391531012246, 0.26227917881843976, -2.517400123945921, -0.7664875910204841, 1.2515981143552763, 0.77024253182108, 0.2663650999864578, -0.31410429215510044, -0.7595707679642624, -0.30063668798857396, -1.3659417049110871, -0.7385023938161782, -0.8783868473978256, -1.386658644809201, -0.425338368256794, -0.6707201032633747, 0.3639683078524173, -0.6252515176436683, -0.7479873442020913, 0.23379014573745413, 0.19676520830860575, 0.78420191379329, 0.4667723126550738, -0.31299224975101747, 1.4071812363229708, -0.9882035714894439, 1.059675760547426, -0.661011691916808, 0.5648241544355863, 0.15498534009217793, -0.2969239333093207, -0.8579346573227228, -0.2983936903030944, -0.8188836855107948, -0.05905956696405363, 1.2634824753451157, -0.24211420077731516, -0.4543600665000616, 0.00020674132613351752, -0.983661158660926, -0.7938089830406612, 0.9133767862108992, -0.40882011720110095, 0.6296552104036756, 0.067578322434332, 0.49205614258355074, -0.6708775195031813, -2.3472801537369756, 0.3347200513927004, 0.27897836749072086, 0.7426050366716708, 1.0964144703582637, 0.6100031054218946, -0.8642234541537205, 0.6701889377888379, -0.8522639978236726, 1.2811708836726825, -0.709792986765138, -0.9479604590556494, 1.450475432415021, -0.6263162004965983, -0.25591862078357036, 0.1794046087657056, -0.08294676921470963, -0.19139893329730934, 0.589992480029799, -0.5097005552190711], \"yaxis\": \"y8\"}, {\"line\": {\"color\": \"rgba(128, 128, 128, 1.0)\", \"dash\": \"solid\", \"shape\": \"linear\", \"width\": 1.3}, \"marker\": {\"size\": 2, \"symbol\": \"circle\"}, \"mode\": \"markers\", \"name\": \"C\", \"text\": \"\", \"type\": \"scatter\", \"x\": [0.41760155225455636, 0.5261400468723789, 0.5683423096739474, -0.8222461098210078, 0.5445007517236217, 0.5909299879074099, 2.039579362940726, 0.6262088723800441, 0.19694594037636828, -3.0228983065582167, 0.20013434662272542, 0.7897393701529026, -1.2860106647372174, -1.209894031210368, 1.4991812102081934, 0.35295100673971, 1.6068652128980419, 0.44659510774809213, -0.6767341021203152, 0.867598499054683, 1.449819695873904, 1.3191900045864868, -0.024513457915711818, 0.18460391533600704, -0.23177229636727062, 1.1887447336595125, -1.5984486384334315, -0.4791939980881674, 0.45443684003122853, 1.1858647312666772, 0.6300812899870222, -0.9076010322718687, -1.0366066556848483, -0.6364365731046352, 0.797019857738389, 0.5601019577303988, -1.4652829651387353, 1.3517284564656338, 0.19750781481677754, -1.128982113739443, -0.01754605735598141, -0.044891495186233005, -0.8010310910031381, -0.30335402548602247, -0.3418257891963359, -1.1904895976608356, 0.4408253515736436, 1.6929673822638678, -0.3508487647510596, 0.6929015015943848, 0.6704346008145055, 0.5019071084632046, -1.9676005808992338, 0.2523635759175683, -0.13769847181233172, -0.5937099301262257, -0.4946241603235603, 1.438623954125982, -0.3908975591294168, 1.5713106951819324, 0.8552659204102937, 0.24516086205370485, 0.2888971604931386, -0.14709909178975228, -0.57481584660485, 0.6549006606048943, 0.17296055568917387, -1.1992032201677807, -0.7056304144096323, -2.2219667883329373, -0.24281236415007146, -1.530315772894537, 0.1423184582985676, -0.24145116574300846, -0.30577559894924256, -1.9700879316648785, 1.552930248971835, -0.6550718586352199, 1.62122878034275, 1.167262884154505, -0.04828735125770609, 1.446278149666796, -0.4026852504538263, 2.2068846765818995, 1.2032324446589693, 1.2451406579941515, 0.5746429329620883, 0.025993186182502948, 1.646829572457141, -1.2970898328462357, 0.8804446701276977, -0.6672298832100317, -0.2551538650516365, -0.20516968130389845, -0.1893699347371977, 1.2822922950580091, -0.259250383046811, 1.0005601672190672, -1.1550813022509543, -1.5016589825132562], \"xaxis\": \"x9\", \"y\": [0.3567412540471956, -0.277621504160643, -1.0039560507328307, 0.4257875394596556, 0.8485262765176328, 0.027817741081305154, -1.7800691311508625, -1.8930610505968957, -0.06819106082740113, 0.43366565834833737, 1.0861225268145978, -0.5539736078617259, -0.08722181086773953, -0.039346148424286354, 0.02426022263642747, -0.3239798433301274, -0.5475703879989886, 0.10581527280291539, 1.4692521950210637, -1.0685563032083263, -0.6073617902751547, 0.41001464741051835, 1.2845515232914555, 0.3437694013387482, 2.0241296518939427, 0.716348298850311, 0.1500977859365151, -1.479572162573671, 0.12161963392533788, -0.29468756900021, -0.47507501852182565, -0.17952261305483727, -0.1401793967555207, -0.19358067173563642, -0.6135315251047768, 0.5609601860154348, 0.3644233052137257, 0.5185641404240686, 1.1638762577410178, -0.6382911894940564, 1.0083918802169105, 1.0636726060351618, 1.2589916440795696, -0.5567782430971342, 1.503910486047363, -0.1039842744244673, -0.6532649887744778, -0.7953422244590403, -0.02554402453545743, 1.5193231117102857, -0.6062116799584988, -0.4148403299408071, -0.12557841868576408, -0.14423630327538, -1.3167152355180747, 0.5251488066072629, 0.7842350662560305, 0.9880066036413466, 0.2207036124958554, 0.19373994552679588, -0.8480826738209563, -1.0290592176586044, 0.7830598545164305, -1.5052245769808832, 0.3278263641898475, 0.13947034109223538, -0.002795163953398742, -0.014160736529868299, 1.4427765071149234, -0.7621509714232797, 0.7065671126852853, 0.7945017251732709, -0.7297836742942091, 2.4131451498614176, 2.2445299938224976, 0.14412247363103614, 1.4339792912032998, 0.7093706081785429, 1.2343676777915684, 0.660670851456429, 0.7349524389088409, 1.2765689692487583, -0.10448287256714851, 0.6053610822144108, -0.04122164143347805, -0.7648034974534945, -0.789191795836851, -0.936563079684066, 0.5154742497944342, -0.9031963361211861, 0.14144805967255422, -1.4028188883733714, -0.25976107214927635, -1.0310683377887329, -1.3699899830889526, -1.676308545130461, 0.40260360696246933, -0.6364028036937236, -0.5964837090022717, 0.729176826983682], \"yaxis\": \"y9\"}, {\"line\": {\"color\": \"rgba(128, 128, 128, 1.0)\", \"dash\": \"solid\", \"shape\": \"linear\", \"width\": 1.3}, \"marker\": {\"size\": 2, \"symbol\": \"circle\"}, \"mode\": \"markers\", \"name\": \"C\", \"text\": \"\", \"type\": \"scatter\", \"x\": [0.45531183603699393, 0.5980709095986467, -0.34994300438479303, 0.682610763724963, -1.4542337018715585, -0.3769121673601374, -0.6387922806675909, -0.7260129686538656, 1.5278964844049967, -0.48756957792086913, 0.05434385648508415, 0.7506522319974177, -1.9413341849808416, -0.5730009940047913, -1.1003505963827607, 1.0684780089870864, -0.8653245918742982, -1.1659141525288483, 1.4748659606190033, 1.1821959921800371, -0.7461798246499382, 0.48999175008102147, -0.673992626184721, 0.24893133866831796, 0.6464588824587291, -0.1461097428226522, 1.4026878825912379, -0.4985833083140884, -0.14469994922942367, -2.089059080119697, 0.2579102415048242, 0.1233431191998344, -0.5126377378670051, 0.1845391531012246, 0.26227917881843976, -2.517400123945921, -0.7664875910204841, 1.2515981143552763, 0.77024253182108, 0.2663650999864578, -0.31410429215510044, -0.7595707679642624, -0.30063668798857396, -1.3659417049110871, -0.7385023938161782, -0.8783868473978256, -1.386658644809201, -0.425338368256794, -0.6707201032633747, 0.3639683078524173, -0.6252515176436683, -0.7479873442020913, 0.23379014573745413, 0.19676520830860575, 0.78420191379329, 0.4667723126550738, -0.31299224975101747, 1.4071812363229708, -0.9882035714894439, 1.059675760547426, -0.661011691916808, 0.5648241544355863, 0.15498534009217793, -0.2969239333093207, -0.8579346573227228, -0.2983936903030944, -0.8188836855107948, -0.05905956696405363, 1.2634824753451157, -0.24211420077731516, -0.4543600665000616, 0.00020674132613351752, -0.983661158660926, -0.7938089830406612, 0.9133767862108992, -0.40882011720110095, 0.6296552104036756, 0.067578322434332, 0.49205614258355074, -0.6708775195031813, -2.3472801537369756, 0.3347200513927004, 0.27897836749072086, 0.7426050366716708, 1.0964144703582637, 0.6100031054218946, -0.8642234541537205, 0.6701889377888379, -0.8522639978236726, 1.2811708836726825, -0.709792986765138, -0.9479604590556494, 1.450475432415021, -0.6263162004965983, -0.25591862078357036, 0.1794046087657056, -0.08294676921470963, -0.19139893329730934, 0.589992480029799, -0.5097005552190711], \"xaxis\": \"x10\", \"y\": [0.3567412540471956, -0.277621504160643, -1.0039560507328307, 0.4257875394596556, 0.8485262765176328, 0.027817741081305154, -1.7800691311508625, -1.8930610505968957, -0.06819106082740113, 0.43366565834833737, 1.0861225268145978, -0.5539736078617259, -0.08722181086773953, -0.039346148424286354, 0.02426022263642747, -0.3239798433301274, -0.5475703879989886, 0.10581527280291539, 1.4692521950210637, -1.0685563032083263, -0.6073617902751547, 0.41001464741051835, 1.2845515232914555, 0.3437694013387482, 2.0241296518939427, 0.716348298850311, 0.1500977859365151, -1.479572162573671, 0.12161963392533788, -0.29468756900021, -0.47507501852182565, -0.17952261305483727, -0.1401793967555207, -0.19358067173563642, -0.6135315251047768, 0.5609601860154348, 0.3644233052137257, 0.5185641404240686, 1.1638762577410178, -0.6382911894940564, 1.0083918802169105, 1.0636726060351618, 1.2589916440795696, -0.5567782430971342, 1.503910486047363, -0.1039842744244673, -0.6532649887744778, -0.7953422244590403, -0.02554402453545743, 1.5193231117102857, -0.6062116799584988, -0.4148403299408071, -0.12557841868576408, -0.14423630327538, -1.3167152355180747, 0.5251488066072629, 0.7842350662560305, 0.9880066036413466, 0.2207036124958554, 0.19373994552679588, -0.8480826738209563, -1.0290592176586044, 0.7830598545164305, -1.5052245769808832, 0.3278263641898475, 0.13947034109223538, -0.002795163953398742, -0.014160736529868299, 1.4427765071149234, -0.7621509714232797, 0.7065671126852853, 0.7945017251732709, -0.7297836742942091, 2.4131451498614176, 2.2445299938224976, 0.14412247363103614, 1.4339792912032998, 0.7093706081785429, 1.2343676777915684, 0.660670851456429, 0.7349524389088409, 1.2765689692487583, -0.10448287256714851, 0.6053610822144108, -0.04122164143347805, -0.7648034974534945, -0.789191795836851, -0.936563079684066, 0.5154742497944342, -0.9031963361211861, 0.14144805967255422, -1.4028188883733714, -0.25976107214927635, -1.0310683377887329, -1.3699899830889526, -1.676308545130461, 0.40260360696246933, -0.6364028036937236, -0.5964837090022717, 0.729176826983682], \"yaxis\": \"y10\"}, {\"histfunc\": \"count\", \"histnorm\": \"\", \"marker\": {\"color\": \"rgba(50, 171, 96, 1.0)\", \"line\": {\"color\": \"#4D5663\", \"width\": 1.3}}, \"name\": \"C\", \"nbinsx\": 10, \"opacity\": 0.8, \"orientation\": \"v\", \"type\": \"histogram\", \"x\": [0.3567412540471956, -0.277621504160643, -1.0039560507328307, 0.4257875394596556, 0.8485262765176328, 0.027817741081305154, -1.7800691311508625, -1.8930610505968957, -0.06819106082740113, 0.43366565834833737, 1.0861225268145978, -0.5539736078617259, -0.08722181086773953, -0.039346148424286354, 0.02426022263642747, -0.3239798433301274, -0.5475703879989886, 0.10581527280291539, 1.4692521950210637, -1.0685563032083263, -0.6073617902751547, 0.41001464741051835, 1.2845515232914555, 0.3437694013387482, 2.0241296518939427, 0.716348298850311, 0.1500977859365151, -1.479572162573671, 0.12161963392533788, -0.29468756900021, -0.47507501852182565, -0.17952261305483727, -0.1401793967555207, -0.19358067173563642, -0.6135315251047768, 0.5609601860154348, 0.3644233052137257, 0.5185641404240686, 1.1638762577410178, -0.6382911894940564, 1.0083918802169105, 1.0636726060351618, 1.2589916440795696, -0.5567782430971342, 1.503910486047363, -0.1039842744244673, -0.6532649887744778, -0.7953422244590403, -0.02554402453545743, 1.5193231117102857, -0.6062116799584988, -0.4148403299408071, -0.12557841868576408, -0.14423630327538, -1.3167152355180747, 0.5251488066072629, 0.7842350662560305, 0.9880066036413466, 0.2207036124958554, 0.19373994552679588, -0.8480826738209563, -1.0290592176586044, 0.7830598545164305, -1.5052245769808832, 0.3278263641898475, 0.13947034109223538, -0.002795163953398742, -0.014160736529868299, 1.4427765071149234, -0.7621509714232797, 0.7065671126852853, 0.7945017251732709, -0.7297836742942091, 2.4131451498614176, 2.2445299938224976, 0.14412247363103614, 1.4339792912032998, 0.7093706081785429, 1.2343676777915684, 0.660670851456429, 0.7349524389088409, 1.2765689692487583, -0.10448287256714851, 0.6053610822144108, -0.04122164143347805, -0.7648034974534945, -0.789191795836851, -0.936563079684066, 0.5154742497944342, -0.9031963361211861, 0.14144805967255422, -1.4028188883733714, -0.25976107214927635, -1.0310683377887329, -1.3699899830889526, -1.676308545130461, 0.40260360696246933, -0.6364028036937236, -0.5964837090022717, 0.729176826983682], \"xaxis\": \"x11\", \"yaxis\": \"y11\"}, {\"line\": {\"color\": \"rgba(128, 128, 128, 1.0)\", \"dash\": \"solid\", \"shape\": \"linear\", \"width\": 1.3}, \"marker\": {\"size\": 2, \"symbol\": \"circle\"}, \"mode\": \"markers\", \"name\": \"C\", \"text\": \"\", \"type\": \"scatter\", \"x\": [-1.34202166775557, 0.24041236218769918, -1.0895993906002497, -1.4477730505340438, 0.3265560291598136, -1.0627183263089948, 2.2748119539369878, 0.14002478373288554, -0.591482610766506, 0.3672475929415598, -0.6523607787086786, 0.04620958491721732, -0.5292075375810491, -0.1426341013200712, -0.992193609915696, -1.4508580201592014, 0.8460637452465019, 0.9561772764999883, -0.07484683674390989, 0.303618913225969, 1.5159308005788739, 0.3884519230077761, 1.205014344324589, 0.39110073171143445, -1.4412416258689398, -0.5063324518534471, -0.5231572171845528, 0.44703995761157306, -1.2283044186145742, 0.20841355207505802, -0.3537097899246747, 0.8404505092648065, -0.3295942502982704, 0.5764188772427017, -0.6042277808645765, 0.3470231871858434, 1.1559274895045106, 0.2798027226974251, -1.897226835172203, 2.0984705425501513, 1.248088207208783, -0.0026771784714443086, -0.3507749455528286, 1.136933776325363, 0.4747888094602326, 0.5173850191199333, -0.398801075208429, -0.308605533844656, -2.2743739867380355, -0.30863557341001424, 2.0088421343289387, -0.43891328004556274, -0.21348335628559187, 0.10380703823181336, 0.8220260708349477, 0.4835166938101988, 0.24586694233775314, -0.9296229063557128, -0.30592330589032324, -0.33521000892205965, 0.016749593628197054, -0.13562841853330956, 0.5249595724520443, 0.5498983890001178, -0.2634244246000023, -0.9490978005532776, 2.0126370942676317, 0.1824088629928282, 2.1656156815201983, 1.5772870832511796, 0.9114248100780128, -1.1443884388024306, 0.43472719327085246, -0.3412961400193563, 1.0670230308075241, -1.7315149468895397, -0.764445398381599, 1.6989173660069625, 1.8839510915177033, -0.5305355725011855, 1.8213571156061392, 0.3428641089022315, 0.14654499835974855, 0.02915989562030293, 0.1333763354747478, 0.6095982932668517, 0.2604878686434509, 1.3342361352729508, -0.11152614460930015, 0.278282793389956, -1.59248851841307, -0.13123537115579278, -0.5421071636298173, 1.4446683123494939, 0.4916958334915132, -1.6940815209703621, 0.016659471213699904, -0.10534647508326686, -0.2342201332176408, 1.4419339622136704], \"xaxis\": \"x12\", \"y\": [0.3567412540471956, -0.277621504160643, -1.0039560507328307, 0.4257875394596556, 0.8485262765176328, 0.027817741081305154, -1.7800691311508625, -1.8930610505968957, -0.06819106082740113, 0.43366565834833737, 1.0861225268145978, -0.5539736078617259, -0.08722181086773953, -0.039346148424286354, 0.02426022263642747, -0.3239798433301274, -0.5475703879989886, 0.10581527280291539, 1.4692521950210637, -1.0685563032083263, -0.6073617902751547, 0.41001464741051835, 1.2845515232914555, 0.3437694013387482, 2.0241296518939427, 0.716348298850311, 0.1500977859365151, -1.479572162573671, 0.12161963392533788, -0.29468756900021, -0.47507501852182565, -0.17952261305483727, -0.1401793967555207, -0.19358067173563642, -0.6135315251047768, 0.5609601860154348, 0.3644233052137257, 0.5185641404240686, 1.1638762577410178, -0.6382911894940564, 1.0083918802169105, 1.0636726060351618, 1.2589916440795696, -0.5567782430971342, 1.503910486047363, -0.1039842744244673, -0.6532649887744778, -0.7953422244590403, -0.02554402453545743, 1.5193231117102857, -0.6062116799584988, -0.4148403299408071, -0.12557841868576408, -0.14423630327538, -1.3167152355180747, 0.5251488066072629, 0.7842350662560305, 0.9880066036413466, 0.2207036124958554, 0.19373994552679588, -0.8480826738209563, -1.0290592176586044, 0.7830598545164305, -1.5052245769808832, 0.3278263641898475, 0.13947034109223538, -0.002795163953398742, -0.014160736529868299, 1.4427765071149234, -0.7621509714232797, 0.7065671126852853, 0.7945017251732709, -0.7297836742942091, 2.4131451498614176, 2.2445299938224976, 0.14412247363103614, 1.4339792912032998, 0.7093706081785429, 1.2343676777915684, 0.660670851456429, 0.7349524389088409, 1.2765689692487583, -0.10448287256714851, 0.6053610822144108, -0.04122164143347805, -0.7648034974534945, -0.789191795836851, -0.936563079684066, 0.5154742497944342, -0.9031963361211861, 0.14144805967255422, -1.4028188883733714, -0.25976107214927635, -1.0310683377887329, -1.3699899830889526, -1.676308545130461, 0.40260360696246933, -0.6364028036937236, -0.5964837090022717, 0.729176826983682], \"yaxis\": \"y12\"}, {\"line\": {\"color\": \"rgba(128, 128, 128, 1.0)\", \"dash\": \"solid\", \"shape\": \"linear\", \"width\": 1.3}, \"marker\": {\"size\": 2, \"symbol\": \"circle\"}, \"mode\": \"markers\", \"name\": \"D\", \"text\": \"\", \"type\": \"scatter\", \"x\": [0.41760155225455636, 0.5261400468723789, 0.5683423096739474, -0.8222461098210078, 0.5445007517236217, 0.5909299879074099, 2.039579362940726, 0.6262088723800441, 0.19694594037636828, -3.0228983065582167, 0.20013434662272542, 0.7897393701529026, -1.2860106647372174, -1.209894031210368, 1.4991812102081934, 0.35295100673971, 1.6068652128980419, 0.44659510774809213, -0.6767341021203152, 0.867598499054683, 1.449819695873904, 1.3191900045864868, -0.024513457915711818, 0.18460391533600704, -0.23177229636727062, 1.1887447336595125, -1.5984486384334315, -0.4791939980881674, 0.45443684003122853, 1.1858647312666772, 0.6300812899870222, -0.9076010322718687, -1.0366066556848483, -0.6364365731046352, 0.797019857738389, 0.5601019577303988, -1.4652829651387353, 1.3517284564656338, 0.19750781481677754, -1.128982113739443, -0.01754605735598141, -0.044891495186233005, -0.8010310910031381, -0.30335402548602247, -0.3418257891963359, -1.1904895976608356, 0.4408253515736436, 1.6929673822638678, -0.3508487647510596, 0.6929015015943848, 0.6704346008145055, 0.5019071084632046, -1.9676005808992338, 0.2523635759175683, -0.13769847181233172, -0.5937099301262257, -0.4946241603235603, 1.438623954125982, -0.3908975591294168, 1.5713106951819324, 0.8552659204102937, 0.24516086205370485, 0.2888971604931386, -0.14709909178975228, -0.57481584660485, 0.6549006606048943, 0.17296055568917387, -1.1992032201677807, -0.7056304144096323, -2.2219667883329373, -0.24281236415007146, -1.530315772894537, 0.1423184582985676, -0.24145116574300846, -0.30577559894924256, -1.9700879316648785, 1.552930248971835, -0.6550718586352199, 1.62122878034275, 1.167262884154505, -0.04828735125770609, 1.446278149666796, -0.4026852504538263, 2.2068846765818995, 1.2032324446589693, 1.2451406579941515, 0.5746429329620883, 0.025993186182502948, 1.646829572457141, -1.2970898328462357, 0.8804446701276977, -0.6672298832100317, -0.2551538650516365, -0.20516968130389845, -0.1893699347371977, 1.2822922950580091, -0.259250383046811, 1.0005601672190672, -1.1550813022509543, -1.5016589825132562], \"xaxis\": \"x13\", \"y\": [-1.34202166775557, 0.24041236218769918, -1.0895993906002497, -1.4477730505340438, 0.3265560291598136, -1.0627183263089948, 2.2748119539369878, 0.14002478373288554, -0.591482610766506, 0.3672475929415598, -0.6523607787086786, 0.04620958491721732, -0.5292075375810491, -0.1426341013200712, -0.992193609915696, -1.4508580201592014, 0.8460637452465019, 0.9561772764999883, -0.07484683674390989, 0.303618913225969, 1.5159308005788739, 0.3884519230077761, 1.205014344324589, 0.39110073171143445, -1.4412416258689398, -0.5063324518534471, -0.5231572171845528, 0.44703995761157306, -1.2283044186145742, 0.20841355207505802, -0.3537097899246747, 0.8404505092648065, -0.3295942502982704, 0.5764188772427017, -0.6042277808645765, 0.3470231871858434, 1.1559274895045106, 0.2798027226974251, -1.897226835172203, 2.0984705425501513, 1.248088207208783, -0.0026771784714443086, -0.3507749455528286, 1.136933776325363, 0.4747888094602326, 0.5173850191199333, -0.398801075208429, -0.308605533844656, -2.2743739867380355, -0.30863557341001424, 2.0088421343289387, -0.43891328004556274, -0.21348335628559187, 0.10380703823181336, 0.8220260708349477, 0.4835166938101988, 0.24586694233775314, -0.9296229063557128, -0.30592330589032324, -0.33521000892205965, 0.016749593628197054, -0.13562841853330956, 0.5249595724520443, 0.5498983890001178, -0.2634244246000023, -0.9490978005532776, 2.0126370942676317, 0.1824088629928282, 2.1656156815201983, 1.5772870832511796, 0.9114248100780128, -1.1443884388024306, 0.43472719327085246, -0.3412961400193563, 1.0670230308075241, -1.7315149468895397, -0.764445398381599, 1.6989173660069625, 1.8839510915177033, -0.5305355725011855, 1.8213571156061392, 0.3428641089022315, 0.14654499835974855, 0.02915989562030293, 0.1333763354747478, 0.6095982932668517, 0.2604878686434509, 1.3342361352729508, -0.11152614460930015, 0.278282793389956, -1.59248851841307, -0.13123537115579278, -0.5421071636298173, 1.4446683123494939, 0.4916958334915132, -1.6940815209703621, 0.016659471213699904, -0.10534647508326686, -0.2342201332176408, 1.4419339622136704], \"yaxis\": \"y13\"}, {\"line\": {\"color\": \"rgba(128, 128, 128, 1.0)\", \"dash\": \"solid\", \"shape\": \"linear\", \"width\": 1.3}, \"marker\": {\"size\": 2, \"symbol\": \"circle\"}, \"mode\": \"markers\", \"name\": \"D\", \"text\": \"\", \"type\": \"scatter\", \"x\": [0.45531183603699393, 0.5980709095986467, -0.34994300438479303, 0.682610763724963, -1.4542337018715585, -0.3769121673601374, -0.6387922806675909, -0.7260129686538656, 1.5278964844049967, -0.48756957792086913, 0.05434385648508415, 0.7506522319974177, -1.9413341849808416, -0.5730009940047913, -1.1003505963827607, 1.0684780089870864, -0.8653245918742982, -1.1659141525288483, 1.4748659606190033, 1.1821959921800371, -0.7461798246499382, 0.48999175008102147, -0.673992626184721, 0.24893133866831796, 0.6464588824587291, -0.1461097428226522, 1.4026878825912379, -0.4985833083140884, -0.14469994922942367, -2.089059080119697, 0.2579102415048242, 0.1233431191998344, -0.5126377378670051, 0.1845391531012246, 0.26227917881843976, -2.517400123945921, -0.7664875910204841, 1.2515981143552763, 0.77024253182108, 0.2663650999864578, -0.31410429215510044, -0.7595707679642624, -0.30063668798857396, -1.3659417049110871, -0.7385023938161782, -0.8783868473978256, -1.386658644809201, -0.425338368256794, -0.6707201032633747, 0.3639683078524173, -0.6252515176436683, -0.7479873442020913, 0.23379014573745413, 0.19676520830860575, 0.78420191379329, 0.4667723126550738, -0.31299224975101747, 1.4071812363229708, -0.9882035714894439, 1.059675760547426, -0.661011691916808, 0.5648241544355863, 0.15498534009217793, -0.2969239333093207, -0.8579346573227228, -0.2983936903030944, -0.8188836855107948, -0.05905956696405363, 1.2634824753451157, -0.24211420077731516, -0.4543600665000616, 0.00020674132613351752, -0.983661158660926, -0.7938089830406612, 0.9133767862108992, -0.40882011720110095, 0.6296552104036756, 0.067578322434332, 0.49205614258355074, -0.6708775195031813, -2.3472801537369756, 0.3347200513927004, 0.27897836749072086, 0.7426050366716708, 1.0964144703582637, 0.6100031054218946, -0.8642234541537205, 0.6701889377888379, -0.8522639978236726, 1.2811708836726825, -0.709792986765138, -0.9479604590556494, 1.450475432415021, -0.6263162004965983, -0.25591862078357036, 0.1794046087657056, -0.08294676921470963, -0.19139893329730934, 0.589992480029799, -0.5097005552190711], \"xaxis\": \"x14\", \"y\": [-1.34202166775557, 0.24041236218769918, -1.0895993906002497, -1.4477730505340438, 0.3265560291598136, -1.0627183263089948, 2.2748119539369878, 0.14002478373288554, -0.591482610766506, 0.3672475929415598, -0.6523607787086786, 0.04620958491721732, -0.5292075375810491, -0.1426341013200712, -0.992193609915696, -1.4508580201592014, 0.8460637452465019, 0.9561772764999883, -0.07484683674390989, 0.303618913225969, 1.5159308005788739, 0.3884519230077761, 1.205014344324589, 0.39110073171143445, -1.4412416258689398, -0.5063324518534471, -0.5231572171845528, 0.44703995761157306, -1.2283044186145742, 0.20841355207505802, -0.3537097899246747, 0.8404505092648065, -0.3295942502982704, 0.5764188772427017, -0.6042277808645765, 0.3470231871858434, 1.1559274895045106, 0.2798027226974251, -1.897226835172203, 2.0984705425501513, 1.248088207208783, -0.0026771784714443086, -0.3507749455528286, 1.136933776325363, 0.4747888094602326, 0.5173850191199333, -0.398801075208429, -0.308605533844656, -2.2743739867380355, -0.30863557341001424, 2.0088421343289387, -0.43891328004556274, -0.21348335628559187, 0.10380703823181336, 0.8220260708349477, 0.4835166938101988, 0.24586694233775314, -0.9296229063557128, -0.30592330589032324, -0.33521000892205965, 0.016749593628197054, -0.13562841853330956, 0.5249595724520443, 0.5498983890001178, -0.2634244246000023, -0.9490978005532776, 2.0126370942676317, 0.1824088629928282, 2.1656156815201983, 1.5772870832511796, 0.9114248100780128, -1.1443884388024306, 0.43472719327085246, -0.3412961400193563, 1.0670230308075241, -1.7315149468895397, -0.764445398381599, 1.6989173660069625, 1.8839510915177033, -0.5305355725011855, 1.8213571156061392, 0.3428641089022315, 0.14654499835974855, 0.02915989562030293, 0.1333763354747478, 0.6095982932668517, 0.2604878686434509, 1.3342361352729508, -0.11152614460930015, 0.278282793389956, -1.59248851841307, -0.13123537115579278, -0.5421071636298173, 1.4446683123494939, 0.4916958334915132, -1.6940815209703621, 0.016659471213699904, -0.10534647508326686, -0.2342201332176408, 1.4419339622136704], \"yaxis\": \"y14\"}, {\"line\": {\"color\": \"rgba(128, 128, 128, 1.0)\", \"dash\": \"solid\", \"shape\": \"linear\", \"width\": 1.3}, \"marker\": {\"size\": 2, \"symbol\": \"circle\"}, \"mode\": \"markers\", \"name\": \"D\", \"text\": \"\", \"type\": \"scatter\", \"x\": [0.3567412540471956, -0.277621504160643, -1.0039560507328307, 0.4257875394596556, 0.8485262765176328, 0.027817741081305154, -1.7800691311508625, -1.8930610505968957, -0.06819106082740113, 0.43366565834833737, 1.0861225268145978, -0.5539736078617259, -0.08722181086773953, -0.039346148424286354, 0.02426022263642747, -0.3239798433301274, -0.5475703879989886, 0.10581527280291539, 1.4692521950210637, -1.0685563032083263, -0.6073617902751547, 0.41001464741051835, 1.2845515232914555, 0.3437694013387482, 2.0241296518939427, 0.716348298850311, 0.1500977859365151, -1.479572162573671, 0.12161963392533788, -0.29468756900021, -0.47507501852182565, -0.17952261305483727, -0.1401793967555207, -0.19358067173563642, -0.6135315251047768, 0.5609601860154348, 0.3644233052137257, 0.5185641404240686, 1.1638762577410178, -0.6382911894940564, 1.0083918802169105, 1.0636726060351618, 1.2589916440795696, -0.5567782430971342, 1.503910486047363, -0.1039842744244673, -0.6532649887744778, -0.7953422244590403, -0.02554402453545743, 1.5193231117102857, -0.6062116799584988, -0.4148403299408071, -0.12557841868576408, -0.14423630327538, -1.3167152355180747, 0.5251488066072629, 0.7842350662560305, 0.9880066036413466, 0.2207036124958554, 0.19373994552679588, -0.8480826738209563, -1.0290592176586044, 0.7830598545164305, -1.5052245769808832, 0.3278263641898475, 0.13947034109223538, -0.002795163953398742, -0.014160736529868299, 1.4427765071149234, -0.7621509714232797, 0.7065671126852853, 0.7945017251732709, -0.7297836742942091, 2.4131451498614176, 2.2445299938224976, 0.14412247363103614, 1.4339792912032998, 0.7093706081785429, 1.2343676777915684, 0.660670851456429, 0.7349524389088409, 1.2765689692487583, -0.10448287256714851, 0.6053610822144108, -0.04122164143347805, -0.7648034974534945, -0.789191795836851, -0.936563079684066, 0.5154742497944342, -0.9031963361211861, 0.14144805967255422, -1.4028188883733714, -0.25976107214927635, -1.0310683377887329, -1.3699899830889526, -1.676308545130461, 0.40260360696246933, -0.6364028036937236, -0.5964837090022717, 0.729176826983682], \"xaxis\": \"x15\", \"y\": [-1.34202166775557, 0.24041236218769918, -1.0895993906002497, -1.4477730505340438, 0.3265560291598136, -1.0627183263089948, 2.2748119539369878, 0.14002478373288554, -0.591482610766506, 0.3672475929415598, -0.6523607787086786, 0.04620958491721732, -0.5292075375810491, -0.1426341013200712, -0.992193609915696, -1.4508580201592014, 0.8460637452465019, 0.9561772764999883, -0.07484683674390989, 0.303618913225969, 1.5159308005788739, 0.3884519230077761, 1.205014344324589, 0.39110073171143445, -1.4412416258689398, -0.5063324518534471, -0.5231572171845528, 0.44703995761157306, -1.2283044186145742, 0.20841355207505802, -0.3537097899246747, 0.8404505092648065, -0.3295942502982704, 0.5764188772427017, -0.6042277808645765, 0.3470231871858434, 1.1559274895045106, 0.2798027226974251, -1.897226835172203, 2.0984705425501513, 1.248088207208783, -0.0026771784714443086, -0.3507749455528286, 1.136933776325363, 0.4747888094602326, 0.5173850191199333, -0.398801075208429, -0.308605533844656, -2.2743739867380355, -0.30863557341001424, 2.0088421343289387, -0.43891328004556274, -0.21348335628559187, 0.10380703823181336, 0.8220260708349477, 0.4835166938101988, 0.24586694233775314, -0.9296229063557128, -0.30592330589032324, -0.33521000892205965, 0.016749593628197054, -0.13562841853330956, 0.5249595724520443, 0.5498983890001178, -0.2634244246000023, -0.9490978005532776, 2.0126370942676317, 0.1824088629928282, 2.1656156815201983, 1.5772870832511796, 0.9114248100780128, -1.1443884388024306, 0.43472719327085246, -0.3412961400193563, 1.0670230308075241, -1.7315149468895397, -0.764445398381599, 1.6989173660069625, 1.8839510915177033, -0.5305355725011855, 1.8213571156061392, 0.3428641089022315, 0.14654499835974855, 0.02915989562030293, 0.1333763354747478, 0.6095982932668517, 0.2604878686434509, 1.3342361352729508, -0.11152614460930015, 0.278282793389956, -1.59248851841307, -0.13123537115579278, -0.5421071636298173, 1.4446683123494939, 0.4916958334915132, -1.6940815209703621, 0.016659471213699904, -0.10534647508326686, -0.2342201332176408, 1.4419339622136704], \"yaxis\": \"y15\"}, {\"histfunc\": \"count\", \"histnorm\": \"\", \"marker\": {\"color\": \"rgba(128, 0, 128, 1.0)\", \"line\": {\"color\": \"#4D5663\", \"width\": 1.3}}, \"name\": \"D\", \"nbinsx\": 10, \"opacity\": 0.8, \"orientation\": \"v\", \"type\": \"histogram\", \"x\": [-1.34202166775557, 0.24041236218769918, -1.0895993906002497, -1.4477730505340438, 0.3265560291598136, -1.0627183263089948, 2.2748119539369878, 0.14002478373288554, -0.591482610766506, 0.3672475929415598, -0.6523607787086786, 0.04620958491721732, -0.5292075375810491, -0.1426341013200712, -0.992193609915696, -1.4508580201592014, 0.8460637452465019, 0.9561772764999883, -0.07484683674390989, 0.303618913225969, 1.5159308005788739, 0.3884519230077761, 1.205014344324589, 0.39110073171143445, -1.4412416258689398, -0.5063324518534471, -0.5231572171845528, 0.44703995761157306, -1.2283044186145742, 0.20841355207505802, -0.3537097899246747, 0.8404505092648065, -0.3295942502982704, 0.5764188772427017, -0.6042277808645765, 0.3470231871858434, 1.1559274895045106, 0.2798027226974251, -1.897226835172203, 2.0984705425501513, 1.248088207208783, -0.0026771784714443086, -0.3507749455528286, 1.136933776325363, 0.4747888094602326, 0.5173850191199333, -0.398801075208429, -0.308605533844656, -2.2743739867380355, -0.30863557341001424, 2.0088421343289387, -0.43891328004556274, -0.21348335628559187, 0.10380703823181336, 0.8220260708349477, 0.4835166938101988, 0.24586694233775314, -0.9296229063557128, -0.30592330589032324, -0.33521000892205965, 0.016749593628197054, -0.13562841853330956, 0.5249595724520443, 0.5498983890001178, -0.2634244246000023, -0.9490978005532776, 2.0126370942676317, 0.1824088629928282, 2.1656156815201983, 1.5772870832511796, 0.9114248100780128, -1.1443884388024306, 0.43472719327085246, -0.3412961400193563, 1.0670230308075241, -1.7315149468895397, -0.764445398381599, 1.6989173660069625, 1.8839510915177033, -0.5305355725011855, 1.8213571156061392, 0.3428641089022315, 0.14654499835974855, 0.02915989562030293, 0.1333763354747478, 0.6095982932668517, 0.2604878686434509, 1.3342361352729508, -0.11152614460930015, 0.278282793389956, -1.59248851841307, -0.13123537115579278, -0.5421071636298173, 1.4446683123494939, 0.4916958334915132, -1.6940815209703621, 0.016659471213699904, -0.10534647508326686, -0.2342201332176408, 1.4419339622136704], \"xaxis\": \"x16\", \"yaxis\": \"y16\"}],                        {\"bargap\": 0.02, \"legend\": {\"bgcolor\": \"#F5F6F9\", \"font\": {\"color\": \"#4D5663\"}}, \"paper_bgcolor\": \"#F5F6F9\", \"plot_bgcolor\": \"#F5F6F9\", \"showlegend\": false, \"template\": {\"data\": {\"bar\": [{\"error_x\": {\"color\": \"#2a3f5f\"}, \"error_y\": {\"color\": \"#2a3f5f\"}, \"marker\": {\"line\": {\"color\": \"#E5ECF6\", \"width\": 0.5}}, \"type\": \"bar\"}], \"barpolar\": [{\"marker\": {\"line\": {\"color\": \"#E5ECF6\", \"width\": 0.5}}, \"type\": \"barpolar\"}], \"carpet\": [{\"aaxis\": {\"endlinecolor\": \"#2a3f5f\", \"gridcolor\": \"white\", \"linecolor\": \"white\", \"minorgridcolor\": \"white\", \"startlinecolor\": \"#2a3f5f\"}, \"baxis\": {\"endlinecolor\": \"#2a3f5f\", \"gridcolor\": \"white\", \"linecolor\": \"white\", \"minorgridcolor\": \"white\", \"startlinecolor\": \"#2a3f5f\"}, \"type\": \"carpet\"}], \"choropleth\": [{\"colorbar\": {\"outlinewidth\": 0, \"ticks\": \"\"}, \"type\": \"choropleth\"}], \"contour\": [{\"colorbar\": {\"outlinewidth\": 0, \"ticks\": \"\"}, \"colorscale\": [[0.0, \"#0d0887\"], [0.1111111111111111, \"#46039f\"], [0.2222222222222222, \"#7201a8\"], [0.3333333333333333, \"#9c179e\"], [0.4444444444444444, \"#bd3786\"], [0.5555555555555556, \"#d8576b\"], [0.6666666666666666, \"#ed7953\"], [0.7777777777777778, \"#fb9f3a\"], [0.8888888888888888, \"#fdca26\"], [1.0, \"#f0f921\"]], \"type\": \"contour\"}], \"contourcarpet\": [{\"colorbar\": {\"outlinewidth\": 0, \"ticks\": \"\"}, \"type\": \"contourcarpet\"}], \"heatmap\": [{\"colorbar\": {\"outlinewidth\": 0, \"ticks\": \"\"}, \"colorscale\": [[0.0, \"#0d0887\"], [0.1111111111111111, \"#46039f\"], [0.2222222222222222, \"#7201a8\"], [0.3333333333333333, \"#9c179e\"], [0.4444444444444444, \"#bd3786\"], [0.5555555555555556, \"#d8576b\"], [0.6666666666666666, \"#ed7953\"], [0.7777777777777778, \"#fb9f3a\"], [0.8888888888888888, \"#fdca26\"], [1.0, \"#f0f921\"]], \"type\": \"heatmap\"}], \"heatmapgl\": [{\"colorbar\": {\"outlinewidth\": 0, \"ticks\": \"\"}, \"colorscale\": [[0.0, \"#0d0887\"], [0.1111111111111111, \"#46039f\"], [0.2222222222222222, \"#7201a8\"], [0.3333333333333333, \"#9c179e\"], [0.4444444444444444, \"#bd3786\"], [0.5555555555555556, \"#d8576b\"], [0.6666666666666666, \"#ed7953\"], [0.7777777777777778, \"#fb9f3a\"], [0.8888888888888888, \"#fdca26\"], [1.0, \"#f0f921\"]], \"type\": \"heatmapgl\"}], \"histogram\": [{\"marker\": {\"colorbar\": {\"outlinewidth\": 0, \"ticks\": \"\"}}, \"type\": \"histogram\"}], \"histogram2d\": [{\"colorbar\": {\"outlinewidth\": 0, \"ticks\": \"\"}, \"colorscale\": [[0.0, \"#0d0887\"], [0.1111111111111111, \"#46039f\"], [0.2222222222222222, \"#7201a8\"], [0.3333333333333333, \"#9c179e\"], [0.4444444444444444, \"#bd3786\"], [0.5555555555555556, \"#d8576b\"], [0.6666666666666666, \"#ed7953\"], [0.7777777777777778, \"#fb9f3a\"], [0.8888888888888888, \"#fdca26\"], [1.0, \"#f0f921\"]], \"type\": \"histogram2d\"}], \"histogram2dcontour\": [{\"colorbar\": {\"outlinewidth\": 0, \"ticks\": \"\"}, \"colorscale\": [[0.0, \"#0d0887\"], [0.1111111111111111, \"#46039f\"], [0.2222222222222222, \"#7201a8\"], [0.3333333333333333, \"#9c179e\"], [0.4444444444444444, \"#bd3786\"], [0.5555555555555556, \"#d8576b\"], [0.6666666666666666, \"#ed7953\"], [0.7777777777777778, \"#fb9f3a\"], [0.8888888888888888, \"#fdca26\"], [1.0, \"#f0f921\"]], \"type\": \"histogram2dcontour\"}], \"mesh3d\": [{\"colorbar\": {\"outlinewidth\": 0, \"ticks\": \"\"}, \"type\": \"mesh3d\"}], \"parcoords\": [{\"line\": {\"colorbar\": {\"outlinewidth\": 0, \"ticks\": \"\"}}, \"type\": \"parcoords\"}], \"pie\": [{\"automargin\": true, \"type\": \"pie\"}], \"scatter\": [{\"marker\": {\"colorbar\": {\"outlinewidth\": 0, \"ticks\": \"\"}}, \"type\": \"scatter\"}], \"scatter3d\": [{\"line\": {\"colorbar\": {\"outlinewidth\": 0, \"ticks\": \"\"}}, \"marker\": {\"colorbar\": {\"outlinewidth\": 0, \"ticks\": \"\"}}, \"type\": \"scatter3d\"}], \"scattercarpet\": [{\"marker\": {\"colorbar\": {\"outlinewidth\": 0, \"ticks\": \"\"}}, \"type\": \"scattercarpet\"}], \"scattergeo\": [{\"marker\": {\"colorbar\": {\"outlinewidth\": 0, \"ticks\": \"\"}}, \"type\": \"scattergeo\"}], \"scattergl\": [{\"marker\": {\"colorbar\": {\"outlinewidth\": 0, \"ticks\": \"\"}}, \"type\": \"scattergl\"}], \"scattermapbox\": [{\"marker\": {\"colorbar\": {\"outlinewidth\": 0, \"ticks\": \"\"}}, \"type\": \"scattermapbox\"}], \"scatterpolar\": [{\"marker\": {\"colorbar\": {\"outlinewidth\": 0, \"ticks\": \"\"}}, \"type\": \"scatterpolar\"}], \"scatterpolargl\": [{\"marker\": {\"colorbar\": {\"outlinewidth\": 0, \"ticks\": \"\"}}, \"type\": \"scatterpolargl\"}], \"scatterternary\": [{\"marker\": {\"colorbar\": {\"outlinewidth\": 0, \"ticks\": \"\"}}, \"type\": \"scatterternary\"}], \"surface\": [{\"colorbar\": {\"outlinewidth\": 0, \"ticks\": \"\"}, \"colorscale\": [[0.0, \"#0d0887\"], [0.1111111111111111, \"#46039f\"], [0.2222222222222222, \"#7201a8\"], [0.3333333333333333, \"#9c179e\"], [0.4444444444444444, \"#bd3786\"], [0.5555555555555556, \"#d8576b\"], [0.6666666666666666, \"#ed7953\"], [0.7777777777777778, \"#fb9f3a\"], [0.8888888888888888, \"#fdca26\"], [1.0, \"#f0f921\"]], \"type\": \"surface\"}], \"table\": [{\"cells\": {\"fill\": {\"color\": \"#EBF0F8\"}, \"line\": {\"color\": \"white\"}}, \"header\": {\"fill\": {\"color\": \"#C8D4E3\"}, \"line\": {\"color\": \"white\"}}, \"type\": \"table\"}]}, \"layout\": {\"annotationdefaults\": {\"arrowcolor\": \"#2a3f5f\", \"arrowhead\": 0, \"arrowwidth\": 1}, \"autotypenumbers\": \"strict\", \"coloraxis\": {\"colorbar\": {\"outlinewidth\": 0, \"ticks\": \"\"}}, \"colorscale\": {\"diverging\": [[0, \"#8e0152\"], [0.1, \"#c51b7d\"], [0.2, \"#de77ae\"], [0.3, \"#f1b6da\"], [0.4, \"#fde0ef\"], [0.5, \"#f7f7f7\"], [0.6, \"#e6f5d0\"], [0.7, \"#b8e186\"], [0.8, \"#7fbc41\"], [0.9, \"#4d9221\"], [1, \"#276419\"]], \"sequential\": [[0.0, \"#0d0887\"], [0.1111111111111111, \"#46039f\"], [0.2222222222222222, \"#7201a8\"], [0.3333333333333333, \"#9c179e\"], [0.4444444444444444, \"#bd3786\"], [0.5555555555555556, \"#d8576b\"], [0.6666666666666666, \"#ed7953\"], [0.7777777777777778, \"#fb9f3a\"], [0.8888888888888888, \"#fdca26\"], [1.0, \"#f0f921\"]], \"sequentialminus\": [[0.0, \"#0d0887\"], [0.1111111111111111, \"#46039f\"], [0.2222222222222222, \"#7201a8\"], [0.3333333333333333, \"#9c179e\"], [0.4444444444444444, \"#bd3786\"], [0.5555555555555556, \"#d8576b\"], [0.6666666666666666, \"#ed7953\"], [0.7777777777777778, \"#fb9f3a\"], [0.8888888888888888, \"#fdca26\"], [1.0, \"#f0f921\"]]}, \"colorway\": [\"#636efa\", \"#EF553B\", \"#00cc96\", \"#ab63fa\", \"#FFA15A\", \"#19d3f3\", \"#FF6692\", \"#B6E880\", \"#FF97FF\", \"#FECB52\"], \"font\": {\"color\": \"#2a3f5f\"}, \"geo\": {\"bgcolor\": \"white\", \"lakecolor\": \"white\", \"landcolor\": \"#E5ECF6\", \"showlakes\": true, \"showland\": true, \"subunitcolor\": \"white\"}, \"hoverlabel\": {\"align\": \"left\"}, \"hovermode\": \"closest\", \"mapbox\": {\"style\": \"light\"}, \"paper_bgcolor\": \"white\", \"plot_bgcolor\": \"#E5ECF6\", \"polar\": {\"angularaxis\": {\"gridcolor\": \"white\", \"linecolor\": \"white\", \"ticks\": \"\"}, \"bgcolor\": \"#E5ECF6\", \"radialaxis\": {\"gridcolor\": \"white\", \"linecolor\": \"white\", \"ticks\": \"\"}}, \"scene\": {\"xaxis\": {\"backgroundcolor\": \"#E5ECF6\", \"gridcolor\": \"white\", \"gridwidth\": 2, \"linecolor\": \"white\", \"showbackground\": true, \"ticks\": \"\", \"zerolinecolor\": \"white\"}, \"yaxis\": {\"backgroundcolor\": \"#E5ECF6\", \"gridcolor\": \"white\", \"gridwidth\": 2, \"linecolor\": \"white\", \"showbackground\": true, \"ticks\": \"\", \"zerolinecolor\": \"white\"}, \"zaxis\": {\"backgroundcolor\": \"#E5ECF6\", \"gridcolor\": \"white\", \"gridwidth\": 2, \"linecolor\": \"white\", \"showbackground\": true, \"ticks\": \"\", \"zerolinecolor\": \"white\"}}, \"shapedefaults\": {\"line\": {\"color\": \"#2a3f5f\"}}, \"ternary\": {\"aaxis\": {\"gridcolor\": \"white\", \"linecolor\": \"white\", \"ticks\": \"\"}, \"baxis\": {\"gridcolor\": \"white\", \"linecolor\": \"white\", \"ticks\": \"\"}, \"bgcolor\": \"#E5ECF6\", \"caxis\": {\"gridcolor\": \"white\", \"linecolor\": \"white\", \"ticks\": \"\"}}, \"title\": {\"x\": 0.05}, \"xaxis\": {\"automargin\": true, \"gridcolor\": \"white\", \"linecolor\": \"white\", \"ticks\": \"\", \"title\": {\"standoff\": 15}, \"zerolinecolor\": \"white\", \"zerolinewidth\": 2}, \"yaxis\": {\"automargin\": true, \"gridcolor\": \"white\", \"linecolor\": \"white\", \"ticks\": \"\", \"title\": {\"standoff\": 15}, \"zerolinecolor\": \"white\", \"zerolinewidth\": 2}}}, \"title\": {\"font\": {\"color\": \"#4D5663\"}}, \"xaxis\": {\"anchor\": \"y\", \"domain\": [0.0, 0.2125], \"gridcolor\": \"#E1E5ED\", \"showgrid\": false, \"tickfont\": {\"color\": \"#4D5663\"}, \"title\": {\"font\": {\"color\": \"#4D5663\"}, \"text\": \"\"}, \"zerolinecolor\": \"#E1E5ED\"}, \"xaxis10\": {\"anchor\": \"y10\", \"domain\": [0.2625, 0.475], \"gridcolor\": \"#E1E5ED\", \"showgrid\": false, \"tickfont\": {\"color\": \"#4D5663\"}, \"title\": {\"font\": {\"color\": \"#4D5663\"}, \"text\": \"\"}, \"zerolinecolor\": \"#E1E5ED\"}, \"xaxis11\": {\"anchor\": \"y11\", \"domain\": [0.525, 0.7375], \"gridcolor\": \"#E1E5ED\", \"showgrid\": false, \"tickfont\": {\"color\": \"#4D5663\"}, \"title\": {\"font\": {\"color\": \"#4D5663\"}, \"text\": \"\"}, \"zerolinecolor\": \"#E1E5ED\"}, \"xaxis12\": {\"anchor\": \"y12\", \"domain\": [0.7875, 1.0], \"gridcolor\": \"#E1E5ED\", \"showgrid\": false, \"tickfont\": {\"color\": \"#4D5663\"}, \"title\": {\"font\": {\"color\": \"#4D5663\"}, \"text\": \"\"}, \"zerolinecolor\": \"#E1E5ED\"}, \"xaxis13\": {\"anchor\": \"y13\", \"domain\": [0.0, 0.2125], \"gridcolor\": \"#E1E5ED\", \"showgrid\": false, \"tickfont\": {\"color\": \"#4D5663\"}, \"title\": {\"font\": {\"color\": \"#4D5663\"}, \"text\": \"\"}, \"zerolinecolor\": \"#E1E5ED\"}, \"xaxis14\": {\"anchor\": \"y14\", \"domain\": [0.2625, 0.475], \"gridcolor\": \"#E1E5ED\", \"showgrid\": false, \"tickfont\": {\"color\": \"#4D5663\"}, \"title\": {\"font\": {\"color\": \"#4D5663\"}, \"text\": \"\"}, \"zerolinecolor\": \"#E1E5ED\"}, \"xaxis15\": {\"anchor\": \"y15\", \"domain\": [0.525, 0.7375], \"gridcolor\": \"#E1E5ED\", \"showgrid\": false, \"tickfont\": {\"color\": \"#4D5663\"}, \"title\": {\"font\": {\"color\": \"#4D5663\"}, \"text\": \"\"}, \"zerolinecolor\": \"#E1E5ED\"}, \"xaxis16\": {\"anchor\": \"y16\", \"domain\": [0.7875, 1.0], \"gridcolor\": \"#E1E5ED\", \"showgrid\": false, \"tickfont\": {\"color\": \"#4D5663\"}, \"title\": {\"font\": {\"color\": \"#4D5663\"}, \"text\": \"\"}, \"zerolinecolor\": \"#E1E5ED\"}, \"xaxis2\": {\"anchor\": \"y2\", \"domain\": [0.2625, 0.475], \"gridcolor\": \"#E1E5ED\", \"showgrid\": false, \"tickfont\": {\"color\": \"#4D5663\"}, \"title\": {\"font\": {\"color\": \"#4D5663\"}, \"text\": \"\"}, \"zerolinecolor\": \"#E1E5ED\"}, \"xaxis3\": {\"anchor\": \"y3\", \"domain\": [0.525, 0.7375], \"gridcolor\": \"#E1E5ED\", \"showgrid\": false, \"tickfont\": {\"color\": \"#4D5663\"}, \"title\": {\"font\": {\"color\": \"#4D5663\"}, \"text\": \"\"}, \"zerolinecolor\": \"#E1E5ED\"}, \"xaxis4\": {\"anchor\": \"y4\", \"domain\": [0.7875, 1.0], \"gridcolor\": \"#E1E5ED\", \"showgrid\": false, \"tickfont\": {\"color\": \"#4D5663\"}, \"title\": {\"font\": {\"color\": \"#4D5663\"}, \"text\": \"\"}, \"zerolinecolor\": \"#E1E5ED\"}, \"xaxis5\": {\"anchor\": \"y5\", \"domain\": [0.0, 0.2125], \"gridcolor\": \"#E1E5ED\", \"showgrid\": false, \"tickfont\": {\"color\": \"#4D5663\"}, \"title\": {\"font\": {\"color\": \"#4D5663\"}, \"text\": \"\"}, \"zerolinecolor\": \"#E1E5ED\"}, \"xaxis6\": {\"anchor\": \"y6\", \"domain\": [0.2625, 0.475], \"gridcolor\": \"#E1E5ED\", \"showgrid\": false, \"tickfont\": {\"color\": \"#4D5663\"}, \"title\": {\"font\": {\"color\": \"#4D5663\"}, \"text\": \"\"}, \"zerolinecolor\": \"#E1E5ED\"}, \"xaxis7\": {\"anchor\": \"y7\", \"domain\": [0.525, 0.7375], \"gridcolor\": \"#E1E5ED\", \"showgrid\": false, \"tickfont\": {\"color\": \"#4D5663\"}, \"title\": {\"font\": {\"color\": \"#4D5663\"}, \"text\": \"\"}, \"zerolinecolor\": \"#E1E5ED\"}, \"xaxis8\": {\"anchor\": \"y8\", \"domain\": [0.7875, 1.0], \"gridcolor\": \"#E1E5ED\", \"showgrid\": false, \"tickfont\": {\"color\": \"#4D5663\"}, \"title\": {\"font\": {\"color\": \"#4D5663\"}, \"text\": \"\"}, \"zerolinecolor\": \"#E1E5ED\"}, \"xaxis9\": {\"anchor\": \"y9\", \"domain\": [0.0, 0.2125], \"gridcolor\": \"#E1E5ED\", \"showgrid\": false, \"tickfont\": {\"color\": \"#4D5663\"}, \"title\": {\"font\": {\"color\": \"#4D5663\"}, \"text\": \"\"}, \"zerolinecolor\": \"#E1E5ED\"}, \"yaxis\": {\"anchor\": \"x\", \"domain\": [0.8025, 1.0], \"gridcolor\": \"#E1E5ED\", \"showgrid\": false, \"tickfont\": {\"color\": \"#4D5663\"}, \"title\": {\"font\": {\"color\": \"#4D5663\"}, \"text\": \"\"}, \"zerolinecolor\": \"#E1E5ED\"}, \"yaxis10\": {\"anchor\": \"x10\", \"domain\": [0.2675, 0.465], \"gridcolor\": \"#E1E5ED\", \"showgrid\": false, \"tickfont\": {\"color\": \"#4D5663\"}, \"title\": {\"font\": {\"color\": \"#4D5663\"}, \"text\": \"\"}, \"zerolinecolor\": \"#E1E5ED\"}, \"yaxis11\": {\"anchor\": \"x11\", \"domain\": [0.2675, 0.465], \"gridcolor\": \"#E1E5ED\", \"showgrid\": false, \"tickfont\": {\"color\": \"#4D5663\"}, \"title\": {\"font\": {\"color\": \"#4D5663\"}, \"text\": \"\"}, \"zerolinecolor\": \"#E1E5ED\"}, \"yaxis12\": {\"anchor\": \"x12\", \"domain\": [0.2675, 0.465], \"gridcolor\": \"#E1E5ED\", \"showgrid\": false, \"tickfont\": {\"color\": \"#4D5663\"}, \"title\": {\"font\": {\"color\": \"#4D5663\"}, \"text\": \"\"}, \"zerolinecolor\": \"#E1E5ED\"}, \"yaxis13\": {\"anchor\": \"x13\", \"domain\": [0.0, 0.1975], \"gridcolor\": \"#E1E5ED\", \"showgrid\": false, \"tickfont\": {\"color\": \"#4D5663\"}, \"title\": {\"font\": {\"color\": \"#4D5663\"}, \"text\": \"\"}, \"zerolinecolor\": \"#E1E5ED\"}, \"yaxis14\": {\"anchor\": \"x14\", \"domain\": [0.0, 0.1975], \"gridcolor\": \"#E1E5ED\", \"showgrid\": false, \"tickfont\": {\"color\": \"#4D5663\"}, \"title\": {\"font\": {\"color\": \"#4D5663\"}, \"text\": \"\"}, \"zerolinecolor\": \"#E1E5ED\"}, \"yaxis15\": {\"anchor\": \"x15\", \"domain\": [0.0, 0.1975], \"gridcolor\": \"#E1E5ED\", \"showgrid\": false, \"tickfont\": {\"color\": \"#4D5663\"}, \"title\": {\"font\": {\"color\": \"#4D5663\"}, \"text\": \"\"}, \"zerolinecolor\": \"#E1E5ED\"}, \"yaxis16\": {\"anchor\": \"x16\", \"domain\": [0.0, 0.1975], \"gridcolor\": \"#E1E5ED\", \"showgrid\": false, \"tickfont\": {\"color\": \"#4D5663\"}, \"title\": {\"font\": {\"color\": \"#4D5663\"}, \"text\": \"\"}, \"zerolinecolor\": \"#E1E5ED\"}, \"yaxis2\": {\"anchor\": \"x2\", \"domain\": [0.8025, 1.0], \"gridcolor\": \"#E1E5ED\", \"showgrid\": false, \"tickfont\": {\"color\": \"#4D5663\"}, \"title\": {\"font\": {\"color\": \"#4D5663\"}, \"text\": \"\"}, \"zerolinecolor\": \"#E1E5ED\"}, \"yaxis3\": {\"anchor\": \"x3\", \"domain\": [0.8025, 1.0], \"gridcolor\": \"#E1E5ED\", \"showgrid\": false, \"tickfont\": {\"color\": \"#4D5663\"}, \"title\": {\"font\": {\"color\": \"#4D5663\"}, \"text\": \"\"}, \"zerolinecolor\": \"#E1E5ED\"}, \"yaxis4\": {\"anchor\": \"x4\", \"domain\": [0.8025, 1.0], \"gridcolor\": \"#E1E5ED\", \"showgrid\": false, \"tickfont\": {\"color\": \"#4D5663\"}, \"title\": {\"font\": {\"color\": \"#4D5663\"}, \"text\": \"\"}, \"zerolinecolor\": \"#E1E5ED\"}, \"yaxis5\": {\"anchor\": \"x5\", \"domain\": [0.535, 0.7325], \"gridcolor\": \"#E1E5ED\", \"showgrid\": false, \"tickfont\": {\"color\": \"#4D5663\"}, \"title\": {\"font\": {\"color\": \"#4D5663\"}, \"text\": \"\"}, \"zerolinecolor\": \"#E1E5ED\"}, \"yaxis6\": {\"anchor\": \"x6\", \"domain\": [0.535, 0.7325], \"gridcolor\": \"#E1E5ED\", \"showgrid\": false, \"tickfont\": {\"color\": \"#4D5663\"}, \"title\": {\"font\": {\"color\": \"#4D5663\"}, \"text\": \"\"}, \"zerolinecolor\": \"#E1E5ED\"}, \"yaxis7\": {\"anchor\": \"x7\", \"domain\": [0.535, 0.7325], \"gridcolor\": \"#E1E5ED\", \"showgrid\": false, \"tickfont\": {\"color\": \"#4D5663\"}, \"title\": {\"font\": {\"color\": \"#4D5663\"}, \"text\": \"\"}, \"zerolinecolor\": \"#E1E5ED\"}, \"yaxis8\": {\"anchor\": \"x8\", \"domain\": [0.535, 0.7325], \"gridcolor\": \"#E1E5ED\", \"showgrid\": false, \"tickfont\": {\"color\": \"#4D5663\"}, \"title\": {\"font\": {\"color\": \"#4D5663\"}, \"text\": \"\"}, \"zerolinecolor\": \"#E1E5ED\"}, \"yaxis9\": {\"anchor\": \"x9\", \"domain\": [0.2675, 0.465], \"gridcolor\": \"#E1E5ED\", \"showgrid\": false, \"tickfont\": {\"color\": \"#4D5663\"}, \"title\": {\"font\": {\"color\": \"#4D5663\"}, \"text\": \"\"}, \"zerolinecolor\": \"#E1E5ED\"}},                        {\"showLink\": true, \"linkText\": \"Export to plot.ly\", \"plotlyServerURL\": \"https://plot.ly\", \"responsive\": true}                    ).then(function(){\n",
       "                            \n",
       "var gd = document.getElementById('a2a447e9-5386-4f15-9d84-aff2b5c59c48');\n",
       "var x = new MutationObserver(function (mutations, observer) {{\n",
       "        var display = window.getComputedStyle(gd).display;\n",
       "        if (!display || display === 'none') {{\n",
       "            console.log([gd, 'removed!']);\n",
       "            Plotly.purge(gd);\n",
       "            observer.disconnect();\n",
       "        }}\n",
       "}});\n",
       "\n",
       "// Listen for the removal of the full notebook cells\n",
       "var notebookContainer = gd.closest('#notebook-container');\n",
       "if (notebookContainer) {{\n",
       "    x.observe(notebookContainer, {childList: true});\n",
       "}}\n",
       "\n",
       "// Listen for the clearing of the current output cell\n",
       "var outputEl = gd.closest('.output');\n",
       "if (outputEl) {{\n",
       "    x.observe(outputEl, {childList: true});\n",
       "}}\n",
       "\n",
       "                        })                };                });            </script>        </div>"
      ]
     },
     "metadata": {},
     "output_type": "display_data"
    }
   ],
   "source": [
    "df.scatter_matrix()"
   ]
  }
 ],
 "metadata": {
  "kernelspec": {
   "display_name": "Python 3",
   "language": "python",
   "name": "python3"
  },
  "language_info": {
   "codemirror_mode": {
    "name": "ipython",
    "version": 3
   },
   "file_extension": ".py",
   "mimetype": "text/x-python",
   "name": "python",
   "nbconvert_exporter": "python",
   "pygments_lexer": "ipython3",
   "version": "3.8.5"
  }
 },
 "nbformat": 4,
 "nbformat_minor": 1
}
